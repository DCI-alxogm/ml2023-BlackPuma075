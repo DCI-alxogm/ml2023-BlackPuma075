{
  "nbformat": 4,
  "nbformat_minor": 0,
  "metadata": {
    "colab": {
      "provenance": [],
      "authorship_tag": "ABX9TyM7ZhcBMoBEW2bGmCdLxp2g",
      "include_colab_link": true
    },
    "kernelspec": {
      "name": "python3",
      "display_name": "Python 3"
    },
    "language_info": {
      "name": "python"
    }
  },
  "cells": [
    {
      "cell_type": "markdown",
      "metadata": {
        "id": "view-in-github",
        "colab_type": "text"
      },
      "source": [
        "<a href=\"https://colab.research.google.com/github/DCI-alxogm/ml2023-BlackPuma075/blob/main/Ago18_19/Ejercicio1.ipynb\" target=\"_parent\"><img src=\"https://colab.research.google.com/assets/colab-badge.svg\" alt=\"Open In Colab\"/></a>"
      ]
    },
    {
      "cell_type": "code",
      "execution_count": 147,
      "metadata": {
        "id": "RAYvK_M__HBl"
      },
      "outputs": [],
      "source": [
        "import numpy as np\n",
        "import matplotlib.pyplot as plt"
      ]
    },
    {
      "cell_type": "code",
      "source": [
        "data = np.loadtxt(\"olympic100m_men.txt\", delimiter = ',').T"
      ],
      "metadata": {
        "id": "kA_x-qMD_Yez"
      },
      "execution_count": 148,
      "outputs": []
    },
    {
      "cell_type": "code",
      "source": [
        "data"
      ],
      "metadata": {
        "colab": {
          "base_uri": "https://localhost:8080/"
        },
        "id": "pR0vof54_nSj",
        "outputId": "f73090d4-5e54-4b6c-dab6-955ee17ea6b8"
      },
      "execution_count": 149,
      "outputs": [
        {
          "output_type": "execute_result",
          "data": {
            "text/plain": [
              "array([[1896.  , 1900.  , 1904.  , 1906.  , 1908.  , 1912.  , 1920.  ,\n",
              "        1924.  , 1928.  , 1932.  , 1936.  , 1948.  , 1952.  , 1956.  ,\n",
              "        1960.  , 1964.  , 1968.  , 1972.  , 1976.  , 1980.  , 1984.  ,\n",
              "        1988.  , 1992.  , 1996.  , 2000.  , 2004.  , 2008.  ],\n",
              "       [  12.  ,   11.  ,   11.  ,   11.2 ,   10.8 ,   10.8 ,   10.8 ,\n",
              "          10.6 ,   10.8 ,   10.3 ,   10.3 ,   10.3 ,   10.4 ,   10.5 ,\n",
              "          10.2 ,   10.  ,    9.95,   10.14,   10.06,   10.25,    9.99,\n",
              "           9.92,    9.96,    9.84,    9.87,    9.85,    9.69]])"
            ]
          },
          "metadata": {},
          "execution_count": 149
        }
      ]
    },
    {
      "cell_type": "code",
      "source": [
        "x = data[0]\n",
        "y = data[1]\n",
        "plt.scatter(x,y)"
      ],
      "metadata": {
        "colab": {
          "base_uri": "https://localhost:8080/",
          "height": 447
        },
        "id": "vMjKAAds_pJs",
        "outputId": "f3ab0dda-7d70-4e81-80a5-94126777c8e2"
      },
      "execution_count": 150,
      "outputs": [
        {
          "output_type": "execute_result",
          "data": {
            "text/plain": [
              "<matplotlib.collections.PathCollection at 0x7c2a08c090f0>"
            ]
          },
          "metadata": {},
          "execution_count": 150
        },
        {
          "output_type": "display_data",
          "data": {
            "text/plain": [
              "<Figure size 640x480 with 1 Axes>"
            ],
            "image/png": "[encoded data removed]"
          },
          "metadata": {}
        }
      ]
    },
    {
      "cell_type": "markdown",
      "source": [
        "$\\sum x_{i}y_{i}$"
      ],
      "metadata": {
        "id": "CKer6r0JGZEb"
      }
    },
    {
      "cell_type": "code",
      "source": [
        "sum_1 = 0\n",
        "for i in range(len(x)):\n",
        "  sum_1 += x[i]*y[i]\n",
        "\n",
        "sum_1"
      ],
      "metadata": {
        "id": "kwkNY7uOAWH3",
        "colab": {
          "base_uri": "https://localhost:8080/"
        },
        "outputId": "e2769e06-619a-472d-c8c4-e83edc5c82cf"
      },
      "execution_count": 151,
      "outputs": [
        {
          "output_type": "execute_result",
          "data": {
            "text/plain": [
              "547237.8400000001"
            ]
          },
          "metadata": {},
          "execution_count": 151
        }
      ]
    },
    {
      "cell_type": "markdown",
      "source": [
        "$\\frac{\\sum x_{i} \\sum y_{i}}{N}$"
      ],
      "metadata": {
        "id": "WYDyCychG_A3"
      }
    },
    {
      "cell_type": "code",
      "source": [
        "sum_2_1 = 0\n",
        "sum_2_2 = 0\n",
        "sum_2 = 0\n",
        "N = len(y)\n",
        "for i in range(len(x)):\n",
        "  sum_2_1 += x[i]\n",
        "  sum_2_2 += y[i]\n",
        "\n",
        "sum_2 = (sum_2_1*sum_2_2)/N\n",
        "sum_2"
      ],
      "metadata": {
        "colab": {
          "base_uri": "https://localhost:8080/"
        },
        "id": "8AYk-rTTHGnE",
        "outputId": "9803603f-f910-429e-be6d-1d1315c5ba04"
      },
      "execution_count": 152,
      "outputs": [
        {
          "output_type": "execute_result",
          "data": {
            "text/plain": [
              "547678.9362962963"
            ]
          },
          "metadata": {},
          "execution_count": 152
        }
      ]
    },
    {
      "cell_type": "markdown",
      "source": [
        "$\\sum x_{i}^{2}$"
      ],
      "metadata": {
        "id": "LjZ23idPHiNw"
      }
    },
    {
      "cell_type": "code",
      "source": [
        "sum_3 = 0\n",
        "for i in range(len(x)):\n",
        "  sum_3 += (x[i])**2\n",
        "\n",
        "sum_3"
      ],
      "metadata": {
        "colab": {
          "base_uri": "https://localhost:8080/"
        },
        "id": "CzL-AM97HmXE",
        "outputId": "9af61f86-35b4-4e04-ee33-885d987d3380"
      },
      "execution_count": 153,
      "outputs": [
        {
          "output_type": "execute_result",
          "data": {
            "text/plain": [
              "102950340.0"
            ]
          },
          "metadata": {},
          "execution_count": 153
        }
      ]
    },
    {
      "cell_type": "markdown",
      "source": [
        "$\\frac{(\\sum x_{i})^{2}}{N}$"
      ],
      "metadata": {
        "id": "G-08hOy3H0LD"
      }
    },
    {
      "cell_type": "code",
      "source": [
        "sum_4_1 = 0\n",
        "sum_4 = 0\n",
        "for i in range(len(x)):\n",
        "  sum_4_1 += x[i]\n",
        "\n",
        "sum_4 = ((sum_4_1)**2)/N\n",
        "sum_4"
      ],
      "metadata": {
        "colab": {
          "base_uri": "https://localhost:8080/"
        },
        "id": "Z9BuVbVEH8Qk",
        "outputId": "1f7284c7-a5ea-4f2f-8bab-04dedb9d7f60"
      },
      "execution_count": 154,
      "outputs": [
        {
          "output_type": "execute_result",
          "data": {
            "text/plain": [
              "102917251.7037037"
            ]
          },
          "metadata": {},
          "execution_count": 154
        }
      ]
    },
    {
      "cell_type": "markdown",
      "source": [
        "$m=\\frac{\\sum x_{i}y_{i}-\\sum x_{i} \\sum y_{i}/N}{\\sum x_{i}^{2}-(\\sum x_{i})^{2}/N}$"
      ],
      "metadata": {
        "id": "vmqJ_npbIU_g"
      }
    },
    {
      "cell_type": "code",
      "source": [
        "m = (sum_1-sum_2)/(sum_3-sum_4)\n",
        "m"
      ],
      "metadata": {
        "colab": {
          "base_uri": "https://localhost:8080/"
        },
        "id": "u4njWDkyIqrf",
        "outputId": "331a8c3b-4043-4da6-8512-8281c089c835"
      },
      "execution_count": 155,
      "outputs": [
        {
          "output_type": "execute_result",
          "data": {
            "text/plain": [
              "-0.013330885710956546"
            ]
          },
          "metadata": {},
          "execution_count": 155
        }
      ]
    },
    {
      "cell_type": "markdown",
      "source": [
        "$\\sum y_{i}$"
      ],
      "metadata": {
        "id": "-qsbp6ukI0xZ"
      }
    },
    {
      "cell_type": "code",
      "source": [
        "sumy_1 = 0\n",
        "for i in range(len(y)):\n",
        "  sumy_1 += y[i]\n",
        "sumy_1"
      ],
      "metadata": {
        "colab": {
          "base_uri": "https://localhost:8080/"
        },
        "id": "38qWN7HiI2zO",
        "outputId": "8c07c97f-bd7c-4216-c255-b8369ec2d985"
      },
      "execution_count": 156,
      "outputs": [
        {
          "output_type": "execute_result",
          "data": {
            "text/plain": [
              "280.52"
            ]
          },
          "metadata": {},
          "execution_count": 156
        }
      ]
    },
    {
      "cell_type": "markdown",
      "source": [
        "$m\\sum x_{i}$"
      ],
      "metadata": {
        "id": "_Vy9ZvYLI__4"
      }
    },
    {
      "cell_type": "code",
      "source": [
        "sumb_2 = 0\n",
        "sumb_2_1 = 0\n",
        "for i in range(len(y)):\n",
        "  sumb_2_1 += x[i]\n",
        "\n",
        "sumb_2 = m*sumb_2_1\n",
        "sumb_2"
      ],
      "metadata": {
        "colab": {
          "base_uri": "https://localhost:8080/"
        },
        "id": "F600SFB-JDzD",
        "outputId": "3b50a2b6-6de5-4e75-8300-26d1309268fb"
      },
      "execution_count": 157,
      "outputs": [
        {
          "output_type": "execute_result",
          "data": {
            "text/plain": [
              "-702.7243093673634"
            ]
          },
          "metadata": {},
          "execution_count": 157
        }
      ]
    },
    {
      "cell_type": "markdown",
      "source": [
        "$b = \\frac{\\sum y_{i}-m\\sum x_{i}}{N}$"
      ],
      "metadata": {
        "id": "iSbkevEzJZnV"
      }
    },
    {
      "cell_type": "code",
      "source": [
        "b = (sumy_1-sumb_2)/N\n",
        "b"
      ],
      "metadata": {
        "colab": {
          "base_uri": "https://localhost:8080/"
        },
        "id": "Qkjd_7VCJjEH",
        "outputId": "02baee96-1394-40f2-cc9f-7ac01754913b"
      },
      "execution_count": 158,
      "outputs": [
        {
          "output_type": "execute_result",
          "data": {
            "text/plain": [
              "36.41645590249494"
            ]
          },
          "metadata": {},
          "execution_count": 158
        }
      ]
    },
    {
      "cell_type": "markdown",
      "source": [
        "**Finalmente graficamos $y=mx+b$**"
      ],
      "metadata": {
        "id": "LAmgtq8vJrhr"
      }
    },
    {
      "cell_type": "code",
      "source": [
        "x_1 = np.linspace(min(x), max(x),100)\n",
        "plt.plot(x_1,m*x_1+b, 'red')\n",
        "plt.scatter(x,y)"
      ],
      "metadata": {
        "colab": {
          "base_uri": "https://localhost:8080/",
          "height": 447
        },
        "id": "kTo0zqVIJvpW",
        "outputId": "ef5e3272-e419-4fee-b686-37438b263b94"
      },
      "execution_count": 181,
      "outputs": [
        {
          "output_type": "execute_result",
          "data": {
            "text/plain": [
              "<matplotlib.collections.PathCollection at 0x7c2a0856b880>"
            ]
          },
          "metadata": {},
          "execution_count": 181
        },
        {
          "output_type": "display_data",
          "data": {
            "text/plain": [
              "<Figure size 640x480 with 1 Axes>"
            ],
            "image/png": "[encoded data removed]"
          },
          "metadata": {}
        }
      ]
    }
  ]
}