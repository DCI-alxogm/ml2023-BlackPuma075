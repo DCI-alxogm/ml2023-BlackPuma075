{
  "nbformat": 4,
  "nbformat_minor": 0,
  "metadata": {
    "colab": {
      "provenance": [],
      "authorship_tag": "ABX9TyMPCEFGGxuyF1k9GbBqWy3v",
      "include_colab_link": true
    },
    "kernelspec": {
      "name": "python3",
      "display_name": "Python 3"
    },
    "language_info": {
      "name": "python"
    }
  },
  "cells": [
    {
      "cell_type": "markdown",
      "metadata": {
        "id": "view-in-github",
        "colab_type": "text"
      },
      "source": [
        "<a href=\"https://colab.research.google.com/github/DCI-alxogm/ml2023-BlackPuma075/blob/main/Ago18_19/Tarea1.ipynb\" target=\"_parent\"><img src=\"https://colab.research.google.com/assets/colab-badge.svg\" alt=\"Open In Colab\"/></a>"
      ]
    },
    {
      "cell_type": "code",
      "execution_count": 42,
      "metadata": {
        "id": "REogqRZLVkwe"
      },
      "outputs": [],
      "source": [
        "import numpy as np\n",
        "import matplotlib.pyplot as plt\n",
        "import pandas as pd"
      ]
    },
    {
      "cell_type": "code",
      "source": [
        "data = np.loadtxt('temperatura_global.txt') #Datos tomados de climate.nasa.gov"
      ],
      "metadata": {
        "id": "KTuI_IbwWuvG"
      },
      "execution_count": 65,
      "outputs": []
    },
    {
      "cell_type": "markdown",
      "source": [
        "Datos obtenidos de https://climate.nasa.gov/en-espanol/signos-vitales/temperatura-global/"
      ],
      "metadata": {
        "id": "YrqCLjO896qE"
      }
    },
    {
      "cell_type": "code",
      "source": [
        "data"
      ],
      "metadata": {
        "colab": {
          "base_uri": "https://localhost:8080/"
        },
        "id": "P_TYSu1q57Y2",
        "outputId": "92ce8eb0-ab1f-4cde-9642-584b6679daee"
      },
      "execution_count": 44,
      "outputs": [
        {
          "output_type": "execute_result",
          "data": {
            "text/plain": [
              "array([[ 1.880e+03, -1.700e-01, -1.000e-01],\n",
              "       [ 1.881e+03, -9.000e-02, -1.300e-01],\n",
              "       [ 1.882e+03, -1.100e-01, -1.700e-01],\n",
              "       [ 1.883e+03, -1.800e-01, -2.100e-01],\n",
              "       [ 1.884e+03, -2.900e-01, -2.400e-01],\n",
              "       [ 1.885e+03, -3.400e-01, -2.700e-01],\n",
              "       [ 1.886e+03, -3.200e-01, -2.800e-01],\n",
              "       [ 1.887e+03, -3.700e-01, -2.800e-01],\n",
              "       [ 1.888e+03, -1.800e-01, -2.700e-01],\n",
              "       [ 1.889e+03, -1.100e-01, -2.600e-01],\n",
              "       [ 1.890e+03, -3.600e-01, -2.600e-01],\n",
              "       [ 1.891e+03, -2.300e-01, -2.700e-01],\n",
              "       [ 1.892e+03, -2.800e-01, -2.700e-01],\n",
              "       [ 1.893e+03, -3.200e-01, -2.700e-01],\n",
              "       [ 1.894e+03, -3.200e-01, -2.500e-01],\n",
              "       [ 1.895e+03, -2.400e-01, -2.300e-01],\n",
              "       [ 1.896e+03, -1.100e-01, -2.100e-01],\n",
              "       [ 1.897e+03, -1.100e-01, -1.900e-01],\n",
              "       [ 1.898e+03, -2.700e-01, -1.700e-01],\n",
              "       [ 1.899e+03, -1.800e-01, -1.700e-01],\n",
              "       [ 1.900e+03, -8.000e-02, -2.000e-01],\n",
              "       [ 1.901e+03, -1.500e-01, -2.300e-01],\n",
              "       [ 1.902e+03, -2.800e-01, -2.600e-01],\n",
              "       [ 1.903e+03, -3.700e-01, -2.800e-01],\n",
              "       [ 1.904e+03, -4.700e-01, -3.100e-01],\n",
              "       [ 1.905e+03, -2.600e-01, -3.400e-01],\n",
              "       [ 1.906e+03, -2.200e-01, -3.600e-01],\n",
              "       [ 1.907e+03, -3.800e-01, -3.700e-01],\n",
              "       [ 1.908e+03, -4.300e-01, -3.900e-01],\n",
              "       [ 1.909e+03, -4.900e-01, -4.100e-01],\n",
              "       [ 1.910e+03, -4.400e-01, -4.100e-01],\n",
              "       [ 1.911e+03, -4.400e-01, -3.900e-01],\n",
              "       [ 1.912e+03, -3.600e-01, -3.500e-01],\n",
              "       [ 1.913e+03, -3.400e-01, -3.200e-01],\n",
              "       [ 1.914e+03, -1.500e-01, -3.100e-01],\n",
              "       [ 1.915e+03, -1.400e-01, -3.000e-01],\n",
              "       [ 1.916e+03, -3.600e-01, -3.000e-01],\n",
              "       [ 1.917e+03, -4.600e-01, -3.000e-01],\n",
              "       [ 1.918e+03, -3.000e-01, -3.000e-01],\n",
              "       [ 1.919e+03, -2.800e-01, -2.900e-01],\n",
              "       [ 1.920e+03, -2.700e-01, -2.800e-01],\n",
              "       [ 1.921e+03, -1.900e-01, -2.600e-01],\n",
              "       [ 1.922e+03, -2.800e-01, -2.500e-01],\n",
              "       [ 1.923e+03, -2.600e-01, -2.400e-01],\n",
              "       [ 1.924e+03, -2.700e-01, -2.300e-01],\n",
              "       [ 1.925e+03, -2.200e-01, -2.200e-01],\n",
              "       [ 1.926e+03, -1.100e-01, -2.200e-01],\n",
              "       [ 1.927e+03, -2.100e-01, -2.100e-01],\n",
              "       [ 1.928e+03, -2.000e-01, -2.000e-01],\n",
              "       [ 1.929e+03, -3.600e-01, -1.900e-01],\n",
              "       [ 1.930e+03, -1.600e-01, -1.900e-01],\n",
              "       [ 1.931e+03, -9.000e-02, -1.900e-01],\n",
              "       [ 1.932e+03, -1.600e-01, -1.800e-01],\n",
              "       [ 1.933e+03, -2.800e-01, -1.700e-01],\n",
              "       [ 1.934e+03, -1.200e-01, -1.500e-01],\n",
              "       [ 1.935e+03, -2.000e-01, -1.400e-01],\n",
              "       [ 1.936e+03, -1.400e-01, -1.000e-01],\n",
              "       [ 1.937e+03, -3.000e-02, -6.000e-02],\n",
              "       [ 1.938e+03,  0.000e+00, -1.000e-02],\n",
              "       [ 1.939e+03, -1.000e-02,  3.000e-02],\n",
              "       [ 1.940e+03,  1.300e-01,  7.000e-02],\n",
              "       [ 1.941e+03,  1.900e-01,  9.000e-02],\n",
              "       [ 1.942e+03,  7.000e-02,  1.100e-01],\n",
              "       [ 1.943e+03,  9.000e-02,  1.000e-01],\n",
              "       [ 1.944e+03,  2.100e-01,  8.000e-02],\n",
              "       [ 1.945e+03,  9.000e-02,  4.000e-02],\n",
              "       [ 1.946e+03, -7.000e-02,  1.000e-02],\n",
              "       [ 1.947e+03, -2.000e-02, -3.000e-02],\n",
              "       [ 1.948e+03, -1.000e-01, -7.000e-02],\n",
              "       [ 1.949e+03, -1.100e-01, -8.000e-02],\n",
              "       [ 1.950e+03, -1.700e-01, -7.000e-02],\n",
              "       [ 1.951e+03, -7.000e-02, -7.000e-02],\n",
              "       [ 1.952e+03,  1.000e-02, -7.000e-02],\n",
              "       [ 1.953e+03,  8.000e-02, -7.000e-02],\n",
              "       [ 1.954e+03, -1.300e-01, -6.000e-02],\n",
              "       [ 1.955e+03, -1.400e-01, -6.000e-02],\n",
              "       [ 1.956e+03, -1.900e-01, -5.000e-02],\n",
              "       [ 1.957e+03,  5.000e-02, -4.000e-02],\n",
              "       [ 1.958e+03,  6.000e-02, -1.000e-02],\n",
              "       [ 1.959e+03,  3.000e-02,  1.000e-02],\n",
              "       [ 1.960e+03, -3.000e-02,  3.000e-02],\n",
              "       [ 1.961e+03,  6.000e-02,  1.000e-02],\n",
              "       [ 1.962e+03,  3.000e-02, -1.000e-02],\n",
              "       [ 1.963e+03,  5.000e-02, -3.000e-02],\n",
              "       [ 1.964e+03, -2.000e-01, -4.000e-02],\n",
              "       [ 1.965e+03, -1.100e-01, -5.000e-02],\n",
              "       [ 1.966e+03, -6.000e-02, -6.000e-02],\n",
              "       [ 1.967e+03, -2.000e-02, -5.000e-02],\n",
              "       [ 1.968e+03, -8.000e-02, -3.000e-02],\n",
              "       [ 1.969e+03,  5.000e-02, -2.000e-02],\n",
              "       [ 1.970e+03,  3.000e-02, -0.000e+00],\n",
              "       [ 1.971e+03, -8.000e-02,  0.000e+00],\n",
              "       [ 1.972e+03,  1.000e-02,  0.000e+00],\n",
              "       [ 1.973e+03,  1.600e-01, -0.000e+00],\n",
              "       [ 1.974e+03, -7.000e-02,  1.000e-02],\n",
              "       [ 1.975e+03, -1.000e-02,  2.000e-02],\n",
              "       [ 1.976e+03, -1.000e-01,  4.000e-02],\n",
              "       [ 1.977e+03,  1.800e-01,  8.000e-02],\n",
              "       [ 1.978e+03,  7.000e-02,  1.200e-01],\n",
              "       [ 1.979e+03,  1.700e-01,  1.700e-01],\n",
              "       [ 1.980e+03,  2.600e-01,  2.000e-01],\n",
              "       [ 1.981e+03,  3.200e-01,  2.100e-01],\n",
              "       [ 1.982e+03,  1.400e-01,  2.200e-01],\n",
              "       [ 1.983e+03,  3.100e-01,  2.100e-01],\n",
              "       [ 1.984e+03,  1.600e-01,  2.100e-01],\n",
              "       [ 1.985e+03,  1.200e-01,  2.200e-01],\n",
              "       [ 1.986e+03,  1.800e-01,  2.400e-01],\n",
              "       [ 1.987e+03,  3.200e-01,  2.700e-01],\n",
              "       [ 1.988e+03,  3.900e-01,  3.100e-01],\n",
              "       [ 1.989e+03,  2.700e-01,  3.300e-01],\n",
              "       [ 1.990e+03,  4.500e-01,  3.300e-01],\n",
              "       [ 1.991e+03,  4.100e-01,  3.300e-01],\n",
              "       [ 1.992e+03,  2.200e-01,  3.300e-01],\n",
              "       [ 1.993e+03,  2.300e-01,  3.300e-01],\n",
              "       [ 1.994e+03,  3.200e-01,  3.400e-01],\n",
              "       [ 1.995e+03,  4.500e-01,  3.700e-01],\n",
              "       [ 1.996e+03,  3.300e-01,  4.000e-01],\n",
              "       [ 1.997e+03,  4.600e-01,  4.200e-01],\n",
              "       [ 1.998e+03,  6.100e-01,  4.500e-01],\n",
              "       [ 1.999e+03,  3.800e-01,  4.700e-01],\n",
              "       [ 2.000e+03,  4.000e-01,  5.000e-01],\n",
              "       [ 2.001e+03,  5.400e-01,  5.200e-01],\n",
              "       [ 2.002e+03,  6.300e-01,  5.500e-01],\n",
              "       [ 2.003e+03,  6.200e-01,  5.900e-01],\n",
              "       [ 2.004e+03,  5.400e-01,  6.100e-01],\n",
              "       [ 2.005e+03,  6.800e-01,  6.200e-01],\n",
              "       [ 2.006e+03,  6.400e-01,  6.300e-01],\n",
              "       [ 2.007e+03,  6.700e-01,  6.400e-01],\n",
              "       [ 2.008e+03,  5.400e-01,  6.400e-01],\n",
              "       [ 2.009e+03,  6.600e-01,  6.500e-01],\n",
              "       [ 2.010e+03,  7.300e-01,  6.500e-01],\n",
              "       [ 2.011e+03,  6.100e-01,  6.700e-01],\n",
              "       [ 2.012e+03,  6.500e-01,  7.000e-01],\n",
              "       [ 2.013e+03,  6.800e-01,  7.400e-01],\n",
              "       [ 2.014e+03,  7.500e-01,  7.900e-01],\n",
              "       [ 2.015e+03,  9.000e-01,  8.300e-01],\n",
              "       [ 2.016e+03,  1.020e+00,  8.800e-01],\n",
              "       [ 2.017e+03,  9.200e-01,  9.100e-01],\n",
              "       [ 2.018e+03,  8.500e-01,  9.300e-01],\n",
              "       [ 2.019e+03,  9.800e-01,  9.200e-01],\n",
              "       [ 2.020e+03,  1.020e+00,  9.200e-01],\n",
              "       [ 2.021e+03,  8.500e-01,  9.100e-01],\n",
              "       [ 2.022e+03,  8.900e-01,  9.000e-01]])"
            ]
          },
          "metadata": {},
          "execution_count": 44
        }
      ]
    },
    {
      "cell_type": "code",
      "source": [
        "x = data[:,0]\n",
        "y = data[:,1]\n",
        "y"
      ],
      "metadata": {
        "colab": {
          "base_uri": "https://localhost:8080/"
        },
        "id": "0omyCJ2k6BE3",
        "outputId": "fa623690-e6fd-4415-cc62-616cf067c7ca"
      },
      "execution_count": 45,
      "outputs": [
        {
          "output_type": "execute_result",
          "data": {
            "text/plain": [
              "array([-0.17, -0.09, -0.11, -0.18, -0.29, -0.34, -0.32, -0.37, -0.18,\n",
              "       -0.11, -0.36, -0.23, -0.28, -0.32, -0.32, -0.24, -0.11, -0.11,\n",
              "       -0.27, -0.18, -0.08, -0.15, -0.28, -0.37, -0.47, -0.26, -0.22,\n",
              "       -0.38, -0.43, -0.49, -0.44, -0.44, -0.36, -0.34, -0.15, -0.14,\n",
              "       -0.36, -0.46, -0.3 , -0.28, -0.27, -0.19, -0.28, -0.26, -0.27,\n",
              "       -0.22, -0.11, -0.21, -0.2 , -0.36, -0.16, -0.09, -0.16, -0.28,\n",
              "       -0.12, -0.2 , -0.14, -0.03,  0.  , -0.01,  0.13,  0.19,  0.07,\n",
              "        0.09,  0.21,  0.09, -0.07, -0.02, -0.1 , -0.11, -0.17, -0.07,\n",
              "        0.01,  0.08, -0.13, -0.14, -0.19,  0.05,  0.06,  0.03, -0.03,\n",
              "        0.06,  0.03,  0.05, -0.2 , -0.11, -0.06, -0.02, -0.08,  0.05,\n",
              "        0.03, -0.08,  0.01,  0.16, -0.07, -0.01, -0.1 ,  0.18,  0.07,\n",
              "        0.17,  0.26,  0.32,  0.14,  0.31,  0.16,  0.12,  0.18,  0.32,\n",
              "        0.39,  0.27,  0.45,  0.41,  0.22,  0.23,  0.32,  0.45,  0.33,\n",
              "        0.46,  0.61,  0.38,  0.4 ,  0.54,  0.63,  0.62,  0.54,  0.68,\n",
              "        0.64,  0.67,  0.54,  0.66,  0.73,  0.61,  0.65,  0.68,  0.75,\n",
              "        0.9 ,  1.02,  0.92,  0.85,  0.98,  1.02,  0.85,  0.89])"
            ]
          },
          "metadata": {},
          "execution_count": 45
        }
      ]
    },
    {
      "cell_type": "code",
      "source": [
        "plt.scatter(x,y, c = 'green')\n",
        "plt.grid()\n",
        "plt.ylabel('Anomalía en la temperatura')\n",
        "plt.xlabel('Año')\n",
        "plt.title('Temperatura global (°C)')"
      ],
      "metadata": {
        "colab": {
          "base_uri": "https://localhost:8080/",
          "height": 489
        },
        "id": "HvJGgLud6Hkd",
        "outputId": "32a2ee14-d5bc-4128-b4fc-22e807c93854"
      },
      "execution_count": 63,
      "outputs": [
        {
          "output_type": "execute_result",
          "data": {
            "text/plain": [
              "Text(0.5, 1.0, 'Temperatura global (°C)')"
            ]
          },
          "metadata": {},
          "execution_count": 63
        },
        {
          "output_type": "display_data",
          "data": {
            "text/plain": [
              "<Figure size 640x480 with 1 Axes>"
            ],
            "image/png": "[encoded data removed]"
          },
          "metadata": {}
        }
      ]
    },
    {
      "cell_type": "markdown",
      "source": [
        "$\\sum x_{i}y_{i}$"
      ],
      "metadata": {
        "id": "D6zPVXfO8SBd"
      }
    },
    {
      "cell_type": "code",
      "source": [
        "sum_1 = 0\n",
        "for i in range(len(x)):\n",
        "  sum_1 += x[i]*y[i]\n",
        "\n",
        "sum_1"
      ],
      "metadata": {
        "colab": {
          "base_uri": "https://localhost:8080/"
        },
        "id": "lv92lIKm8K1P",
        "outputId": "877d03b5-1700-4432-a7dd-5bea8ab0617d"
      },
      "execution_count": 47,
      "outputs": [
        {
          "output_type": "execute_result",
          "data": {
            "text/plain": [
              "18724.77000000001"
            ]
          },
          "metadata": {},
          "execution_count": 47
        }
      ]
    },
    {
      "cell_type": "markdown",
      "source": [
        "$\\frac{\\sum x_{i} \\sum y_{i}}{N}$"
      ],
      "metadata": {
        "id": "1T_xbCMS8ZHc"
      }
    },
    {
      "cell_type": "code",
      "source": [
        "sum_2_1 = 0\n",
        "sum_2_2 = 0\n",
        "sum_2 = 0\n",
        "N = len(y)\n",
        "for i in range(len(x)):\n",
        "  sum_2_1 += x[i]\n",
        "  sum_2_2 += y[i]\n",
        "\n",
        "sum_2 = (sum_2_1*sum_2_2)/N\n",
        "sum_2"
      ],
      "metadata": {
        "colab": {
          "base_uri": "https://localhost:8080/"
        },
        "id": "3NqZMHyz8Zhi",
        "outputId": "2d3bc760-5ebb-4f89-a70f-b4ff96bece3a"
      },
      "execution_count": 48,
      "outputs": [
        {
          "output_type": "execute_result",
          "data": {
            "text/plain": [
              "16817.62000000002"
            ]
          },
          "metadata": {},
          "execution_count": 48
        }
      ]
    },
    {
      "cell_type": "markdown",
      "source": [
        "$\\sum x_{i}^{2}$"
      ],
      "metadata": {
        "id": "m-QCXnlm8bn7"
      }
    },
    {
      "cell_type": "code",
      "source": [
        "sum_3 = 0\n",
        "for i in range(len(x)):\n",
        "  sum_3 += (x[i])**2\n",
        "\n",
        "sum_3"
      ],
      "metadata": {
        "colab": {
          "base_uri": "https://localhost:8080/"
        },
        "id": "oQdl5Xun8djZ",
        "outputId": "c531a7ba-8ecb-4d22-b14f-917104775115"
      },
      "execution_count": 49,
      "outputs": [
        {
          "output_type": "execute_result",
          "data": {
            "text/plain": [
              "544559015.0"
            ]
          },
          "metadata": {},
          "execution_count": 49
        }
      ]
    },
    {
      "cell_type": "markdown",
      "source": [
        "$\\frac{(\\sum x_{i})^{2}}{N}$"
      ],
      "metadata": {
        "id": "Gk_xw9VV8fhD"
      }
    },
    {
      "cell_type": "code",
      "source": [
        "sum_4_1 = 0\n",
        "sum_4 = 0\n",
        "for i in range(len(x)):\n",
        "  sum_4_1 += x[i]\n",
        "\n",
        "sum_4 = ((sum_4_1)**2)/N\n",
        "sum_4"
      ],
      "metadata": {
        "colab": {
          "base_uri": "https://localhost:8080/"
        },
        "id": "C6E0y1qC8haf",
        "outputId": "e0aa5de5-dd7e-4b9c-e022-b9cf99d447de"
      },
      "execution_count": 50,
      "outputs": [
        {
          "output_type": "execute_result",
          "data": {
            "text/plain": [
              "544315343.0"
            ]
          },
          "metadata": {},
          "execution_count": 50
        }
      ]
    },
    {
      "cell_type": "markdown",
      "source": [
        "$m=\\frac{\\sum x_{i}y_{i}-\\sum x_{i} \\sum y_{i}/N}{\\sum x_{i}^{2}-(\\sum x_{i})^{2}/N}$"
      ],
      "metadata": {
        "id": "f3GHOHuN8kA0"
      }
    },
    {
      "cell_type": "code",
      "source": [
        "m = (sum_1-sum_2)/(sum_3-sum_4)\n",
        "m"
      ],
      "metadata": {
        "colab": {
          "base_uri": "https://localhost:8080/"
        },
        "id": "ATD4iYzM8mpd",
        "outputId": "2778275b-5e8a-4a7e-ebeb-e11052d08cb6"
      },
      "execution_count": 51,
      "outputs": [
        {
          "output_type": "execute_result",
          "data": {
            "text/plain": [
              "0.007826709675301186"
            ]
          },
          "metadata": {},
          "execution_count": 51
        }
      ]
    },
    {
      "cell_type": "markdown",
      "source": [
        "$\\sum y_{i}$"
      ],
      "metadata": {
        "id": "NHWI-4_d8pCY"
      }
    },
    {
      "cell_type": "code",
      "source": [
        "sumy_1 = 0\n",
        "for i in range(len(y)):\n",
        "  sumy_1 += y[i]\n",
        "sumy_1"
      ],
      "metadata": {
        "colab": {
          "base_uri": "https://localhost:8080/"
        },
        "id": "-Av3zwyx8rIA",
        "outputId": "f461bba7-a5c7-47cb-f39b-1eb3b3e083e1"
      },
      "execution_count": 52,
      "outputs": [
        {
          "output_type": "execute_result",
          "data": {
            "text/plain": [
              "8.62000000000001"
            ]
          },
          "metadata": {},
          "execution_count": 52
        }
      ]
    },
    {
      "cell_type": "markdown",
      "source": [
        "$m\\sum x_{i}$"
      ],
      "metadata": {
        "id": "WGOKv_eW8s_8"
      }
    },
    {
      "cell_type": "code",
      "source": [
        "sumb_2 = 0\n",
        "sumb_2_1 = 0\n",
        "for i in range(len(y)):\n",
        "  sumb_2_1 += x[i]\n",
        "\n",
        "sumb_2 = m*sumb_2_1\n",
        "sumb_2"
      ],
      "metadata": {
        "colab": {
          "base_uri": "https://localhost:8080/"
        },
        "id": "Y_JS54uq8uhG",
        "outputId": "5bba9495-0cad-4880-b34c-8e3e535fec5b"
      },
      "execution_count": 53,
      "outputs": [
        {
          "output_type": "execute_result",
          "data": {
            "text/plain": [
              "2183.597212441304"
            ]
          },
          "metadata": {},
          "execution_count": 53
        }
      ]
    },
    {
      "cell_type": "markdown",
      "source": [
        "$b = \\frac{\\sum y_{i}-m\\sum x_{i}}{N}$"
      ],
      "metadata": {
        "id": "g6apD6hD8woD"
      }
    },
    {
      "cell_type": "code",
      "source": [
        "b = (sumy_1-sumb_2)/N\n",
        "b"
      ],
      "metadata": {
        "colab": {
          "base_uri": "https://localhost:8080/"
        },
        "id": "fq3mb_8d8yb8",
        "outputId": "6caab47d-980d-4dda-f869-73f9d0941a34"
      },
      "execution_count": 54,
      "outputs": [
        {
          "output_type": "execute_result",
          "data": {
            "text/plain": [
              "-15.209630856232895"
            ]
          },
          "metadata": {},
          "execution_count": 54
        }
      ]
    },
    {
      "cell_type": "markdown",
      "source": [
        "**Graficamos $y=mx+b$**"
      ],
      "metadata": {
        "id": "b_Gk4Grk82xj"
      }
    },
    {
      "cell_type": "code",
      "source": [
        "x_1 = np.linspace(min(x), max(x),100)\n",
        "plt.plot(x_1,m*x_1+b, 'black')\n",
        "plt.scatter(x,y, c = 'green')\n",
        "plt.title('Temperatura global (°C)')\n",
        "plt.xlabel('Año')\n",
        "plt.ylabel('Anomalía de temperatura')\n",
        "plt.grid()"
      ],
      "metadata": {
        "colab": {
          "base_uri": "https://localhost:8080/",
          "height": 472
        },
        "id": "JZeh6BLo811h",
        "outputId": "5deb5832-3252-42ce-f969-cef45370b395"
      },
      "execution_count": 64,
      "outputs": [
        {
          "output_type": "display_data",
          "data": {
            "text/plain": [
              "<Figure size 640x480 with 1 Axes>"
            ],
            "image/png": "[encoded data removed]"
          },
          "metadata": {}
        }
      ]
    }
  ]
}