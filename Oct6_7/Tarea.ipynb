{
  "nbformat": 4,
  "nbformat_minor": 0,
  "metadata": {
    "colab": {
      "provenance": [],
      "mount_file_id": "1e6pUk8IOCJDvMQhS758GY3XUATqRL4mx",
      "authorship_tag": "ABX9TyOOdC99ELKx1QyZFFPDojvD",
      "include_colab_link": true
    },
    "kernelspec": {
      "name": "python3",
      "display_name": "Python 3"
    },
    "language_info": {
      "name": "python"
    }
  },
  "cells": [
    {
      "cell_type": "markdown",
      "metadata": {
        "id": "view-in-github",
        "colab_type": "text"
      },
      "source": [
        "<a href=\"https://colab.research.google.com/github/DCI-alxogm/ml2023-BlackPuma075/blob/main/Oct6_7/Tarea.ipynb\" target=\"_parent\"><img src=\"https://colab.research.google.com/assets/colab-badge.svg\" alt=\"Open In Colab\"/></a>"
      ]
    },
    {
      "cell_type": "code",
      "execution_count": 1,
      "metadata": {
        "id": "ZhRreUNuL3FW"
      },
      "outputs": [],
      "source": [
        "import numpy as np\n",
        "import matplotlib.pyplot as plt"
      ]
    },
    {
      "cell_type": "code",
      "source": [
        "np.loadtxt?"
      ],
      "metadata": {
        "id": "1HTaAuDnO3P0"
      },
      "execution_count": 6,
      "outputs": []
    },
    {
      "cell_type": "code",
      "source": [
        "file = '/content/drive/MyDrive/Machine_Learning/olympic100m_men.txt'\n",
        "dt = np.loadtxt(file, delimiter = ',')"
      ],
      "metadata": {
        "id": "ohiw787cOf4j"
      },
      "execution_count": 7,
      "outputs": []
    },
    {
      "cell_type": "code",
      "source": [
        "dt"
      ],
      "metadata": {
        "colab": {
          "base_uri": "https://localhost:8080/"
        },
        "id": "q_XUgPZGPAz7",
        "outputId": "50498fcc-c172-4ec5-a118-c51bd99b6207"
      },
      "execution_count": 8,
      "outputs": [
        {
          "output_type": "execute_result",
          "data": {
            "text/plain": [
              "array([[1896.  ,   12.  ],\n",
              "       [1900.  ,   11.  ],\n",
              "       [1904.  ,   11.  ],\n",
              "       [1906.  ,   11.2 ],\n",
              "       [1908.  ,   10.8 ],\n",
              "       [1912.  ,   10.8 ],\n",
              "       [1920.  ,   10.8 ],\n",
              "       [1924.  ,   10.6 ],\n",
              "       [1928.  ,   10.8 ],\n",
              "       [1932.  ,   10.3 ],\n",
              "       [1936.  ,   10.3 ],\n",
              "       [1948.  ,   10.3 ],\n",
              "       [1952.  ,   10.4 ],\n",
              "       [1956.  ,   10.5 ],\n",
              "       [1960.  ,   10.2 ],\n",
              "       [1964.  ,   10.  ],\n",
              "       [1968.  ,    9.95],\n",
              "       [1972.  ,   10.14],\n",
              "       [1976.  ,   10.06],\n",
              "       [1980.  ,   10.25],\n",
              "       [1984.  ,    9.99],\n",
              "       [1988.  ,    9.92],\n",
              "       [1992.  ,    9.96],\n",
              "       [1996.  ,    9.84],\n",
              "       [2000.  ,    9.87],\n",
              "       [2004.  ,    9.85],\n",
              "       [2008.  ,    9.69]])"
            ]
          },
          "metadata": {},
          "execution_count": 8
        }
      ]
    },
    {
      "cell_type": "code",
      "source": [
        "x_sn = dt[:, 0]\n",
        "y = dt[:, 1]\n",
        "x = (x_sn - min(x_sn))/4\n",
        "x #normalización de x\n",
        "y"
      ],
      "metadata": {
        "colab": {
          "base_uri": "https://localhost:8080/"
        },
        "id": "-_HE0AjrO8Cg",
        "outputId": "26a3828a-2e43-4c62-f679-8e243cc2407e"
      },
      "execution_count": 25,
      "outputs": [
        {
          "output_type": "execute_result",
          "data": {
            "text/plain": [
              "array([12.  , 11.  , 11.  , 11.2 , 10.8 , 10.8 , 10.8 , 10.6 , 10.8 ,\n",
              "       10.3 , 10.3 , 10.3 , 10.4 , 10.5 , 10.2 , 10.  ,  9.95, 10.14,\n",
              "       10.06, 10.25,  9.99,  9.92,  9.96,  9.84,  9.87,  9.85,  9.69])"
            ]
          },
          "metadata": {},
          "execution_count": 25
        }
      ]
    },
    {
      "cell_type": "code",
      "source": [
        "plt.scatter(x, y, color = 'gray', label = 'scattered data')\n",
        "plt.xlabel(\"x\")\n",
        "plt.ylabel(\"y\")\n",
        "plt.grid()\n",
        "plt.legend()"
      ],
      "metadata": {
        "colab": {
          "base_uri": "https://localhost:8080/",
          "height": 466
        },
        "id": "9nRtwb7fP2Ui",
        "outputId": "e7533f08-9b6c-49a6-cd85-532d2b3447e4"
      },
      "execution_count": 44,
      "outputs": [
        {
          "output_type": "execute_result",
          "data": {
            "text/plain": [
              "<matplotlib.legend.Legend at 0x7c1a1543b0d0>"
            ]
          },
          "metadata": {},
          "execution_count": 44
        },
        {
          "output_type": "display_data",
          "data": {
            "text/plain": [
              "<Figure size 640x480 with 1 Axes>"
            ],
            "image/png": "[encoded data removed]"
          },
          "metadata": {}
        }
      ]
    },
    {
      "cell_type": "code",
      "source": [
        "def w_mat(x,y):\n",
        "  t = y\n",
        "  X = np.vstack([np.ones_like(x),x]).T\n",
        "  X_tX = np.matmul(X.T,X)\n",
        "  invX_tX = np.linalg.inv(X_tX)\n",
        "  X_t = np.matmul(X.T, t)\n",
        "  w = np.matmul(invX_tX, X_t)\n",
        "  return w"
      ],
      "metadata": {
        "id": "5YAQ0CN6Rb44"
      },
      "execution_count": 26,
      "outputs": []
    },
    {
      "cell_type": "code",
      "source": [
        "x_test = np.linspace(min(x), max(x), 27)\n",
        "w_test = w_mat(x,y)\n",
        "print(w_test)\n",
        "w_test.shape"
      ],
      "metadata": {
        "colab": {
          "base_uri": "https://localhost:8080/"
        },
        "id": "AEPeyNMPRmSh",
        "outputId": "dd4459d1-9cb6-4ccc-cc24-35cf56583197"
      },
      "execution_count": 27,
      "outputs": [
        {
          "output_type": "stream",
          "name": "stdout",
          "text": [
            "[11.14109659 -0.05332354]\n"
          ]
        },
        {
          "output_type": "execute_result",
          "data": {
            "text/plain": [
              "(2,)"
            ]
          },
          "metadata": {},
          "execution_count": 27
        }
      ]
    },
    {
      "cell_type": "code",
      "source": [
        "x_test = np.linspace(min(x), max(x), 27)\n",
        "y_p = w_test[0]+w_test[1]*x_test\n",
        "yerr =0.5 * np.random.rand(27)\n",
        "\n",
        "plt.plot(x_test, y_p, color = 'black', label = 'Mínimos cuadrados', linewidth = 3)\n",
        "plt.scatter(x, y, color = 'gray', label = 'Dispersión de datos')\n",
        "plt.grid()\n",
        "plt.legend()"
      ],
      "metadata": {
        "colab": {
          "base_uri": "https://localhost:8080/",
          "height": 447
        },
        "id": "hEz9RB33RpBz",
        "outputId": "4eb260e8-4ca7-4067-e3b3-6e2e66dd332b"
      },
      "execution_count": 67,
      "outputs": [
        {
          "output_type": "execute_result",
          "data": {
            "text/plain": [
              "<matplotlib.legend.Legend at 0x7c1a14bfd0f0>"
            ]
          },
          "metadata": {},
          "execution_count": 67
        },
        {
          "output_type": "display_data",
          "data": {
            "text/plain": [
              "<Figure size 640x480 with 1 Axes>"
            ],
            "image/png": "[encoded data removed]"
          },
          "metadata": {}
        }
      ]
    },
    {
      "cell_type": "markdown",
      "source": [
        "**EMCEE**"
      ],
      "metadata": {
        "id": "ornmwACgMI28"
      }
    },
    {
      "cell_type": "markdown",
      "source": [
        "$ln(L) = -\\frac{1}{2}\\sum_{n}\\left[\\frac{(y_{n}-mx_{n}-b)^{2}}{s^{2}_{n}}+\\ln{(2\\pi s^{2}_{n})}\\right]$\n",
        "\n",
        "$s^{2}_{n}=\\sigma^{2}_{n}+f^{2}(mx_{n}+b)^{2}$"
      ],
      "metadata": {
        "id": "WTQ7R2RsMfaC"
      }
    },
    {
      "cell_type": "code",
      "source": [
        "def log_likelihood(theta, x, y, yerr):\n",
        "    m, b, log_f = theta\n",
        "    model = m * x + b\n",
        "    sigma2 = yerr**2 + model**2 * np.exp(2 * log_f)\n",
        "    return -0.5 * np.sum((y - model) ** 2 / sigma2 + np.log(sigma2))"
      ],
      "metadata": {
        "id": "VBN-gcBsMEyL"
      },
      "execution_count": 38,
      "outputs": []
    },
    {
      "cell_type": "code",
      "source": [
        "yy = np.sum(y_p)/len(y_p)\n",
        "yy"
      ],
      "metadata": {
        "colab": {
          "base_uri": "https://localhost:8080/"
        },
        "id": "HnG6D4HrbVux",
        "outputId": "8fff7020-1a17-40db-8958-447157aac286"
      },
      "execution_count": 53,
      "outputs": [
        {
          "output_type": "execute_result",
          "data": {
            "text/plain": [
              "10.394566994707759"
            ]
          },
          "metadata": {},
          "execution_count": 53
        }
      ]
    },
    {
      "cell_type": "code",
      "source": [
        "theta = [w[0], w[1], np.log(yy)]"
      ],
      "metadata": {
        "id": "pU9BtQdgdB7F"
      },
      "execution_count": 75,
      "outputs": []
    },
    {
      "cell_type": "code",
      "source": [
        "logL = log_likelihood(theta, x, y, yerr)"
      ],
      "metadata": {
        "id": "-ymGXfC4Uk_k"
      },
      "execution_count": 78,
      "outputs": []
    },
    {
      "cell_type": "code",
      "source": [
        "print(\"Maximum likelihood estimates:\")\n",
        "print(\"m = {0:.3f}\".format(m_ml))\n",
        "print(\"b = {0:.3f}\".format(b_ml))\n",
        "print(\"f = {0:.3f}\".format(np.exp(log_f_ml)))"
      ],
      "metadata": {
        "colab": {
          "base_uri": "https://localhost:8080/"
        },
        "id": "-o7iI2cNbl8z",
        "outputId": "cb0812ef-7ac2-4b9c-b921-352f9ea3113c"
      },
      "execution_count": 79,
      "outputs": [
        {
          "output_type": "stream",
          "name": "stdout",
          "text": [
            "Maximum likelihood estimates:\n",
            "m = -0.744\n",
            "b = 1.391\n",
            "f = 4.637\n"
          ]
        }
      ]
    },
    {
      "cell_type": "code",
      "source": [
        "plt.plot(x, np.dot(np.vander(x, 2), [m_ml, b_ml]), \":k\", label=\"ML\")\n",
        "plt.plot(x_test, y_p)"
      ],
      "metadata": {
        "colab": {
          "base_uri": "https://localhost:8080/",
          "height": 447
        },
        "id": "332dyTOqbqQD",
        "outputId": "e0f8a4e2-eb8c-4b7f-9111-bd4b39c21fd9"
      },
      "execution_count": 73,
      "outputs": [
        {
          "output_type": "execute_result",
          "data": {
            "text/plain": [
              "[<matplotlib.lines.Line2D at 0x7c1a14b4b700>]"
            ]
          },
          "metadata": {},
          "execution_count": 73
        },
        {
          "output_type": "display_data",
          "data": {
            "text/plain": [
              "<Figure size 640x480 with 1 Axes>"
            ],
            "image/png": "[encoded data removed]"
          },
          "metadata": {}
        }
      ]
    }
  ]
}