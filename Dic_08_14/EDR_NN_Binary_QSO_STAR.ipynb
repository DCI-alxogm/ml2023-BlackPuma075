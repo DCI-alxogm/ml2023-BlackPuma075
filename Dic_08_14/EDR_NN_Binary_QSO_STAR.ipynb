{
  "cells": [
    {
      "cell_type": "markdown",
      "metadata": {
        "id": "view-in-github",
        "colab_type": "text"
      },
      "source": [
        "<a href=\"https://colab.research.google.com/github/DCI-alxogm/ml2023-BlackPuma075/blob/main/Dic_08_14/EDR_NN_Binary_QSO_STAR.ipynb\" target=\"_parent\"><img src=\"https://colab.research.google.com/assets/colab-badge.svg\" alt=\"Open In Colab\"/></a>"
      ]
    },
    {
      "cell_type": "markdown",
      "source": [
        "#**Proyecto Final - Machine Learning**"
      ],
      "metadata": {
        "id": "sAIq0t_nSm3s"
      },
      "id": "sAIq0t_nSm3s"
    },
    {
      "cell_type": "markdown",
      "source": [
        "Diciembre 2023\n",
        "\n",
        "*Diego González Sandoval (UG)*"
      ],
      "metadata": {
        "id": "1Sn6y18bRWLm"
      },
      "id": "1Sn6y18bRWLm"
    },
    {
      "cell_type": "markdown",
      "source": [
        "**Objetivos**\n",
        "\n",
        "\n",
        "*   Filtrar los datos de Quásares (QSO) y Estrellas (STAR).\n",
        "*   Descargar la información relacionada a la longitud de onda y el flujo de estos objetos.\n",
        "*   Crear una red neuronal que sea capaz de identificar uno de estos dos objetos en base a su espectro.\n",
        "*   Comparar con el data set de identificación visual (Human efficiency).\n",
        "\n"
      ],
      "metadata": {
        "id": "vNynRxcPR_1C"
      },
      "id": "vNynRxcPR_1C"
    },
    {
      "cell_type": "markdown",
      "source": [
        "**Procedicimiento**\n",
        "\n",
        "*   Acceder a los datos filtrados donde solo existan TargetIDs de QSO y STARS.\n",
        "*   Descargar la información de 100 objetos de estos tipos.\n",
        "*   Graficar espectros de algunos de estos objetos para comparar visualmente los espectos.\n",
        "*   Crear una red neuronal para probar la arquitectura con 100 objetos y corroborar que el código no tiene errores.\n",
        "*   Probar la red para un data set más grande.\n",
        "*   Comparar con la eficiencia humana."
      ],
      "metadata": {
        "id": "InvzLC5MTAcD"
      },
      "id": "InvzLC5MTAcD"
    },
    {
      "cell_type": "markdown",
      "source": [
        "**Introducción**\n",
        "\n",
        "Los cuásares son núcleos galácticos extremadamente luminosos, pero muy distantes a la Tierra, los cuásares más cercanos están a ~600 millones de años luz. Estos objetos emiten radiación electromagnética en todo el espectro. En cambio las estrellas son objetos súmamente comunes en el universo. Su composición y estructura nos ayuda a determinar la historia de las galaxias, por lo que su estudio es de gran importancia para la ciencia."
      ],
      "metadata": {
        "id": "DAlp-H5NV_u8"
      },
      "id": "DAlp-H5NV_u8"
    },
    {
      "cell_type": "code",
      "source": [
        "!pip install fitsio\n",
        "!wget https://github.com/desihub/tutorials/blob/main/mpl/desi.mplstyle"
      ],
      "metadata": {
        "id": "YnhJru_5uPTq",
        "outputId": "79832f9e-2b6f-4ccb-df7a-e59bb449a2a1",
        "colab": {
          "base_uri": "https://localhost:8080/"
        }
      },
      "id": "YnhJru_5uPTq",
      "execution_count": 1,
      "outputs": [
        {
          "output_type": "stream",
          "name": "stdout",
          "text": [
            "Collecting fitsio\n",
            "  Downloading fitsio-1.2.1.tar.gz (4.6 MB)\n",
            "\u001b[2K     \u001b[90m━━━━━━━━━━━━━━━━━━━━━━━━━━━━━━━━━━━━━━━━\u001b[0m \u001b[32m4.6/4.6 MB\u001b[0m \u001b[31m31.7 MB/s\u001b[0m eta \u001b[36m0:00:00\u001b[0m\n",
            "\u001b[?25h  Preparing metadata (setup.py) ... \u001b[?25l\u001b[?25hdone\n",
            "Requirement already satisfied: numpy in /usr/local/lib/python3.10/dist-packages (from fitsio) (1.23.5)\n",
            "Building wheels for collected packages: fitsio\n",
            "  Building wheel for fitsio (setup.py) ... \u001b[?25l\u001b[?25hdone\n",
            "  Created wheel for fitsio: filename=fitsio-1.2.1-cp310-cp310-linux_x86_64.whl size=812556 sha256=1fa5c32d95b4fd1e914fed311aa4b4dd9b5a7a01badeebb35f5ed507c5b8916b\n",
            "  Stored in directory: /root/.cache/pip/wheels/94/70/18/2789914e7e79d73c282daba3cc5e5984c5e9a84962f68bf7bc\n",
            "Successfully built fitsio\n",
            "Installing collected packages: fitsio\n",
            "Successfully installed fitsio-1.2.1\n",
            "--2023-12-14 04:51:06--  https://github.com/desihub/tutorials/blob/main/mpl/desi.mplstyle\n",
            "Resolving github.com (github.com)... 140.82.113.3\n",
            "Connecting to github.com (github.com)|140.82.113.3|:443... connected.\n",
            "HTTP request sent, awaiting response... 200 OK\n",
            "Length: 5532 (5.4K) [text/plain]\n",
            "Saving to: ‘desi.mplstyle’\n",
            "\n",
            "desi.mplstyle       100%[===================>]   5.40K  --.-KB/s    in 0s      \n",
            "\n",
            "2023-12-14 04:51:07 (37.7 MB/s) - ‘desi.mplstyle’ saved [5532/5532]\n",
            "\n"
          ]
        }
      ]
    },
    {
      "cell_type": "code",
      "source": [
        "from   google.colab import drive\n",
        "import os\n",
        "import sys\n",
        "import subprocess"
      ],
      "metadata": {
        "id": "dZFiDZjTuEDs"
      },
      "id": "dZFiDZjTuEDs",
      "execution_count": 2,
      "outputs": []
    },
    {
      "cell_type": "code",
      "source": [
        "drivepath='/content/drive/'\n",
        "drive.mount(drivepath, force_remount=True)\n",
        "desiedr_path = drivepath + '/MyDrive/desi_edr/'\n",
        "desicode_path = desiedr_path+'/desicode'\n",
        "specprod = 'fuji'    # Internal name for the EDR\n",
        "specprod_dir = desiedr_path+specprod"
      ],
      "metadata": {
        "id": "fh4aqJ8duTl3",
        "outputId": "446e7f96-c7e8-49e5-c1c0-7d70ae9a8021",
        "colab": {
          "base_uri": "https://localhost:8080/"
        }
      },
      "id": "fh4aqJ8duTl3",
      "execution_count": 3,
      "outputs": [
        {
          "output_type": "stream",
          "name": "stdout",
          "text": [
            "Mounted at /content/drive/\n"
          ]
        }
      ]
    },
    {
      "cell_type": "code",
      "source": [
        "specprod_dir"
      ],
      "metadata": {
        "id": "GxOsTTReLSCD",
        "outputId": "7e7e5b9a-4599-49a2-9a23-b3790f3bd6b1",
        "colab": {
          "base_uri": "https://localhost:8080/",
          "height": 36
        }
      },
      "id": "GxOsTTReLSCD",
      "execution_count": 4,
      "outputs": [
        {
          "output_type": "execute_result",
          "data": {
            "text/plain": [
              "'/content/drive//MyDrive/desi_edr/fuji'"
            ],
            "application/vnd.google.colaboratory.intrinsic+json": {
              "type": "string"
            }
          },
          "metadata": {},
          "execution_count": 4
        }
      ]
    },
    {
      "cell_type": "code",
      "source": [
        "#Check that directory structure exist, otherwise create the necesary directories.\n",
        "if not os.path.exists(desiedr_path):\n",
        "  os.makedirs(desiedr_path)\n",
        "if not os.path.exists(specprod_dir):\n",
        "  os.makedirs(specprod_dir)\n",
        "if not os.path.exists(specprod_dir+'/zcatalog'):\n",
        "  os.makedirs(specprod_dir+'/zcatalog')\n",
        "if not os.path.exists(specprod_dir+'/healpix'):\n",
        "  os.makedirs(specprod_dir+'/healpix')\n",
        "if not os.path.exists(desicode_path):\n",
        "  os.makedirs(desicode_path)\n",
        "\n",
        "#clone desicode.\n",
        "#You have to do this only once, you could comment these cells afterwards.\n",
        "#os.chdir(desicode_path)\n",
        "#subprocess.run('git clone https://github.com/desihub/desitarget.git --depth=1', shell=True, check=True)\n",
        "#subprocess.run('git clone https://github.com/desihub/desiutil.git --depth=1', shell=True, check=True)\n",
        "#subprocess.run('git clone https://github.com/desihub/desispec.git --depth=1', shell=True, check=True)\n",
        "#subprocess.run('git clone https://github.com/desihub/desimodel.git --depth=1', shell=True, check=True)\n",
        "#subprocess.run('git clone https://github.com/desihub/speclite.git --depth=1', shell=True, check=True)\n"
      ],
      "metadata": {
        "id": "-visJWMCx6vT"
      },
      "id": "-visJWMCx6vT",
      "execution_count": 6,
      "outputs": []
    },
    {
      "cell_type": "code",
      "source": [
        "#This lines adds the code paths to the main path to look for the relevan libraries,\n",
        "#so we don't have to actually install the code.\n",
        "sys.path.insert(1,desicode_path+\"/desitarget/py/\")\n",
        "sys.path.insert(1,desicode_path+\"/desiutil/py/\")\n",
        "sys.path.insert(1,desicode_path+\"/desispec/py/\")\n",
        "sys.path.insert(1,desicode_path+\"/desimodel/py/\")\n",
        "sys.path.insert(1,desicode_path+'/speclite/')"
      ],
      "metadata": {
        "id": "sEY7QyMuuqyb"
      },
      "id": "sEY7QyMuuqyb",
      "execution_count": 7,
      "outputs": []
    },
    {
      "cell_type": "code",
      "execution_count": 8,
      "id": "9d6b236f-26e5-4c31-90a5-c48cfad38000",
      "metadata": {
        "id": "9d6b236f-26e5-4c31-90a5-c48cfad38000",
        "colab": {
          "base_uri": "https://localhost:8080/"
        },
        "outputId": "c613b4d5-c11f-4b51-d42e-0f1821c2ad9a"
      },
      "outputs": [
        {
          "output_type": "stream",
          "name": "stderr",
          "text": [
            "/content/drive//MyDrive/desi_edr//desicode/desispec/py/desispec/qproc/qextract.py:19: NumbaDeprecationWarning: The 'nopython' keyword argument was not supplied to the 'numba.jit' decorator. The implicit default value for this argument is currently False, but it will be changed to True in Numba 0.59.0. See https://numba.readthedocs.io/en/stable/reference/deprecation.html#deprecation-of-object-mode-fall-back-behaviour-when-using-jit for details.\n",
            "  def numba_extract(image_flux,image_var,x,hw=3) :\n",
            "/content/drive//MyDrive/desi_edr//desicode/desispec/py/desispec/image_model.py:27: NumbaDeprecationWarning: The 'nopython' keyword argument was not supplied to the 'numba.jit' decorator. The implicit default value for this argument is currently False, but it will be changed to True in Numba 0.59.0. See https://numba.readthedocs.io/en/stable/reference/deprecation.html#deprecation-of-object-mode-fall-back-behaviour-when-using-jit for details.\n",
            "  def numba_proj(image,x,sigma,flux) :\n",
            "/content/drive//MyDrive/desi_edr//desicode/desispec/py/desispec/preproc.py:379: NumbaDeprecationWarning: The 'nopython' keyword argument was not supplied to the 'numba.jit' decorator. The implicit default value for this argument is currently False, but it will be changed to True in Numba 0.59.0. See https://numba.readthedocs.io/en/stable/reference/deprecation.html#deprecation-of-object-mode-fall-back-behaviour-when-using-jit for details.\n",
            "  def numba_mean(image_flux,image_ivar,x,hw=3) :\n"
          ]
        }
      ],
      "source": [
        "import numpy as np\n",
        "\n",
        "import fitsio\n",
        "\n",
        "from astropy.io import fits\n",
        "from astropy.table import Table, vstack, join\n",
        "from astropy.convolution import convolve, Gaussian1DKernel\n",
        "\n",
        "import matplotlib\n",
        "import matplotlib.pyplot as plt\n",
        "\n",
        "#-- input/output functions related to DESI spectra\n",
        "import desispec.io\n",
        "#plt.style.use(\"desi.mplstyle\")\n"
      ]
    },
    {
      "cell_type": "code",
      "execution_count": 10,
      "id": "9c7aed15-544f-47ac-bd2b-8e8be94a0819",
      "metadata": {
        "id": "9c7aed15-544f-47ac-bd2b-8e8be94a0819",
        "outputId": "04f4ce07-e066-4b9a-e840-f26a7b5eaaf1",
        "colab": {
          "base_uri": "https://localhost:8080/"
        }
      },
      "outputs": [
        {
          "output_type": "stream",
          "name": "stdout",
          "text": [
            "/content/drive//MyDrive/desi_edr//fuji/zcatalog/zall-pix-fuji.fits already exist\n"
          ]
        }
      ],
      "source": [
        "import urllib.request\n",
        "# Release directory path\n",
        "\n",
        "catalog_url= \"https://data.desi.lbl.gov/public/edr/spectro/redux/fuji/zcatalog/\"\n",
        "base_url= \"https://data.desi.lbl.gov/public/edr/spectro/redux/fuji/\"\n",
        "\n",
        "zcat_pix= \"zall-pix-fuji.fits\"\n",
        "local_zcat_pix = os.path.join(desiedr_path+'/fuji/zcatalog/',zcat_pix)\n",
        "\n",
        "if not os.path.exists(local_zcat_pix):\n",
        "        #os.makedirs(desiedr_path+'/fuji/zcatalog/')\n",
        "        print(\"downloading DESI catalog from %s to %s\"\n",
        "              % (catalog_url+zcat_pix, local_zcat_pix ))\n",
        "        tmp = urllib.request.urlretrieve(catalog_url+zcat_pix,local_zcat_pix)\n",
        "        print (\"Downloaded file\"+local_zcat_pix)\n",
        "else:\n",
        "    print(\"%s already exist\"%(local_zcat_pix))"
      ]
    },
    {
      "cell_type": "code",
      "execution_count": 11,
      "id": "219f3315-b9f8-4118-b4df-0160bb1fcab2",
      "metadata": {
        "id": "219f3315-b9f8-4118-b4df-0160bb1fcab2"
      },
      "outputs": [],
      "source": [
        "fujidata = Table( fitsio.read(local_zcat_pix))"
      ]
    },
    {
      "cell_type": "code",
      "source": [
        "#Imprimo la información de los datos\n",
        "\n",
        "fujidata"
      ],
      "metadata": {
        "colab": {
          "base_uri": "https://localhost:8080/",
          "height": 815
        },
        "id": "Xe6yRFVHZJIQ",
        "outputId": "90106546-84bd-445c-a2b5-fb422a162c6f"
      },
      "id": "Xe6yRFVHZJIQ",
      "execution_count": 12,
      "outputs": [
        {
          "output_type": "execute_result",
          "data": {
            "text/plain": [
              "<Table length=2847435>\n",
              "      TARGETID      SURVEY PROGRAM ... SV_PRIMARY ZCAT_NSPEC ZCAT_PRIMARY\n",
              "       int64         str7    str6  ...    bool      int64        bool    \n",
              "------------------- ------ ------- ... ---------- ---------- ------------\n",
              " 616089230757593610    cmx   other ...      False          1         True\n",
              "  39628473202904408    cmx   other ...      False          1         True\n",
              "  39628473202902554    cmx   other ...      False          1         True\n",
              " 616089225506325615    cmx   other ...      False          1         True\n",
              "  39628473202903445    cmx   other ...      False          1         True\n",
              "  39628473202903539    cmx   other ...      False          1         True\n",
              "1152921504619435527    cmx   other ...      False          1         True\n",
              "  39628473202904338    cmx   other ...      False          1         True\n",
              "  39628473202902855    cmx   other ...      False          1         True\n",
              "  39628473202905021    cmx   other ...      False          1         True\n",
              "                ...    ...     ... ...        ...        ...          ...\n",
              "  39628438591508567    sv3    dark ...       True          1         True\n",
              "           -1122305    sv3    dark ...       True          1         True\n",
              "  39628438587315598    sv3    dark ...       True          1         True\n",
              " 616089190890733816    sv3    dark ...       True          1         True\n",
              "  39628438591507446    sv3    dark ...       True          1         True\n",
              "  39628438587314447    sv3    dark ...       True          1         True\n",
              "  39628438587314411    sv3    dark ...      False          2        False\n",
              "  39628438587313503    sv3    dark ...       True          1         True\n",
              "  39628438587315309    sv3    dark ...       True          1         True\n",
              "           -1193332    sv3    dark ...       True          1         True"
            ],
            "text/html": [
              "<div><i>Table length=2847435</i>\n",
              "<table id=\"table136069106939696\" class=\"table-striped table-bordered table-condensed\">\n",
              "<thead><tr><th>TARGETID</th><th>SURVEY</th><th>PROGRAM</th><th>HEALPIX</th><th>SPGRPVAL</th><th>Z</th><th>ZERR</th><th>ZWARN</th><th>CHI2</th><th>COEFF</th><th>NPIXELS</th><th>SPECTYPE</th><th>SUBTYPE</th><th>NCOEFF</th><th>DELTACHI2</th><th>COADD_FIBERSTATUS</th><th>TARGET_RA</th><th>TARGET_DEC</th><th>PMRA</th><th>PMDEC</th><th>REF_EPOCH</th><th>FA_TARGET</th><th>FA_TYPE</th><th>OBJTYPE</th><th>SUBPRIORITY</th><th>OBSCONDITIONS</th><th>RELEASE</th><th>BRICKNAME</th><th>BRICKID</th><th>BRICK_OBJID</th><th>MORPHTYPE</th><th>EBV</th><th>FLUX_G</th><th>FLUX_R</th><th>FLUX_Z</th><th>FLUX_W1</th><th>FLUX_W2</th><th>FLUX_IVAR_G</th><th>FLUX_IVAR_R</th><th>FLUX_IVAR_Z</th><th>FLUX_IVAR_W1</th><th>FLUX_IVAR_W2</th><th>FIBERFLUX_G</th><th>FIBERFLUX_R</th><th>FIBERFLUX_Z</th><th>FIBERTOTFLUX_G</th><th>FIBERTOTFLUX_R</th><th>FIBERTOTFLUX_Z</th><th>MASKBITS</th><th>SERSIC</th><th>SHAPE_R</th><th>SHAPE_E1</th><th>SHAPE_E2</th><th>REF_ID</th><th>REF_CAT</th><th>GAIA_PHOT_G_MEAN_MAG</th><th>GAIA_PHOT_BP_MEAN_MAG</th><th>GAIA_PHOT_RP_MEAN_MAG</th><th>PARALLAX</th><th>PHOTSYS</th><th>PRIORITY_INIT</th><th>NUMOBS_INIT</th><th>CMX_TARGET</th><th>DESI_TARGET</th><th>BGS_TARGET</th><th>MWS_TARGET</th><th>SCND_TARGET</th><th>SV1_DESI_TARGET</th><th>SV1_BGS_TARGET</th><th>SV1_MWS_TARGET</th><th>SV1_SCND_TARGET</th><th>SV2_DESI_TARGET</th><th>SV2_BGS_TARGET</th><th>SV2_MWS_TARGET</th><th>SV2_SCND_TARGET</th><th>SV3_DESI_TARGET</th><th>SV3_BGS_TARGET</th><th>SV3_MWS_TARGET</th><th>SV3_SCND_TARGET</th><th>PLATE_RA</th><th>PLATE_DEC</th><th>COADD_NUMEXP</th><th>COADD_EXPTIME</th><th>COADD_NUMNIGHT</th><th>COADD_NUMTILE</th><th>MEAN_DELTA_X</th><th>RMS_DELTA_X</th><th>MEAN_DELTA_Y</th><th>RMS_DELTA_Y</th><th>MEAN_FIBER_RA</th><th>STD_FIBER_RA</th><th>MEAN_FIBER_DEC</th><th>STD_FIBER_DEC</th><th>MEAN_PSF_TO_FIBER_SPECFLUX</th><th>TSNR2_GPBDARK_B</th><th>TSNR2_ELG_B</th><th>TSNR2_GPBBRIGHT_B</th><th>TSNR2_LYA_B</th><th>TSNR2_BGS_B</th><th>TSNR2_GPBBACKUP_B</th><th>TSNR2_QSO_B</th><th>TSNR2_LRG_B</th><th>TSNR2_GPBDARK_R</th><th>TSNR2_ELG_R</th><th>TSNR2_GPBBRIGHT_R</th><th>TSNR2_LYA_R</th><th>TSNR2_BGS_R</th><th>TSNR2_GPBBACKUP_R</th><th>TSNR2_QSO_R</th><th>TSNR2_LRG_R</th><th>TSNR2_GPBDARK_Z</th><th>TSNR2_ELG_Z</th><th>TSNR2_GPBBRIGHT_Z</th><th>TSNR2_LYA_Z</th><th>TSNR2_BGS_Z</th><th>TSNR2_GPBBACKUP_Z</th><th>TSNR2_QSO_Z</th><th>TSNR2_LRG_Z</th><th>TSNR2_GPBDARK</th><th>TSNR2_ELG</th><th>TSNR2_GPBBRIGHT</th><th>TSNR2_LYA</th><th>TSNR2_BGS</th><th>TSNR2_GPBBACKUP</th><th>TSNR2_QSO</th><th>TSNR2_LRG</th><th>SV_NSPEC</th><th>SV_PRIMARY</th><th>ZCAT_NSPEC</th><th>ZCAT_PRIMARY</th></tr></thead>\n",
              "<thead><tr><th>int64</th><th>str7</th><th>str6</th><th>int32</th><th>int32</th><th>float64</th><th>float64</th><th>int64</th><th>float64</th><th>float64[10]</th><th>int64</th><th>str6</th><th>str20</th><th>int64</th><th>float64</th><th>int32</th><th>float64</th><th>float64</th><th>float32</th><th>float32</th><th>float32</th><th>int64</th><th>uint8</th><th>str3</th><th>float64</th><th>int32</th><th>int16</th><th>str8</th><th>int32</th><th>int32</th><th>str4</th><th>float32</th><th>float32</th><th>float32</th><th>float32</th><th>float32</th><th>float32</th><th>float32</th><th>float32</th><th>float32</th><th>float32</th><th>float32</th><th>float32</th><th>float32</th><th>float32</th><th>float32</th><th>float32</th><th>float32</th><th>int16</th><th>float32</th><th>float32</th><th>float32</th><th>float32</th><th>int64</th><th>str2</th><th>float32</th><th>float32</th><th>float32</th><th>float32</th><th>str1</th><th>int64</th><th>int64</th><th>int64</th><th>int64</th><th>int64</th><th>int64</th><th>int64</th><th>int64</th><th>int64</th><th>int64</th><th>int64</th><th>int64</th><th>int64</th><th>int64</th><th>int64</th><th>int64</th><th>int64</th><th>int64</th><th>int64</th><th>float64</th><th>float64</th><th>int16</th><th>float32</th><th>int16</th><th>int16</th><th>float32</th><th>float32</th><th>float32</th><th>float32</th><th>float64</th><th>float32</th><th>float64</th><th>float32</th><th>float32</th><th>float32</th><th>float32</th><th>float32</th><th>float32</th><th>float32</th><th>float32</th><th>float32</th><th>float32</th><th>float32</th><th>float32</th><th>float32</th><th>float32</th><th>float32</th><th>float32</th><th>float32</th><th>float32</th><th>float32</th><th>float32</th><th>float32</th><th>float32</th><th>float32</th><th>float32</th><th>float32</th><th>float32</th><th>float32</th><th>float32</th><th>float32</th><th>float32</th><th>float32</th><th>float32</th><th>float32</th><th>float32</th><th>int32</th><th>bool</th><th>int64</th><th>bool</th></tr></thead>\n",
              "<tr><td>616089230757593610</td><td>cmx</td><td>other</td><td>2152</td><td>2152</td><td>1.0791710884059862</td><td>8.043609933906356e-05</td><td>5</td><td>8196.955931693316</td><td>-31.270945382111947 .. -4.304250468199833</td><td>7928</td><td>GALAXY</td><td></td><td>10</td><td>8.043657064437866</td><td>0</td><td>23.914121939862518</td><td>29.974787585945496</td><td>0.0</td><td>0.0</td><td>0.0</td><td>4294967296</td><td>4</td><td>SKY</td><td>0.8476382465505894</td><td>63</td><td>9010</td><td>0240p300</td><td>495765</td><td>522</td><td></td><td>0.0</td><td>0.0</td><td>0.0</td><td>0.0</td><td>0.0</td><td>0.0</td><td>0.0</td><td>0.0</td><td>0.0</td><td>-1.0</td><td>-1.0</td><td>-0.003990191</td><td>0.026369713</td><td>0.0027650434</td><td>0.0</td><td>0.0</td><td>0.0</td><td>0</td><td>0.0</td><td>0.0</td><td>0.0</td><td>0.0</td><td>0</td><td></td><td>0.0</td><td>0.0</td><td>0.0</td><td>0.0</td><td></td><td>-1</td><td>-1</td><td>4294967296</td><td>4294967296</td><td>0</td><td>0</td><td>0</td><td>0</td><td>0</td><td>0</td><td>0</td><td>0</td><td>0</td><td>0</td><td>0</td><td>0</td><td>0</td><td>0</td><td>0</td><td>23.914121939862518</td><td>29.974787585945496</td><td>4</td><td>3600.0</td><td>1</td><td>1</td><td>-0.004</td><td>0.008336666</td><td>-0.00275</td><td>0.009987492</td><td>23.914140396147115</td><td>0.14040637</td><td>29.974777243955057</td><td>0.12941206</td><td>0.793052</td><td>639.917</td><td>0.3878204</td><td>121.14421</td><td>339.00644</td><td>2058.3599</td><td>832.6921</td><td>10.254479</td><td>3.4988468</td><td>43286.7</td><td>93.85132</td><td>7782.0195</td><td>0.16086136</td><td>8970.089</td><td>47104.805</td><td>28.528677</td><td>136.52605</td><td>5.594912e-05</td><td>293.99265</td><td>1.0618171e-05</td><td>0.0</td><td>13069.495</td><td>7.403538e-05</td><td>60.08052</td><td>135.6212</td><td>43926.617</td><td>388.23178</td><td>7903.1636</td><td>339.1673</td><td>24097.945</td><td>47937.496</td><td>98.86368</td><td>275.6461</td><td>0</td><td>False</td><td>1</td><td>True</td></tr>\n",
              "<tr><td>39628473202904408</td><td>cmx</td><td>other</td><td>2152</td><td>2152</td><td>0.18041222201570103</td><td>8.931818686229672e-06</td><td>0</td><td>12949.879635035992</td><td>-109.46447587943996 .. 12.118995244141198</td><td>7926</td><td>GALAXY</td><td></td><td>10</td><td>8801.990980923176</td><td>0</td><td>24.04010479193436</td><td>29.813362596941825</td><td>0.0</td><td>0.0</td><td>2020.9597</td><td>72057594037929216</td><td>1</td><td>TGT</td><td>0.6306843567905966</td><td>7</td><td>9010</td><td></td><td>494513</td><td>3416</td><td>DEV</td><td>0.047077972</td><td>6.2664</td><td>17.88001</td><td>40.539513</td><td>59.783627</td><td>50.919693</td><td>533.2463</td><td>113.88678</td><td>26.52623</td><td>-1.0</td><td>-1.0</td><td>2.5057633</td><td>7.149731</td><td>16.210651</td><td>2.5057633</td><td>7.149731</td><td>16.210651</td><td>0</td><td>4.0</td><td>0.96060556</td><td>-0.2916907</td><td>-0.14283308</td><td>0</td><td></td><td>0.0</td><td>0.0</td><td>0.0</td><td>0.0</td><td>S</td><td>3200</td><td>1</td><td>72057594037929216</td><td>0</td><td>0</td><td>0</td><td>0</td><td>0</td><td>0</td><td>0</td><td>0</td><td>0</td><td>0</td><td>0</td><td>0</td><td>0</td><td>0</td><td>0</td><td>0</td><td>24.04010479193436</td><td>29.813362596941825</td><td>4</td><td>3600.0</td><td>1</td><td>1</td><td>0.00025</td><td>0.003354102</td><td>-0.0045</td><td>0.011247222</td><td>24.040103662284565</td><td>0.06309803</td><td>29.813346201005267</td><td>0.1351914</td><td>0.7384255</td><td>375.92218</td><td>0.28205463</td><td>72.574196</td><td>286.87042</td><td>1440.3491</td><td>518.8466</td><td>7.5127354</td><td>2.1487298</td><td>35654.54</td><td>78.229355</td><td>6381.422</td><td>0.13194717</td><td>7207.146</td><td>37663.082</td><td>23.319983</td><td>113.28456</td><td>5.8113685e-05</td><td>259.69064</td><td>1.0980662e-05</td><td>0.0</td><td>11505.431</td><td>7.4350384e-05</td><td>52.762306</td><td>119.950485</td><td>36030.46</td><td>338.20206</td><td>6453.996</td><td>287.00238</td><td>20152.926</td><td>38181.93</td><td>83.595024</td><td>235.38377</td><td>0</td><td>False</td><td>1</td><td>True</td></tr>\n",
              "<tr><td>39628473202902554</td><td>cmx</td><td>other</td><td>2152</td><td>2152</td><td>0.4461359257327492</td><td>9.043715628800776e-05</td><td>4</td><td>8692.726730454713</td><td>-31.89740441208347 .. -9.638498468086924</td><td>7928</td><td>GALAXY</td><td></td><td>10</td><td>2.250591341406107</td><td>0</td><td>23.945875345349148</td><td>29.828361100149564</td><td>0.0</td><td>0.0</td><td>2020.9597</td><td>4096</td><td>1</td><td>TGT</td><td>0.9733467479956088</td><td>1</td><td>9010</td><td></td><td>494513</td><td>1562</td><td>PSF</td><td>0.051681582</td><td>0.37152117</td><td>0.6850158</td><td>1.0201772</td><td>2.7956157</td><td>3.3131866</td><td>1447.5828</td><td>409.9668</td><td>44.40046</td><td>-1.0</td><td>-1.0</td><td>0.28886968</td><td>0.53262186</td><td>0.7932207</td><td>0.28886974</td><td>0.53262186</td><td>0.793221</td><td>0</td><td>0.0</td><td>0.0</td><td>0.0</td><td>0.0</td><td>0</td><td></td><td>0.0</td><td>0.0</td><td>0.0</td><td>0.0</td><td>S</td><td>3400</td><td>1</td><td>4096</td><td>0</td><td>0</td><td>0</td><td>0</td><td>0</td><td>0</td><td>0</td><td>0</td><td>0</td><td>0</td><td>0</td><td>0</td><td>0</td><td>0</td><td>0</td><td>0</td><td>23.945875345349148</td><td>29.828361100149564</td><td>4</td><td>3600.0</td><td>1</td><td>1</td><td>-0.00325</td><td>0.005315073</td><td>-0.0035</td><td>0.0118110115</td><td>23.945890224080333</td><td>0.079532295</td><td>29.828348267778797</td><td>0.14833571</td><td>0.789</td><td>380.8557</td><td>0.28037697</td><td>73.49992</td><td>281.95645</td><td>1435.6202</td><td>522.54126</td><td>7.4537244</td><td>2.1623125</td><td>36964.37</td><td>81.49103</td><td>6597.6494</td><td>0.13595825</td><td>7462.113</td><td>38557.43</td><td>24.222086</td><td>117.95613</td><td>6.112426e-05</td><td>273.4575</td><td>1.1534049e-05</td><td>0.0</td><td>12029.667</td><td>7.746998e-05</td><td>55.35862</td><td>126.0278</td><td>37345.227</td><td>355.22888</td><td>6671.1494</td><td>282.0924</td><td>20927.4</td><td>39079.973</td><td>87.03443</td><td>246.14624</td><td>0</td><td>False</td><td>1</td><td>True</td></tr>\n",
              "<tr><td>616089225506325615</td><td>cmx</td><td>other</td><td>2152</td><td>2152</td><td>0.6192322343815375</td><td>6.893268920101344e-05</td><td>5</td><td>8837.669908761978</td><td>4.927672717788215 .. 2.954645081914251</td><td>7928</td><td>GALAXY</td><td></td><td>10</td><td>0.06744912266731262</td><td>0</td><td>24.0248158157784</td><td>29.859929824300632</td><td>0.0</td><td>0.0</td><td>0.0</td><td>4294967296</td><td>4</td><td>SKY</td><td>0.9313062399242229</td><td>63</td><td>9010</td><td>0240p297</td><td>494513</td><td>1135</td><td></td><td>0.0</td><td>0.0</td><td>0.0</td><td>0.0</td><td>0.0</td><td>0.0</td><td>0.0</td><td>0.0</td><td>0.0</td><td>-1.0</td><td>-1.0</td><td>0.034998354</td><td>-0.017701544</td><td>-0.017740862</td><td>0.0</td><td>0.0</td><td>0.0</td><td>0</td><td>0.0</td><td>0.0</td><td>0.0</td><td>0.0</td><td>0</td><td></td><td>0.0</td><td>0.0</td><td>0.0</td><td>0.0</td><td></td><td>-1</td><td>-1</td><td>4294967296</td><td>4294967296</td><td>0</td><td>0</td><td>0</td><td>0</td><td>0</td><td>0</td><td>0</td><td>0</td><td>0</td><td>0</td><td>0</td><td>0</td><td>0</td><td>0</td><td>0</td><td>24.0248158157784</td><td>29.859929824300632</td><td>4</td><td>3600.0</td><td>1</td><td>1</td><td>-0.002</td><td>0.0045276927</td><td>-0.00475</td><td>0.011011357</td><td>24.024824967776166</td><td>0.07699444</td><td>29.8599123759356</td><td>0.13131185</td><td>0.7930857</td><td>493.4236</td><td>0.39461666</td><td>95.011505</td><td>419.78854</td><td>1972.9801</td><td>678.69617</td><td>10.575107</td><td>2.8736057</td><td>45257.31</td><td>97.693634</td><td>8065.9526</td><td>0.17126657</td><td>9150.808</td><td>47455.28</td><td>29.444912</td><td>141.98048</td><td>7.116068e-05</td><td>310.24377</td><td>1.3401637e-05</td><td>0.0</td><td>13751.531</td><td>9.0495654e-05</td><td>63.26845</td><td>143.77281</td><td>45750.73</td><td>408.33203</td><td>8160.9644</td><td>419.9598</td><td>24875.32</td><td>48133.977</td><td>103.28847</td><td>288.6269</td><td>0</td><td>False</td><td>1</td><td>True</td></tr>\n",
              "<tr><td>39628473202903445</td><td>cmx</td><td>other</td><td>2152</td><td>2152</td><td>1.0724836869842256</td><td>0.00017892209501583296</td><td>4</td><td>8836.274995744228</td><td>6.410535420223873e-06 .. 0.0</td><td>7928</td><td>QSO</td><td></td><td>4</td><td>1.065472811460495</td><td>0</td><td>23.992033514299845</td><td>29.781982988701284</td><td>0.0</td><td>0.0</td><td>2020.9597</td><td>4096</td><td>1</td><td>TGT</td><td>0.6102468219832407</td><td>1</td><td>9010</td><td></td><td>494513</td><td>2453</td><td>PSF</td><td>0.04961497</td><td>0.47470406</td><td>1.1346066</td><td>2.2381434</td><td>9.788383</td><td>16.913479</td><td>1714.0192</td><td>470.1745</td><td>75.69697</td><td>-1.0</td><td>-1.0</td><td>0.36972436</td><td>0.8836911</td><td>1.7431833</td><td>0.36972436</td><td>0.8836911</td><td>1.7431833</td><td>0</td><td>0.0</td><td>0.0</td><td>0.0</td><td>0.0</td><td>0</td><td></td><td>0.0</td><td>0.0</td><td>0.0</td><td>0.0</td><td>S</td><td>3400</td><td>1</td><td>4096</td><td>0</td><td>0</td><td>0</td><td>0</td><td>0</td><td>0</td><td>0</td><td>0</td><td>0</td><td>0</td><td>0</td><td>0</td><td>0</td><td>0</td><td>0</td><td>0</td><td>23.992033514299845</td><td>29.781982988701284</td><td>4</td><td>3600.0</td><td>1</td><td>1</td><td>-0.0015</td><td>0.004636809</td><td>-0.0085</td><td>0.014781745</td><td>23.99204043344221</td><td>0.082372345</td><td>29.781952166307505</td><td>0.15774429</td><td>0.789</td><td>350.03723</td><td>0.24713369</td><td>68.04646</td><td>239.64891</td><td>1293.9045</td><td>482.4029</td><td>6.5055223</td><td>1.9569227</td><td>33715.918</td><td>74.47998</td><td>6077.173</td><td>0.121340595</td><td>6861.571</td><td>35522.973</td><td>21.930359</td><td>107.99341</td><td>5.352476e-05</td><td>249.94939</td><td>1.0181039e-05</td><td>0.0</td><td>11069.705</td><td>6.82582e-05</td><td>50.166744</td><td>115.29958</td><td>34065.957</td><td>324.6765</td><td>6145.219</td><td>239.77025</td><td>19225.18</td><td>36005.375</td><td>78.60262</td><td>225.24991</td><td>0</td><td>False</td><td>1</td><td>True</td></tr>\n",
              "<tr><td>39628473202903539</td><td>cmx</td><td>other</td><td>2152</td><td>2152</td><td>-0.0019956912923479522</td><td>4.1311493573349107e-48</td><td>1570</td><td>8.999999999999996e+99</td><td>0.0 .. 0.0</td><td>0</td><td>STAR</td><td>CV</td><td>3</td><td>1.942668892225729e+84</td><td>512</td><td>23.9976460870853</td><td>29.8298292545281</td><td>0.0</td><td>0.0</td><td>2020.9597</td><td>4096</td><td>1</td><td>TGT</td><td>0.07391118716059553</td><td>1</td><td>9010</td><td></td><td>494513</td><td>2547</td><td>PSF</td><td>0.04923722</td><td>0.36979324</td><td>0.9976344</td><td>1.748319</td><td>2.46375</td><td>3.3211248</td><td>1973.6221</td><td>577.8516</td><td>77.217896</td><td>-1.0</td><td>-1.0</td><td>0.28765</td><td>0.776027</td><td>1.3599598</td><td>0.28765</td><td>0.776027</td><td>1.3599598</td><td>0</td><td>0.0</td><td>0.0</td><td>0.0</td><td>0.0</td><td>0</td><td></td><td>0.0</td><td>0.0</td><td>0.0</td><td>0.0</td><td>S</td><td>3400</td><td>1</td><td>4096</td><td>0</td><td>0</td><td>0</td><td>0</td><td>0</td><td>0</td><td>0</td><td>0</td><td>0</td><td>0</td><td>0</td><td>0</td><td>0</td><td>0</td><td>0</td><td>0</td><td>23.9976460870853</td><td>29.8298292545281</td><td>0</td><td>0.0</td><td>0</td><td>0</td><td>0.0</td><td>0.0</td><td>0.0</td><td>0.0</td><td>23.9976460870853</td><td>0.0</td><td>29.8298292545281</td><td>0.0</td><td>0.789</td><td>354.91718</td><td>0.2617178</td><td>66.83243</td><td>279.138</td><td>1302.0255</td><td>514.57477</td><td>7.2949877</td><td>1.9679965</td><td>32698.225</td><td>72.3826</td><td>5724.0327</td><td>0.12486173</td><td>6486.4995</td><td>36558.098</td><td>22.485813</td><td>103.08629</td><td>5.2723684e-05</td><td>243.56364</td><td>9.7335205e-06</td><td>0.0</td><td>10398.31</td><td>7.1218026e-05</td><td>51.462486</td><td>110.08269</td><td>33053.14</td><td>316.20795</td><td>5790.865</td><td>279.26285</td><td>18186.834</td><td>37072.67</td><td>81.243286</td><td>215.13696</td><td>0</td><td>False</td><td>1</td><td>True</td></tr>\n",
              "<tr><td>1152921504619435527</td><td>cmx</td><td>other</td><td>2152</td><td>2152</td><td>-3.7560540650860466e-05</td><td>4.483475512958257e-06</td><td>0</td><td>14598.355199217853</td><td>-682.0083130749723 .. 0.0</td><td>7927</td><td>STAR</td><td>M</td><td>5</td><td>15410.464417457524</td><td>0</td><td>23.950461304572823</td><td>29.801229633567928</td><td>-2.2050662</td><td>-2.399524</td><td>2020.9597</td><td>140737488355328</td><td>1</td><td>TGT</td><td>0.3038663478797552</td><td>63</td><td>0</td><td></td><td>0</td><td>0</td><td></td><td>0.0</td><td>0.0</td><td>0.0</td><td>0.0</td><td>0.0</td><td>0.0</td><td>0.0</td><td>0.0</td><td>0.0</td><td>-1.0</td><td>-1.0</td><td>0.0</td><td>0.0</td><td>0.0</td><td>0.0</td><td>0.0</td><td>0.0</td><td>0</td><td>0.0</td><td>0.0</td><td>0.0</td><td>0.0</td><td>303002314871055872</td><td>F1</td><td>20.403383</td><td>0.0</td><td>0.0</td><td>0.0</td><td></td><td>4001</td><td>1</td><td>140737488355328</td><td>0</td><td>0</td><td>0</td><td>0</td><td>0</td><td>0</td><td>0</td><td>0</td><td>0</td><td>0</td><td>0</td><td>0</td><td>0</td><td>0</td><td>0</td><td>0</td><td>23.950461304572823</td><td>29.801229633567928</td><td>4</td><td>3600.0</td><td>1</td><td>1</td><td>-0.002</td><td>0.0045825755</td><td>-0.00525</td><td>0.013610657</td><td>23.950470512308193</td><td>0.077762365</td><td>29.801210514666565</td><td>0.16437685</td><td>0.79344845</td><td>484.55405</td><td>0.37527397</td><td>93.74482</td><td>389.26932</td><td>1904.3715</td><td>662.65826</td><td>9.954151</td><td>2.7838745</td><td>42410.92</td><td>92.00648</td><td>7615.663</td><td>0.15940638</td><td>8668.981</td><td>44592.24</td><td>27.475513</td><td>133.775</td><td>6.63045e-05</td><td>290.37714</td><td>1.2571996e-05</td><td>0.0</td><td>12905.788</td><td>8.4498206e-05</td><td>58.665295</td><td>134.6868</td><td>42895.477</td><td>382.75888</td><td>7709.4077</td><td>389.4287</td><td>23479.14</td><td>45254.9</td><td>96.094955</td><td>271.24567</td><td>0</td><td>False</td><td>1</td><td>True</td></tr>\n",
              "<tr><td>39628473202904338</td><td>cmx</td><td>other</td><td>2152</td><td>2152</td><td>0.8033783177649549</td><td>9.865480363245627e-06</td><td>0</td><td>9064.864799499512</td><td>23.526651033999798 .. -1.0206920932911387</td><td>7928</td><td>GALAXY</td><td></td><td>10</td><td>1689.1031370162964</td><td>0</td><td>24.03595162455844</td><td>29.77724584804246</td><td>0.0</td><td>0.0</td><td>2020.9597</td><td>18014398509484032</td><td>1</td><td>TGT</td><td>0.9947400693871249</td><td>7</td><td>9010</td><td></td><td>494513</td><td>3346</td><td>REX</td><td>0.047228485</td><td>0.42894408</td><td>0.6652427</td><td>1.3453728</td><td>1.1291844</td><td>-2.1601837</td><td>1247.0366</td><td>305.00543</td><td>49.60211</td><td>-1.0</td><td>-1.0</td><td>0.239489</td><td>0.37141976</td><td>0.7511515</td><td>0.23949224</td><td>0.3714337</td><td>0.751194</td><td>0</td><td>1.0</td><td>0.43136793</td><td>0.0</td><td>0.0</td><td>0</td><td></td><td>0.0</td><td>0.0</td><td>0.0</td><td>0.0</td><td>S</td><td>3000</td><td>1</td><td>18014398509484032</td><td>0</td><td>0</td><td>0</td><td>0</td><td>0</td><td>0</td><td>0</td><td>0</td><td>0</td><td>0</td><td>0</td><td>0</td><td>0</td><td>0</td><td>0</td><td>0</td><td>24.03595162455844</td><td>29.77724584804246</td><td>4</td><td>3600.0</td><td>1</td><td>1</td><td>-0.00075</td><td>0.003354102</td><td>-0.004</td><td>0.00977241</td><td>24.035955038566776</td><td>0.061475772</td><td>29.77723135896226</td><td>0.11622637</td><td>0.768947</td><td>389.17056</td><td>0.27916428</td><td>75.03136</td><td>280.12207</td><td>1433.296</td><td>534.7394</td><td>7.4365606</td><td>2.1605105</td><td>36447.633</td><td>81.34397</td><td>6499.7812</td><td>0.13291377</td><td>7355.8657</td><td>38069.47</td><td>24.060589</td><td>117.0549</td><td>5.9265363e-05</td><td>270.36368</td><td>1.1176334e-05</td><td>0.0</td><td>11855.331</td><td>7.5306554e-05</td><td>54.831856</td><td>124.534325</td><td>36836.805</td><td>351.98682</td><td>6574.8125</td><td>280.25497</td><td>20644.492</td><td>38604.207</td><td>86.32901</td><td>243.74973</td><td>0</td><td>False</td><td>1</td><td>True</td></tr>\n",
              "<tr><td>39628473202902855</td><td>cmx</td><td>other</td><td>2152</td><td>2152</td><td>0.42633336573476377</td><td>4.99177786993424e-05</td><td>0</td><td>9105.640639692545</td><td>244.5843509546432 .. 6.104670668375702</td><td>7928</td><td>GALAXY</td><td></td><td>10</td><td>1963.381346102804</td><td>0</td><td>23.962939295410788</td><td>29.85657131830108</td><td>0.0</td><td>0.0</td><td>2020.9597</td><td>9007199254742272</td><td>1</td><td>TGT</td><td>0.3796430864366923</td><td>7</td><td>9010</td><td></td><td>494513</td><td>1863</td><td>DEV</td><td>0.050514728</td><td>1.7349218</td><td>9.831841</td><td>25.567064</td><td>53.514862</td><td>35.238537</td><td>782.5607</td><td>117.96019</td><td>24.603165</td><td>-1.0</td><td>-1.0</td><td>0.70207626</td><td>3.978682</td><td>10.346304</td><td>0.70207626</td><td>3.978682</td><td>10.346304</td><td>0</td><td>4.0</td><td>0.82405376</td><td>0.1558535</td><td>0.053693846</td><td>0</td><td></td><td>0.0</td><td>0.0</td><td>0.0</td><td>0.0</td><td>S</td><td>3200</td><td>1</td><td>9007199254742272</td><td>0</td><td>0</td><td>0</td><td>0</td><td>0</td><td>0</td><td>0</td><td>0</td><td>0</td><td>0</td><td>0</td><td>0</td><td>0</td><td>0</td><td>0</td><td>0</td><td>23.962939295410788</td><td>29.85657131830108</td><td>4</td><td>3600.0</td><td>1</td><td>1</td><td>-0.004</td><td>0.0071414285</td><td>-0.00175</td><td>0.011124298</td><td>23.962957576386522</td><td>0.11209946</td><td>29.85656484651642</td><td>0.14513266</td><td>0.7432128</td><td>390.61118</td><td>0.28815365</td><td>75.352</td><td>293.4766</td><td>1468.5331</td><td>535.6956</td><td>7.664151</td><td>2.1964865</td><td>36340.35</td><td>80.26039</td><td>6499.643</td><td>0.13251963</td><td>7372.3613</td><td>38180.855</td><td>23.83818</td><td>115.99582</td><td>5.8966674e-05</td><td>269.69244</td><td>1.1137343e-05</td><td>0.0</td><td>11792.249</td><td>7.50736e-05</td><td>54.478645</td><td>123.84251</td><td>36730.96</td><td>350.241</td><td>6574.995</td><td>293.6091</td><td>20633.145</td><td>38716.55</td><td>85.98097</td><td>242.03482</td><td>0</td><td>False</td><td>1</td><td>True</td></tr>\n",
              "<tr><td>39628473202905021</td><td>cmx</td><td>other</td><td>2152</td><td>2152</td><td>2.628380234087188</td><td>0.0008298716232476403</td><td>0</td><td>9080.155919251963</td><td>3.680587112864888e-05 .. 0.0</td><td>7912</td><td>QSO</td><td></td><td>4</td><td>10.152379911392927</td><td>0</td><td>24.07208523825808</td><td>29.810925046492702</td><td>0.0</td><td>0.0</td><td>2020.9597</td><td>4096</td><td>1</td><td>TGT</td><td>0.8685497663665449</td><td>1</td><td>9010</td><td></td><td>494513</td><td>4029</td><td>PSF</td><td>0.046200383</td><td>0.52231437</td><td>0.7497928</td><td>1.0166756</td><td>4.3251495</td><td>5.654039</td><td>1731.1237</td><td>493.54645</td><td>76.38771</td><td>-1.0</td><td>-1.0</td><td>0.40655112</td><td>0.5836123</td><td>0.79134446</td><td>0.40655112</td><td>0.5836123</td><td>0.79134446</td><td>0</td><td>0.0</td><td>0.0</td><td>0.0</td><td>0.0</td><td>0</td><td></td><td>0.0</td><td>0.0</td><td>0.0</td><td>0.0</td><td>S</td><td>3400</td><td>1</td><td>4096</td><td>0</td><td>0</td><td>0</td><td>0</td><td>0</td><td>0</td><td>0</td><td>0</td><td>0</td><td>0</td><td>0</td><td>0</td><td>0</td><td>0</td><td>0</td><td>0</td><td>24.07208523825808</td><td>29.810925046492702</td><td>4</td><td>3600.0</td><td>1</td><td>1</td><td>0.00025</td><td>0.003640055</td><td>-0.00325</td><td>0.009912114</td><td>24.0720840825983</td><td>0.06869798</td><td>29.810913209228744</td><td>0.12279208</td><td>0.789</td><td>408.43756</td><td>0.3017227</td><td>78.606995</td><td>309.93808</td><td>1527.5825</td><td>559.5553</td><td>8.023414</td><td>2.2990966</td><td>37594.88</td><td>82.6443</td><td>6700.498</td><td>0.13818309</td><td>7636.7827</td><td>39335.508</td><td>24.7352</td><td>119.766136</td><td>6.0505714e-05</td><td>277.44046</td><td>1.1400906e-05</td><td>0.0</td><td>12101.109</td><td>7.694523e-05</td><td>56.189697</td><td>127.3218</td><td>38003.316</td><td>360.38647</td><td>6779.105</td><td>310.07626</td><td>21265.475</td><td>39895.062</td><td>88.94831</td><td>249.38702</td><td>0</td><td>False</td><td>1</td><td>True</td></tr>\n",
              "<tr><td>...</td><td>...</td><td>...</td><td>...</td><td>...</td><td>...</td><td>...</td><td>...</td><td>...</td><td>...</td><td>...</td><td>...</td><td>...</td><td>...</td><td>...</td><td>...</td><td>...</td><td>...</td><td>...</td><td>...</td><td>...</td><td>...</td><td>...</td><td>...</td><td>...</td><td>...</td><td>...</td><td>...</td><td>...</td><td>...</td><td>...</td><td>...</td><td>...</td><td>...</td><td>...</td><td>...</td><td>...</td><td>...</td><td>...</td><td>...</td><td>...</td><td>...</td><td>...</td><td>...</td><td>...</td><td>...</td><td>...</td><td>...</td><td>...</td><td>...</td><td>...</td><td>...</td><td>...</td><td>...</td><td>...</td><td>...</td><td>...</td><td>...</td><td>...</td><td>...</td><td>...</td><td>...</td><td>...</td><td>...</td><td>...</td><td>...</td><td>...</td><td>...</td><td>...</td><td>...</td><td>...</td><td>...</td><td>...</td><td>...</td><td>...</td><td>...</td><td>...</td><td>...</td><td>...</td><td>...</td><td>...</td><td>...</td><td>...</td><td>...</td><td>...</td><td>...</td><td>...</td><td>...</td><td>...</td><td>...</td><td>...</td><td>...</td><td>...</td><td>...</td><td>...</td><td>...</td><td>...</td><td>...</td><td>...</td><td>...</td><td>...</td><td>...</td><td>...</td><td>...</td><td>...</td><td>...</td><td>...</td><td>...</td><td>...</td><td>...</td><td>...</td><td>...</td><td>...</td><td>...</td><td>...</td><td>...</td><td>...</td><td>...</td><td>...</td><td>...</td><td>...</td><td>...</td><td>...</td><td>...</td><td>...</td><td>...</td><td>...</td><td>...</td><td>...</td><td>...</td></tr>\n",
              "<tr><td>39628438591508567</td><td>sv3</td><td>dark</td><td>28151</td><td>28151</td><td>1.3236564719980437</td><td>9.678104363710807e-05</td><td>0</td><td>7513.244935154915</td><td>6.387477209530788 .. -5.642922125136866</td><td>7810</td><td>GALAXY</td><td></td><td>10</td><td>68.88297525048256</td><td>0</td><td>193.19777790175036</td><td>28.038283203523896</td><td>0.0</td><td>0.0</td><td>2015.5</td><td>1179714</td><td>1</td><td>TGT</td><td>0.8570172677426477</td><td>1</td><td>9010</td><td>1931p280</td><td>486261</td><td>4183</td><td>PSF</td><td>0.009946096</td><td>0.32184792</td><td>0.3011251</td><td>0.3799862</td><td>-1.9816524</td><td>1.2779905</td><td>1571.7202</td><td>596.1764</td><td>149.16626</td><td>4.1489058</td><td>0.8837122</td><td>0.25048116</td><td>0.23435345</td><td>0.29572782</td><td>0.25048116</td><td>0.23435345</td><td>0.29572782</td><td>0</td><td>0.0</td><td>0.0</td><td>0.0</td><td>0.0</td><td>0</td><td></td><td>0.0</td><td>0.0</td><td>0.0</td><td>0.0</td><td>S</td><td>103100</td><td>9</td><td>0</td><td>0</td><td>0</td><td>0</td><td>0</td><td>0</td><td>0</td><td>0</td><td>0</td><td>0</td><td>0</td><td>0</td><td>0</td><td>1179714</td><td>0</td><td>0</td><td>0</td><td>193.19777790175036</td><td>28.038283203523896</td><td>1</td><td>1033.5431</td><td>1</td><td>1</td><td>-0.003</td><td>0.003</td><td>-0.001</td><td>0.001</td><td>193.19776488177612</td><td>0.0</td><td>28.038287180314402</td><td>0.0</td><td>0.789</td><td>414.76016</td><td>0.2417607</td><td>73.21031</td><td>219.63084</td><td>1156.3801</td><td>443.08588</td><td>6.4951158</td><td>2.171587</td><td>10678.382</td><td>29.096592</td><td>1907.7155</td><td>0.028215608</td><td>1891.8634</td><td>12077.774</td><td>7.6032815</td><td>38.412792</td><td>3.9208775e-05</td><td>128.71</td><td>6.9865605e-06</td><td>0.0</td><td>5398.7354</td><td>4.361324e-05</td><td>26.63677</td><td>59.69335</td><td>11093.142</td><td>158.04836</td><td>1980.9258</td><td>219.65906</td><td>8446.979</td><td>12520.86</td><td>40.73517</td><td>100.27773</td><td>1</td><td>True</td><td>1</td><td>True</td></tr>\n",
              "<tr><td>-1122305</td><td>sv3</td><td>dark</td><td>28151</td><td>28151</td><td>-0.0019956912923479522</td><td>4.1311493573349107e-48</td><td>1570</td><td>8.999999999999996e+99</td><td>0.0 .. 0.0</td><td>0</td><td>STAR</td><td>CV</td><td>3</td><td>1.942668892225729e+84</td><td>9</td><td>193.31778265649916</td><td>27.98278838350515</td><td>0.0</td><td>0.0</td><td>0.0</td><td>0</td><td>0</td><td></td><td>0.0</td><td>0</td><td>0</td><td></td><td>0</td><td>0</td><td></td><td>0.0</td><td>0.0</td><td>0.0</td><td>0.0</td><td>0.0</td><td>0.0</td><td>0.0</td><td>0.0</td><td>0.0</td><td>0.0</td><td>0.0</td><td>0.0</td><td>0.0</td><td>0.0</td><td>0.0</td><td>0.0</td><td>0.0</td><td>0</td><td>0.0</td><td>0.0</td><td>0.0</td><td>0.0</td><td>0</td><td></td><td>0.0</td><td>0.0</td><td>0.0</td><td>0.0</td><td></td><td>0</td><td>0</td><td>0</td><td>0</td><td>0</td><td>0</td><td>0</td><td>0</td><td>0</td><td>0</td><td>0</td><td>0</td><td>0</td><td>0</td><td>0</td><td>0</td><td>0</td><td>0</td><td>0</td><td>193.31778265649916</td><td>27.98278838350515</td><td>0</td><td>0.0</td><td>0</td><td>0</td><td>0.027</td><td>0.027</td><td>0.011</td><td>0.011</td><td>193.31790142227547</td><td>0.0</td><td>27.98274424383188</td><td>0.0</td><td>0.7955661</td><td>380.87692</td><td>0.22353972</td><td>70.62959</td><td>189.59833</td><td>1127.8743</td><td>398.8359</td><td>5.5875564</td><td>2.0372472</td><td>9424.572</td><td>26.1909</td><td>1771.2501</td><td>0.023472365</td><td>1768.6176</td><td>10484.766</td><td>6.3440332</td><td>35.115925</td><td>3.435559e-05</td><td>110.48849</td><td>6.4383908e-06</td><td>0.0</td><td>4855.6626</td><td>3.759219e-05</td><td>21.158222</td><td>51.962696</td><td>9805.449</td><td>136.90292</td><td>1841.8798</td><td>189.6218</td><td>7752.1543</td><td>10883.602</td><td>33.089813</td><td>89.11587</td><td>1</td><td>True</td><td>1</td><td>True</td></tr>\n",
              "<tr><td>39628438587315598</td><td>sv3</td><td>dark</td><td>28151</td><td>28151</td><td>0.8288070084174634</td><td>1.209193467882704e-05</td><td>0</td><td>8262.380909919739</td><td>171.77479679755055 .. 8.920146706099956</td><td>7766</td><td>GALAXY</td><td></td><td>10</td><td>2451.5046706199646</td><td>0</td><td>192.97423530864023</td><td>28.08879418740102</td><td>0.0</td><td>0.0</td><td>2015.5</td><td>4611686018428829766</td><td>1</td><td>TGT</td><td>0.7598718407654129</td><td>63</td><td>9010</td><td>1928p280</td><td>486260</td><td>5518</td><td>PSF</td><td>0.0100650815</td><td>2.7785654</td><td>3.042028</td><td>6.735959</td><td>21.500917</td><td>29.15547</td><td>1092.7979</td><td>389.67273</td><td>181.51144</td><td>2.9494574</td><td>0.74237883</td><td>2.163779</td><td>2.3689475</td><td>5.245558</td><td>2.1760025</td><td>2.3924408</td><td>5.3277225</td><td>0</td><td>0.0</td><td>0.0</td><td>0.0</td><td>0.0</td><td>3961964604502302720</td><td>G2</td><td>20.991219</td><td>20.493006</td><td>20.168554</td><td>0.0</td><td>S</td><td>103400</td><td>9</td><td>0</td><td>0</td><td>0</td><td>0</td><td>0</td><td>0</td><td>0</td><td>0</td><td>0</td><td>0</td><td>0</td><td>0</td><td>0</td><td>4611686018428829766</td><td>0</td><td>0</td><td>34359738368</td><td>192.97423530864023</td><td>28.08879418740102</td><td>1</td><td>1033.5431</td><td>1</td><td>1</td><td>-0.007</td><td>0.007</td><td>0.003</td><td>0.003</td><td>192.97420622632876</td><td>0.0</td><td>28.088782179485037</td><td>0.0</td><td>0.789</td><td>385.30807</td><td>0.22665578</td><td>68.660255</td><td>202.53741</td><td>1098.4962</td><td>410.8901</td><td>6.008911</td><td>2.0475812</td><td>9929.512</td><td>27.839464</td><td>1784.6038</td><td>0.025671937</td><td>1763.3843</td><td>11086.008</td><td>7.0755076</td><td>36.58983</td><td>4.12629e-05</td><td>127.97407</td><td>7.3683555e-06</td><td>0.0</td><td>5442.584</td><td>4.4741326e-05</td><td>26.245985</td><td>60.08313</td><td>10314.819</td><td>156.04019</td><td>1853.264</td><td>202.56308</td><td>8304.465</td><td>11496.897</td><td>39.330406</td><td>98.720535</td><td>1</td><td>True</td><td>1</td><td>True</td></tr>\n",
              "<tr><td>616089190890733816</td><td>sv3</td><td>dark</td><td>28151</td><td>28151</td><td>-0.0019956912923479522</td><td>4.1311493573349107e-48</td><td>1571</td><td>8.999999999999996e+99</td><td>0.0 .. 0.0</td><td>0</td><td>STAR</td><td>CV</td><td>3</td><td>1.942668892225729e+84</td><td>520</td><td>192.9743097402314</td><td>27.92284242194057</td><td>0.0</td><td>0.0</td><td>0.0</td><td>4294967296</td><td>4</td><td>SKY</td><td>0.8919590844415274</td><td>63</td><td>9010</td><td>1928p280</td><td>486260</td><td>248</td><td></td><td>0.0</td><td>0.0</td><td>0.0</td><td>0.0</td><td>0.0</td><td>0.0</td><td>0.0</td><td>0.0</td><td>0.0</td><td>0.0</td><td>0.0</td><td>-0.00818547</td><td>0.011869284</td><td>0.06846208</td><td>0.0</td><td>0.0</td><td>0.0</td><td>0</td><td>0.0</td><td>0.0</td><td>0.0</td><td>0.0</td><td>0</td><td></td><td>0.0</td><td>0.0</td><td>0.0</td><td>0.0</td><td></td><td>-1</td><td>-1</td><td>0</td><td>4294967296</td><td>0</td><td>0</td><td>0</td><td>0</td><td>0</td><td>0</td><td>0</td><td>0</td><td>0</td><td>0</td><td>0</td><td>0</td><td>0</td><td>0</td><td>0</td><td>192.9743097402314</td><td>27.92284242194057</td><td>0</td><td>0.0</td><td>0</td><td>0</td><td>1.525</td><td>1.525</td><td>-0.12</td><td>0.12</td><td>192.98067672462773</td><td>0.0</td><td>27.92329560218124</td><td>0.0</td><td>0.0</td><td>603.8938</td><td>0.3557932</td><td>529.14496</td><td>163.41064</td><td>8522.37</td><td>348.8543</td><td>4.8224454</td><td>9.716128</td><td>15551.864</td><td>43.705643</td><td>13718.321</td><td>0.020822918</td><td>13490.766</td><td>9337.291</td><td>5.659774</td><td>173.70543</td><td>6.5053355e-05</td><td>199.61974</td><td>5.698927e-05</td><td>0.0</td><td>42026.77</td><td>3.7870755e-05</td><td>20.975582</td><td>284.9361</td><td>16155.758</td><td>243.68117</td><td>14247.466</td><td>163.43147</td><td>64039.906</td><td>9686.1455</td><td>31.457802</td><td>468.35767</td><td>1</td><td>True</td><td>1</td><td>True</td></tr>\n",
              "<tr><td>39628438591507446</td><td>sv3</td><td>dark</td><td>28151</td><td>28151</td><td>1.6188228983294508</td><td>5.6934699935663317e-05</td><td>0</td><td>7775.133660554886</td><td>87.16992597125748 .. 6.1170491500433375</td><td>7925</td><td>GALAXY</td><td></td><td>10</td><td>44.30346751213074</td><td>0</td><td>193.13822909698175</td><td>28.02570143373259</td><td>0.0</td><td>0.0</td><td>2015.5</td><td>1179714</td><td>1</td><td>TGT</td><td>0.8113519519399416</td><td>1</td><td>9010</td><td>1931p280</td><td>486261</td><td>3062</td><td>REX</td><td>0.0101265535</td><td>0.6643662</td><td>0.7417794</td><td>0.9119717</td><td>2.2341526</td><td>1.2215959</td><td>1236.1249</td><td>453.7157</td><td>117.95439</td><td>4.12137</td><td>0.8988666</td><td>0.45014453</td><td>0.50259626</td><td>0.61791086</td><td>0.45014453</td><td>0.50259626</td><td>0.61791086</td><td>0</td><td>1.0</td><td>0.25930887</td><td>0.0</td><td>0.0</td><td>0</td><td></td><td>0.0</td><td>0.0</td><td>0.0</td><td>0.0</td><td>S</td><td>103100</td><td>9</td><td>0</td><td>0</td><td>0</td><td>0</td><td>0</td><td>0</td><td>0</td><td>0</td><td>0</td><td>0</td><td>0</td><td>0</td><td>0</td><td>1179714</td><td>0</td><td>0</td><td>0</td><td>193.13822909698175</td><td>28.02570143373259</td><td>2</td><td>1892.0006</td><td>2</td><td>2</td><td>-0.006</td><td>0.0060827625</td><td>0.0085</td><td>0.008860023</td><td>193.1382046980435</td><td>0.014671117</td><td>28.025667827778584</td><td>0.034781955</td><td>0.78162134</td><td>719.4554</td><td>0.3710176</td><td>128.08931</td><td>300.87546</td><td>1871.191</td><td>761.88727</td><td>9.778713</td><td>3.6277559</td><td>23354.014</td><td>54.84923</td><td>4096.6216</td><td>0.07251317</td><td>4393.127</td><td>23841.324</td><td>15.520684</td><td>76.590836</td><td>7.437796e-05</td><td>224.73581</td><td>1.3296851e-05</td><td>0.0</td><td>10047.171</td><td>8.0735896e-05</td><td>46.97744</td><td>108.24165</td><td>24073.469</td><td>279.95605</td><td>4224.711</td><td>300.94797</td><td>16311.488</td><td>24603.21</td><td>72.27684</td><td>188.46024</td><td>1</td><td>True</td><td>1</td><td>True</td></tr>\n",
              "<tr><td>39628438587314447</td><td>sv3</td><td>dark</td><td>28151</td><td>28151</td><td>0.7914074822009156</td><td>9.9305006387205e-05</td><td>0</td><td>7917.61648952961</td><td>0.00047362460660000554 .. 0.0</td><td>7840</td><td>QSO</td><td></td><td>4</td><td>571.8984959721565</td><td>0</td><td>192.92072660376581</td><td>28.06496673406025</td><td>0.0</td><td>0.0</td><td>2015.5</td><td>262148</td><td>1</td><td>TGT</td><td>0.15958925514114475</td><td>1</td><td>9010</td><td>1928p280</td><td>486260</td><td>4367</td><td>PSF</td><td>0.01056724</td><td>2.6817045</td><td>3.0504844</td><td>3.2640734</td><td>9.299197</td><td>7.651994</td><td>1195.0492</td><td>469.5998</td><td>204.62729</td><td>3.6732147</td><td>0.8535289</td><td>2.0834358</td><td>2.3699434</td><td>2.5358822</td><td>2.0834358</td><td>2.3699434</td><td>2.5358822</td><td>0</td><td>0.0</td><td>0.0</td><td>0.0</td><td>0.0</td><td>0</td><td></td><td>0.0</td><td>0.0</td><td>0.0</td><td>0.0</td><td>S</td><td>103400</td><td>4</td><td>0</td><td>0</td><td>0</td><td>0</td><td>0</td><td>0</td><td>0</td><td>0</td><td>0</td><td>0</td><td>0</td><td>0</td><td>0</td><td>262148</td><td>0</td><td>0</td><td>0</td><td>192.92072660376581</td><td>28.06496673406025</td><td>1</td><td>1033.5431</td><td>1</td><td>1</td><td>0.001</td><td>0.001</td><td>-0.003</td><td>0.003</td><td>192.92073045611383</td><td>0.0</td><td>28.06497860326054</td><td>0.0</td><td>0.789</td><td>368.9465</td><td>0.21618271</td><td>65.81862</td><td>193.75592</td><td>1051.5754</td><td>396.38004</td><td>5.740284</td><td>1.9471266</td><td>9809.076</td><td>27.06611</td><td>1762.2003</td><td>0.025902253</td><td>1734.4845</td><td>10980.005</td><td>6.8917522</td><td>35.557983</td><td>3.9815393e-05</td><td>124.425766</td><td>7.1089494e-06</td><td>0.0</td><td>5304.5083</td><td>4.331348e-05</td><td>25.610594</td><td>58.468994</td><td>10178.022</td><td>151.70805</td><td>1828.0189</td><td>193.78183</td><td>8090.5684</td><td>11376.385</td><td>38.24263</td><td>95.974106</td><td>1</td><td>True</td><td>1</td><td>True</td></tr>\n",
              "<tr><td>39628438587314411</td><td>sv3</td><td>dark</td><td>28151</td><td>28151</td><td>0.8065244397752959</td><td>6.135224108888501e-05</td><td>0</td><td>7810.633660972118</td><td>0.0004714977765576881 .. 0.0</td><td>7845</td><td>QSO</td><td></td><td>4</td><td>836.0214835703373</td><td>0</td><td>192.91985975074007</td><td>28.024179814831857</td><td>0.0</td><td>0.0</td><td>2015.5</td><td>4611686018428829766</td><td>1</td><td>TGT</td><td>0.027015926927710043</td><td>63</td><td>9010</td><td>1928p280</td><td>486260</td><td>4331</td><td>PSF</td><td>0.010889552</td><td>2.7684705</td><td>3.0123773</td><td>3.908153</td><td>11.7156</td><td>15.545705</td><td>1206.7393</td><td>471.6878</td><td>202.52179</td><td>2.9173653</td><td>0.7450885</td><td>2.156117</td><td>2.3460743</td><td>3.0437148</td><td>2.15696</td><td>2.3485167</td><td>3.0485187</td><td>0</td><td>0.0</td><td>0.0</td><td>0.0</td><td>0.0</td><td>0</td><td></td><td>0.0</td><td>0.0</td><td>0.0</td><td>0.0</td><td>S</td><td>103400</td><td>9</td><td>0</td><td>0</td><td>0</td><td>0</td><td>0</td><td>0</td><td>0</td><td>0</td><td>0</td><td>0</td><td>0</td><td>0</td><td>0</td><td>4611686018428829766</td><td>0</td><td>0</td><td>34426847232</td><td>192.91985975074007</td><td>28.024179814831857</td><td>1</td><td>1033.5431</td><td>1</td><td>1</td><td>-0.002</td><td>0.002</td><td>-0.002</td><td>0.002</td><td>192.9198512070148</td><td>0.0</td><td>28.024187701957914</td><td>0.0</td><td>0.789</td><td>367.7937</td><td>0.21595891</td><td>65.62036</td><td>193.77979</td><td>1049.1973</td><td>395.04214</td><td>5.7367263</td><td>1.9476643</td><td>9676.288</td><td>26.71453</td><td>1740.7294</td><td>0.025708731</td><td>1723.9392</td><td>10871.654</td><td>6.8121424</td><td>35.11808</td><td>3.927086e-05</td><td>122.964386</td><td>7.018228e-06</td><td>0.0</td><td>5275.273</td><td>4.2822972e-05</td><td>25.347729</td><td>57.869877</td><td>10044.082</td><td>149.89488</td><td>1806.3497</td><td>193.8055</td><td>8048.409</td><td>11266.696</td><td>37.8966</td><td>94.93562</td><td>2</td><td>False</td><td>2</td><td>False</td></tr>\n",
              "<tr><td>39628438587313503</td><td>sv3</td><td>dark</td><td>28151</td><td>28151</td><td>2.034874026533031</td><td>0.0005034853872552341</td><td>0</td><td>8004.65232068859</td><td>9.697094756164827e-05 .. 0.0</td><td>7838</td><td>QSO</td><td></td><td>4</td><td>162.76084442064166</td><td>0</td><td>192.87279974173254</td><td>28.058765289587107</td><td>0.0</td><td>0.0</td><td>2015.5</td><td>262148</td><td>1</td><td>TGT</td><td>0.661980766142358</td><td>1</td><td>9010</td><td>1928p280</td><td>486260</td><td>3423</td><td>PSF</td><td>0.010535352</td><td>1.2623484</td><td>1.530674</td><td>1.7497264</td><td>7.132623</td><td>11.54818</td><td>1422.0181</td><td>521.13434</td><td>208.83238</td><td>3.1153421</td><td>0.7451472</td><td>0.98256874</td><td>1.1914241</td><td>1.3619272</td><td>0.98628396</td><td>1.2005963</td><td>1.3789375</td><td>0</td><td>0.0</td><td>0.0</td><td>0.0</td><td>0.0</td><td>0</td><td></td><td>0.0</td><td>0.0</td><td>0.0</td><td>0.0</td><td>S</td><td>103400</td><td>4</td><td>0</td><td>0</td><td>0</td><td>0</td><td>0</td><td>0</td><td>0</td><td>0</td><td>0</td><td>0</td><td>0</td><td>0</td><td>0</td><td>262148</td><td>0</td><td>0</td><td>0</td><td>192.87279974173254</td><td>28.058765289587107</td><td>1</td><td>1033.5431</td><td>1</td><td>1</td><td>0.002</td><td>0.002</td><td>-0.001</td><td>0.001</td><td>192.87280790336052</td><td>0.0</td><td>28.0587692549433</td><td>0.0</td><td>0.789</td><td>316.99673</td><td>0.18109576</td><td>56.86232</td><td>154.54852</td><td>901.2779</td><td>345.06064</td><td>4.7909136</td><td>1.6933364</td><td>8875.323</td><td>24.754282</td><td>1599.0463</td><td>0.022909185</td><td>1567.0062</td><td>9987.043</td><td>6.251252</td><td>32.414864</td><td>3.773731e-05</td><td>118.77465</td><td>6.740256e-06</td><td>0.0</td><td>5106.8604</td><td>4.0898063e-05</td><td>24.507788</td><td>56.069145</td><td>9192.32</td><td>143.71002</td><td>1655.9086</td><td>154.57143</td><td>7575.1445</td><td>10332.104</td><td>35.549953</td><td>90.177345</td><td>1</td><td>True</td><td>1</td><td>True</td></tr>\n",
              "<tr><td>39628438587315309</td><td>sv3</td><td>dark</td><td>28151</td><td>28151</td><td>0.7345595602297358</td><td>1.8362228685822765e-05</td><td>0</td><td>7537.196232795715</td><td>50.39080785805784 .. 1.8141969193432412</td><td>7812</td><td>GALAXY</td><td></td><td>10</td><td>231.45719400048256</td><td>0</td><td>192.96255536545036</td><td>27.96169960814808</td><td>0.0</td><td>0.0</td><td>2015.5</td><td>655394</td><td>1</td><td>TGT</td><td>0.7434743198646103</td><td>1</td><td>9010</td><td>1928p280</td><td>486260</td><td>5229</td><td>REX</td><td>0.01087526</td><td>0.3718169</td><td>0.5554453</td><td>1.2721419</td><td>1.3308502</td><td>-2.1810644</td><td>1437.6027</td><td>483.93744</td><td>160.07535</td><td>4.060625</td><td>0.8599262</td><td>0.23120162</td><td>0.34538466</td><td>0.791038</td><td>0.23120162</td><td>0.34538466</td><td>0.791038</td><td>0</td><td>1.0</td><td>0.34113547</td><td>0.0</td><td>0.0</td><td>0</td><td></td><td>0.0</td><td>0.0</td><td>0.0</td><td>0.0</td><td>S</td><td>103000</td><td>9</td><td>0</td><td>0</td><td>0</td><td>0</td><td>0</td><td>0</td><td>0</td><td>0</td><td>0</td><td>0</td><td>0</td><td>0</td><td>0</td><td>655394</td><td>0</td><td>0</td><td>0</td><td>192.96255536545036</td><td>27.96169960814808</td><td>1</td><td>1033.5431</td><td>1</td><td>1</td><td>0.004</td><td>0.004</td><td>0.002</td><td>0.002</td><td>192.9625723251056</td><td>0.0</td><td>27.961691682470367</td><td>0.0</td><td>0.77816075</td><td>394.58755</td><td>0.23224962</td><td>70.079384</td><td>208.43237</td><td>1121.5143</td><td>418.2203</td><td>6.1679473</td><td>2.0971804</td><td>10237.346</td><td>28.306454</td><td>1833.547</td><td>0.027541313</td><td>1815.7234</td><td>11356.391</td><td>7.2007165</td><td>37.156948</td><td>4.1948046e-05</td><td>129.16806</td><td>7.468582e-06</td><td>0.0</td><td>5540.653</td><td>4.5266646e-05</td><td>26.673681</td><td>60.85678</td><td>10631.934</td><td>157.70676</td><td>1903.6263</td><td>208.45992</td><td>8477.891</td><td>11774.611</td><td>40.042343</td><td>100.11091</td><td>1</td><td>True</td><td>1</td><td>True</td></tr>\n",
              "<tr><td>-1193332</td><td>sv3</td><td>dark</td><td>28151</td><td>28151</td><td>-0.0019956912923479522</td><td>4.1311493573349107e-48</td><td>1570</td><td>8.999999999999996e+99</td><td>0.0 .. 0.0</td><td>0</td><td>STAR</td><td>CV</td><td>3</td><td>1.942668892225729e+84</td><td>515</td><td>193.1904043900987</td><td>28.110882424021103</td><td>0.0</td><td>0.0</td><td>0.0</td><td>0</td><td>0</td><td></td><td>0.0</td><td>0</td><td>0</td><td></td><td>0</td><td>0</td><td></td><td>0.0</td><td>0.0</td><td>0.0</td><td>0.0</td><td>0.0</td><td>0.0</td><td>0.0</td><td>0.0</td><td>0.0</td><td>0.0</td><td>0.0</td><td>0.0</td><td>0.0</td><td>0.0</td><td>0.0</td><td>0.0</td><td>0.0</td><td>0</td><td>0.0</td><td>0.0</td><td>0.0</td><td>0.0</td><td>0</td><td></td><td>0.0</td><td>0.0</td><td>0.0</td><td>0.0</td><td></td><td>0</td><td>0</td><td>0</td><td>0</td><td>0</td><td>0</td><td>0</td><td>0</td><td>0</td><td>0</td><td>0</td><td>0</td><td>0</td><td>0</td><td>0</td><td>0</td><td>0</td><td>0</td><td>0</td><td>193.1904043900987</td><td>28.110882424021103</td><td>0</td><td>0.0</td><td>0</td><td>0</td><td>0.945</td><td>0.945</td><td>-0.14</td><td>0.14</td><td>193.1943846370905</td><td>0.0</td><td>28.111487487305478</td><td>0.0</td><td>0.0</td><td>361.531</td><td>0.2771026</td><td>323.2895</td><td>97.612335</td><td>7046.8887</td><td>224.75014</td><td>3.74182</td><td>8.85674</td><td>27975.42</td><td>57.612293</td><td>23072.451</td><td>0.081764676</td><td>26392.102</td><td>13369.939</td><td>9.1179905</td><td>254.19821</td><td>6.308911e-05</td><td>190.32076</td><td>5.4463962e-05</td><td>0.0</td><td>43685.09</td><td>3.5023408e-05</td><td>20.898521</td><td>287.06207</td><td>28336.951</td><td>248.21014</td><td>23395.74</td><td>97.6941</td><td>77124.08</td><td>13594.689</td><td>33.75833</td><td>550.11707</td><td>1</td><td>True</td><td>1</td><td>True</td></tr>\n",
              "</table></div>"
            ]
          },
          "metadata": {},
          "execution_count": 12
        }
      ]
    },
    {
      "cell_type": "code",
      "source": [
        "#De la lista anterior solo necesitaremos la información del TargetID el corrimiento al rojo, y el spectype, además del tid. para identificar los objetos\n",
        "\n",
        "fujidata = fujidata['TARGETID','SURVEY','SPECTYPE','Z']"
      ],
      "metadata": {
        "id": "lBKHLM2eaDSu"
      },
      "id": "lBKHLM2eaDSu",
      "execution_count": 14,
      "outputs": []
    },
    {
      "cell_type": "code",
      "source": [
        "fujidata"
      ],
      "metadata": {
        "colab": {
          "base_uri": "https://localhost:8080/",
          "height": 518
        },
        "id": "S3PqVSnsaUYb",
        "outputId": "5d2abf09-6527-495f-9a13-81710d127048"
      },
      "id": "S3PqVSnsaUYb",
      "execution_count": 15,
      "outputs": [
        {
          "output_type": "execute_result",
          "data": {
            "text/plain": [
              "<Table length=2847435>\n",
              "      TARGETID      SURVEY SPECTYPE            Z           \n",
              "       int64         str7    str6           float64        \n",
              "------------------- ------ -------- -----------------------\n",
              " 616089230757593610    cmx   GALAXY      1.0791710884059862\n",
              "  39628473202904408    cmx   GALAXY     0.18041222201570103\n",
              "  39628473202902554    cmx   GALAXY      0.4461359257327492\n",
              " 616089225506325615    cmx   GALAXY      0.6192322343815375\n",
              "  39628473202903445    cmx      QSO      1.0724836869842256\n",
              "  39628473202903539    cmx     STAR  -0.0019956912923479522\n",
              "1152921504619435527    cmx     STAR -3.7560540650860466e-05\n",
              "  39628473202904338    cmx   GALAXY      0.8033783177649549\n",
              "  39628473202902855    cmx   GALAXY     0.42633336573476377\n",
              "  39628473202905021    cmx      QSO       2.628380234087188\n",
              "                ...    ...      ...                     ...\n",
              "  39628438591508567    sv3   GALAXY      1.3236564719980437\n",
              "           -1122305    sv3     STAR  -0.0019956912923479522\n",
              "  39628438587315598    sv3   GALAXY      0.8288070084174634\n",
              " 616089190890733816    sv3     STAR  -0.0019956912923479522\n",
              "  39628438591507446    sv3   GALAXY      1.6188228983294508\n",
              "  39628438587314447    sv3      QSO      0.7914074822009156\n",
              "  39628438587314411    sv3      QSO      0.8065244397752959\n",
              "  39628438587313503    sv3      QSO       2.034874026533031\n",
              "  39628438587315309    sv3   GALAXY      0.7345595602297358\n",
              "           -1193332    sv3     STAR  -0.0019956912923479522"
            ],
            "text/html": [
              "<div><i>Table length=2847435</i>\n",
              "<table id=\"table136068163889728\" class=\"table-striped table-bordered table-condensed\">\n",
              "<thead><tr><th>TARGETID</th><th>SURVEY</th><th>SPECTYPE</th><th>Z</th></tr></thead>\n",
              "<thead><tr><th>int64</th><th>str7</th><th>str6</th><th>float64</th></tr></thead>\n",
              "<tr><td>616089230757593610</td><td>cmx</td><td>GALAXY</td><td>1.0791710884059862</td></tr>\n",
              "<tr><td>39628473202904408</td><td>cmx</td><td>GALAXY</td><td>0.18041222201570103</td></tr>\n",
              "<tr><td>39628473202902554</td><td>cmx</td><td>GALAXY</td><td>0.4461359257327492</td></tr>\n",
              "<tr><td>616089225506325615</td><td>cmx</td><td>GALAXY</td><td>0.6192322343815375</td></tr>\n",
              "<tr><td>39628473202903445</td><td>cmx</td><td>QSO</td><td>1.0724836869842256</td></tr>\n",
              "<tr><td>39628473202903539</td><td>cmx</td><td>STAR</td><td>-0.0019956912923479522</td></tr>\n",
              "<tr><td>1152921504619435527</td><td>cmx</td><td>STAR</td><td>-3.7560540650860466e-05</td></tr>\n",
              "<tr><td>39628473202904338</td><td>cmx</td><td>GALAXY</td><td>0.8033783177649549</td></tr>\n",
              "<tr><td>39628473202902855</td><td>cmx</td><td>GALAXY</td><td>0.42633336573476377</td></tr>\n",
              "<tr><td>39628473202905021</td><td>cmx</td><td>QSO</td><td>2.628380234087188</td></tr>\n",
              "<tr><td>...</td><td>...</td><td>...</td><td>...</td></tr>\n",
              "<tr><td>39628438591508567</td><td>sv3</td><td>GALAXY</td><td>1.3236564719980437</td></tr>\n",
              "<tr><td>-1122305</td><td>sv3</td><td>STAR</td><td>-0.0019956912923479522</td></tr>\n",
              "<tr><td>39628438587315598</td><td>sv3</td><td>GALAXY</td><td>0.8288070084174634</td></tr>\n",
              "<tr><td>616089190890733816</td><td>sv3</td><td>STAR</td><td>-0.0019956912923479522</td></tr>\n",
              "<tr><td>39628438591507446</td><td>sv3</td><td>GALAXY</td><td>1.6188228983294508</td></tr>\n",
              "<tr><td>39628438587314447</td><td>sv3</td><td>QSO</td><td>0.7914074822009156</td></tr>\n",
              "<tr><td>39628438587314411</td><td>sv3</td><td>QSO</td><td>0.8065244397752959</td></tr>\n",
              "<tr><td>39628438587313503</td><td>sv3</td><td>QSO</td><td>2.034874026533031</td></tr>\n",
              "<tr><td>39628438587315309</td><td>sv3</td><td>GALAXY</td><td>0.7345595602297358</td></tr>\n",
              "<tr><td>-1193332</td><td>sv3</td><td>STAR</td><td>-0.0019956912923479522</td></tr>\n",
              "</table></div>"
            ]
          },
          "metadata": {},
          "execution_count": 15
        }
      ]
    },
    {
      "cell_type": "code",
      "source": [
        "#Creo dos mask para filtrar y crear un set de datos nuevo donde sólo estén los TagetID de estos objetos\n",
        "\n",
        "qso_mask  = fujidata[\"SPECTYPE\"]=='QSO'\n",
        "star_mask = fujidata[\"SPECTYPE\"]=='STAR'"
      ],
      "metadata": {
        "id": "dZUkfAS7YOjk"
      },
      "id": "dZUkfAS7YOjk",
      "execution_count": 16,
      "outputs": []
    },
    {
      "cell_type": "code",
      "source": [
        "#Ahora tengo dos máscaras para filtrar los datos dónde solo hay información acerca de estos objetos\n",
        "\n",
        "fujidata[qso_mask]"
      ],
      "metadata": {
        "colab": {
          "base_uri": "https://localhost:8080/",
          "height": 518
        },
        "id": "kiC8-MnWZutH",
        "outputId": "1c6b8d8e-81eb-4aff-a627-bd19daaf3104"
      },
      "id": "kiC8-MnWZutH",
      "execution_count": 17,
      "outputs": [
        {
          "output_type": "execute_result",
          "data": {
            "text/plain": [
              "<Table length=117771>\n",
              "      TARGETID      SURVEY SPECTYPE         Z         \n",
              "       int64         str7    str6        float64      \n",
              "------------------- ------ -------- ------------------\n",
              "  39628473202903445    cmx      QSO 1.0724836869842256\n",
              "  39628473202905021    cmx      QSO  2.628380234087188\n",
              "  39628478449979760    cmx      QSO 1.5284469839389512\n",
              "  39628478454170137    cmx      QSO  2.437912157749145\n",
              "1152921504619432614    cmx      QSO 1.1294203675694041\n",
              "  39628488931543273    cmx      QSO 0.5879885699941647\n",
              "  39628483705443044    cmx      QSO  3.641069952113342\n",
              "  39628488927348831    cmx      QSO  1.403102792557713\n",
              "  39628483705441129    cmx      QSO 1.9052059263390442\n",
              "  39628483705441118    cmx      QSO 1.1040875761179672\n",
              "                ...    ...      ...                ...\n",
              "  39628438591506105    sv3      QSO 1.9835254344650062\n",
              "  39628438591504702    sv3      QSO  1.988794707755989\n",
              "  39628438591508705    sv3      QSO 0.9472242862551042\n",
              "  39628438591507366    sv3      QSO 0.9461251758859738\n",
              "  39628443926660324    sv3      QSO 1.5846699619810163\n",
              "  39628438587313659    sv3      QSO 1.7907606958501596\n",
              "  39628438587315312    sv3      QSO 2.1603039636665597\n",
              "  39628438587314447    sv3      QSO 0.7914074822009156\n",
              "  39628438587314411    sv3      QSO 0.8065244397752959\n",
              "  39628438587313503    sv3      QSO  2.034874026533031"
            ],
            "text/html": [
              "<div><i>Table length=117771</i>\n",
              "<table id=\"table136068163889440\" class=\"table-striped table-bordered table-condensed\">\n",
              "<thead><tr><th>TARGETID</th><th>SURVEY</th><th>SPECTYPE</th><th>Z</th></tr></thead>\n",
              "<thead><tr><th>int64</th><th>str7</th><th>str6</th><th>float64</th></tr></thead>\n",
              "<tr><td>39628473202903445</td><td>cmx</td><td>QSO</td><td>1.0724836869842256</td></tr>\n",
              "<tr><td>39628473202905021</td><td>cmx</td><td>QSO</td><td>2.628380234087188</td></tr>\n",
              "<tr><td>39628478449979760</td><td>cmx</td><td>QSO</td><td>1.5284469839389512</td></tr>\n",
              "<tr><td>39628478454170137</td><td>cmx</td><td>QSO</td><td>2.437912157749145</td></tr>\n",
              "<tr><td>1152921504619432614</td><td>cmx</td><td>QSO</td><td>1.1294203675694041</td></tr>\n",
              "<tr><td>39628488931543273</td><td>cmx</td><td>QSO</td><td>0.5879885699941647</td></tr>\n",
              "<tr><td>39628483705443044</td><td>cmx</td><td>QSO</td><td>3.641069952113342</td></tr>\n",
              "<tr><td>39628488927348831</td><td>cmx</td><td>QSO</td><td>1.403102792557713</td></tr>\n",
              "<tr><td>39628483705441129</td><td>cmx</td><td>QSO</td><td>1.9052059263390442</td></tr>\n",
              "<tr><td>39628483705441118</td><td>cmx</td><td>QSO</td><td>1.1040875761179672</td></tr>\n",
              "<tr><td>...</td><td>...</td><td>...</td><td>...</td></tr>\n",
              "<tr><td>39628438591506105</td><td>sv3</td><td>QSO</td><td>1.9835254344650062</td></tr>\n",
              "<tr><td>39628438591504702</td><td>sv3</td><td>QSO</td><td>1.988794707755989</td></tr>\n",
              "<tr><td>39628438591508705</td><td>sv3</td><td>QSO</td><td>0.9472242862551042</td></tr>\n",
              "<tr><td>39628438591507366</td><td>sv3</td><td>QSO</td><td>0.9461251758859738</td></tr>\n",
              "<tr><td>39628443926660324</td><td>sv3</td><td>QSO</td><td>1.5846699619810163</td></tr>\n",
              "<tr><td>39628438587313659</td><td>sv3</td><td>QSO</td><td>1.7907606958501596</td></tr>\n",
              "<tr><td>39628438587315312</td><td>sv3</td><td>QSO</td><td>2.1603039636665597</td></tr>\n",
              "<tr><td>39628438587314447</td><td>sv3</td><td>QSO</td><td>0.7914074822009156</td></tr>\n",
              "<tr><td>39628438587314411</td><td>sv3</td><td>QSO</td><td>0.8065244397752959</td></tr>\n",
              "<tr><td>39628438587313503</td><td>sv3</td><td>QSO</td><td>2.034874026533031</td></tr>\n",
              "</table></div>"
            ]
          },
          "metadata": {},
          "execution_count": 17
        }
      ]
    },
    {
      "cell_type": "code",
      "source": [
        "#Creo dos conjuntos de datos, cada uno con sólo información sobre Cuásares y el otro Estrellas\n",
        "\n",
        "data1 = fujidata[qso_mask]\n",
        "data2 = fujidata[star_mask]"
      ],
      "metadata": {
        "id": "dtGudEibbBYF"
      },
      "id": "dtGudEibbBYF",
      "execution_count": 18,
      "outputs": []
    },
    {
      "cell_type": "code",
      "source": [
        "data1"
      ],
      "metadata": {
        "colab": {
          "base_uri": "https://localhost:8080/",
          "height": 518
        },
        "id": "RpLQJx9qbTTl",
        "outputId": "38c63c55-4cf9-435e-fa52-ae3d67235425"
      },
      "id": "RpLQJx9qbTTl",
      "execution_count": 19,
      "outputs": [
        {
          "output_type": "execute_result",
          "data": {
            "text/plain": [
              "<Table length=117771>\n",
              "      TARGETID      SURVEY SPECTYPE         Z         \n",
              "       int64         str7    str6        float64      \n",
              "------------------- ------ -------- ------------------\n",
              "  39628473202903445    cmx      QSO 1.0724836869842256\n",
              "  39628473202905021    cmx      QSO  2.628380234087188\n",
              "  39628478449979760    cmx      QSO 1.5284469839389512\n",
              "  39628478454170137    cmx      QSO  2.437912157749145\n",
              "1152921504619432614    cmx      QSO 1.1294203675694041\n",
              "  39628488931543273    cmx      QSO 0.5879885699941647\n",
              "  39628483705443044    cmx      QSO  3.641069952113342\n",
              "  39628488927348831    cmx      QSO  1.403102792557713\n",
              "  39628483705441129    cmx      QSO 1.9052059263390442\n",
              "  39628483705441118    cmx      QSO 1.1040875761179672\n",
              "                ...    ...      ...                ...\n",
              "  39628438591506105    sv3      QSO 1.9835254344650062\n",
              "  39628438591504702    sv3      QSO  1.988794707755989\n",
              "  39628438591508705    sv3      QSO 0.9472242862551042\n",
              "  39628438591507366    sv3      QSO 0.9461251758859738\n",
              "  39628443926660324    sv3      QSO 1.5846699619810163\n",
              "  39628438587313659    sv3      QSO 1.7907606958501596\n",
              "  39628438587315312    sv3      QSO 2.1603039636665597\n",
              "  39628438587314447    sv3      QSO 0.7914074822009156\n",
              "  39628438587314411    sv3      QSO 0.8065244397752959\n",
              "  39628438587313503    sv3      QSO  2.034874026533031"
            ],
            "text/html": [
              "<div><i>Table length=117771</i>\n",
              "<table id=\"table136068163889200\" class=\"table-striped table-bordered table-condensed\">\n",
              "<thead><tr><th>TARGETID</th><th>SURVEY</th><th>SPECTYPE</th><th>Z</th></tr></thead>\n",
              "<thead><tr><th>int64</th><th>str7</th><th>str6</th><th>float64</th></tr></thead>\n",
              "<tr><td>39628473202903445</td><td>cmx</td><td>QSO</td><td>1.0724836869842256</td></tr>\n",
              "<tr><td>39628473202905021</td><td>cmx</td><td>QSO</td><td>2.628380234087188</td></tr>\n",
              "<tr><td>39628478449979760</td><td>cmx</td><td>QSO</td><td>1.5284469839389512</td></tr>\n",
              "<tr><td>39628478454170137</td><td>cmx</td><td>QSO</td><td>2.437912157749145</td></tr>\n",
              "<tr><td>1152921504619432614</td><td>cmx</td><td>QSO</td><td>1.1294203675694041</td></tr>\n",
              "<tr><td>39628488931543273</td><td>cmx</td><td>QSO</td><td>0.5879885699941647</td></tr>\n",
              "<tr><td>39628483705443044</td><td>cmx</td><td>QSO</td><td>3.641069952113342</td></tr>\n",
              "<tr><td>39628488927348831</td><td>cmx</td><td>QSO</td><td>1.403102792557713</td></tr>\n",
              "<tr><td>39628483705441129</td><td>cmx</td><td>QSO</td><td>1.9052059263390442</td></tr>\n",
              "<tr><td>39628483705441118</td><td>cmx</td><td>QSO</td><td>1.1040875761179672</td></tr>\n",
              "<tr><td>...</td><td>...</td><td>...</td><td>...</td></tr>\n",
              "<tr><td>39628438591506105</td><td>sv3</td><td>QSO</td><td>1.9835254344650062</td></tr>\n",
              "<tr><td>39628438591504702</td><td>sv3</td><td>QSO</td><td>1.988794707755989</td></tr>\n",
              "<tr><td>39628438591508705</td><td>sv3</td><td>QSO</td><td>0.9472242862551042</td></tr>\n",
              "<tr><td>39628438591507366</td><td>sv3</td><td>QSO</td><td>0.9461251758859738</td></tr>\n",
              "<tr><td>39628443926660324</td><td>sv3</td><td>QSO</td><td>1.5846699619810163</td></tr>\n",
              "<tr><td>39628438587313659</td><td>sv3</td><td>QSO</td><td>1.7907606958501596</td></tr>\n",
              "<tr><td>39628438587315312</td><td>sv3</td><td>QSO</td><td>2.1603039636665597</td></tr>\n",
              "<tr><td>39628438587314447</td><td>sv3</td><td>QSO</td><td>0.7914074822009156</td></tr>\n",
              "<tr><td>39628438587314411</td><td>sv3</td><td>QSO</td><td>0.8065244397752959</td></tr>\n",
              "<tr><td>39628438587313503</td><td>sv3</td><td>QSO</td><td>2.034874026533031</td></tr>\n",
              "</table></div>"
            ]
          },
          "metadata": {},
          "execution_count": 19
        }
      ]
    },
    {
      "cell_type": "code",
      "source": [
        "data2"
      ],
      "metadata": {
        "colab": {
          "base_uri": "https://localhost:8080/",
          "height": 518
        },
        "id": "rmZl2rnNbi6k",
        "outputId": "00834da4-611f-4e91-d3b0-4f7b37eaaa1f"
      },
      "id": "rmZl2rnNbi6k",
      "execution_count": 20,
      "outputs": [
        {
          "output_type": "execute_result",
          "data": {
            "text/plain": [
              "<Table length=1011010>\n",
              "      TARGETID      SURVEY SPECTYPE            Z           \n",
              "       int64         str7    str6           float64        \n",
              "------------------- ------ -------- -----------------------\n",
              "  39628473202903539    cmx     STAR  -0.0019956912923479522\n",
              "1152921504619435527    cmx     STAR -3.7560540650860466e-05\n",
              "  39628473198711006    cmx     STAR  -6.607473910190775e-05\n",
              "1152921504619435582    cmx     STAR   9.833583812940401e-05\n",
              "  39628473198711342    cmx     STAR  -0.0019956912923479522\n",
              "  39628494145064337    cmx     STAR  -0.0019956912923479522\n",
              "1152921504619435605    cmx     STAR -0.00018759545042438264\n",
              "  39628483705440899    cmx     STAR   -0.000245578117524253\n",
              "  39628488931545498    cmx     STAR  -0.0019956912923479522\n",
              "  39628483705439436    cmx     STAR  -0.0019956912923479522\n",
              "                ...    ...      ...                     ...\n",
              "           -1122457    sv3     STAR  -0.0019956912923479522\n",
              "           -1122523    sv3     STAR  -0.0019956912923479522\n",
              "           -1132435    sv3     STAR  -0.0019956912923479522\n",
              "           -1122432    sv3     STAR  -0.0019956912923479522\n",
              "  39628433243768263    sv3     STAR  -3.615243995015322e-05\n",
              "           -1122408    sv3     STAR  -0.0019956912923479522\n",
              "           -1122409    sv3     STAR  -0.0019956912923479522\n",
              "           -1122305    sv3     STAR  -0.0019956912923479522\n",
              " 616089190890733816    sv3     STAR  -0.0019956912923479522\n",
              "           -1193332    sv3     STAR  -0.0019956912923479522"
            ],
            "text/html": [
              "<div><i>Table length=1011010</i>\n",
              "<table id=\"table136068163889488\" class=\"table-striped table-bordered table-condensed\">\n",
              "<thead><tr><th>TARGETID</th><th>SURVEY</th><th>SPECTYPE</th><th>Z</th></tr></thead>\n",
              "<thead><tr><th>int64</th><th>str7</th><th>str6</th><th>float64</th></tr></thead>\n",
              "<tr><td>39628473202903539</td><td>cmx</td><td>STAR</td><td>-0.0019956912923479522</td></tr>\n",
              "<tr><td>1152921504619435527</td><td>cmx</td><td>STAR</td><td>-3.7560540650860466e-05</td></tr>\n",
              "<tr><td>39628473198711006</td><td>cmx</td><td>STAR</td><td>-6.607473910190775e-05</td></tr>\n",
              "<tr><td>1152921504619435582</td><td>cmx</td><td>STAR</td><td>9.833583812940401e-05</td></tr>\n",
              "<tr><td>39628473198711342</td><td>cmx</td><td>STAR</td><td>-0.0019956912923479522</td></tr>\n",
              "<tr><td>39628494145064337</td><td>cmx</td><td>STAR</td><td>-0.0019956912923479522</td></tr>\n",
              "<tr><td>1152921504619435605</td><td>cmx</td><td>STAR</td><td>-0.00018759545042438264</td></tr>\n",
              "<tr><td>39628483705440899</td><td>cmx</td><td>STAR</td><td>-0.000245578117524253</td></tr>\n",
              "<tr><td>39628488931545498</td><td>cmx</td><td>STAR</td><td>-0.0019956912923479522</td></tr>\n",
              "<tr><td>39628483705439436</td><td>cmx</td><td>STAR</td><td>-0.0019956912923479522</td></tr>\n",
              "<tr><td>...</td><td>...</td><td>...</td><td>...</td></tr>\n",
              "<tr><td>-1122457</td><td>sv3</td><td>STAR</td><td>-0.0019956912923479522</td></tr>\n",
              "<tr><td>-1122523</td><td>sv3</td><td>STAR</td><td>-0.0019956912923479522</td></tr>\n",
              "<tr><td>-1132435</td><td>sv3</td><td>STAR</td><td>-0.0019956912923479522</td></tr>\n",
              "<tr><td>-1122432</td><td>sv3</td><td>STAR</td><td>-0.0019956912923479522</td></tr>\n",
              "<tr><td>39628433243768263</td><td>sv3</td><td>STAR</td><td>-3.615243995015322e-05</td></tr>\n",
              "<tr><td>-1122408</td><td>sv3</td><td>STAR</td><td>-0.0019956912923479522</td></tr>\n",
              "<tr><td>-1122409</td><td>sv3</td><td>STAR</td><td>-0.0019956912923479522</td></tr>\n",
              "<tr><td>-1122305</td><td>sv3</td><td>STAR</td><td>-0.0019956912923479522</td></tr>\n",
              "<tr><td>616089190890733816</td><td>sv3</td><td>STAR</td><td>-0.0019956912923479522</td></tr>\n",
              "<tr><td>-1193332</td><td>sv3</td><td>STAR</td><td>-0.0019956912923479522</td></tr>\n",
              "</table></div>"
            ]
          },
          "metadata": {},
          "execution_count": 20
        }
      ]
    },
    {
      "cell_type": "code",
      "source": [
        "#Por los datos de table lenght observamos que hay 117771 datos de quásares en el sv1\n",
        "#y 1011010 datos de estrellas, pero comenzaremos con seleccionar 100 para las pruebas iniciales\n",
        "#50 de cuásares y 50 de estrellas"
      ],
      "metadata": {
        "id": "z9Dwu0rgblWH"
      },
      "id": "z9Dwu0rgblWH",
      "execution_count": null,
      "outputs": []
    },
    {
      "cell_type": "code",
      "source": [
        "#Comenzaré por hacer dos subconjuntos para probar el código, con 50 TragetIDs de cada tipo de objeto\n",
        "\n",
        "subdata1 = data1[0:50:1]\n",
        "subdata1"
      ],
      "metadata": {
        "colab": {
          "base_uri": "https://localhost:8080/",
          "height": 518
        },
        "id": "-nvRzVEVb2vW",
        "outputId": "bd9258cd-02d7-4d04-cc42-b3f3a6a008f2"
      },
      "id": "-nvRzVEVb2vW",
      "execution_count": 21,
      "outputs": [
        {
          "output_type": "execute_result",
          "data": {
            "text/plain": [
              "<Table length=50>\n",
              "      TARGETID      SURVEY SPECTYPE         Z         \n",
              "       int64         str7    str6        float64      \n",
              "------------------- ------ -------- ------------------\n",
              "  39628473202903445    cmx      QSO 1.0724836869842256\n",
              "  39628473202905021    cmx      QSO  2.628380234087188\n",
              "  39628478449979760    cmx      QSO 1.5284469839389512\n",
              "  39628478454170137    cmx      QSO  2.437912157749145\n",
              "1152921504619432614    cmx      QSO 1.1294203675694041\n",
              "  39628488931543273    cmx      QSO 0.5879885699941647\n",
              "  39628483705443044    cmx      QSO  3.641069952113342\n",
              "  39628488927348831    cmx      QSO  1.403102792557713\n",
              "  39628483705441129    cmx      QSO 1.9052059263390442\n",
              "  39628483705441118    cmx      QSO 1.1040875761179672\n",
              "                ...    ...      ...                ...\n",
              "  39628478445784328    cmx      QSO 1.1765302370123203\n",
              "  39628478441589730    cmx      QSO  1.624260091088677\n",
              "  39628483680272419    cmx      QSO   2.38820988427529\n",
              "  39628478441591047    cmx      QSO 2.6790577272422698\n",
              "1152921504619432748    cmx      QSO 0.2703330588201133\n",
              "1152921504619432969    cmx      QSO 1.8701040078884226\n",
              "  39628499337611615    cmx      QSO 2.1774521286667987\n",
              "  39628499341804867    cmx      QSO  2.233621599513663\n",
              "  39628499341805221    cmx      QSO 1.4775392091846626\n",
              " 616089246448485502    cmx      QSO 1.5966085207425658"
            ],
            "text/html": [
              "<div><i>Table length=50</i>\n",
              "<table id=\"table136068163889536\" class=\"table-striped table-bordered table-condensed\">\n",
              "<thead><tr><th>TARGETID</th><th>SURVEY</th><th>SPECTYPE</th><th>Z</th></tr></thead>\n",
              "<thead><tr><th>int64</th><th>str7</th><th>str6</th><th>float64</th></tr></thead>\n",
              "<tr><td>39628473202903445</td><td>cmx</td><td>QSO</td><td>1.0724836869842256</td></tr>\n",
              "<tr><td>39628473202905021</td><td>cmx</td><td>QSO</td><td>2.628380234087188</td></tr>\n",
              "<tr><td>39628478449979760</td><td>cmx</td><td>QSO</td><td>1.5284469839389512</td></tr>\n",
              "<tr><td>39628478454170137</td><td>cmx</td><td>QSO</td><td>2.437912157749145</td></tr>\n",
              "<tr><td>1152921504619432614</td><td>cmx</td><td>QSO</td><td>1.1294203675694041</td></tr>\n",
              "<tr><td>39628488931543273</td><td>cmx</td><td>QSO</td><td>0.5879885699941647</td></tr>\n",
              "<tr><td>39628483705443044</td><td>cmx</td><td>QSO</td><td>3.641069952113342</td></tr>\n",
              "<tr><td>39628488927348831</td><td>cmx</td><td>QSO</td><td>1.403102792557713</td></tr>\n",
              "<tr><td>39628483705441129</td><td>cmx</td><td>QSO</td><td>1.9052059263390442</td></tr>\n",
              "<tr><td>39628483705441118</td><td>cmx</td><td>QSO</td><td>1.1040875761179672</td></tr>\n",
              "<tr><td>...</td><td>...</td><td>...</td><td>...</td></tr>\n",
              "<tr><td>39628478445784328</td><td>cmx</td><td>QSO</td><td>1.1765302370123203</td></tr>\n",
              "<tr><td>39628478441589730</td><td>cmx</td><td>QSO</td><td>1.624260091088677</td></tr>\n",
              "<tr><td>39628483680272419</td><td>cmx</td><td>QSO</td><td>2.38820988427529</td></tr>\n",
              "<tr><td>39628478441591047</td><td>cmx</td><td>QSO</td><td>2.6790577272422698</td></tr>\n",
              "<tr><td>1152921504619432748</td><td>cmx</td><td>QSO</td><td>0.2703330588201133</td></tr>\n",
              "<tr><td>1152921504619432969</td><td>cmx</td><td>QSO</td><td>1.8701040078884226</td></tr>\n",
              "<tr><td>39628499337611615</td><td>cmx</td><td>QSO</td><td>2.1774521286667987</td></tr>\n",
              "<tr><td>39628499341804867</td><td>cmx</td><td>QSO</td><td>2.233621599513663</td></tr>\n",
              "<tr><td>39628499341805221</td><td>cmx</td><td>QSO</td><td>1.4775392091846626</td></tr>\n",
              "<tr><td>616089246448485502</td><td>cmx</td><td>QSO</td><td>1.5966085207425658</td></tr>\n",
              "</table></div>"
            ]
          },
          "metadata": {},
          "execution_count": 21
        }
      ]
    },
    {
      "cell_type": "code",
      "source": [
        "subdata2 = data2[1:51:1]\n",
        "subdata2"
      ],
      "metadata": {
        "colab": {
          "base_uri": "https://localhost:8080/",
          "height": 518
        },
        "id": "jSfM6nFCc5II",
        "outputId": "6f99c26c-ae70-42ef-8355-bb1e056c14b2"
      },
      "id": "jSfM6nFCc5II",
      "execution_count": 22,
      "outputs": [
        {
          "output_type": "execute_result",
          "data": {
            "text/plain": [
              "<Table length=50>\n",
              "      TARGETID      SURVEY SPECTYPE            Z           \n",
              "       int64         str7    str6           float64        \n",
              "------------------- ------ -------- -----------------------\n",
              "1152921504619435527    cmx     STAR -3.7560540650860466e-05\n",
              "  39628473198711006    cmx     STAR  -6.607473910190775e-05\n",
              "1152921504619435582    cmx     STAR   9.833583812940401e-05\n",
              "  39628473198711342    cmx     STAR  -0.0019956912923479522\n",
              "  39628494145064337    cmx     STAR  -0.0019956912923479522\n",
              "1152921504619435605    cmx     STAR -0.00018759545042438264\n",
              "  39628483705440899    cmx     STAR   -0.000245578117524253\n",
              "  39628488931545498    cmx     STAR  -0.0019956912923479522\n",
              "  39628483705439436    cmx     STAR  -0.0019956912923479522\n",
              " 616089236008862441    cmx     STAR  -0.0019956912923479522\n",
              "                ...    ...      ...                     ...\n",
              "  39628478466754582    cmx     STAR  -0.0019956912923479522\n",
              " 616089230770177066    cmx     STAR  -0.0019956912923479522\n",
              "  39628478466752887    cmx     STAR  -0.0019956912923479522\n",
              " 616089230774371345    cmx     STAR  -0.0019956912923479522\n",
              "1152921504619435482    cmx     STAR  -6.617572607549324e-05\n",
              "1152921504619435520    cmx     STAR    8.65998308804208e-05\n",
              " 616089230765982618    cmx     STAR  -0.0019956912923479522\n",
              "1152921504619435526    cmx     STAR  -0.0019956912923479522\n",
              "  39628483709633880    cmx     STAR  -0.0019956912923479522\n",
              "  39628478462559007    cmx     STAR   0.0002247530604051294"
            ],
            "text/html": [
              "<div><i>Table length=50</i>\n",
              "<table id=\"table136068163887328\" class=\"table-striped table-bordered table-condensed\">\n",
              "<thead><tr><th>TARGETID</th><th>SURVEY</th><th>SPECTYPE</th><th>Z</th></tr></thead>\n",
              "<thead><tr><th>int64</th><th>str7</th><th>str6</th><th>float64</th></tr></thead>\n",
              "<tr><td>1152921504619435527</td><td>cmx</td><td>STAR</td><td>-3.7560540650860466e-05</td></tr>\n",
              "<tr><td>39628473198711006</td><td>cmx</td><td>STAR</td><td>-6.607473910190775e-05</td></tr>\n",
              "<tr><td>1152921504619435582</td><td>cmx</td><td>STAR</td><td>9.833583812940401e-05</td></tr>\n",
              "<tr><td>39628473198711342</td><td>cmx</td><td>STAR</td><td>-0.0019956912923479522</td></tr>\n",
              "<tr><td>39628494145064337</td><td>cmx</td><td>STAR</td><td>-0.0019956912923479522</td></tr>\n",
              "<tr><td>1152921504619435605</td><td>cmx</td><td>STAR</td><td>-0.00018759545042438264</td></tr>\n",
              "<tr><td>39628483705440899</td><td>cmx</td><td>STAR</td><td>-0.000245578117524253</td></tr>\n",
              "<tr><td>39628488931545498</td><td>cmx</td><td>STAR</td><td>-0.0019956912923479522</td></tr>\n",
              "<tr><td>39628483705439436</td><td>cmx</td><td>STAR</td><td>-0.0019956912923479522</td></tr>\n",
              "<tr><td>616089236008862441</td><td>cmx</td><td>STAR</td><td>-0.0019956912923479522</td></tr>\n",
              "<tr><td>...</td><td>...</td><td>...</td><td>...</td></tr>\n",
              "<tr><td>39628478466754582</td><td>cmx</td><td>STAR</td><td>-0.0019956912923479522</td></tr>\n",
              "<tr><td>616089230770177066</td><td>cmx</td><td>STAR</td><td>-0.0019956912923479522</td></tr>\n",
              "<tr><td>39628478466752887</td><td>cmx</td><td>STAR</td><td>-0.0019956912923479522</td></tr>\n",
              "<tr><td>616089230774371345</td><td>cmx</td><td>STAR</td><td>-0.0019956912923479522</td></tr>\n",
              "<tr><td>1152921504619435482</td><td>cmx</td><td>STAR</td><td>-6.617572607549324e-05</td></tr>\n",
              "<tr><td>1152921504619435520</td><td>cmx</td><td>STAR</td><td>8.65998308804208e-05</td></tr>\n",
              "<tr><td>616089230765982618</td><td>cmx</td><td>STAR</td><td>-0.0019956912923479522</td></tr>\n",
              "<tr><td>1152921504619435526</td><td>cmx</td><td>STAR</td><td>-0.0019956912923479522</td></tr>\n",
              "<tr><td>39628483709633880</td><td>cmx</td><td>STAR</td><td>-0.0019956912923479522</td></tr>\n",
              "<tr><td>39628478462559007</td><td>cmx</td><td>STAR</td><td>0.0002247530604051294</td></tr>\n",
              "</table></div>"
            ]
          },
          "metadata": {},
          "execution_count": 22
        }
      ]
    },
    {
      "cell_type": "code",
      "source": [
        "#Creo un sólo set de datos con los 100 datos juntos\n",
        "\n",
        "subdata = vstack((subdata1, subdata2))\n",
        "subdata"
      ],
      "metadata": {
        "colab": {
          "base_uri": "https://localhost:8080/",
          "height": 518
        },
        "id": "psWrlUXTdjEG",
        "outputId": "4b125919-a936-4d32-e910-1b4f903e4e47"
      },
      "id": "psWrlUXTdjEG",
      "execution_count": 23,
      "outputs": [
        {
          "output_type": "execute_result",
          "data": {
            "text/plain": [
              "<Table length=100>\n",
              "      TARGETID      SURVEY SPECTYPE           Z           \n",
              "       int64         str7    str6          float64        \n",
              "------------------- ------ -------- ----------------------\n",
              "  39628473202903445    cmx      QSO     1.0724836869842256\n",
              "  39628473202905021    cmx      QSO      2.628380234087188\n",
              "  39628478449979760    cmx      QSO     1.5284469839389512\n",
              "  39628478454170137    cmx      QSO      2.437912157749145\n",
              "1152921504619432614    cmx      QSO     1.1294203675694041\n",
              "  39628488931543273    cmx      QSO     0.5879885699941647\n",
              "  39628483705443044    cmx      QSO      3.641069952113342\n",
              "  39628488927348831    cmx      QSO      1.403102792557713\n",
              "  39628483705441129    cmx      QSO     1.9052059263390442\n",
              "  39628483705441118    cmx      QSO     1.1040875761179672\n",
              "                ...    ...      ...                    ...\n",
              "  39628478466754582    cmx     STAR -0.0019956912923479522\n",
              " 616089230770177066    cmx     STAR -0.0019956912923479522\n",
              "  39628478466752887    cmx     STAR -0.0019956912923479522\n",
              " 616089230774371345    cmx     STAR -0.0019956912923479522\n",
              "1152921504619435482    cmx     STAR -6.617572607549324e-05\n",
              "1152921504619435520    cmx     STAR   8.65998308804208e-05\n",
              " 616089230765982618    cmx     STAR -0.0019956912923479522\n",
              "1152921504619435526    cmx     STAR -0.0019956912923479522\n",
              "  39628483709633880    cmx     STAR -0.0019956912923479522\n",
              "  39628478462559007    cmx     STAR  0.0002247530604051294"
            ],
            "text/html": [
              "<div><i>Table length=100</i>\n",
              "<table id=\"table136068163889056\" class=\"table-striped table-bordered table-condensed\">\n",
              "<thead><tr><th>TARGETID</th><th>SURVEY</th><th>SPECTYPE</th><th>Z</th></tr></thead>\n",
              "<thead><tr><th>int64</th><th>str7</th><th>str6</th><th>float64</th></tr></thead>\n",
              "<tr><td>39628473202903445</td><td>cmx</td><td>QSO</td><td>1.0724836869842256</td></tr>\n",
              "<tr><td>39628473202905021</td><td>cmx</td><td>QSO</td><td>2.628380234087188</td></tr>\n",
              "<tr><td>39628478449979760</td><td>cmx</td><td>QSO</td><td>1.5284469839389512</td></tr>\n",
              "<tr><td>39628478454170137</td><td>cmx</td><td>QSO</td><td>2.437912157749145</td></tr>\n",
              "<tr><td>1152921504619432614</td><td>cmx</td><td>QSO</td><td>1.1294203675694041</td></tr>\n",
              "<tr><td>39628488931543273</td><td>cmx</td><td>QSO</td><td>0.5879885699941647</td></tr>\n",
              "<tr><td>39628483705443044</td><td>cmx</td><td>QSO</td><td>3.641069952113342</td></tr>\n",
              "<tr><td>39628488927348831</td><td>cmx</td><td>QSO</td><td>1.403102792557713</td></tr>\n",
              "<tr><td>39628483705441129</td><td>cmx</td><td>QSO</td><td>1.9052059263390442</td></tr>\n",
              "<tr><td>39628483705441118</td><td>cmx</td><td>QSO</td><td>1.1040875761179672</td></tr>\n",
              "<tr><td>...</td><td>...</td><td>...</td><td>...</td></tr>\n",
              "<tr><td>39628478466754582</td><td>cmx</td><td>STAR</td><td>-0.0019956912923479522</td></tr>\n",
              "<tr><td>616089230770177066</td><td>cmx</td><td>STAR</td><td>-0.0019956912923479522</td></tr>\n",
              "<tr><td>39628478466752887</td><td>cmx</td><td>STAR</td><td>-0.0019956912923479522</td></tr>\n",
              "<tr><td>616089230774371345</td><td>cmx</td><td>STAR</td><td>-0.0019956912923479522</td></tr>\n",
              "<tr><td>1152921504619435482</td><td>cmx</td><td>STAR</td><td>-6.617572607549324e-05</td></tr>\n",
              "<tr><td>1152921504619435520</td><td>cmx</td><td>STAR</td><td>8.65998308804208e-05</td></tr>\n",
              "<tr><td>616089230765982618</td><td>cmx</td><td>STAR</td><td>-0.0019956912923479522</td></tr>\n",
              "<tr><td>1152921504619435526</td><td>cmx</td><td>STAR</td><td>-0.0019956912923479522</td></tr>\n",
              "<tr><td>39628483709633880</td><td>cmx</td><td>STAR</td><td>-0.0019956912923479522</td></tr>\n",
              "<tr><td>39628478462559007</td><td>cmx</td><td>STAR</td><td>0.0002247530604051294</td></tr>\n",
              "</table></div>"
            ]
          },
          "metadata": {},
          "execution_count": 23
        }
      ]
    },
    {
      "cell_type": "code",
      "source": [
        "#Lo siguiente que haré es descargar los datos de cada uno de estos objetos de la siguiente manera\n",
        "\n",
        "!pip install sparclclient"
      ],
      "metadata": {
        "colab": {
          "base_uri": "https://localhost:8080/"
        },
        "id": "d1GNtPY3dHn9",
        "outputId": "06579a41-e943-4096-fa78-0b416e824073"
      },
      "id": "d1GNtPY3dHn9",
      "execution_count": 24,
      "outputs": [
        {
          "output_type": "stream",
          "name": "stdout",
          "text": [
            "Collecting sparclclient\n",
            "  Downloading sparclclient-1.2.0-py3-none-any.whl (31 kB)\n",
            "Requirement already satisfied: requests==2.31.0 in /usr/local/lib/python3.10/dist-packages (from sparclclient) (2.31.0)\n",
            "Requirement already satisfied: numpy in /usr/local/lib/python3.10/dist-packages (from sparclclient) (1.23.5)\n",
            "Collecting spectres (from sparclclient)\n",
            "  Downloading spectres-2.2.0-py2.py3-none-any.whl (19 kB)\n",
            "Requirement already satisfied: charset-normalizer<4,>=2 in /usr/local/lib/python3.10/dist-packages (from requests==2.31.0->sparclclient) (3.3.2)\n",
            "Requirement already satisfied: idna<4,>=2.5 in /usr/local/lib/python3.10/dist-packages (from requests==2.31.0->sparclclient) (3.6)\n",
            "Requirement already satisfied: urllib3<3,>=1.21.1 in /usr/local/lib/python3.10/dist-packages (from requests==2.31.0->sparclclient) (2.0.7)\n",
            "Requirement already satisfied: certifi>=2017.4.17 in /usr/local/lib/python3.10/dist-packages (from requests==2.31.0->sparclclient) (2023.11.17)\n",
            "Installing collected packages: spectres, sparclclient\n",
            "Successfully installed sparclclient-1.2.0 spectres-2.2.0\n"
          ]
        }
      ]
    },
    {
      "cell_type": "code",
      "source": [
        "from sparcl.client import SparclClient"
      ],
      "metadata": {
        "id": "JGkISqf1eWKV"
      },
      "id": "JGkISqf1eWKV",
      "execution_count": 25,
      "outputs": []
    },
    {
      "cell_type": "code",
      "source": [
        "#Probaré el siguiente código para una estrella\n",
        "\n",
        "client = SparclClient()\n",
        "\n",
        "spectra = client.retrieve_by_specid([int(subdata[\"TARGETID\"][50]),],\n",
        "    include=['wavelength', 'flux'])\n",
        "spec = spectra.records[0]"
      ],
      "metadata": {
        "id": "shJa985jdXJ7"
      },
      "id": "shJa985jdXJ7",
      "execution_count": 26,
      "outputs": []
    },
    {
      "cell_type": "code",
      "source": [
        "#Grafico este espectro\n",
        "plt.plot(spec.wavelength, spec.flux, 'black')\n",
        "plt.xlabel('Wavelength')\n",
        "plt.ylabel('Flux')\n",
        "plt.title('Spectrum of a star')\n",
        "plt.show()"
      ],
      "metadata": {
        "colab": {
          "base_uri": "https://localhost:8080/",
          "height": 472
        },
        "id": "WC8sUM6cfsm_",
        "outputId": "b255de90-57c5-4f60-e53f-d86b13b694d4"
      },
      "id": "WC8sUM6cfsm_",
      "execution_count": 27,
      "outputs": [
        {
          "output_type": "display_data",
          "data": {
            "text/plain": [
              "<Figure size 640x480 with 1 Axes>"
            ],
            "image/png": "[encoded data removed]"
          },
          "metadata": {}
        }
      ]
    },
    {
      "cell_type": "code",
      "source": [
        "#Veamos ahora el de un quasar\n",
        "\n",
        "client = SparclClient()\n",
        "\n",
        "spectra = client.retrieve_by_specid([int(subdata[\"TARGETID\"][0]),],\n",
        "    include=['wavelength', 'flux'])\n",
        "spec = spectra.records[0]"
      ],
      "metadata": {
        "id": "pif-mJHNhCMS"
      },
      "id": "pif-mJHNhCMS",
      "execution_count": 28,
      "outputs": []
    },
    {
      "cell_type": "code",
      "source": [
        "plt.plot(spec.wavelength, spec.flux, 'black')\n",
        "plt.xlabel('Wavelength')\n",
        "plt.ylabel('Flux')\n",
        "plt.title('Spectrum of a quasar')\n",
        "plt.show()"
      ],
      "metadata": {
        "colab": {
          "base_uri": "https://localhost:8080/",
          "height": 472
        },
        "id": "XFXKPC8HhHm1",
        "outputId": "e9307554-d13c-487b-8a6b-d1f685e1b85d"
      },
      "id": "XFXKPC8HhHm1",
      "execution_count": 30,
      "outputs": [
        {
          "output_type": "display_data",
          "data": {
            "text/plain": [
              "<Figure size 640x480 with 1 Axes>"
            ],
            "image/png": "[encoded data removed]"
          },
          "metadata": {}
        }
      ]
    },
    {
      "cell_type": "code",
      "source": [
        "#En este cuadro de código asigno solo la información del flujo del espectro 0 de la lista de 100 espectros\n",
        "#Para poder hacer el vstack y descargar la información (flujo) de los otros 99\n",
        "\n",
        "specs = spec['flux']\n",
        "specs.shape"
      ],
      "metadata": {
        "colab": {
          "base_uri": "https://localhost:8080/"
        },
        "id": "Ucm4qZZyk12H",
        "outputId": "bd7c5ee3-a351-4819-ca35-c328b7a9b260"
      },
      "id": "Ucm4qZZyk12H",
      "execution_count": 31,
      "outputs": [
        {
          "output_type": "execute_result",
          "data": {
            "text/plain": [
              "(7781,)"
            ]
          },
          "metadata": {},
          "execution_count": 31
        }
      ]
    },
    {
      "cell_type": "code",
      "source": [
        "#En este cuadro creo un array donde guardaré los TARGETID de los espectros\n",
        "\n",
        "y = np.zeros(100)\n",
        "y[0] = int(subdata['TARGETID'][0])"
      ],
      "metadata": {
        "id": "0q-0enkJ2lwu"
      },
      "id": "0q-0enkJ2lwu",
      "execution_count": 32,
      "outputs": []
    },
    {
      "cell_type": "code",
      "source": [
        "#Ahora hago este mismo procedimiento pero para todos los 100 objetos\n",
        "\n",
        "client = SparclClient()\n",
        "for i in range(len(subdata)-1):\n",
        "  try:\n",
        "    spectra = client.retrieve_by_specid([int(subdata[\"TARGETID\"][i+1]),], #Comienzo en 1 debido a que el tid 0 lo usé para la var. specs1\n",
        "        include=['wavelength', 'flux'])\n",
        "    y[i+1] = int(subdata['TARGETID'][i+1])\n",
        "    spec = spectra.records[0]\n",
        "    specs = np.vstack((specs,spec['flux'].T))\n",
        "  except IndexError:\n",
        "    y[i+1] = 0\n",
        "    pass"
      ],
      "metadata": {
        "id": "yPy7K4zhkLtl"
      },
      "id": "yPy7K4zhkLtl",
      "execution_count": 34,
      "outputs": []
    },
    {
      "cell_type": "code",
      "source": [
        "specs.shape, y.shape #Ahora tengo el espectro de 88 objetos (12 objetos arrojaron error) y sus targetid en la variable y"
      ],
      "metadata": {
        "colab": {
          "base_uri": "https://localhost:8080/"
        },
        "id": "daeM11EOqp3E",
        "outputId": "6bafa4e5-494f-4cab-850f-625c05d599fe"
      },
      "id": "daeM11EOqp3E",
      "execution_count": 35,
      "outputs": [
        {
          "output_type": "execute_result",
          "data": {
            "text/plain": [
              "((88, 7781), (100,))"
            ]
          },
          "metadata": {},
          "execution_count": 35
        }
      ]
    },
    {
      "cell_type": "code",
      "source": [
        "#En la variable y, guardamos con 0 los targetid de los espectros con error, para eliminarlos en el sig. cuadro de código"
      ],
      "metadata": {
        "id": "LGL0LYWftBw-"
      },
      "id": "LGL0LYWftBw-",
      "execution_count": 37,
      "outputs": []
    },
    {
      "cell_type": "code",
      "source": [
        "#Eliminamos los ceros en la variable y, la cual guardó los tids de cada espectro\n",
        "\n",
        "for i in range(len(y)):\n",
        "  if y[i]==0:\n",
        "    y = np.delete(y,i, 0)"
      ],
      "metadata": {
        "colab": {
          "base_uri": "https://localhost:8080/",
          "height": 227
        },
        "id": "VKn-9xodObuG",
        "outputId": "e35f8173-d73a-432f-87a4-11ae302925c2"
      },
      "id": "VKn-9xodObuG",
      "execution_count": 40,
      "outputs": [
        {
          "output_type": "error",
          "ename": "IndexError",
          "evalue": "ignored",
          "traceback": [
            "\u001b[0;31m---------------------------------------------------------------------------\u001b[0m",
            "\u001b[0;31mIndexError\u001b[0m                                Traceback (most recent call last)",
            "\u001b[0;32m<ipython-input-40-e42d5331c4ac>\u001b[0m in \u001b[0;36m<cell line: 3>\u001b[0;34m()\u001b[0m\n\u001b[1;32m      2\u001b[0m \u001b[0;34m\u001b[0m\u001b[0m\n\u001b[1;32m      3\u001b[0m \u001b[0;32mfor\u001b[0m \u001b[0mi\u001b[0m \u001b[0;32min\u001b[0m \u001b[0mrange\u001b[0m\u001b[0;34m(\u001b[0m\u001b[0mlen\u001b[0m\u001b[0;34m(\u001b[0m\u001b[0my\u001b[0m\u001b[0;34m)\u001b[0m\u001b[0;34m)\u001b[0m\u001b[0;34m:\u001b[0m\u001b[0;34m\u001b[0m\u001b[0;34m\u001b[0m\u001b[0m\n\u001b[0;32m----> 4\u001b[0;31m   \u001b[0;32mif\u001b[0m \u001b[0my\u001b[0m\u001b[0;34m[\u001b[0m\u001b[0mi\u001b[0m\u001b[0;34m]\u001b[0m\u001b[0;34m==\u001b[0m\u001b[0;36m0\u001b[0m\u001b[0;34m:\u001b[0m\u001b[0;34m\u001b[0m\u001b[0;34m\u001b[0m\u001b[0m\n\u001b[0m\u001b[1;32m      5\u001b[0m     \u001b[0my\u001b[0m \u001b[0;34m=\u001b[0m \u001b[0mnp\u001b[0m\u001b[0;34m.\u001b[0m\u001b[0mdelete\u001b[0m\u001b[0;34m(\u001b[0m\u001b[0my\u001b[0m\u001b[0;34m,\u001b[0m\u001b[0mi\u001b[0m\u001b[0;34m,\u001b[0m \u001b[0;36m0\u001b[0m\u001b[0;34m)\u001b[0m\u001b[0;34m\u001b[0m\u001b[0;34m\u001b[0m\u001b[0m\n",
            "\u001b[0;31mIndexError\u001b[0m: index 88 is out of bounds for axis 0 with size 88"
          ]
        }
      ]
    },
    {
      "cell_type": "code",
      "source": [
        "y.shape #Al eliminar los ceros este arreglo obtenemos el arreglo sin los targetids que tenían algún error"
      ],
      "metadata": {
        "colab": {
          "base_uri": "https://localhost:8080/"
        },
        "id": "p3oSGTJEP_E9",
        "outputId": "3d1f6de6-8e99-4abb-8496-95fe890489a3"
      },
      "id": "p3oSGTJEP_E9",
      "execution_count": 85,
      "outputs": [
        {
          "output_type": "execute_result",
          "data": {
            "text/plain": [
              "(88,)"
            ]
          },
          "metadata": {},
          "execution_count": 85
        }
      ]
    },
    {
      "cell_type": "code",
      "source": [
        "#aquí corroboré que no existieran ceros en el arreglo y\n",
        "#y"
      ],
      "metadata": {
        "colab": {
          "base_uri": "https://localhost:8080/"
        },
        "id": "uFmZC2O4RLRt",
        "outputId": "af2f6f3a-0ae2-4295-8b7d-b15e139e5816"
      },
      "id": "uFmZC2O4RLRt",
      "execution_count": 42,
      "outputs": [
        {
          "output_type": "execute_result",
          "data": {
            "text/plain": [
              "array([3.96284732e+16, 3.96284732e+16, 3.96284784e+16, 3.96284785e+16,\n",
              "       1.15292150e+18, 3.96284889e+16, 3.96284837e+16, 3.96284889e+16,\n",
              "       3.96284837e+16, 3.96284837e+16, 3.96284837e+16, 3.96284889e+16,\n",
              "       3.96284889e+16, 3.96284837e+16, 1.15292150e+18, 3.96284889e+16,\n",
              "       3.96284941e+16, 3.96284837e+16, 3.96284785e+16, 3.96284785e+16,\n",
              "       3.96284785e+16, 3.96284785e+16, 3.96284785e+16, 3.96284732e+16,\n",
              "       3.96284785e+16, 3.96284785e+16, 3.96284889e+16, 3.96284785e+16,\n",
              "       1.15292150e+18, 3.96284837e+16, 3.96284785e+16, 3.96284732e+16,\n",
              "       3.96284837e+16, 3.96284785e+16, 3.96284837e+16, 3.96284837e+16,\n",
              "       1.15292150e+18, 1.15292150e+18, 3.96284784e+16, 3.96284784e+16,\n",
              "       3.96284784e+16, 3.96284837e+16, 3.96284784e+16, 1.15292150e+18,\n",
              "       1.15292150e+18, 3.96284993e+16, 3.96284993e+16, 3.96284993e+16,\n",
              "       1.15292150e+18, 3.96284732e+16, 1.15292150e+18, 3.96284732e+16,\n",
              "       3.96284941e+16, 1.15292150e+18, 3.96284837e+16, 3.96284889e+16,\n",
              "       3.96284837e+16, 1.15292150e+18, 3.96284785e+16, 3.96284837e+16,\n",
              "       3.96284837e+16, 3.96284837e+16, 3.96284889e+16, 3.96284785e+16,\n",
              "       1.15292150e+18, 3.96284837e+16, 3.96284837e+16, 3.96284837e+16,\n",
              "       3.96284837e+16, 3.96284837e+16, 3.96284889e+16, 1.15292150e+18,\n",
              "       3.96284889e+16, 3.96284837e+16, 3.96284889e+16, 3.96284837e+16,\n",
              "       1.15292150e+18, 3.96284889e+16, 3.96284889e+16, 3.96284889e+16,\n",
              "       3.96284889e+16, 3.96284785e+16, 3.96284785e+16, 1.15292150e+18,\n",
              "       1.15292150e+18, 1.15292150e+18, 3.96284837e+16, 3.96284785e+16])"
            ]
          },
          "metadata": {},
          "execution_count": 42
        }
      ]
    },
    {
      "cell_type": "code",
      "source": [
        "plt.plot(spec.wavelength,specs[10], 'black') #Grafico uno de los espectros guardados en la lista specs para corroborar\n",
        "#que se guardaron correctamente, en este caso imprimí el 10 solo por aleatoriedad\n",
        "plt.xlabel('Wavelength')\n",
        "plt.ylabel('Flux')\n",
        "plt.title('Spectrum 10 of the train set')"
      ],
      "metadata": {
        "colab": {
          "base_uri": "https://localhost:8080/",
          "height": 489
        },
        "id": "WhQ50Y_K3vDj",
        "outputId": "3207fd26-eef9-4761-e0bd-a386a47e010d"
      },
      "id": "WhQ50Y_K3vDj",
      "execution_count": 43,
      "outputs": [
        {
          "output_type": "execute_result",
          "data": {
            "text/plain": [
              "Text(0.5, 1.0, 'Spectrum 10 of the train set')"
            ]
          },
          "metadata": {},
          "execution_count": 43
        },
        {
          "output_type": "display_data",
          "data": {
            "text/plain": [
              "<Figure size 640x480 with 1 Axes>"
            ],
            "image/png": "[encoded data removed]"
          },
          "metadata": {}
        }
      ]
    },
    {
      "cell_type": "code",
      "source": [
        "#Ahora tengo datos de 88 objetos, y sus 88 targetids\n",
        "specs.shape, y.shape"
      ],
      "metadata": {
        "colab": {
          "base_uri": "https://localhost:8080/"
        },
        "id": "x7_TuNz54yL9",
        "outputId": "7a24bc93-c1cf-4211-cced-6aec4064fefc"
      },
      "id": "x7_TuNz54yL9",
      "execution_count": 45,
      "outputs": [
        {
          "output_type": "execute_result",
          "data": {
            "text/plain": [
              "((88, 7781), (88,))"
            ]
          },
          "metadata": {},
          "execution_count": 45
        }
      ]
    },
    {
      "cell_type": "code",
      "source": [
        "#Asigno el valor 0 a los targetid correspondientes a cuasares y el valor 1 a los de estrellas, obteniendo así el conjunto de prueba\n",
        "\n",
        "for i in range(len(y)):\n",
        "  if subdata['SPECTYPE'][i+1] == 'QSO':\n",
        "    y[i] = int(0)\n",
        "  if subdata['SPECTYPE'][i+1] == 'STAR':\n",
        "    y[i] = int(1)\n",
        "\n",
        "#en la línea de abajo corroboré que se asignaran correctamente\n",
        "#y"
      ],
      "metadata": {
        "colab": {
          "base_uri": "https://localhost:8080/"
        },
        "id": "7VSdRx7A6kZK",
        "outputId": "1fe6c08d-3658-40d7-b2a3-49a07f4ec936"
      },
      "id": "7VSdRx7A6kZK",
      "execution_count": 46,
      "outputs": [
        {
          "output_type": "execute_result",
          "data": {
            "text/plain": [
              "array([0., 0., 0., 0., 0., 0., 0., 0., 0., 0., 0., 0., 0., 0., 0., 0., 0.,\n",
              "       0., 0., 0., 0., 0., 0., 0., 0., 0., 0., 0., 0., 0., 0., 0., 0., 0.,\n",
              "       0., 0., 0., 0., 0., 0., 0., 0., 0., 0., 0., 0., 0., 0., 0., 1., 1.,\n",
              "       1., 1., 1., 1., 1., 1., 1., 1., 1., 1., 1., 1., 1., 1., 1., 1., 1.,\n",
              "       1., 1., 1., 1., 1., 1., 1., 1., 1., 1., 1., 1., 1., 1., 1., 1., 1.,\n",
              "       1., 1., 1.])"
            ]
          },
          "metadata": {},
          "execution_count": 46
        }
      ]
    },
    {
      "cell_type": "code",
      "source": [
        "#Ahora y es nuestro conjunto de prueba, con 0 si el elmento es un cuásar, y 1 si es una estrella"
      ],
      "metadata": {
        "id": "StwHhNkp7TN7"
      },
      "id": "StwHhNkp7TN7",
      "execution_count": 47,
      "outputs": []
    },
    {
      "cell_type": "code",
      "source": [
        "import glob\n",
        "import copy\n",
        "import h5py\n",
        "import scipy\n",
        "from sklearn.linear_model import LogisticRegression\n",
        "from sklearn import preprocessing\n",
        "%matplotlib inline"
      ],
      "metadata": {
        "id": "t_0-73aH7bZ1"
      },
      "id": "t_0-73aH7bZ1",
      "execution_count": 48,
      "outputs": []
    },
    {
      "cell_type": "code",
      "source": [
        "#Nuestros datos ya están de la forma (n features, n samples), solo hay que normalizarlos\n",
        "\n",
        "#Renombro los datos solo para tener una notación más familiar y fácil de recordar (notación que usamos en los ejercicios durante el curso)\n",
        "X_flatten = specs.T\n",
        "Y = y\n",
        "\n",
        "scaler=preprocessing.StandardScaler().fit(X_flatten)\n",
        "X_scaled = scaler.transform(X_flatten)\n",
        "X_scaled.shape #corroboro que los datos estén de la forma (n features, n samples)"
      ],
      "metadata": {
        "colab": {
          "base_uri": "https://localhost:8080/"
        },
        "id": "8Yb9GYZF80Dk",
        "outputId": "8d00b76d-981a-4038-a360-1d0b6e33d0f8"
      },
      "id": "8Yb9GYZF80Dk",
      "execution_count": 49,
      "outputs": [
        {
          "output_type": "execute_result",
          "data": {
            "text/plain": [
              "(7781, 88)"
            ]
          },
          "metadata": {},
          "execution_count": 49
        }
      ]
    },
    {
      "cell_type": "code",
      "source": [
        "#Preparamos los conjuntos de entrenamiento y de prueba\n",
        "\n",
        "from sklearn.model_selection import train_test_split\n",
        "x_train, x_test, y_train, y_test = train_test_split(X_scaled.T,Y, test_size=0.10, random_state=42,shuffle= True) #Hago shuffle = True para que no estén los datos sesgados (50,50) en ese orden"
      ],
      "metadata": {
        "id": "YuQNCA0W9wXE"
      },
      "id": "YuQNCA0W9wXE",
      "execution_count": 51,
      "outputs": []
    },
    {
      "cell_type": "code",
      "source": [
        "x_train.shape,x_test.shape #Las dimensiones son correctas: (nsamples,nfeatures)"
      ],
      "metadata": {
        "colab": {
          "base_uri": "https://localhost:8080/"
        },
        "id": "iIV9VBzs-Dd3",
        "outputId": "06a83709-e125-4e9a-ad21-62cde49c985d"
      },
      "id": "iIV9VBzs-Dd3",
      "execution_count": 52,
      "outputs": [
        {
          "output_type": "execute_result",
          "data": {
            "text/plain": [
              "((70, 7781), (18, 7781))"
            ]
          },
          "metadata": {},
          "execution_count": 52
        }
      ]
    },
    {
      "cell_type": "code",
      "source": [
        "#Importamos librerías de tf\n",
        "\n",
        "import tensorflow as tf\n",
        "from tensorflow.keras.models import Sequential\n",
        "from tensorflow.keras.layers import Dense,Dropout"
      ],
      "metadata": {
        "id": "LsDzreyu-O6d"
      },
      "id": "LsDzreyu-O6d",
      "execution_count": 53,
      "outputs": []
    },
    {
      "cell_type": "code",
      "source": [
        "tf.random.set_seed(1234) #Pruebo un modelo, el más simple para verificar que los datos están bien preparados, una sola neurona con función de acitvación sigmoide y densa, es decir que usamos todos los datos de entrada en la neurona.\n",
        "model = Sequential(\n",
        "    [\n",
        "        tf.keras.Input(shape=(x_train.shape[1],)),\n",
        "        Dense(1, activation='sigmoid', name = 'layer1'),\n",
        "     ]\n",
        ")"
      ],
      "metadata": {
        "id": "oMZCyn4v-V2U"
      },
      "id": "oMZCyn4v-V2U",
      "execution_count": null,
      "outputs": []
    },
    {
      "cell_type": "code",
      "source": [
        "model.summary()"
      ],
      "metadata": {
        "colab": {
          "base_uri": "https://localhost:8080/"
        },
        "id": "Uezyh2M--bJT",
        "outputId": "95022ce7-f7ba-4529-94d2-edee6c3cdad0"
      },
      "id": "Uezyh2M--bJT",
      "execution_count": null,
      "outputs": [
        {
          "output_type": "stream",
          "name": "stdout",
          "text": [
            "Model: \"sequential\"\n",
            "_________________________________________________________________\n",
            " Layer (type)                Output Shape              Param #   \n",
            "=================================================================\n",
            " layer1 (Dense)              (None, 1)                 7782      \n",
            "                                                                 \n",
            "=================================================================\n",
            "Total params: 7782 (30.40 KB)\n",
            "Trainable params: 7782 (30.40 KB)\n",
            "Non-trainable params: 0 (0.00 Byte)\n",
            "_________________________________________________________________\n"
          ]
        }
      ]
    },
    {
      "cell_type": "code",
      "source": [
        "model.compile(\n",
        "    loss = tf.keras.losses.BinaryCrossentropy(),\n",
        "    optimizer='sgd',\n",
        "    metrics=[tf.keras.metrics.BinaryAccuracy()]\n",
        ")"
      ],
      "metadata": {
        "id": "IShvRJUa-flY"
      },
      "id": "IShvRJUa-flY",
      "execution_count": null,
      "outputs": []
    },
    {
      "cell_type": "code",
      "source": [
        "model.fit(\n",
        "    x_train,y_train,\n",
        "    batch_size=8, #Uso un batch de 8 y 8 épocas para que coincida con el tamaño del set (88 datos)\n",
        "    epochs=11,\n",
        ")\n",
        "\n",
        "y_pred_test = model.predict(x_test)\n",
        "y_pred_test = (y_pred_test >= 0.5).astype(int)\n",
        "print(\"test accuracy: {} %\".format(100 - np.mean(np.abs(y_pred_test - y_test)) * 100))"
      ],
      "metadata": {
        "colab": {
          "base_uri": "https://localhost:8080/"
        },
        "id": "bKEg8apy-opz",
        "outputId": "df994f63-a47b-47de-805b-8b2af5ed8d38"
      },
      "id": "bKEg8apy-opz",
      "execution_count": null,
      "outputs": [
        {
          "output_type": "stream",
          "name": "stdout",
          "text": [
            "Epoch 1/11\n",
            "10/10 [==============================] - 1s 4ms/step - loss: 1.0121 - binary_accuracy: 0.6709\n",
            "Epoch 2/11\n",
            "10/10 [==============================] - 0s 4ms/step - loss: 0.3095 - binary_accuracy: 0.9494\n",
            "Epoch 3/11\n",
            "10/10 [==============================] - 0s 3ms/step - loss: 0.3161 - binary_accuracy: 0.9620\n",
            "Epoch 4/11\n",
            "10/10 [==============================] - 0s 4ms/step - loss: 0.1947 - binary_accuracy: 1.0000\n",
            "Epoch 5/11\n",
            "10/10 [==============================] - 0s 4ms/step - loss: 0.4284 - binary_accuracy: 0.9241\n",
            "Epoch 6/11\n",
            "10/10 [==============================] - 0s 3ms/step - loss: 0.2361 - binary_accuracy: 0.9747\n",
            "Epoch 7/11\n",
            "10/10 [==============================] - 0s 3ms/step - loss: 0.2302 - binary_accuracy: 0.9494\n",
            "Epoch 8/11\n",
            "10/10 [==============================] - 0s 4ms/step - loss: 0.1728 - binary_accuracy: 1.0000\n",
            "Epoch 9/11\n",
            "10/10 [==============================] - 0s 3ms/step - loss: 0.1815 - binary_accuracy: 0.9873\n",
            "Epoch 10/11\n",
            "10/10 [==============================] - 0s 3ms/step - loss: 0.1699 - binary_accuracy: 1.0000\n",
            "Epoch 11/11\n",
            "10/10 [==============================] - 0s 3ms/step - loss: 0.1679 - binary_accuracy: 1.0000\n",
            "1/1 [==============================] - 0s 114ms/step\n",
            "test accuracy: 53.086419753086425 %\n"
          ]
        }
      ]
    },
    {
      "cell_type": "markdown",
      "source": [
        "Para esta primera prueba que solo era para corroborar todo el procesamiento de los datos, observamos que el test da un accuracy de 53%, pero es un data set muy pequeño, lo siguiente que haré será probar un par de arquitecturas más para analizar su accuracy y probarlos más adelante en un data set mucho más grande. Tampoco haré validation split debido al tamaño tan reducido de los datos."
      ],
      "metadata": {
        "id": "X55RAy1-AU5R"
      },
      "id": "X55RAy1-AU5R"
    },
    {
      "cell_type": "code",
      "source": [
        "tf.random.set_seed(1234)  #Pruebo un segundo modelo, denso también, con 3 capas y 16 neuronas para comparar el rendimiento.\n",
        "model2 = Sequential(\n",
        "    [\n",
        "        tf.keras.Input(shape=(x_train.shape[1],)),\n",
        "        Dense(10, activation='relu', name = 'layer0'), #La capa 0 es de 10 neuronas con func. de act. relu\n",
        "        Dense(5, activation='relu', name = 'layer1'), #La capa 1 es de 5 neuronas con func. de act. relu\n",
        "        Dense(1, activation='sigmoid', name = 'layer2'), #La capa de salida es una neurona con func. de act. sigmoide, debido a que es una clasificación binaria\n",
        "     ]\n",
        ")\n",
        "model2.summary()\n",
        "model2.compile(\n",
        "    loss = tf.keras.losses.BinaryCrossentropy(),\n",
        "    optimizer='sgd',\n",
        "    metrics=[tf.keras.metrics.BinaryAccuracy()]\n",
        ")"
      ],
      "metadata": {
        "colab": {
          "base_uri": "https://localhost:8080/"
        },
        "id": "Y7IyHAFh-w97",
        "outputId": "8cb4ccb5-4ae8-497e-f2ce-fbc48e5a70e0"
      },
      "id": "Y7IyHAFh-w97",
      "execution_count": null,
      "outputs": [
        {
          "output_type": "stream",
          "name": "stdout",
          "text": [
            "Model: \"sequential_1\"\n",
            "_________________________________________________________________\n",
            " Layer (type)                Output Shape              Param #   \n",
            "=================================================================\n",
            " layer0 (Dense)              (None, 10)                77820     \n",
            "                                                                 \n",
            " layer1 (Dense)              (None, 5)                 55        \n",
            "                                                                 \n",
            " layer2 (Dense)              (None, 1)                 6         \n",
            "                                                                 \n",
            "=================================================================\n",
            "Total params: 77881 (304.22 KB)\n",
            "Trainable params: 77881 (304.22 KB)\n",
            "Non-trainable params: 0 (0.00 Byte)\n",
            "_________________________________________________________________\n"
          ]
        }
      ]
    },
    {
      "cell_type": "code",
      "source": [
        "model2.fit(\n",
        "    x_train,y_train,\n",
        "    epochs=11,\n",
        "    batch_size=8,\n",
        ")\n",
        "\n",
        "\n",
        "y_pred_test1 = model2.predict(x_test)\n",
        "y_pred_test1 = (y_pred_test1 >= 0.5).astype(int)\n",
        "print(\"test accuracy: {} %\".format(100 - np.mean(np.abs(y_pred_test1 - y_test)) * 100))"
      ],
      "metadata": {
        "colab": {
          "base_uri": "https://localhost:8080/"
        },
        "id": "m5Fu77OR-0Cm",
        "outputId": "f20e714a-a30e-4684-a2b8-3f8a2e54098d"
      },
      "id": "m5Fu77OR-0Cm",
      "execution_count": null,
      "outputs": [
        {
          "output_type": "stream",
          "name": "stdout",
          "text": [
            "Epoch 1/11\n",
            "10/10 [==============================] - 1s 4ms/step - loss: 0.6461 - binary_accuracy: 0.5190\n",
            "Epoch 2/11\n",
            "10/10 [==============================] - 0s 3ms/step - loss: 0.4033 - binary_accuracy: 0.7215\n",
            "Epoch 3/11\n",
            "10/10 [==============================] - 0s 2ms/step - loss: 0.3212 - binary_accuracy: 0.9747\n",
            "Epoch 4/11\n",
            "10/10 [==============================] - 0s 3ms/step - loss: 0.2913 - binary_accuracy: 0.9494\n",
            "Epoch 5/11\n",
            "10/10 [==============================] - 0s 2ms/step - loss: 0.2733 - binary_accuracy: 0.9747\n",
            "Epoch 6/11\n",
            "10/10 [==============================] - 0s 2ms/step - loss: 0.2603 - binary_accuracy: 0.9747\n",
            "Epoch 7/11\n",
            "10/10 [==============================] - 0s 2ms/step - loss: 0.2464 - binary_accuracy: 0.9620\n",
            "Epoch 8/11\n",
            "10/10 [==============================] - 0s 3ms/step - loss: 0.2217 - binary_accuracy: 0.9747\n",
            "Epoch 9/11\n",
            "10/10 [==============================] - 0s 3ms/step - loss: 0.2106 - binary_accuracy: 0.9747\n",
            "Epoch 10/11\n",
            "10/10 [==============================] - 0s 2ms/step - loss: 0.1972 - binary_accuracy: 0.9873\n",
            "Epoch 11/11\n",
            "10/10 [==============================] - 0s 2ms/step - loss: 0.1960 - binary_accuracy: 1.0000\n",
            "1/1 [==============================] - 0s 58ms/step\n",
            "test accuracy: 59.25925925925926 %\n"
          ]
        }
      ]
    },
    {
      "cell_type": "markdown",
      "source": [
        "Notamos que neuvamente la precición binaria es muy alta, pero esto puede deberse al tamaño del data set y que la red es un poco más compleja que la anterior, además hubo un aumento del 6% en el test accuracy."
      ],
      "metadata": {
        "id": "RqgTED1IBqVL"
      },
      "id": "RqgTED1IBqVL"
    },
    {
      "cell_type": "code",
      "source": [
        "tf.random.set_seed(1234)  #El tercer modelo consiste de 4 capas, con 61 neuronas, de la capa 1-3 con func. de act. relu y de salida sigmoide nuevamente\n",
        "model3 = Sequential(\n",
        "    [\n",
        "        tf.keras.Input(shape=(x_train.shape[1],)),\n",
        "        Dense(30, activation='relu', name = 'layer0'),\n",
        "        Dense(20, activation='relu', name = 'layer1'),\n",
        "        Dense(10, activation='relu', name = 'layer2'),\n",
        "        Dense(1, activation='sigmoid', name = 'layer3'),\n",
        "     ]\n",
        ")\n",
        "model3.summary()\n",
        "model3.compile(\n",
        "    loss = tf.keras.losses.BinaryCrossentropy(),\n",
        "    optimizer='sgd',\n",
        "    metrics=[tf.keras.metrics.BinaryAccuracy()]\n",
        ")"
      ],
      "metadata": {
        "colab": {
          "base_uri": "https://localhost:8080/"
        },
        "id": "oL4z8WEGDE8M",
        "outputId": "53f0ab79-0768-49b4-cd2b-2cddde6f9e2d"
      },
      "id": "oL4z8WEGDE8M",
      "execution_count": null,
      "outputs": [
        {
          "output_type": "stream",
          "name": "stdout",
          "text": [
            "Model: \"sequential_2\"\n",
            "_________________________________________________________________\n",
            " Layer (type)                Output Shape              Param #   \n",
            "=================================================================\n",
            " layer0 (Dense)              (None, 30)                233460    \n",
            "                                                                 \n",
            " layer1 (Dense)              (None, 20)                620       \n",
            "                                                                 \n",
            " layer2 (Dense)              (None, 10)                210       \n",
            "                                                                 \n",
            " layer3 (Dense)              (None, 1)                 11        \n",
            "                                                                 \n",
            "=================================================================\n",
            "Total params: 234301 (915.24 KB)\n",
            "Trainable params: 234301 (915.24 KB)\n",
            "Non-trainable params: 0 (0.00 Byte)\n",
            "_________________________________________________________________\n"
          ]
        }
      ]
    },
    {
      "cell_type": "code",
      "source": [
        "model3.fit(\n",
        "    x_train,y_train,\n",
        "    epochs=10,\n",
        "    batch_size=20,\n",
        "    validation_split=0.1\n",
        ")\n",
        "\n",
        "y_hat = model3.predict(x_test)\n",
        "y_hat= (y_hat >= 0.5).astype(int)\n",
        "print(\"test accuracy: {} %\".format(100 - np.mean(np.abs(y_hat - y_test)) * 100))"
      ],
      "metadata": {
        "colab": {
          "base_uri": "https://localhost:8080/"
        },
        "id": "cjIGat0EDk7i",
        "outputId": "ebbb908e-a8b4-4a9c-8df8-50c757a9997e"
      },
      "id": "cjIGat0EDk7i",
      "execution_count": null,
      "outputs": [
        {
          "output_type": "stream",
          "name": "stdout",
          "text": [
            "Epoch 1/10\n",
            "4/4 [==============================] - 1s 77ms/step - loss: 0.6915 - binary_accuracy: 0.5775 - val_loss: 0.6034 - val_binary_accuracy: 0.5000\n",
            "Epoch 2/10\n",
            "4/4 [==============================] - 0s 19ms/step - loss: 0.5952 - binary_accuracy: 0.6197 - val_loss: 0.5417 - val_binary_accuracy: 0.5000\n",
            "Epoch 3/10\n",
            "4/4 [==============================] - 0s 13ms/step - loss: 0.5290 - binary_accuracy: 0.6761 - val_loss: 0.5098 - val_binary_accuracy: 0.5000\n",
            "Epoch 4/10\n",
            "4/4 [==============================] - 0s 12ms/step - loss: 0.4860 - binary_accuracy: 0.6901 - val_loss: 0.4979 - val_binary_accuracy: 0.5000\n",
            "Epoch 5/10\n",
            "4/4 [==============================] - 0s 14ms/step - loss: 0.4538 - binary_accuracy: 0.6901 - val_loss: 0.4836 - val_binary_accuracy: 0.5000\n",
            "Epoch 6/10\n",
            "4/4 [==============================] - 0s 14ms/step - loss: 0.4240 - binary_accuracy: 0.7042 - val_loss: 0.4765 - val_binary_accuracy: 0.5000\n",
            "Epoch 7/10\n",
            "4/4 [==============================] - 0s 15ms/step - loss: 0.4036 - binary_accuracy: 0.7042 - val_loss: 0.4691 - val_binary_accuracy: 0.5000\n",
            "Epoch 8/10\n",
            "4/4 [==============================] - 0s 17ms/step - loss: 0.3812 - binary_accuracy: 0.8732 - val_loss: 0.4775 - val_binary_accuracy: 1.0000\n",
            "Epoch 9/10\n",
            "4/4 [==============================] - 0s 19ms/step - loss: 0.3591 - binary_accuracy: 0.9296 - val_loss: 0.4583 - val_binary_accuracy: 1.0000\n",
            "Epoch 10/10\n",
            "4/4 [==============================] - 0s 13ms/step - loss: 0.3420 - binary_accuracy: 0.9437 - val_loss: 0.4552 - val_binary_accuracy: 1.0000\n",
            "1/1 [==============================] - 0s 60ms/step\n",
            "test accuracy: 65.4320987654321 %\n"
          ]
        }
      ]
    },
    {
      "cell_type": "markdown",
      "source": [
        "En este caso se sobre ajusta la validación binaria debido a que el 10% de estos datos es muy pequeño, pero el test accuracy es del 65.43%, 6% mejor que el anterior."
      ],
      "metadata": {
        "id": "i-HETbpoENlB"
      },
      "id": "i-HETbpoENlB"
    },
    {
      "cell_type": "code",
      "source": [
        "tf.random.set_seed(1234)\n",
        "model4 = Sequential(\n",
        "    [\n",
        "        tf.keras.Input(shape=(x_train.shape[1],)),\n",
        "        Dense(40, activation='relu', kernel_initializer='he_uniform', name = 'layer0'),\n",
        "        Dropout(0.1),\n",
        "        Dense(30, activation='relu',kernel_initializer='he_uniform', name = 'layer1'),\n",
        "        Dropout(0.1),\n",
        "        Dense(20, activation='relu',kernel_initializer='he_uniform', name = 'layer2'),\n",
        "        Dropout(0.1),\n",
        "        Dense(1, activation='sigmoid',kernel_initializer='he_uniform', name = 'layer3'),\n",
        "     ]\n",
        ")\n",
        "model4.summary()\n",
        "model4.compile(\n",
        "    loss = tf.keras.losses.BinaryCrossentropy(),\n",
        "    optimizer='sgd',\n",
        "    metrics=[tf.keras.metrics.BinaryAccuracy()]\n",
        ")"
      ],
      "metadata": {
        "colab": {
          "base_uri": "https://localhost:8080/"
        },
        "id": "9UWtABBoEdJ6",
        "outputId": "cdcdfff2-c3c1-48d1-86fe-b4642f5e82d8"
      },
      "id": "9UWtABBoEdJ6",
      "execution_count": null,
      "outputs": [
        {
          "output_type": "stream",
          "name": "stdout",
          "text": [
            "Model: \"sequential_3\"\n",
            "_________________________________________________________________\n",
            " Layer (type)                Output Shape              Param #   \n",
            "=================================================================\n",
            " layer0 (Dense)              (None, 40)                311280    \n",
            "                                                                 \n",
            " dropout (Dropout)           (None, 40)                0         \n",
            "                                                                 \n",
            " layer1 (Dense)              (None, 30)                1230      \n",
            "                                                                 \n",
            " dropout_1 (Dropout)         (None, 30)                0         \n",
            "                                                                 \n",
            " layer2 (Dense)              (None, 20)                620       \n",
            "                                                                 \n",
            " dropout_2 (Dropout)         (None, 20)                0         \n",
            "                                                                 \n",
            " layer3 (Dense)              (None, 1)                 21        \n",
            "                                                                 \n",
            "=================================================================\n",
            "Total params: 313151 (1.19 MB)\n",
            "Trainable params: 313151 (1.19 MB)\n",
            "Non-trainable params: 0 (0.00 Byte)\n",
            "_________________________________________________________________\n"
          ]
        }
      ]
    },
    {
      "cell_type": "code",
      "source": [
        "model4.fit(\n",
        "    x_train,y_train,\n",
        "    epochs=11,\n",
        "    batch_size=8,\n",
        "    validation_split=0.1\n",
        ")\n",
        "\n",
        "y_hat = model4.predict(x_test)\n",
        "y_hat= (y_hat >= 0.5).astype(int)\n",
        "print(\"test accuracy: {} %\".format(100 - np.mean(np.abs(y_hat - y_test)) * 100))"
      ],
      "metadata": {
        "colab": {
          "base_uri": "https://localhost:8080/"
        },
        "id": "t1ibaxDcEgAB",
        "outputId": "f4094407-3edd-4f03-8f56-e6bd4d3d6665"
      },
      "id": "t1ibaxDcEgAB",
      "execution_count": null,
      "outputs": [
        {
          "output_type": "stream",
          "name": "stdout",
          "text": [
            "Epoch 1/11\n",
            "9/9 [==============================] - 1s 42ms/step - loss: 0.6561 - binary_accuracy: 0.4930 - val_loss: 0.4361 - val_binary_accuracy: 0.5000\n",
            "Epoch 2/11\n",
            "9/9 [==============================] - 0s 7ms/step - loss: 0.5789 - binary_accuracy: 0.6056 - val_loss: 0.5389 - val_binary_accuracy: 0.3750\n",
            "Epoch 3/11\n",
            "9/9 [==============================] - 0s 6ms/step - loss: 0.4221 - binary_accuracy: 0.8732 - val_loss: 0.4730 - val_binary_accuracy: 1.0000\n",
            "Epoch 4/11\n",
            "9/9 [==============================] - 0s 8ms/step - loss: 0.3946 - binary_accuracy: 0.9014 - val_loss: 0.4824 - val_binary_accuracy: 1.0000\n",
            "Epoch 5/11\n",
            "9/9 [==============================] - 0s 6ms/step - loss: 0.3424 - binary_accuracy: 0.9014 - val_loss: 0.4659 - val_binary_accuracy: 1.0000\n",
            "Epoch 6/11\n",
            "9/9 [==============================] - 0s 6ms/step - loss: 0.3132 - binary_accuracy: 0.9718 - val_loss: 0.5780 - val_binary_accuracy: 0.8750\n",
            "Epoch 7/11\n",
            "9/9 [==============================] - 0s 7ms/step - loss: 0.3333 - binary_accuracy: 0.9437 - val_loss: 0.4369 - val_binary_accuracy: 1.0000\n",
            "Epoch 8/11\n",
            "9/9 [==============================] - 0s 7ms/step - loss: 0.3039 - binary_accuracy: 0.9296 - val_loss: 0.4030 - val_binary_accuracy: 1.0000\n",
            "Epoch 9/11\n",
            "9/9 [==============================] - 0s 9ms/step - loss: 0.2687 - binary_accuracy: 0.9718 - val_loss: 0.4004 - val_binary_accuracy: 1.0000\n",
            "Epoch 10/11\n",
            "9/9 [==============================] - 0s 6ms/step - loss: 0.2936 - binary_accuracy: 0.9437 - val_loss: 0.4397 - val_binary_accuracy: 1.0000\n",
            "Epoch 11/11\n",
            "9/9 [==============================] - 0s 6ms/step - loss: 0.2170 - binary_accuracy: 0.9577 - val_loss: 0.3814 - val_binary_accuracy: 1.0000\n",
            "1/1 [==============================] - 0s 83ms/step\n",
            "test accuracy: 59.25925925925926 %\n"
          ]
        }
      ]
    },
    {
      "cell_type": "code",
      "source": [
        "tf.random.set_seed(1234)\n",
        "model5 = Sequential(\n",
        "    [\n",
        "        tf.keras.Input(shape=(x_train.shape[1],)),\n",
        "        Dense(100, activation='relu', kernel_initializer='he_uniform', name = 'layer0'),\n",
        "        Dropout(0.1),\n",
        "        Dense(100, activation='relu',kernel_initializer='he_uniform', name = 'layer1'),\n",
        "        Dropout(0.1),\n",
        "        Dense(100, activation='relu',kernel_initializer='he_uniform', name = 'layer2'),\n",
        "        Dropout(0.1),\n",
        "        Dense(1, activation='sigmoid',kernel_initializer='he_uniform', name = 'layer3'),\n",
        "     ]\n",
        ")\n",
        "model5.summary()\n",
        "model5.compile(\n",
        "    loss = tf.keras.losses.BinaryCrossentropy(),\n",
        "    optimizer='sgd',\n",
        "    metrics=[tf.keras.metrics.BinaryAccuracy()]\n",
        ")"
      ],
      "metadata": {
        "colab": {
          "base_uri": "https://localhost:8080/"
        },
        "id": "jARpTGzUUgsT",
        "outputId": "c60da74b-46e7-4882-fd3a-cfd6bfe2d7b5"
      },
      "id": "jARpTGzUUgsT",
      "execution_count": null,
      "outputs": [
        {
          "output_type": "stream",
          "name": "stdout",
          "text": [
            "Model: \"sequential_4\"\n",
            "_________________________________________________________________\n",
            " Layer (type)                Output Shape              Param #   \n",
            "=================================================================\n",
            " layer0 (Dense)              (None, 100)               778200    \n",
            "                                                                 \n",
            " dropout_3 (Dropout)         (None, 100)               0         \n",
            "                                                                 \n",
            " layer1 (Dense)              (None, 100)               10100     \n",
            "                                                                 \n",
            " dropout_4 (Dropout)         (None, 100)               0         \n",
            "                                                                 \n",
            " layer2 (Dense)              (None, 100)               10100     \n",
            "                                                                 \n",
            " dropout_5 (Dropout)         (None, 100)               0         \n",
            "                                                                 \n",
            " layer3 (Dense)              (None, 1)                 101       \n",
            "                                                                 \n",
            "=================================================================\n",
            "Total params: 798501 (3.05 MB)\n",
            "Trainable params: 798501 (3.05 MB)\n",
            "Non-trainable params: 0 (0.00 Byte)\n",
            "_________________________________________________________________\n"
          ]
        }
      ]
    },
    {
      "cell_type": "code",
      "source": [
        "history5 = model5.fit(\n",
        "    x_train,y_train,\n",
        "    epochs=11,\n",
        "    batch_size=8,\n",
        "    validation_split=0.1\n",
        ")\n",
        "\n",
        "y_hat = model5.predict(x_test)\n",
        "y_hat= (y_hat >= 0.5).astype(int)\n",
        "print(\"test accuracy: {} %\".format(100 - np.mean(np.abs(y_hat - y_test)) * 100))"
      ],
      "metadata": {
        "colab": {
          "base_uri": "https://localhost:8080/"
        },
        "id": "bNAqL4hsUt9f",
        "outputId": "dbf35f2e-c13b-4e3e-d588-c1ae1611d1d3"
      },
      "id": "bNAqL4hsUt9f",
      "execution_count": null,
      "outputs": [
        {
          "output_type": "stream",
          "name": "stdout",
          "text": [
            "Epoch 1/11\n",
            "9/9 [==============================] - 1s 45ms/step - loss: 0.4991 - binary_accuracy: 0.7183 - val_loss: 0.3972 - val_binary_accuracy: 1.0000\n",
            "Epoch 2/11\n",
            "9/9 [==============================] - 0s 15ms/step - loss: 0.4426 - binary_accuracy: 0.9014 - val_loss: 0.5094 - val_binary_accuracy: 0.8750\n",
            "Epoch 3/11\n",
            "9/9 [==============================] - 0s 14ms/step - loss: 0.3024 - binary_accuracy: 0.9577 - val_loss: 0.4779 - val_binary_accuracy: 0.8750\n",
            "Epoch 4/11\n",
            "9/9 [==============================] - 0s 13ms/step - loss: 0.2859 - binary_accuracy: 0.9577 - val_loss: 0.4279 - val_binary_accuracy: 1.0000\n",
            "Epoch 5/11\n",
            "9/9 [==============================] - 0s 14ms/step - loss: 0.2504 - binary_accuracy: 0.9437 - val_loss: 0.3917 - val_binary_accuracy: 1.0000\n",
            "Epoch 6/11\n",
            "9/9 [==============================] - 0s 13ms/step - loss: 0.2713 - binary_accuracy: 0.9718 - val_loss: 0.4642 - val_binary_accuracy: 0.8750\n",
            "Epoch 7/11\n",
            "9/9 [==============================] - 0s 13ms/step - loss: 0.2639 - binary_accuracy: 0.9577 - val_loss: 0.3475 - val_binary_accuracy: 1.0000\n",
            "Epoch 8/11\n",
            "9/9 [==============================] - 0s 16ms/step - loss: 0.2917 - binary_accuracy: 0.9437 - val_loss: 0.3246 - val_binary_accuracy: 1.0000\n",
            "Epoch 9/11\n",
            "9/9 [==============================] - 0s 12ms/step - loss: 0.2728 - binary_accuracy: 0.9577 - val_loss: 0.3623 - val_binary_accuracy: 1.0000\n",
            "Epoch 10/11\n",
            "9/9 [==============================] - 0s 11ms/step - loss: 0.1534 - binary_accuracy: 1.0000 - val_loss: 0.3267 - val_binary_accuracy: 1.0000\n",
            "Epoch 11/11\n",
            "9/9 [==============================] - 0s 11ms/step - loss: 0.4392 - binary_accuracy: 0.9437 - val_loss: 0.3342 - val_binary_accuracy: 1.0000\n"
          ]
        },
        {
          "output_type": "stream",
          "name": "stderr",
          "text": [
            "WARNING:tensorflow:5 out of the last 5 calls to <function Model.make_predict_function.<locals>.predict_function at 0x78ebc0561bd0> triggered tf.function retracing. Tracing is expensive and the excessive number of tracings could be due to (1) creating @tf.function repeatedly in a loop, (2) passing tensors with different shapes, (3) passing Python objects instead of tensors. For (1), please define your @tf.function outside of the loop. For (2), @tf.function has reduce_retracing=True option that can avoid unnecessary retracing. For (3), please refer to https://www.tensorflow.org/guide/function#controlling_retracing and https://www.tensorflow.org/api_docs/python/tf/function for  more details.\n"
          ]
        },
        {
          "output_type": "stream",
          "name": "stdout",
          "text": [
            "1/1 [==============================] - 0s 99ms/step\n",
            "test accuracy: 59.25925925925926 %\n"
          ]
        }
      ]
    },
    {
      "cell_type": "code",
      "source": [
        "plt.plot(history5.history['binary_accuracy'])\n",
        "plt.plot(history5.history['val_binary_accuracy'])\n",
        "plt.title('model accuracy')\n",
        "plt.ylabel('accuracy')\n",
        "plt.xlabel('epoch')\n",
        "plt.legend(['train', 'Val'], loc='upper left')\n",
        "plt.show()"
      ],
      "metadata": {
        "colab": {
          "base_uri": "https://localhost:8080/",
          "height": 472
        },
        "id": "lyP_LLOSVA1M",
        "outputId": "40fcc447-7784-4b3c-e700-18ca53d8a24c"
      },
      "id": "lyP_LLOSVA1M",
      "execution_count": null,
      "outputs": [
        {
          "output_type": "display_data",
          "data": {
            "text/plain": [
              "<Figure size 640x480 with 1 Axes>"
            ],
            "image/png": "[encoded data removed]"
          },
          "metadata": {}
        }
      ]
    },
    {
      "cell_type": "code",
      "source": [
        "plt.plot(history5.history['loss'])\n",
        "plt.plot(history5.history['val_loss'])\n",
        "plt.title('model loss')\n",
        "plt.ylabel('loss')\n",
        "plt.xlabel('epoch')\n",
        "plt.legend(['train', 'Val'], loc='upper left')\n",
        "plt.show()"
      ],
      "metadata": {
        "id": "vvJWljzbV3h9",
        "outputId": "c3603076-27c3-4730-fff2-63f697115b52",
        "colab": {
          "base_uri": "https://localhost:8080/",
          "height": 472
        }
      },
      "id": "vvJWljzbV3h9",
      "execution_count": null,
      "outputs": [
        {
          "output_type": "display_data",
          "data": {
            "text/plain": [
              "<Figure size 640x480 with 1 Axes>"
            ],
            "image/png": "[encoded data removed]"
          },
          "metadata": {}
        }
      ]
    },
    {
      "cell_type": "markdown",
      "source": [
        "Notamos que no aumentó nada el test accuracy al agregar 100 neuronas por cada capa, por lo que debemos cambiar nuevamente la arquitectura."
      ],
      "metadata": {
        "id": "7PPvwWIzVYpj"
      },
      "id": "7PPvwWIzVYpj"
    },
    {
      "cell_type": "markdown",
      "source": [
        "De la última gráfica notamos que hay una varianza muy alta, es decir el costo (loss) es bajo en el entrenamiento y alto en la prueba, por lo que probaré con aumentar la regularización, además usaré el mismo número de neuronas y capas que en el modelo 4, debido a que en el modelo 5 aumentar drásticamente el número de neuronas no afectó en nada al resultado del test accuracy. También eliminaré el dropout, debido a que en el modelo 3 teníamos un mejor resultado sin esta característica."
      ],
      "metadata": {
        "id": "MFnU8d-kv6HP"
      },
      "id": "MFnU8d-kv6HP"
    },
    {
      "cell_type": "code",
      "source": [
        "tf.random.set_seed(1234)\n",
        "model6 = Sequential(\n",
        "    [\n",
        "        tf.keras.Input(shape=(x_train.shape[1],)),\n",
        "        Dense(40, activation='relu', name = 'layer0'),\n",
        "        Dense(30, activation='relu', name = 'layer1'),\n",
        "        Dense(20, activation='relu', name = 'layer2'),\n",
        "        Dense(1, activation='sigmoid', name = 'layer3'),\n",
        "     ]\n",
        ")\n",
        "model6.summary()\n",
        "model6.compile(\n",
        "    loss = tf.keras.losses.BinaryCrossentropy(),\n",
        "    optimizer='sgd',\n",
        "    metrics=[tf.keras.metrics.BinaryAccuracy()]\n",
        ")"
      ],
      "metadata": {
        "colab": {
          "base_uri": "https://localhost:8080/"
        },
        "id": "440zysxMwTUC",
        "outputId": "298944cb-5b49-4560-a38f-48197ac5a61a"
      },
      "id": "440zysxMwTUC",
      "execution_count": 54,
      "outputs": [
        {
          "output_type": "stream",
          "name": "stdout",
          "text": [
            "Model: \"sequential\"\n",
            "_________________________________________________________________\n",
            " Layer (type)                Output Shape              Param #   \n",
            "=================================================================\n",
            " layer0 (Dense)              (None, 40)                311280    \n",
            "                                                                 \n",
            " layer1 (Dense)              (None, 30)                1230      \n",
            "                                                                 \n",
            " layer2 (Dense)              (None, 20)                620       \n",
            "                                                                 \n",
            " layer3 (Dense)              (None, 1)                 21        \n",
            "                                                                 \n",
            "=================================================================\n",
            "Total params: 313151 (1.19 MB)\n",
            "Trainable params: 313151 (1.19 MB)\n",
            "Non-trainable params: 0 (0.00 Byte)\n",
            "_________________________________________________________________\n"
          ]
        }
      ]
    },
    {
      "cell_type": "code",
      "source": [
        "history6 = model6.fit(\n",
        "    x_train,y_train,\n",
        "    epochs=22,\n",
        "    batch_size=4,\n",
        "    validation_split=0.1\n",
        ")\n",
        "\n",
        "y_hat = model6.predict(x_test)\n",
        "y_hat= (y_hat >= 0.5).astype(int)\n",
        "print(\"test accuracy: {} %\".format(100 - np.mean(np.abs(y_hat - y_test)) * 100))"
      ],
      "metadata": {
        "colab": {
          "base_uri": "https://localhost:8080/"
        },
        "id": "IRR5-CWYw8cL",
        "outputId": "dc51f425-6da8-4314-885d-684600212748"
      },
      "id": "IRR5-CWYw8cL",
      "execution_count": 57,
      "outputs": [
        {
          "output_type": "stream",
          "name": "stdout",
          "text": [
            "Epoch 1/22\n",
            "16/16 [==============================] - 0s 16ms/step - loss: 0.0430 - binary_accuracy: 1.0000 - val_loss: 0.1052 - val_binary_accuracy: 1.0000\n",
            "Epoch 2/22\n",
            "16/16 [==============================] - 0s 10ms/step - loss: 0.0421 - binary_accuracy: 1.0000 - val_loss: 0.1038 - val_binary_accuracy: 1.0000\n",
            "Epoch 3/22\n",
            "16/16 [==============================] - 0s 9ms/step - loss: 0.0411 - binary_accuracy: 1.0000 - val_loss: 0.1009 - val_binary_accuracy: 1.0000\n",
            "Epoch 4/22\n",
            "16/16 [==============================] - 0s 10ms/step - loss: 0.0402 - binary_accuracy: 1.0000 - val_loss: 0.0987 - val_binary_accuracy: 1.0000\n",
            "Epoch 5/22\n",
            "16/16 [==============================] - 0s 10ms/step - loss: 0.0393 - binary_accuracy: 1.0000 - val_loss: 0.0971 - val_binary_accuracy: 1.0000\n",
            "Epoch 6/22\n",
            "16/16 [==============================] - 0s 9ms/step - loss: 0.0384 - binary_accuracy: 1.0000 - val_loss: 0.0955 - val_binary_accuracy: 1.0000\n",
            "Epoch 7/22\n",
            "16/16 [==============================] - 0s 10ms/step - loss: 0.0376 - binary_accuracy: 1.0000 - val_loss: 0.0938 - val_binary_accuracy: 1.0000\n",
            "Epoch 8/22\n",
            "16/16 [==============================] - 0s 11ms/step - loss: 0.0368 - binary_accuracy: 1.0000 - val_loss: 0.0917 - val_binary_accuracy: 1.0000\n",
            "Epoch 9/22\n",
            "16/16 [==============================] - 0s 9ms/step - loss: 0.0360 - binary_accuracy: 1.0000 - val_loss: 0.0909 - val_binary_accuracy: 1.0000\n",
            "Epoch 10/22\n",
            "16/16 [==============================] - 0s 9ms/step - loss: 0.0352 - binary_accuracy: 1.0000 - val_loss: 0.0894 - val_binary_accuracy: 1.0000\n",
            "Epoch 11/22\n",
            "16/16 [==============================] - 0s 10ms/step - loss: 0.0344 - binary_accuracy: 1.0000 - val_loss: 0.0879 - val_binary_accuracy: 1.0000\n",
            "Epoch 12/22\n",
            "16/16 [==============================] - 0s 9ms/step - loss: 0.0337 - binary_accuracy: 1.0000 - val_loss: 0.0859 - val_binary_accuracy: 1.0000\n",
            "Epoch 13/22\n",
            "16/16 [==============================] - 0s 9ms/step - loss: 0.0330 - binary_accuracy: 1.0000 - val_loss: 0.0842 - val_binary_accuracy: 1.0000\n",
            "Epoch 14/22\n",
            "16/16 [==============================] - 0s 11ms/step - loss: 0.0323 - binary_accuracy: 1.0000 - val_loss: 0.0831 - val_binary_accuracy: 1.0000\n",
            "Epoch 15/22\n",
            "16/16 [==============================] - 0s 11ms/step - loss: 0.0316 - binary_accuracy: 1.0000 - val_loss: 0.0818 - val_binary_accuracy: 1.0000\n",
            "Epoch 16/22\n",
            "16/16 [==============================] - 0s 10ms/step - loss: 0.0309 - binary_accuracy: 1.0000 - val_loss: 0.0806 - val_binary_accuracy: 1.0000\n",
            "Epoch 17/22\n",
            "16/16 [==============================] - 0s 10ms/step - loss: 0.0303 - binary_accuracy: 1.0000 - val_loss: 0.0789 - val_binary_accuracy: 1.0000\n",
            "Epoch 18/22\n",
            "16/16 [==============================] - 0s 10ms/step - loss: 0.0296 - binary_accuracy: 1.0000 - val_loss: 0.0777 - val_binary_accuracy: 1.0000\n",
            "Epoch 19/22\n",
            "16/16 [==============================] - 0s 10ms/step - loss: 0.0290 - binary_accuracy: 1.0000 - val_loss: 0.0760 - val_binary_accuracy: 1.0000\n",
            "Epoch 20/22\n",
            "16/16 [==============================] - 0s 12ms/step - loss: 0.0284 - binary_accuracy: 1.0000 - val_loss: 0.0749 - val_binary_accuracy: 1.0000\n",
            "Epoch 21/22\n",
            "16/16 [==============================] - 0s 11ms/step - loss: 0.0278 - binary_accuracy: 1.0000 - val_loss: 0.0745 - val_binary_accuracy: 1.0000\n",
            "Epoch 22/22\n",
            "16/16 [==============================] - 0s 10ms/step - loss: 0.0272 - binary_accuracy: 1.0000 - val_loss: 0.0741 - val_binary_accuracy: 1.0000\n",
            "1/1 [==============================] - 0s 37ms/step\n",
            "test accuracy: 50.617283950617285 %\n"
          ]
        }
      ]
    },
    {
      "cell_type": "code",
      "source": [
        "plt.plot(history6.history['loss'])\n",
        "plt.plot(history6.history['val_loss'])\n",
        "plt.title('model loss')\n",
        "plt.ylabel('loss')\n",
        "plt.xlabel('epoch')\n",
        "plt.legend(['train', 'Val'], loc='upper left')\n",
        "plt.show()"
      ],
      "metadata": {
        "colab": {
          "base_uri": "https://localhost:8080/",
          "height": 472
        },
        "id": "ocS7pOR3xkXN",
        "outputId": "031c0e03-f028-4fe4-d238-c0e6075179cf"
      },
      "id": "ocS7pOR3xkXN",
      "execution_count": 58,
      "outputs": [
        {
          "output_type": "display_data",
          "data": {
            "text/plain": [
              "<Figure size 640x480 with 1 Axes>"
            ],
            "image/png": "[encoded data removed]"
          },
          "metadata": {}
        }
      ]
    },
    {
      "cell_type": "markdown",
      "source": [
        "Nuevamente obtenemos alta varianza, por lo que probaré con aumentar el número de muestras a 1000."
      ],
      "metadata": {
        "id": "Efezy5tcyd4r"
      },
      "id": "Efezy5tcyd4r"
    },
    {
      "cell_type": "code",
      "source": [
        "#Del subdata1 tomaré 500 objetos\n",
        "\n",
        "subdata1 = data1[0:500:1]\n",
        "subdata1"
      ],
      "metadata": {
        "colab": {
          "base_uri": "https://localhost:8080/",
          "height": 518
        },
        "id": "DDo_RV99ypz1",
        "outputId": "e35cc46a-0ac4-4c7c-a697-33ad7e4345c2"
      },
      "id": "DDo_RV99ypz1",
      "execution_count": 60,
      "outputs": [
        {
          "output_type": "execute_result",
          "data": {
            "text/plain": [
              "<Table length=500>\n",
              "      TARGETID       SURVEY SPECTYPE         Z         \n",
              "       int64          str7    str6        float64      \n",
              "------------------- ------- -------- ------------------\n",
              "  39628473202903445     cmx      QSO 1.0724836869842256\n",
              "  39628473202905021     cmx      QSO  2.628380234087188\n",
              "  39628478449979760     cmx      QSO 1.5284469839389512\n",
              "  39628478454170137     cmx      QSO  2.437912157749145\n",
              "1152921504619432614     cmx      QSO 1.1294203675694041\n",
              "  39628488931543273     cmx      QSO 0.5879885699941647\n",
              "  39628483705443044     cmx      QSO  3.641069952113342\n",
              "  39628488927348831     cmx      QSO  1.403102792557713\n",
              "  39628483705441129     cmx      QSO 1.9052059263390442\n",
              "  39628483705441118     cmx      QSO 1.1040875761179672\n",
              "                ...     ...      ...                ...\n",
              "  39632951452895175 special      QSO 3.1429070148315215\n",
              "  39632951452896303 special      QSO 2.2613102598614403\n",
              "  39632951440313399 special      QSO 1.2521174566807345\n",
              "  39632951440313186 special      QSO 0.9392681837458705\n",
              "  39632956481865305 special      QSO 1.4771543218484156\n",
              "  39632951448701645 special      QSO  1.430453123254046\n",
              "  39632951444506194 special      QSO 3.3692528545046017\n",
              "  39632946390372186 special      QSO 0.4935476676152741\n",
              "  39632971522639667 special      QSO 1.9201466617705776\n",
              "  39632956498641299 special      QSO 0.6668446551309131"
            ],
            "text/html": [
              "<div><i>Table length=500</i>\n",
              "<table id=\"table136064077027104\" class=\"table-striped table-bordered table-condensed\">\n",
              "<thead><tr><th>TARGETID</th><th>SURVEY</th><th>SPECTYPE</th><th>Z</th></tr></thead>\n",
              "<thead><tr><th>int64</th><th>str7</th><th>str6</th><th>float64</th></tr></thead>\n",
              "<tr><td>39628473202903445</td><td>cmx</td><td>QSO</td><td>1.0724836869842256</td></tr>\n",
              "<tr><td>39628473202905021</td><td>cmx</td><td>QSO</td><td>2.628380234087188</td></tr>\n",
              "<tr><td>39628478449979760</td><td>cmx</td><td>QSO</td><td>1.5284469839389512</td></tr>\n",
              "<tr><td>39628478454170137</td><td>cmx</td><td>QSO</td><td>2.437912157749145</td></tr>\n",
              "<tr><td>1152921504619432614</td><td>cmx</td><td>QSO</td><td>1.1294203675694041</td></tr>\n",
              "<tr><td>39628488931543273</td><td>cmx</td><td>QSO</td><td>0.5879885699941647</td></tr>\n",
              "<tr><td>39628483705443044</td><td>cmx</td><td>QSO</td><td>3.641069952113342</td></tr>\n",
              "<tr><td>39628488927348831</td><td>cmx</td><td>QSO</td><td>1.403102792557713</td></tr>\n",
              "<tr><td>39628483705441129</td><td>cmx</td><td>QSO</td><td>1.9052059263390442</td></tr>\n",
              "<tr><td>39628483705441118</td><td>cmx</td><td>QSO</td><td>1.1040875761179672</td></tr>\n",
              "<tr><td>...</td><td>...</td><td>...</td><td>...</td></tr>\n",
              "<tr><td>39632951452895175</td><td>special</td><td>QSO</td><td>3.1429070148315215</td></tr>\n",
              "<tr><td>39632951452896303</td><td>special</td><td>QSO</td><td>2.2613102598614403</td></tr>\n",
              "<tr><td>39632951440313399</td><td>special</td><td>QSO</td><td>1.2521174566807345</td></tr>\n",
              "<tr><td>39632951440313186</td><td>special</td><td>QSO</td><td>0.9392681837458705</td></tr>\n",
              "<tr><td>39632956481865305</td><td>special</td><td>QSO</td><td>1.4771543218484156</td></tr>\n",
              "<tr><td>39632951448701645</td><td>special</td><td>QSO</td><td>1.430453123254046</td></tr>\n",
              "<tr><td>39632951444506194</td><td>special</td><td>QSO</td><td>3.3692528545046017</td></tr>\n",
              "<tr><td>39632946390372186</td><td>special</td><td>QSO</td><td>0.4935476676152741</td></tr>\n",
              "<tr><td>39632971522639667</td><td>special</td><td>QSO</td><td>1.9201466617705776</td></tr>\n",
              "<tr><td>39632956498641299</td><td>special</td><td>QSO</td><td>0.6668446551309131</td></tr>\n",
              "</table></div>"
            ]
          },
          "metadata": {},
          "execution_count": 60
        }
      ]
    },
    {
      "cell_type": "code",
      "source": [
        "#del subdata2 tomaré los siguientes 500 objetos (estrellas)\n",
        "\n",
        "subdata2 = data2[0:500:1]\n",
        "subdata2"
      ],
      "metadata": {
        "colab": {
          "base_uri": "https://localhost:8080/",
          "height": 518
        },
        "id": "yfo2JmQPzKyW",
        "outputId": "a07ed3aa-2bdf-4cbf-e049-30c1789d6202"
      },
      "id": "yfo2JmQPzKyW",
      "execution_count": 62,
      "outputs": [
        {
          "output_type": "execute_result",
          "data": {
            "text/plain": [
              "<Table length=500>\n",
              "      TARGETID      SURVEY SPECTYPE            Z           \n",
              "       int64         str7    str6           float64        \n",
              "------------------- ------ -------- -----------------------\n",
              "  39628473202903539    cmx     STAR  -0.0019956912923479522\n",
              "1152921504619435527    cmx     STAR -3.7560540650860466e-05\n",
              "  39628473198711006    cmx     STAR  -6.607473910190775e-05\n",
              "1152921504619435582    cmx     STAR   9.833583812940401e-05\n",
              "  39628473198711342    cmx     STAR  -0.0019956912923479522\n",
              "  39628494145064337    cmx     STAR  -0.0019956912923479522\n",
              "1152921504619435605    cmx     STAR -0.00018759545042438264\n",
              "  39628483705440899    cmx     STAR   -0.000245578117524253\n",
              "  39628488931545498    cmx     STAR  -0.0019956912923479522\n",
              "  39628483705439436    cmx     STAR  -0.0019956912923479522\n",
              "                ...    ...      ...                     ...\n",
              "  39628504525967630    cmx     STAR  -0.0019956912923479522\n",
              "  39628499350192222    cmx     STAR  -0.0019956912923479522\n",
              "1152921504619435962    cmx     STAR  -0.0002749686919503227\n",
              "  39628504538548162    cmx     STAR  -0.0010735460881853328\n",
              " 616089256837775927    cmx     STAR  -0.0019956912923479522\n",
              "  39628499346000286    cmx     STAR  -3.381821135203404e-05\n",
              "  39628499345999779    cmx     STAR  -0.0019956912923479522\n",
              "1152921504619435916    cmx     STAR   5.986516949155329e-05\n",
              "1152921504619436010    cmx     STAR -0.00019847937741988822\n",
              "  39628494145063940    cmx     STAR  -0.0019956912923479522"
            ],
            "text/html": [
              "<div><i>Table length=500</i>\n",
              "<table id=\"table136064060412336\" class=\"table-striped table-bordered table-condensed\">\n",
              "<thead><tr><th>TARGETID</th><th>SURVEY</th><th>SPECTYPE</th><th>Z</th></tr></thead>\n",
              "<thead><tr><th>int64</th><th>str7</th><th>str6</th><th>float64</th></tr></thead>\n",
              "<tr><td>39628473202903539</td><td>cmx</td><td>STAR</td><td>-0.0019956912923479522</td></tr>\n",
              "<tr><td>1152921504619435527</td><td>cmx</td><td>STAR</td><td>-3.7560540650860466e-05</td></tr>\n",
              "<tr><td>39628473198711006</td><td>cmx</td><td>STAR</td><td>-6.607473910190775e-05</td></tr>\n",
              "<tr><td>1152921504619435582</td><td>cmx</td><td>STAR</td><td>9.833583812940401e-05</td></tr>\n",
              "<tr><td>39628473198711342</td><td>cmx</td><td>STAR</td><td>-0.0019956912923479522</td></tr>\n",
              "<tr><td>39628494145064337</td><td>cmx</td><td>STAR</td><td>-0.0019956912923479522</td></tr>\n",
              "<tr><td>1152921504619435605</td><td>cmx</td><td>STAR</td><td>-0.00018759545042438264</td></tr>\n",
              "<tr><td>39628483705440899</td><td>cmx</td><td>STAR</td><td>-0.000245578117524253</td></tr>\n",
              "<tr><td>39628488931545498</td><td>cmx</td><td>STAR</td><td>-0.0019956912923479522</td></tr>\n",
              "<tr><td>39628483705439436</td><td>cmx</td><td>STAR</td><td>-0.0019956912923479522</td></tr>\n",
              "<tr><td>...</td><td>...</td><td>...</td><td>...</td></tr>\n",
              "<tr><td>39628504525967630</td><td>cmx</td><td>STAR</td><td>-0.0019956912923479522</td></tr>\n",
              "<tr><td>39628499350192222</td><td>cmx</td><td>STAR</td><td>-0.0019956912923479522</td></tr>\n",
              "<tr><td>1152921504619435962</td><td>cmx</td><td>STAR</td><td>-0.0002749686919503227</td></tr>\n",
              "<tr><td>39628504538548162</td><td>cmx</td><td>STAR</td><td>-0.0010735460881853328</td></tr>\n",
              "<tr><td>616089256837775927</td><td>cmx</td><td>STAR</td><td>-0.0019956912923479522</td></tr>\n",
              "<tr><td>39628499346000286</td><td>cmx</td><td>STAR</td><td>-3.381821135203404e-05</td></tr>\n",
              "<tr><td>39628499345999779</td><td>cmx</td><td>STAR</td><td>-0.0019956912923479522</td></tr>\n",
              "<tr><td>1152921504619435916</td><td>cmx</td><td>STAR</td><td>5.986516949155329e-05</td></tr>\n",
              "<tr><td>1152921504619436010</td><td>cmx</td><td>STAR</td><td>-0.00019847937741988822</td></tr>\n",
              "<tr><td>39628494145063940</td><td>cmx</td><td>STAR</td><td>-0.0019956912923479522</td></tr>\n",
              "</table></div>"
            ]
          },
          "metadata": {},
          "execution_count": 62
        }
      ]
    },
    {
      "cell_type": "code",
      "source": [
        "#Creo un sólo set de datos con los 100 datos juntos\n",
        "\n",
        "subdata = vstack((subdata1, subdata2))\n",
        "subdata"
      ],
      "metadata": {
        "colab": {
          "base_uri": "https://localhost:8080/",
          "height": 518
        },
        "id": "3H8I9GRCzkXm",
        "outputId": "e415bad9-c4ca-4be4-ea89-29dd5287e605"
      },
      "id": "3H8I9GRCzkXm",
      "execution_count": 63,
      "outputs": [
        {
          "output_type": "execute_result",
          "data": {
            "text/plain": [
              "<Table length=1000>\n",
              "      TARGETID      SURVEY SPECTYPE            Z           \n",
              "       int64         str7    str6           float64        \n",
              "------------------- ------ -------- -----------------------\n",
              "  39628473202903445    cmx      QSO      1.0724836869842256\n",
              "  39628473202905021    cmx      QSO       2.628380234087188\n",
              "  39628478449979760    cmx      QSO      1.5284469839389512\n",
              "  39628478454170137    cmx      QSO       2.437912157749145\n",
              "1152921504619432614    cmx      QSO      1.1294203675694041\n",
              "  39628488931543273    cmx      QSO      0.5879885699941647\n",
              "  39628483705443044    cmx      QSO       3.641069952113342\n",
              "  39628488927348831    cmx      QSO       1.403102792557713\n",
              "  39628483705441129    cmx      QSO      1.9052059263390442\n",
              "  39628483705441118    cmx      QSO      1.1040875761179672\n",
              "                ...    ...      ...                     ...\n",
              "  39628504525967630    cmx     STAR  -0.0019956912923479522\n",
              "  39628499350192222    cmx     STAR  -0.0019956912923479522\n",
              "1152921504619435962    cmx     STAR  -0.0002749686919503227\n",
              "  39628504538548162    cmx     STAR  -0.0010735460881853328\n",
              " 616089256837775927    cmx     STAR  -0.0019956912923479522\n",
              "  39628499346000286    cmx     STAR  -3.381821135203404e-05\n",
              "  39628499345999779    cmx     STAR  -0.0019956912923479522\n",
              "1152921504619435916    cmx     STAR   5.986516949155329e-05\n",
              "1152921504619436010    cmx     STAR -0.00019847937741988822\n",
              "  39628494145063940    cmx     STAR  -0.0019956912923479522"
            ],
            "text/html": [
              "<div><i>Table length=1000</i>\n",
              "<table id=\"table136064077022496\" class=\"table-striped table-bordered table-condensed\">\n",
              "<thead><tr><th>TARGETID</th><th>SURVEY</th><th>SPECTYPE</th><th>Z</th></tr></thead>\n",
              "<thead><tr><th>int64</th><th>str7</th><th>str6</th><th>float64</th></tr></thead>\n",
              "<tr><td>39628473202903445</td><td>cmx</td><td>QSO</td><td>1.0724836869842256</td></tr>\n",
              "<tr><td>39628473202905021</td><td>cmx</td><td>QSO</td><td>2.628380234087188</td></tr>\n",
              "<tr><td>39628478449979760</td><td>cmx</td><td>QSO</td><td>1.5284469839389512</td></tr>\n",
              "<tr><td>39628478454170137</td><td>cmx</td><td>QSO</td><td>2.437912157749145</td></tr>\n",
              "<tr><td>1152921504619432614</td><td>cmx</td><td>QSO</td><td>1.1294203675694041</td></tr>\n",
              "<tr><td>39628488931543273</td><td>cmx</td><td>QSO</td><td>0.5879885699941647</td></tr>\n",
              "<tr><td>39628483705443044</td><td>cmx</td><td>QSO</td><td>3.641069952113342</td></tr>\n",
              "<tr><td>39628488927348831</td><td>cmx</td><td>QSO</td><td>1.403102792557713</td></tr>\n",
              "<tr><td>39628483705441129</td><td>cmx</td><td>QSO</td><td>1.9052059263390442</td></tr>\n",
              "<tr><td>39628483705441118</td><td>cmx</td><td>QSO</td><td>1.1040875761179672</td></tr>\n",
              "<tr><td>...</td><td>...</td><td>...</td><td>...</td></tr>\n",
              "<tr><td>39628504525967630</td><td>cmx</td><td>STAR</td><td>-0.0019956912923479522</td></tr>\n",
              "<tr><td>39628499350192222</td><td>cmx</td><td>STAR</td><td>-0.0019956912923479522</td></tr>\n",
              "<tr><td>1152921504619435962</td><td>cmx</td><td>STAR</td><td>-0.0002749686919503227</td></tr>\n",
              "<tr><td>39628504538548162</td><td>cmx</td><td>STAR</td><td>-0.0010735460881853328</td></tr>\n",
              "<tr><td>616089256837775927</td><td>cmx</td><td>STAR</td><td>-0.0019956912923479522</td></tr>\n",
              "<tr><td>39628499346000286</td><td>cmx</td><td>STAR</td><td>-3.381821135203404e-05</td></tr>\n",
              "<tr><td>39628499345999779</td><td>cmx</td><td>STAR</td><td>-0.0019956912923479522</td></tr>\n",
              "<tr><td>1152921504619435916</td><td>cmx</td><td>STAR</td><td>5.986516949155329e-05</td></tr>\n",
              "<tr><td>1152921504619436010</td><td>cmx</td><td>STAR</td><td>-0.00019847937741988822</td></tr>\n",
              "<tr><td>39628494145063940</td><td>cmx</td><td>STAR</td><td>-0.0019956912923479522</td></tr>\n",
              "</table></div>"
            ]
          },
          "metadata": {},
          "execution_count": 63
        }
      ]
    },
    {
      "cell_type": "code",
      "source": [
        "#Nuevamente asignaré el primer espectro a una variable\n",
        "\n",
        "client = SparclClient()\n",
        "\n",
        "spectra2 = client.retrieve_by_specid([int(subdata[\"TARGETID\"][0]),],\n",
        "    include=['wavelength', 'flux'])\n",
        "spec2 = spectra2.records[0]"
      ],
      "metadata": {
        "id": "RMxxehh-znes"
      },
      "id": "RMxxehh-znes",
      "execution_count": 64,
      "outputs": []
    },
    {
      "cell_type": "code",
      "source": [
        "specs2 = spec2['flux']\n",
        "specs2.shape"
      ],
      "metadata": {
        "colab": {
          "base_uri": "https://localhost:8080/"
        },
        "id": "Vz2M6HS6z2-k",
        "outputId": "a405704d-0285-4b4e-8a23-2ab25a170fa1"
      },
      "id": "Vz2M6HS6z2-k",
      "execution_count": 65,
      "outputs": [
        {
          "output_type": "execute_result",
          "data": {
            "text/plain": [
              "(7781,)"
            ]
          },
          "metadata": {},
          "execution_count": 65
        }
      ]
    },
    {
      "cell_type": "code",
      "source": [
        "#En este cuadro creo un array donde guardaré los TARGETID de los espectros\n",
        "\n",
        "y2 = np.zeros_like(subdata)\n",
        "y2[0] = int(subdata['TARGETID'][0])"
      ],
      "metadata": {
        "id": "3AiELitV0Dib"
      },
      "id": "3AiELitV0Dib",
      "execution_count": 67,
      "outputs": []
    },
    {
      "cell_type": "code",
      "source": [
        "#Ahora hago este mismo procedimiento pero para todos los 1000 objetos\n",
        "\n",
        "client = SparclClient()\n",
        "for i in range(len(subdata)-1):\n",
        "  try:\n",
        "    spectra2 = client.retrieve_by_specid([int(subdata[\"TARGETID\"][i+1]),], #Comienzo en 1 debido a que el tid 0 lo usé para la var. specs1\n",
        "        include=['wavelength', 'flux'])\n",
        "    y2[i+1] = int(subdata['TARGETID'][i+1])\n",
        "    spec2 = spectra2.records[0]\n",
        "    specs2 = np.vstack((specs2,spec2['flux'].T))\n",
        "  except IndexError:\n",
        "    y2[i+1] = 0\n",
        "    pass"
      ],
      "metadata": {
        "id": "vynmAH2o0SLv"
      },
      "id": "vynmAH2o0SLv",
      "execution_count": 68,
      "outputs": []
    },
    {
      "cell_type": "code",
      "source": [
        "specs2.shape, y2.shape #notamos de nuevo que el conjunto y es más grande debido a que contiene los ceros de los espectros con error"
      ],
      "metadata": {
        "colab": {
          "base_uri": "https://localhost:8080/"
        },
        "id": "hxUaOd6X48Zr",
        "outputId": "90fdca89-71e5-4d40-dc96-8a50a9782f21"
      },
      "id": "hxUaOd6X48Zr",
      "execution_count": 70,
      "outputs": [
        {
          "output_type": "execute_result",
          "data": {
            "text/plain": [
              "((916, 7781), (1000,))"
            ]
          },
          "metadata": {},
          "execution_count": 70
        }
      ]
    },
    {
      "cell_type": "code",
      "source": [
        "#Eliminamos los ceros en la variable y , los cuales son los tids con error y que no están en la variable specs2\n",
        "\n",
        "filter_arr = y2['TARGETID']!=0"
      ],
      "metadata": {
        "id": "sDmhoEWN0cp4"
      },
      "id": "sDmhoEWN0cp4",
      "execution_count": 98,
      "outputs": []
    },
    {
      "cell_type": "code",
      "source": [
        "#Creamos el nuevo arreglo con los targetids sin los ceros\n",
        "\n",
        "new_y = y2[filter_arr]"
      ],
      "metadata": {
        "id": "O4EtN7nS2oAC"
      },
      "id": "O4EtN7nS2oAC",
      "execution_count": 99,
      "outputs": []
    },
    {
      "cell_type": "code",
      "source": [
        "specs2.shape, new_y.shape #Corroboramos que tengamos el mismo numero de samples en ambos sets"
      ],
      "metadata": {
        "colab": {
          "base_uri": "https://localhost:8080/"
        },
        "id": "5w1MRrLD0_B5",
        "outputId": "bdd1de55-d776-4af9-ade5-e32d7afdad71"
      },
      "id": "5w1MRrLD0_B5",
      "execution_count": 100,
      "outputs": [
        {
          "output_type": "execute_result",
          "data": {
            "text/plain": [
              "((916, 7781), (916,))"
            ]
          },
          "metadata": {},
          "execution_count": 100
        }
      ]
    },
    {
      "cell_type": "code",
      "source": [
        "y_2 = np.zeros(916) #creo un arreglo de ceros para asignarle valores\n",
        "y_2.shape"
      ],
      "metadata": {
        "colab": {
          "base_uri": "https://localhost:8080/"
        },
        "id": "EDYerBtj-ILJ",
        "outputId": "16145ea5-c4ef-4f47-913f-346b1580ead9"
      },
      "id": "EDYerBtj-ILJ",
      "execution_count": 135,
      "outputs": [
        {
          "output_type": "execute_result",
          "data": {
            "text/plain": [
              "(916,)"
            ]
          },
          "metadata": {},
          "execution_count": 135
        }
      ]
    },
    {
      "cell_type": "code",
      "source": [
        "zeros = np.zeros(1000)\n",
        "for i in range(len(y2)):\n",
        "  if y2['TARGETID'][i].any()==0:\n",
        "    zeros[i] = i\n",
        ""
      ],
      "metadata": {
        "id": "oFjkrPCJ_6m6"
      },
      "id": "oFjkrPCJ_6m6",
      "execution_count": null,
      "outputs": []
    },
    {
      "cell_type": "code",
      "source": [
        "filter_2 = zeros !=0\n",
        "new_zeros = zeros[filter_2]"
      ],
      "metadata": {
        "id": "KqDLjUFTB7AR"
      },
      "id": "KqDLjUFTB7AR",
      "execution_count": 121,
      "outputs": []
    },
    {
      "cell_type": "code",
      "source": [
        "new_zeros.shape #tenemos la lista del número de espectro que hay que eliminar en subdata"
      ],
      "metadata": {
        "colab": {
          "base_uri": "https://localhost:8080/"
        },
        "id": "oTColpiBCGQv",
        "outputId": "4c69d905-595f-405c-bf7d-28bfe51731da"
      },
      "id": "oTColpiBCGQv",
      "execution_count": 123,
      "outputs": [
        {
          "output_type": "execute_result",
          "data": {
            "text/plain": [
              "(84,)"
            ]
          },
          "metadata": {},
          "execution_count": 123
        }
      ]
    },
    {
      "cell_type": "code",
      "source": [
        "for i in range(len(new_zeros)):\n",
        "  subdata = np.delete(subdata, i)\n",
        "\n",
        "subdata.shape"
      ],
      "metadata": {
        "colab": {
          "base_uri": "https://localhost:8080/"
        },
        "id": "W7AXnZ8XCPkT",
        "outputId": "79f3c6a8-94ca-4c24-ede3-4e533ecfe78b"
      },
      "id": "W7AXnZ8XCPkT",
      "execution_count": 124,
      "outputs": [
        {
          "output_type": "execute_result",
          "data": {
            "text/plain": [
              "(916,)"
            ]
          },
          "metadata": {},
          "execution_count": 124
        }
      ]
    },
    {
      "cell_type": "code",
      "source": [
        "#Lo anterior lo hice para que subdata no contenga la información sobre los objetos con espectros defectuosos y asignar los spectype en el siguiente cuadro:"
      ],
      "metadata": {
        "id": "NR-QaZA6CYPZ"
      },
      "id": "NR-QaZA6CYPZ",
      "execution_count": 125,
      "outputs": []
    },
    {
      "cell_type": "code",
      "source": [
        "#Asigno el valor 0 a los targetid correspondientes a cuasares y el valor 1 a los de estrellas, obteniendo así el conjunto de prueba\n",
        "\n",
        "for i in range(len(y_2)):\n",
        "  if subdata['SPECTYPE'][i] == 'QSO':\n",
        "    y_2[i] = int(0)\n",
        "  if subdata['SPECTYPE'][i] == 'STAR':\n",
        "    y_2[i] = int(1)"
      ],
      "metadata": {
        "id": "T4mnw_2692oT"
      },
      "id": "T4mnw_2692oT",
      "execution_count": 136,
      "outputs": []
    },
    {
      "cell_type": "code",
      "source": [
        "y_2 #Ahora tenemos el conjunto de prueba, con 0 si es un cuásar y 1 si es una estrella"
      ],
      "metadata": {
        "colab": {
          "base_uri": "https://localhost:8080/"
        },
        "id": "qlk2eSBZDBu4",
        "outputId": "f9d9e51e-d1e6-4747-9b5c-9394ee305886"
      },
      "id": "qlk2eSBZDBu4",
      "execution_count": 137,
      "outputs": [
        {
          "output_type": "execute_result",
          "data": {
            "text/plain": [
              "array([0., 0., 0., 0., 0., 0., 0., 0., 0., 0., 0., 0., 0., 0., 0., 0., 0.,\n",
              "       0., 0., 0., 0., 0., 0., 0., 0., 0., 0., 0., 0., 0., 0., 0., 0., 0.,\n",
              "       0., 0., 0., 0., 0., 0., 0., 0., 0., 0., 0., 0., 0., 0., 0., 0., 0.,\n",
              "       0., 0., 0., 0., 0., 0., 0., 0., 0., 0., 0., 0., 0., 0., 0., 0., 0.,\n",
              "       0., 0., 0., 0., 0., 0., 0., 0., 0., 0., 0., 0., 0., 0., 0., 0., 0.,\n",
              "       0., 0., 0., 0., 0., 0., 0., 0., 0., 0., 0., 0., 0., 0., 0., 0., 0.,\n",
              "       0., 0., 0., 0., 0., 0., 0., 0., 0., 0., 0., 0., 0., 0., 0., 0., 0.,\n",
              "       0., 0., 0., 0., 0., 0., 0., 0., 0., 0., 0., 0., 0., 0., 0., 0., 0.,\n",
              "       0., 0., 0., 0., 0., 0., 0., 0., 0., 0., 0., 0., 0., 0., 0., 0., 0.,\n",
              "       0., 0., 0., 0., 0., 0., 0., 0., 0., 0., 0., 0., 0., 0., 0., 0., 0.,\n",
              "       0., 0., 0., 0., 0., 0., 0., 0., 0., 0., 0., 0., 0., 0., 0., 0., 0.,\n",
              "       0., 0., 0., 0., 0., 0., 0., 0., 0., 0., 0., 0., 0., 0., 0., 0., 0.,\n",
              "       0., 0., 0., 0., 0., 0., 0., 0., 0., 0., 0., 0., 0., 0., 0., 0., 0.,\n",
              "       0., 0., 0., 0., 0., 0., 0., 0., 0., 0., 0., 0., 0., 0., 0., 0., 0.,\n",
              "       0., 0., 0., 0., 0., 0., 0., 0., 0., 0., 0., 0., 0., 0., 0., 0., 0.,\n",
              "       0., 0., 0., 0., 0., 0., 0., 0., 0., 0., 0., 0., 0., 0., 0., 0., 0.,\n",
              "       0., 0., 0., 0., 0., 0., 0., 0., 0., 0., 0., 0., 0., 0., 0., 0., 0.,\n",
              "       0., 0., 0., 0., 0., 0., 0., 0., 0., 0., 0., 0., 0., 0., 0., 0., 0.,\n",
              "       0., 0., 0., 0., 0., 0., 0., 0., 0., 0., 0., 0., 0., 0., 0., 0., 0.,\n",
              "       0., 0., 0., 0., 0., 0., 0., 0., 0., 0., 0., 0., 0., 0., 0., 0., 0.,\n",
              "       0., 0., 0., 0., 0., 0., 0., 0., 0., 0., 0., 0., 0., 0., 0., 0., 0.,\n",
              "       0., 0., 0., 0., 0., 0., 0., 0., 0., 0., 0., 0., 0., 0., 0., 0., 0.,\n",
              "       0., 0., 0., 0., 0., 0., 0., 0., 0., 0., 0., 0., 0., 0., 0., 0., 0.,\n",
              "       0., 0., 0., 0., 0., 0., 0., 0., 0., 0., 0., 0., 0., 0., 0., 0., 0.,\n",
              "       0., 0., 0., 0., 0., 0., 0., 0., 1., 1., 1., 1., 1., 1., 1., 1., 1.,\n",
              "       1., 1., 1., 1., 1., 1., 1., 1., 1., 1., 1., 1., 1., 1., 1., 1., 1.,\n",
              "       1., 1., 1., 1., 1., 1., 1., 1., 1., 1., 1., 1., 1., 1., 1., 1., 1.,\n",
              "       1., 1., 1., 1., 1., 1., 1., 1., 1., 1., 1., 1., 1., 1., 1., 1., 1.,\n",
              "       1., 1., 1., 1., 1., 1., 1., 1., 1., 1., 1., 1., 1., 1., 1., 1., 1.,\n",
              "       1., 1., 1., 1., 1., 1., 1., 1., 1., 1., 1., 1., 1., 1., 1., 1., 1.,\n",
              "       1., 1., 1., 1., 1., 1., 1., 1., 1., 1., 1., 1., 1., 1., 1., 1., 1.,\n",
              "       1., 1., 1., 1., 1., 1., 1., 1., 1., 1., 1., 1., 1., 1., 1., 1., 1.,\n",
              "       1., 1., 1., 1., 1., 1., 1., 1., 1., 1., 1., 1., 1., 1., 1., 1., 1.,\n",
              "       1., 1., 1., 1., 1., 1., 1., 1., 1., 1., 1., 1., 1., 1., 1., 1., 1.,\n",
              "       1., 1., 1., 1., 1., 1., 1., 1., 1., 1., 1., 1., 1., 1., 1., 1., 1.,\n",
              "       1., 1., 1., 1., 1., 1., 1., 1., 1., 1., 1., 1., 1., 1., 1., 1., 1.,\n",
              "       1., 1., 1., 1., 1., 1., 1., 1., 1., 1., 1., 1., 1., 1., 1., 1., 1.,\n",
              "       1., 1., 1., 1., 1., 1., 1., 1., 1., 1., 1., 1., 1., 1., 1., 1., 1.,\n",
              "       1., 1., 1., 1., 1., 1., 1., 1., 1., 1., 1., 1., 1., 1., 1., 1., 1.,\n",
              "       1., 1., 1., 1., 1., 1., 1., 1., 1., 1., 1., 1., 1., 1., 1., 1., 1.,\n",
              "       1., 1., 1., 1., 1., 1., 1., 1., 1., 1., 1., 1., 1., 1., 1., 1., 1.,\n",
              "       1., 1., 1., 1., 1., 1., 1., 1., 1., 1., 1., 1., 1., 1., 1., 1., 1.,\n",
              "       1., 1., 1., 1., 1., 1., 1., 1., 1., 1., 1., 1., 1., 1., 1., 1., 1.,\n",
              "       1., 1., 1., 1., 1., 1., 1., 1., 1., 1., 1., 1., 1., 1., 1., 1., 1.,\n",
              "       1., 1., 1., 1., 1., 1., 1., 1., 1., 1., 1., 1., 1., 1., 1., 1., 1.,\n",
              "       1., 1., 1., 1., 1., 1., 1., 1., 1., 1., 1., 1., 1., 1., 1., 1., 1.,\n",
              "       1., 1., 1., 1., 1., 1., 1., 1., 1., 1., 1., 1., 1., 1., 1., 1., 1.,\n",
              "       1., 1., 1., 1., 1., 1., 1., 1., 1., 1., 1., 1., 1., 1., 1., 1., 1.,\n",
              "       1., 1., 1., 1., 1., 1., 1., 1., 1., 1., 1., 1., 1., 1., 1., 1., 1.,\n",
              "       1., 1., 1., 1., 1., 1., 1., 1., 1., 1., 1., 1., 1., 1., 1., 1., 1.,\n",
              "       1., 1., 1., 1., 1., 1., 1., 1., 1., 1., 1., 1., 1., 1., 1., 1., 1.,\n",
              "       1., 1., 1., 1., 1., 1., 1., 1., 1., 1., 1., 1., 1., 1., 1., 1., 1.,\n",
              "       1., 1., 1., 1., 1., 1., 1., 1., 1., 1., 1., 1., 1., 1., 1., 1., 1.,\n",
              "       1., 1., 1., 1., 1., 1., 1., 1., 1., 1., 1., 1., 1., 1., 1.])"
            ]
          },
          "metadata": {},
          "execution_count": 137
        }
      ]
    },
    {
      "cell_type": "code",
      "source": [
        "#Nuestros datos ya están de la forma (n features, n samples), solo hay que normalizarlos\n",
        "\n",
        "#Renombro los datos solo para tener una notación más familiar y fácil de recordar (notación que usamos en los ejercicios durante el curso)\n",
        "X_flatten = specs2.T\n",
        "Y = y_2\n",
        "\n",
        "scaler=preprocessing.StandardScaler().fit(X_flatten)\n",
        "X_scaled = scaler.transform(X_flatten)\n",
        "X_scaled.shape #corroboro que los datos estén de la forma (n features, n samples)"
      ],
      "metadata": {
        "colab": {
          "base_uri": "https://localhost:8080/"
        },
        "id": "PRMEOCb6DIQz",
        "outputId": "d10b9301-1c76-474a-e39d-3039d738ff57"
      },
      "id": "PRMEOCb6DIQz",
      "execution_count": 138,
      "outputs": [
        {
          "output_type": "execute_result",
          "data": {
            "text/plain": [
              "(7781, 916)"
            ]
          },
          "metadata": {},
          "execution_count": 138
        }
      ]
    },
    {
      "cell_type": "code",
      "source": [
        "x_train, x_test, y_train, y_test = train_test_split(X_scaled.T,Y, test_size=0.10, random_state=42,shuffle= True) #Hago shuffle = True para que no estén los datos sesgados (50,50) en ese orden"
      ],
      "metadata": {
        "id": "GzX7FokaDanG"
      },
      "id": "GzX7FokaDanG",
      "execution_count": 139,
      "outputs": []
    },
    {
      "cell_type": "code",
      "source": [
        "x_train.shape, x_test.shape"
      ],
      "metadata": {
        "colab": {
          "base_uri": "https://localhost:8080/"
        },
        "id": "kUnYllfDDbKr",
        "outputId": "dfad6d1e-98a1-482c-af6d-ba95d4547d43"
      },
      "id": "kUnYllfDDbKr",
      "execution_count": 140,
      "outputs": [
        {
          "output_type": "execute_result",
          "data": {
            "text/plain": [
              "((824, 7781), (92, 7781))"
            ]
          },
          "metadata": {},
          "execution_count": 140
        }
      ]
    },
    {
      "cell_type": "markdown",
      "source": [
        "Ahora tengo el set nuevo preparado para usarlo en las distintas arquitecturas."
      ],
      "metadata": {
        "id": "QE_B6C7IDh4o"
      },
      "id": "QE_B6C7IDh4o"
    },
    {
      "cell_type": "markdown",
      "source": [
        "La primera que probaré con este set será la del modelo 3, que tiene el 65% de test accuracy para 100 espectros."
      ],
      "metadata": {
        "id": "BHitK7rVEFnp"
      },
      "id": "BHitK7rVEFnp"
    },
    {
      "cell_type": "code",
      "source": [
        "tf.random.set_seed(1234)\n",
        "model7 = Sequential(\n",
        "    [\n",
        "        tf.keras.Input(shape=(x_train.shape[1],)),\n",
        "        Dense(30, activation='relu', name = 'layer0'),\n",
        "        Dense(20, activation='relu', name = 'layer1'),\n",
        "        Dense(10, activation='relu', name = 'layer2'),\n",
        "        Dense(1, activation='sigmoid', name = 'layer3'),\n",
        "     ]\n",
        ")\n",
        "model7.summary()\n",
        "model7.compile(\n",
        "    loss = tf.keras.losses.BinaryCrossentropy(),\n",
        "    optimizer='sgd',\n",
        "    metrics=[tf.keras.metrics.BinaryAccuracy()]\n",
        ")"
      ],
      "metadata": {
        "colab": {
          "base_uri": "https://localhost:8080/"
        },
        "id": "b430VzBADhBI",
        "outputId": "d708540b-fc1e-4c52-8322-92181c80bd63"
      },
      "id": "b430VzBADhBI",
      "execution_count": 141,
      "outputs": [
        {
          "output_type": "stream",
          "name": "stdout",
          "text": [
            "Model: \"sequential_1\"\n",
            "_________________________________________________________________\n",
            " Layer (type)                Output Shape              Param #   \n",
            "=================================================================\n",
            " layer0 (Dense)              (None, 30)                233460    \n",
            "                                                                 \n",
            " layer1 (Dense)              (None, 20)                620       \n",
            "                                                                 \n",
            " layer2 (Dense)              (None, 10)                210       \n",
            "                                                                 \n",
            " layer3 (Dense)              (None, 1)                 11        \n",
            "                                                                 \n",
            "=================================================================\n",
            "Total params: 234301 (915.24 KB)\n",
            "Trainable params: 234301 (915.24 KB)\n",
            "Non-trainable params: 0 (0.00 Byte)\n",
            "_________________________________________________________________\n"
          ]
        }
      ]
    },
    {
      "cell_type": "code",
      "source": [
        "model7.fit(\n",
        "    x_train,y_train,\n",
        "    epochs=45,\n",
        "    batch_size=20,\n",
        "    validation_split=0.1\n",
        ")\n",
        "\n",
        "y_hat = model7.predict(x_test)\n",
        "y_hat= (y_hat >= 0.5).astype(int)\n",
        "print(\"test accuracy: {} %\".format(100 - np.mean(np.abs(y_hat - y_test)) * 100))"
      ],
      "metadata": {
        "colab": {
          "base_uri": "https://localhost:8080/"
        },
        "id": "1r7dfvH-EBHF",
        "outputId": "3731dcef-a581-4020-c41b-b1dbc25898d9"
      },
      "id": "1r7dfvH-EBHF",
      "execution_count": 142,
      "outputs": [
        {
          "output_type": "stream",
          "name": "stdout",
          "text": [
            "Epoch 1/45\n",
            "38/38 [==============================] - 1s 10ms/step - loss: 0.5266 - binary_accuracy: 0.8273 - val_loss: 0.5031 - val_binary_accuracy: 0.8554\n",
            "Epoch 2/45\n",
            "38/38 [==============================] - 0s 5ms/step - loss: 0.3899 - binary_accuracy: 0.9285 - val_loss: 0.4882 - val_binary_accuracy: 0.9036\n",
            "Epoch 3/45\n",
            "38/38 [==============================] - 0s 6ms/step - loss: 0.3265 - binary_accuracy: 0.9528 - val_loss: 0.7093 - val_binary_accuracy: 0.8554\n",
            "Epoch 4/45\n",
            "38/38 [==============================] - 0s 6ms/step - loss: 0.3064 - binary_accuracy: 0.9595 - val_loss: 0.4268 - val_binary_accuracy: 0.8795\n",
            "Epoch 5/45\n",
            "38/38 [==============================] - 0s 5ms/step - loss: 0.2493 - binary_accuracy: 0.9717 - val_loss: 0.4340 - val_binary_accuracy: 0.8554\n",
            "Epoch 6/45\n",
            "38/38 [==============================] - 0s 6ms/step - loss: 0.2147 - binary_accuracy: 0.9757 - val_loss: 0.4133 - val_binary_accuracy: 0.8795\n",
            "Epoch 7/45\n",
            "38/38 [==============================] - 0s 6ms/step - loss: 0.1831 - binary_accuracy: 0.9825 - val_loss: 0.3980 - val_binary_accuracy: 0.8675\n",
            "Epoch 8/45\n",
            "38/38 [==============================] - 0s 5ms/step - loss: 0.1543 - binary_accuracy: 0.9852 - val_loss: 0.4139 - val_binary_accuracy: 0.8916\n",
            "Epoch 9/45\n",
            "38/38 [==============================] - 0s 6ms/step - loss: 0.1361 - binary_accuracy: 0.9879 - val_loss: 0.3701 - val_binary_accuracy: 0.8795\n",
            "Epoch 10/45\n",
            "38/38 [==============================] - 0s 6ms/step - loss: 0.1202 - binary_accuracy: 0.9892 - val_loss: 0.3728 - val_binary_accuracy: 0.8675\n",
            "Epoch 11/45\n",
            "38/38 [==============================] - 0s 6ms/step - loss: 0.1115 - binary_accuracy: 0.9879 - val_loss: 0.3785 - val_binary_accuracy: 0.8675\n",
            "Epoch 12/45\n",
            "38/38 [==============================] - 0s 7ms/step - loss: 0.0923 - binary_accuracy: 0.9946 - val_loss: 0.3597 - val_binary_accuracy: 0.8675\n",
            "Epoch 13/45\n",
            "38/38 [==============================] - 0s 8ms/step - loss: 0.0799 - binary_accuracy: 0.9960 - val_loss: 0.3670 - val_binary_accuracy: 0.8675\n",
            "Epoch 14/45\n",
            "38/38 [==============================] - 0s 9ms/step - loss: 0.0692 - binary_accuracy: 1.0000 - val_loss: 0.3835 - val_binary_accuracy: 0.8795\n",
            "Epoch 15/45\n",
            "38/38 [==============================] - 0s 7ms/step - loss: 0.0659 - binary_accuracy: 0.9987 - val_loss: 0.3757 - val_binary_accuracy: 0.8675\n",
            "Epoch 16/45\n",
            "38/38 [==============================] - 0s 6ms/step - loss: 0.0623 - binary_accuracy: 0.9960 - val_loss: 0.4047 - val_binary_accuracy: 0.8795\n",
            "Epoch 17/45\n",
            "38/38 [==============================] - 0s 6ms/step - loss: 0.0515 - binary_accuracy: 1.0000 - val_loss: 0.4072 - val_binary_accuracy: 0.8675\n",
            "Epoch 18/45\n",
            "38/38 [==============================] - 0s 6ms/step - loss: 0.0467 - binary_accuracy: 1.0000 - val_loss: 0.4116 - val_binary_accuracy: 0.8795\n",
            "Epoch 19/45\n",
            "38/38 [==============================] - 0s 5ms/step - loss: 0.0426 - binary_accuracy: 1.0000 - val_loss: 0.4186 - val_binary_accuracy: 0.8795\n",
            "Epoch 20/45\n",
            "38/38 [==============================] - 0s 5ms/step - loss: 0.0409 - binary_accuracy: 0.9973 - val_loss: 0.4378 - val_binary_accuracy: 0.8795\n",
            "Epoch 21/45\n",
            "38/38 [==============================] - 0s 7ms/step - loss: 0.0359 - binary_accuracy: 1.0000 - val_loss: 0.4277 - val_binary_accuracy: 0.8795\n",
            "Epoch 22/45\n",
            "38/38 [==============================] - 0s 6ms/step - loss: 0.0323 - binary_accuracy: 0.9987 - val_loss: 0.5081 - val_binary_accuracy: 0.8554\n",
            "Epoch 23/45\n",
            "38/38 [==============================] - 0s 6ms/step - loss: 0.0309 - binary_accuracy: 1.0000 - val_loss: 0.4396 - val_binary_accuracy: 0.8675\n",
            "Epoch 24/45\n",
            "38/38 [==============================] - 0s 5ms/step - loss: 0.0279 - binary_accuracy: 1.0000 - val_loss: 0.4436 - val_binary_accuracy: 0.8675\n",
            "Epoch 25/45\n",
            "38/38 [==============================] - 0s 6ms/step - loss: 0.0266 - binary_accuracy: 1.0000 - val_loss: 0.4454 - val_binary_accuracy: 0.8675\n",
            "Epoch 26/45\n",
            "38/38 [==============================] - 0s 6ms/step - loss: 0.0237 - binary_accuracy: 1.0000 - val_loss: 0.4535 - val_binary_accuracy: 0.8675\n",
            "Epoch 27/45\n",
            "38/38 [==============================] - 0s 6ms/step - loss: 0.0220 - binary_accuracy: 1.0000 - val_loss: 0.4613 - val_binary_accuracy: 0.8675\n",
            "Epoch 28/45\n",
            "38/38 [==============================] - 0s 6ms/step - loss: 0.0207 - binary_accuracy: 1.0000 - val_loss: 0.4701 - val_binary_accuracy: 0.8675\n",
            "Epoch 29/45\n",
            "38/38 [==============================] - 0s 5ms/step - loss: 0.0191 - binary_accuracy: 1.0000 - val_loss: 0.4730 - val_binary_accuracy: 0.8675\n",
            "Epoch 30/45\n",
            "38/38 [==============================] - 0s 6ms/step - loss: 0.0179 - binary_accuracy: 1.0000 - val_loss: 0.4832 - val_binary_accuracy: 0.8675\n",
            "Epoch 31/45\n",
            "38/38 [==============================] - 0s 6ms/step - loss: 0.0167 - binary_accuracy: 1.0000 - val_loss: 0.4879 - val_binary_accuracy: 0.8675\n",
            "Epoch 32/45\n",
            "38/38 [==============================] - 0s 6ms/step - loss: 0.0158 - binary_accuracy: 1.0000 - val_loss: 0.4924 - val_binary_accuracy: 0.8675\n",
            "Epoch 33/45\n",
            "38/38 [==============================] - 0s 6ms/step - loss: 0.0150 - binary_accuracy: 1.0000 - val_loss: 0.4981 - val_binary_accuracy: 0.8675\n",
            "Epoch 34/45\n",
            "38/38 [==============================] - 0s 6ms/step - loss: 0.0141 - binary_accuracy: 1.0000 - val_loss: 0.5034 - val_binary_accuracy: 0.8675\n",
            "Epoch 35/45\n",
            "38/38 [==============================] - 0s 6ms/step - loss: 0.0135 - binary_accuracy: 1.0000 - val_loss: 0.5103 - val_binary_accuracy: 0.8675\n",
            "Epoch 36/45\n",
            "38/38 [==============================] - 0s 6ms/step - loss: 0.0127 - binary_accuracy: 1.0000 - val_loss: 0.5171 - val_binary_accuracy: 0.8675\n",
            "Epoch 37/45\n",
            "38/38 [==============================] - 0s 8ms/step - loss: 0.0119 - binary_accuracy: 1.0000 - val_loss: 0.5208 - val_binary_accuracy: 0.8675\n",
            "Epoch 38/45\n",
            "38/38 [==============================] - 0s 10ms/step - loss: 0.0113 - binary_accuracy: 1.0000 - val_loss: 0.5262 - val_binary_accuracy: 0.8675\n",
            "Epoch 39/45\n",
            "38/38 [==============================] - 1s 20ms/step - loss: 0.0107 - binary_accuracy: 1.0000 - val_loss: 0.5315 - val_binary_accuracy: 0.8675\n",
            "Epoch 40/45\n",
            "38/38 [==============================] - 0s 9ms/step - loss: 0.0101 - binary_accuracy: 1.0000 - val_loss: 0.5381 - val_binary_accuracy: 0.8795\n",
            "Epoch 41/45\n",
            "38/38 [==============================] - 0s 9ms/step - loss: 0.0097 - binary_accuracy: 1.0000 - val_loss: 0.5456 - val_binary_accuracy: 0.8795\n",
            "Epoch 42/45\n",
            "38/38 [==============================] - 0s 9ms/step - loss: 0.0093 - binary_accuracy: 1.0000 - val_loss: 0.5446 - val_binary_accuracy: 0.8675\n",
            "Epoch 43/45\n",
            "38/38 [==============================] - 0s 10ms/step - loss: 0.0089 - binary_accuracy: 1.0000 - val_loss: 0.5516 - val_binary_accuracy: 0.8795\n",
            "Epoch 44/45\n",
            "38/38 [==============================] - 0s 9ms/step - loss: 0.0084 - binary_accuracy: 1.0000 - val_loss: 0.5561 - val_binary_accuracy: 0.8795\n",
            "Epoch 45/45\n",
            "38/38 [==============================] - 0s 8ms/step - loss: 0.0081 - binary_accuracy: 1.0000 - val_loss: 0.5597 - val_binary_accuracy: 0.8795\n",
            "3/3 [==============================] - 0s 6ms/step\n",
            "test accuracy: 50.25992438563327 %\n"
          ]
        }
      ]
    },
    {
      "cell_type": "markdown",
      "source": [
        "Se obtuvo el 50% de test accuracy, es decir fue menor con respecto a la prueba de esta misma red con 100 espectros, por lo que probaré con el modelo 5, el cual tenía alta varianza, cuya solución puede ser el aumento del número de muestras."
      ],
      "metadata": {
        "id": "DQ6Q5AvbFIWT"
      },
      "id": "DQ6Q5AvbFIWT"
    },
    {
      "cell_type": "code",
      "source": [
        "tf.random.set_seed(1234)\n",
        "model8 = Sequential(\n",
        "    [\n",
        "        tf.keras.Input(shape=(x_train.shape[1],)),\n",
        "        Dense(100, activation='relu', kernel_initializer='he_uniform', name = 'layer0'),\n",
        "        Dropout(0.1),\n",
        "        Dense(100, activation='relu',kernel_initializer='he_uniform', name = 'layer1'),\n",
        "        Dropout(0.1),\n",
        "        Dense(100, activation='relu',kernel_initializer='he_uniform', name = 'layer2'),\n",
        "        Dropout(0.1),\n",
        "        Dense(1, activation='sigmoid',kernel_initializer='he_uniform', name = 'layer3'),\n",
        "     ]\n",
        ")\n",
        "model8.summary()\n",
        "model8.compile(\n",
        "    loss = tf.keras.losses.BinaryCrossentropy(),\n",
        "    optimizer='sgd',\n",
        "    metrics=[tf.keras.metrics.BinaryAccuracy()]\n",
        ")"
      ],
      "metadata": {
        "colab": {
          "base_uri": "https://localhost:8080/"
        },
        "id": "3AFBT5aWFgto",
        "outputId": "232b9987-b374-48c5-d44f-908694e94b94"
      },
      "id": "3AFBT5aWFgto",
      "execution_count": 143,
      "outputs": [
        {
          "output_type": "stream",
          "name": "stdout",
          "text": [
            "Model: \"sequential_2\"\n",
            "_________________________________________________________________\n",
            " Layer (type)                Output Shape              Param #   \n",
            "=================================================================\n",
            " layer0 (Dense)              (None, 100)               778200    \n",
            "                                                                 \n",
            " dropout (Dropout)           (None, 100)               0         \n",
            "                                                                 \n",
            " layer1 (Dense)              (None, 100)               10100     \n",
            "                                                                 \n",
            " dropout_1 (Dropout)         (None, 100)               0         \n",
            "                                                                 \n",
            " layer2 (Dense)              (None, 100)               10100     \n",
            "                                                                 \n",
            " dropout_2 (Dropout)         (None, 100)               0         \n",
            "                                                                 \n",
            " layer3 (Dense)              (None, 1)                 101       \n",
            "                                                                 \n",
            "=================================================================\n",
            "Total params: 798501 (3.05 MB)\n",
            "Trainable params: 798501 (3.05 MB)\n",
            "Non-trainable params: 0 (0.00 Byte)\n",
            "_________________________________________________________________\n"
          ]
        }
      ]
    },
    {
      "cell_type": "code",
      "source": [
        "history8 = model8.fit(\n",
        "    x_train,y_train,\n",
        "    epochs=11,\n",
        "    batch_size=83,\n",
        "    validation_split=0.1\n",
        ")\n",
        "\n",
        "y_hat = model8.predict(x_test)\n",
        "y_hat= (y_hat >= 0.5).astype(int)\n",
        "print(\"test accuracy: {} %\".format(100 - np.mean(np.abs(y_hat - y_test)) * 100))"
      ],
      "metadata": {
        "colab": {
          "base_uri": "https://localhost:8080/"
        },
        "id": "FhCNNZjJFltw",
        "outputId": "92190644-6069-447e-a9d4-f1d3c5c23b8f"
      },
      "id": "FhCNNZjJFltw",
      "execution_count": 144,
      "outputs": [
        {
          "output_type": "stream",
          "name": "stdout",
          "text": [
            "Epoch 1/11\n",
            "9/9 [==============================] - 1s 43ms/step - loss: 0.7855 - binary_accuracy: 0.7544 - val_loss: 0.4997 - val_binary_accuracy: 0.8434\n",
            "Epoch 2/11\n",
            "9/9 [==============================] - 0s 19ms/step - loss: 0.4387 - binary_accuracy: 0.8826 - val_loss: 0.4707 - val_binary_accuracy: 0.8795\n",
            "Epoch 3/11\n",
            "9/9 [==============================] - 0s 18ms/step - loss: 0.3770 - binary_accuracy: 0.8988 - val_loss: 0.4690 - val_binary_accuracy: 0.8675\n",
            "Epoch 4/11\n",
            "9/9 [==============================] - 0s 18ms/step - loss: 0.3408 - binary_accuracy: 0.9163 - val_loss: 0.4543 - val_binary_accuracy: 0.9036\n",
            "Epoch 5/11\n",
            "9/9 [==============================] - 0s 20ms/step - loss: 0.3088 - binary_accuracy: 0.9366 - val_loss: 0.4437 - val_binary_accuracy: 0.8916\n",
            "Epoch 6/11\n",
            "9/9 [==============================] - 0s 20ms/step - loss: 0.2968 - binary_accuracy: 0.9433 - val_loss: 0.4387 - val_binary_accuracy: 0.8916\n",
            "Epoch 7/11\n",
            "9/9 [==============================] - 0s 19ms/step - loss: 0.2763 - binary_accuracy: 0.9501 - val_loss: 0.4389 - val_binary_accuracy: 0.8675\n",
            "Epoch 8/11\n",
            "9/9 [==============================] - 0s 25ms/step - loss: 0.2478 - binary_accuracy: 0.9663 - val_loss: 0.4346 - val_binary_accuracy: 0.8916\n",
            "Epoch 9/11\n",
            "9/9 [==============================] - 0s 26ms/step - loss: 0.2515 - binary_accuracy: 0.9541 - val_loss: 0.4272 - val_binary_accuracy: 0.8795\n",
            "Epoch 10/11\n",
            "9/9 [==============================] - 0s 25ms/step - loss: 0.2208 - binary_accuracy: 0.9744 - val_loss: 0.4251 - val_binary_accuracy: 0.8916\n",
            "Epoch 11/11\n",
            "9/9 [==============================] - 0s 28ms/step - loss: 0.2077 - binary_accuracy: 0.9784 - val_loss: 0.4215 - val_binary_accuracy: 0.8795\n",
            "3/3 [==============================] - 0s 9ms/step\n",
            "test accuracy: 50.07088846880907 %\n"
          ]
        }
      ]
    },
    {
      "cell_type": "code",
      "source": [
        "plt.plot(history8.history['loss'])\n",
        "plt.plot(history8.history['val_loss'])\n",
        "plt.title('model loss')\n",
        "plt.ylabel('loss')\n",
        "plt.xlabel('epoch')\n",
        "plt.legend(['train', 'Val'], loc='upper left')\n",
        "plt.show()"
      ],
      "metadata": {
        "colab": {
          "base_uri": "https://localhost:8080/",
          "height": 472
        },
        "id": "LRU2IpB8Fplz",
        "outputId": "336e230d-c8ee-43b8-f7ca-14f078756157"
      },
      "id": "LRU2IpB8Fplz",
      "execution_count": 145,
      "outputs": [
        {
          "output_type": "display_data",
          "data": {
            "text/plain": [
              "<Figure size 640x480 with 1 Axes>"
            ],
            "image/png": "[encoded data removed]"
          },
          "metadata": {}
        }
      ]
    },
    {
      "cell_type": "markdown",
      "source": [
        "Nuevamente obtenemos alta varianza, probaremos con aumentar la regularización."
      ],
      "metadata": {
        "id": "iI-1HVE7GCs7"
      },
      "id": "iI-1HVE7GCs7"
    },
    {
      "cell_type": "code",
      "source": [
        "tf.random.set_seed(1234)\n",
        "model9 = Sequential(\n",
        "    [\n",
        "        tf.keras.Input(shape=(x_train.shape[1],)),\n",
        "        Dense(100, activation='relu', kernel_initializer='he_uniform', name = 'layer0'),\n",
        "        Dropout(0.1),\n",
        "        Dense(100, activation='relu',kernel_initializer='he_uniform', name = 'layer1'),\n",
        "        Dropout(0.1),\n",
        "        Dense(100, activation='relu',kernel_initializer='he_uniform', name = 'layer2'),\n",
        "        Dropout(0.1),\n",
        "        Dense(1, activation='sigmoid',kernel_initializer='he_uniform', name = 'layer3'),\n",
        "     ]\n",
        ")\n",
        "model9.summary()\n",
        "model9.compile(\n",
        "    loss = tf.keras.losses.BinaryCrossentropy(),\n",
        "    optimizer='sgd',\n",
        "    metrics=[tf.keras.metrics.BinaryAccuracy()]\n",
        ")"
      ],
      "metadata": {
        "colab": {
          "base_uri": "https://localhost:8080/"
        },
        "id": "qtbTgyG5GLl4",
        "outputId": "044da466-375b-479a-8849-a02f26f5b40d"
      },
      "id": "qtbTgyG5GLl4",
      "execution_count": 146,
      "outputs": [
        {
          "output_type": "stream",
          "name": "stdout",
          "text": [
            "Model: \"sequential_3\"\n",
            "_________________________________________________________________\n",
            " Layer (type)                Output Shape              Param #   \n",
            "=================================================================\n",
            " layer0 (Dense)              (None, 100)               778200    \n",
            "                                                                 \n",
            " dropout_3 (Dropout)         (None, 100)               0         \n",
            "                                                                 \n",
            " layer1 (Dense)              (None, 100)               10100     \n",
            "                                                                 \n",
            " dropout_4 (Dropout)         (None, 100)               0         \n",
            "                                                                 \n",
            " layer2 (Dense)              (None, 100)               10100     \n",
            "                                                                 \n",
            " dropout_5 (Dropout)         (None, 100)               0         \n",
            "                                                                 \n",
            " layer3 (Dense)              (None, 1)                 101       \n",
            "                                                                 \n",
            "=================================================================\n",
            "Total params: 798501 (3.05 MB)\n",
            "Trainable params: 798501 (3.05 MB)\n",
            "Non-trainable params: 0 (0.00 Byte)\n",
            "_________________________________________________________________\n"
          ]
        }
      ]
    },
    {
      "cell_type": "code",
      "source": [
        "history9 = model9.fit(\n",
        "    x_train,y_train,\n",
        "    epochs=25,\n",
        "    batch_size=36,\n",
        "    validation_split=0.1\n",
        ")\n",
        "\n",
        "y_hat = model9.predict(x_test)\n",
        "y_hat= (y_hat >= 0.5).astype(int)\n",
        "print(\"test accuracy: {} %\".format(100 - np.mean(np.abs(y_hat - y_test)) * 100))"
      ],
      "metadata": {
        "colab": {
          "base_uri": "https://localhost:8080/"
        },
        "id": "l_kVpekEGN-c",
        "outputId": "e084403b-fc1d-4bb0-fbbb-d3638600e368"
      },
      "id": "l_kVpekEGN-c",
      "execution_count": 147,
      "outputs": [
        {
          "output_type": "stream",
          "name": "stdout",
          "text": [
            "Epoch 1/25\n",
            "21/21 [==============================] - 1s 19ms/step - loss: 0.5269 - binary_accuracy: 0.8313 - val_loss: 0.4603 - val_binary_accuracy: 0.9036\n",
            "Epoch 2/25\n",
            "21/21 [==============================] - 0s 13ms/step - loss: 0.3915 - binary_accuracy: 0.9001 - val_loss: 0.4238 - val_binary_accuracy: 0.9036\n",
            "Epoch 3/25\n",
            "21/21 [==============================] - 0s 11ms/step - loss: 0.3220 - binary_accuracy: 0.9433 - val_loss: 0.4179 - val_binary_accuracy: 0.8916\n",
            "Epoch 4/25\n",
            "21/21 [==============================] - 0s 11ms/step - loss: 0.2805 - binary_accuracy: 0.9555 - val_loss: 0.3941 - val_binary_accuracy: 0.9036\n",
            "Epoch 5/25\n",
            "21/21 [==============================] - 0s 11ms/step - loss: 0.2546 - binary_accuracy: 0.9636 - val_loss: 0.3878 - val_binary_accuracy: 0.9036\n",
            "Epoch 6/25\n",
            "21/21 [==============================] - 0s 11ms/step - loss: 0.2289 - binary_accuracy: 0.9717 - val_loss: 0.4005 - val_binary_accuracy: 0.8916\n",
            "Epoch 7/25\n",
            "21/21 [==============================] - 0s 11ms/step - loss: 0.2138 - binary_accuracy: 0.9784 - val_loss: 0.3736 - val_binary_accuracy: 0.8916\n",
            "Epoch 8/25\n",
            "21/21 [==============================] - 0s 11ms/step - loss: 0.1924 - binary_accuracy: 0.9825 - val_loss: 0.3612 - val_binary_accuracy: 0.8795\n",
            "Epoch 9/25\n",
            "21/21 [==============================] - 0s 11ms/step - loss: 0.1825 - binary_accuracy: 0.9784 - val_loss: 0.3598 - val_binary_accuracy: 0.8916\n",
            "Epoch 10/25\n",
            "21/21 [==============================] - 0s 11ms/step - loss: 0.1596 - binary_accuracy: 0.9865 - val_loss: 0.3355 - val_binary_accuracy: 0.8916\n",
            "Epoch 11/25\n",
            "21/21 [==============================] - 0s 12ms/step - loss: 0.1424 - binary_accuracy: 0.9919 - val_loss: 0.3292 - val_binary_accuracy: 0.8916\n",
            "Epoch 12/25\n",
            "21/21 [==============================] - 0s 11ms/step - loss: 0.1260 - binary_accuracy: 0.9933 - val_loss: 0.3179 - val_binary_accuracy: 0.8916\n",
            "Epoch 13/25\n",
            "21/21 [==============================] - 0s 11ms/step - loss: 0.1186 - binary_accuracy: 0.9946 - val_loss: 0.3224 - val_binary_accuracy: 0.8795\n",
            "Epoch 14/25\n",
            "21/21 [==============================] - 0s 11ms/step - loss: 0.1098 - binary_accuracy: 0.9973 - val_loss: 0.3270 - val_binary_accuracy: 0.8916\n",
            "Epoch 15/25\n",
            "21/21 [==============================] - 0s 17ms/step - loss: 0.1041 - binary_accuracy: 0.9946 - val_loss: 0.2850 - val_binary_accuracy: 0.8916\n",
            "Epoch 16/25\n",
            "21/21 [==============================] - 0s 16ms/step - loss: 0.1218 - binary_accuracy: 0.9906 - val_loss: 0.3409 - val_binary_accuracy: 0.9036\n",
            "Epoch 17/25\n",
            "21/21 [==============================] - 0s 18ms/step - loss: 0.1006 - binary_accuracy: 0.9946 - val_loss: 0.3366 - val_binary_accuracy: 0.9157\n",
            "Epoch 18/25\n",
            "21/21 [==============================] - 0s 21ms/step - loss: 0.0915 - binary_accuracy: 0.9960 - val_loss: 0.3620 - val_binary_accuracy: 0.9036\n",
            "Epoch 19/25\n",
            "21/21 [==============================] - 0s 21ms/step - loss: 0.0827 - binary_accuracy: 0.9960 - val_loss: 0.3723 - val_binary_accuracy: 0.9036\n",
            "Epoch 20/25\n",
            "21/21 [==============================] - 0s 20ms/step - loss: 0.0811 - binary_accuracy: 0.9946 - val_loss: 0.3310 - val_binary_accuracy: 0.9157\n",
            "Epoch 21/25\n",
            "21/21 [==============================] - 0s 20ms/step - loss: 0.0795 - binary_accuracy: 0.9919 - val_loss: 0.3702 - val_binary_accuracy: 0.9157\n",
            "Epoch 22/25\n",
            "21/21 [==============================] - 0s 18ms/step - loss: 0.0706 - binary_accuracy: 0.9973 - val_loss: 0.3226 - val_binary_accuracy: 0.9036\n",
            "Epoch 23/25\n",
            "21/21 [==============================] - 0s 22ms/step - loss: 0.0634 - binary_accuracy: 0.9987 - val_loss: 0.3329 - val_binary_accuracy: 0.9157\n",
            "Epoch 24/25\n",
            "21/21 [==============================] - 0s 19ms/step - loss: 0.0606 - binary_accuracy: 0.9973 - val_loss: 0.3521 - val_binary_accuracy: 0.9157\n",
            "Epoch 25/25\n",
            "21/21 [==============================] - 0s 20ms/step - loss: 0.0654 - binary_accuracy: 0.9946 - val_loss: 0.4607 - val_binary_accuracy: 0.9036\n",
            "3/3 [==============================] - 0s 7ms/step\n",
            "test accuracy: 50.11814744801512 %\n"
          ]
        }
      ]
    },
    {
      "cell_type": "code",
      "source": [
        "plt.plot(history9.history['loss'])\n",
        "plt.plot(history9.history['val_loss'])\n",
        "plt.title('model loss')\n",
        "plt.ylabel('loss')\n",
        "plt.xlabel('epoch')\n",
        "plt.legend(['train', 'Val'], loc='upper left')\n",
        "plt.show()"
      ],
      "metadata": {
        "colab": {
          "base_uri": "https://localhost:8080/",
          "height": 472
        },
        "id": "FcUT58fMGPnH",
        "outputId": "84930913-d9bc-46e0-80b8-6a0ca756915b"
      },
      "id": "FcUT58fMGPnH",
      "execution_count": 148,
      "outputs": [
        {
          "output_type": "display_data",
          "data": {
            "text/plain": [
              "<Figure size 640x480 with 1 Axes>"
            ],
            "image/png": "[encoded data removed]"
          },
          "metadata": {}
        }
      ]
    },
    {
      "cell_type": "code",
      "source": [
        "tf.random.set_seed(1234)\n",
        "model10 = Sequential(\n",
        "    [\n",
        "        tf.keras.Input(shape=(x_train.shape[1],)),\n",
        "        Dense(100, activation='relu', name = 'layer0'),\n",
        "        Dropout(0.1),\n",
        "        Dense(80, activation='relu', name = 'layer1'),\n",
        "        Dropout(0.1),\n",
        "        Dense(60, activation='relu', name = 'layer2'),\n",
        "        Dropout(0.1),\n",
        "        Dense(40, activation='relu', name = 'layer3'),\n",
        "        Dropout(0.1),\n",
        "        Dense(20, activation='relu', name = 'layer4'),\n",
        "        Dropout(0.1),\n",
        "        Dense(1, activation='sigmoid', name = 'layer5'),\n",
        "     ]\n",
        ")\n",
        "model10.summary()\n",
        "model10.compile(\n",
        "    loss = tf.keras.losses.BinaryCrossentropy(),\n",
        "    optimizer='sgd',\n",
        "    metrics=[tf.keras.metrics.BinaryAccuracy()]\n",
        ")"
      ],
      "metadata": {
        "colab": {
          "base_uri": "https://localhost:8080/"
        },
        "id": "zYIiNlnXHI6Q",
        "outputId": "6858f380-9fbb-4818-ade6-347495c67de8"
      },
      "id": "zYIiNlnXHI6Q",
      "execution_count": 153,
      "outputs": [
        {
          "output_type": "stream",
          "name": "stdout",
          "text": [
            "Model: \"sequential_6\"\n",
            "_________________________________________________________________\n",
            " Layer (type)                Output Shape              Param #   \n",
            "=================================================================\n",
            " layer0 (Dense)              (None, 100)               778200    \n",
            "                                                                 \n",
            " dropout_14 (Dropout)        (None, 100)               0         \n",
            "                                                                 \n",
            " layer1 (Dense)              (None, 80)                8080      \n",
            "                                                                 \n",
            " dropout_15 (Dropout)        (None, 80)                0         \n",
            "                                                                 \n",
            " layer2 (Dense)              (None, 60)                4860      \n",
            "                                                                 \n",
            " dropout_16 (Dropout)        (None, 60)                0         \n",
            "                                                                 \n",
            " layer3 (Dense)              (None, 40)                2440      \n",
            "                                                                 \n",
            " dropout_17 (Dropout)        (None, 40)                0         \n",
            "                                                                 \n",
            " layer4 (Dense)              (None, 20)                820       \n",
            "                                                                 \n",
            " dropout_18 (Dropout)        (None, 20)                0         \n",
            "                                                                 \n",
            " layer5 (Dense)              (None, 1)                 21        \n",
            "                                                                 \n",
            "=================================================================\n",
            "Total params: 794421 (3.03 MB)\n",
            "Trainable params: 794421 (3.03 MB)\n",
            "Non-trainable params: 0 (0.00 Byte)\n",
            "_________________________________________________________________\n"
          ]
        }
      ]
    },
    {
      "cell_type": "code",
      "source": [
        "history10 = model10.fit(\n",
        "    x_train,y_train,\n",
        "    epochs=25,\n",
        "    batch_size=36,\n",
        "    validation_split=0.1\n",
        ")\n",
        "\n",
        "y_hat = model10.predict(x_test)\n",
        "y_hat= (y_hat >= 0.5).astype(int)\n",
        "print(\"test accuracy: {} %\".format(100 - np.mean(np.abs(y_hat - y_test)) * 100))"
      ],
      "metadata": {
        "colab": {
          "base_uri": "https://localhost:8080/"
        },
        "id": "ISkFHVXTHU_G",
        "outputId": "fc3b6472-c3cb-46c9-f199-f42ce3ec50d3"
      },
      "id": "ISkFHVXTHU_G",
      "execution_count": 154,
      "outputs": [
        {
          "output_type": "stream",
          "name": "stdout",
          "text": [
            "Epoch 1/25\n",
            "21/21 [==============================] - 1s 21ms/step - loss: 0.6204 - binary_accuracy: 0.7220 - val_loss: 0.5454 - val_binary_accuracy: 0.8554\n",
            "Epoch 2/25\n",
            "21/21 [==============================] - 0s 13ms/step - loss: 0.5128 - binary_accuracy: 0.8516 - val_loss: 0.4912 - val_binary_accuracy: 0.8795\n",
            "Epoch 3/25\n",
            "21/21 [==============================] - 0s 11ms/step - loss: 0.4613 - binary_accuracy: 0.8826 - val_loss: 0.4663 - val_binary_accuracy: 0.8916\n",
            "Epoch 4/25\n",
            "21/21 [==============================] - 0s 12ms/step - loss: 0.3978 - binary_accuracy: 0.9028 - val_loss: 0.4571 - val_binary_accuracy: 0.8916\n",
            "Epoch 5/25\n",
            "21/21 [==============================] - 0s 12ms/step - loss: 0.3908 - binary_accuracy: 0.9082 - val_loss: 0.4375 - val_binary_accuracy: 0.9036\n",
            "Epoch 6/25\n",
            "21/21 [==============================] - 0s 18ms/step - loss: 0.3419 - binary_accuracy: 0.9447 - val_loss: 0.4361 - val_binary_accuracy: 0.9036\n",
            "Epoch 7/25\n",
            "21/21 [==============================] - 0s 19ms/step - loss: 0.3246 - binary_accuracy: 0.9379 - val_loss: 0.4038 - val_binary_accuracy: 0.8916\n",
            "Epoch 8/25\n",
            "21/21 [==============================] - 0s 16ms/step - loss: 0.2849 - binary_accuracy: 0.9460 - val_loss: 0.4433 - val_binary_accuracy: 0.9036\n",
            "Epoch 9/25\n",
            "21/21 [==============================] - 0s 19ms/step - loss: 0.3063 - binary_accuracy: 0.9460 - val_loss: 0.3803 - val_binary_accuracy: 0.9036\n",
            "Epoch 10/25\n",
            "21/21 [==============================] - 0s 17ms/step - loss: 0.2553 - binary_accuracy: 0.9595 - val_loss: 0.3874 - val_binary_accuracy: 0.9036\n",
            "Epoch 11/25\n",
            "21/21 [==============================] - 0s 18ms/step - loss: 0.2245 - binary_accuracy: 0.9730 - val_loss: 0.3969 - val_binary_accuracy: 0.9157\n",
            "Epoch 12/25\n",
            "21/21 [==============================] - 0s 17ms/step - loss: 0.2120 - binary_accuracy: 0.9717 - val_loss: 0.3639 - val_binary_accuracy: 0.9157\n",
            "Epoch 13/25\n",
            "21/21 [==============================] - 0s 19ms/step - loss: 0.1890 - binary_accuracy: 0.9838 - val_loss: 0.3620 - val_binary_accuracy: 0.9277\n",
            "Epoch 14/25\n",
            "21/21 [==============================] - 0s 18ms/step - loss: 0.1801 - binary_accuracy: 0.9811 - val_loss: 0.3508 - val_binary_accuracy: 0.9157\n",
            "Epoch 15/25\n",
            "21/21 [==============================] - 0s 18ms/step - loss: 0.1617 - binary_accuracy: 0.9798 - val_loss: 0.3393 - val_binary_accuracy: 0.9036\n",
            "Epoch 16/25\n",
            "21/21 [==============================] - 0s 16ms/step - loss: 0.1485 - binary_accuracy: 0.9825 - val_loss: 0.3624 - val_binary_accuracy: 0.8916\n",
            "Epoch 17/25\n",
            "21/21 [==============================] - 0s 19ms/step - loss: 0.1349 - binary_accuracy: 0.9838 - val_loss: 0.3618 - val_binary_accuracy: 0.8916\n",
            "Epoch 18/25\n",
            "21/21 [==============================] - 0s 17ms/step - loss: 0.1367 - binary_accuracy: 0.9852 - val_loss: 0.3699 - val_binary_accuracy: 0.8916\n",
            "Epoch 19/25\n",
            "21/21 [==============================] - 0s 15ms/step - loss: 0.1245 - binary_accuracy: 0.9879 - val_loss: 0.3739 - val_binary_accuracy: 0.9036\n",
            "Epoch 20/25\n",
            "21/21 [==============================] - 0s 17ms/step - loss: 0.1194 - binary_accuracy: 0.9838 - val_loss: 0.3574 - val_binary_accuracy: 0.8795\n",
            "Epoch 21/25\n",
            "21/21 [==============================] - 0s 16ms/step - loss: 0.0977 - binary_accuracy: 0.9906 - val_loss: 0.3568 - val_binary_accuracy: 0.8916\n",
            "Epoch 22/25\n",
            "21/21 [==============================] - 0s 17ms/step - loss: 0.0926 - binary_accuracy: 0.9933 - val_loss: 0.3614 - val_binary_accuracy: 0.8916\n",
            "Epoch 23/25\n",
            "21/21 [==============================] - 0s 18ms/step - loss: 0.0863 - binary_accuracy: 0.9933 - val_loss: 0.3976 - val_binary_accuracy: 0.8916\n",
            "Epoch 24/25\n",
            "21/21 [==============================] - 0s 20ms/step - loss: 0.0842 - binary_accuracy: 0.9946 - val_loss: 0.3908 - val_binary_accuracy: 0.8795\n",
            "Epoch 25/25\n",
            "21/21 [==============================] - 0s 18ms/step - loss: 0.0801 - binary_accuracy: 0.9933 - val_loss: 0.4997 - val_binary_accuracy: 0.8916\n"
          ]
        },
        {
          "output_type": "stream",
          "name": "stderr",
          "text": [
            "WARNING:tensorflow:5 out of the last 13 calls to <function Model.make_predict_function.<locals>.predict_function at 0x7bbfe05de3b0> triggered tf.function retracing. Tracing is expensive and the excessive number of tracings could be due to (1) creating @tf.function repeatedly in a loop, (2) passing tensors with different shapes, (3) passing Python objects instead of tensors. For (1), please define your @tf.function outside of the loop. For (2), @tf.function has reduce_retracing=True option that can avoid unnecessary retracing. For (3), please refer to https://www.tensorflow.org/guide/function#controlling_retracing and https://www.tensorflow.org/api_docs/python/tf/function for  more details.\n"
          ]
        },
        {
          "output_type": "stream",
          "name": "stdout",
          "text": [
            "3/3 [==============================] - 0s 11ms/step\n",
            "test accuracy: 50.023629489603024 %\n"
          ]
        }
      ]
    },
    {
      "cell_type": "code",
      "source": [
        "plt.plot(history10.history['loss'])\n",
        "plt.plot(history10.history['val_loss'])\n",
        "plt.title('model loss')\n",
        "plt.ylabel('loss')\n",
        "plt.xlabel('epoch')\n",
        "plt.legend(['train', 'Val'], loc='upper left')\n",
        "plt.show()"
      ],
      "metadata": {
        "colab": {
          "base_uri": "https://localhost:8080/",
          "height": 472
        },
        "id": "OijTTJqBHgBP",
        "outputId": "a6b9b771-564f-45dd-ef27-31388429b51d"
      },
      "id": "OijTTJqBHgBP",
      "execution_count": 155,
      "outputs": [
        {
          "output_type": "display_data",
          "data": {
            "text/plain": [
              "<Figure size 640x480 with 1 Axes>"
            ],
            "image/png": "[encoded data removed]"
          },
          "metadata": {}
        }
      ]
    },
    {
      "cell_type": "code",
      "source": [
        "plt.plot(history10.history['binary_accuracy'])\n",
        "plt.plot(history10.history['val_binary_accuracy'])\n",
        "plt.title('model accuracy')\n",
        "plt.ylabel('accuracy')\n",
        "plt.xlabel('epoch')\n",
        "plt.legend(['train', 'Val'], loc='upper left')\n",
        "plt.show()"
      ],
      "metadata": {
        "colab": {
          "base_uri": "https://localhost:8080/",
          "height": 472
        },
        "id": "AXy5jT2OImsQ",
        "outputId": "c0aab479-d197-4a18-a6ff-dd432f6d0897"
      },
      "id": "AXy5jT2OImsQ",
      "execution_count": 156,
      "outputs": [
        {
          "output_type": "display_data",
          "data": {
            "text/plain": [
              "<Figure size 640x480 with 1 Axes>"
            ],
            "image/png": "[encoded data removed]"
          },
          "metadata": {}
        }
      ]
    },
    {
      "cell_type": "markdown",
      "source": [
        "**Referencias**\n",
        "\n",
        "Berti, A., Pucha, R., Juneau, S., Kremin, A., Forero-Romero, J., González, A., & DESI Data Team. (Mayo 2023). *Statistics of EDR targets with multiple spectra*. https://github.com/desihub/tutorials/blob/edr_colab/getting_started/EDR_AnalyzeZcat_colab.ipynb\n",
        "\n",
        "(Julio 2023). *Stars*. NASA Science. https://science.nasa.gov/astrophysics/focus-areas/how-do-stars-form-and-evolve/\n",
        "\n",
        "(ND). *Quasar*. ESA/HUBBLE. https://esahubble.org/wordbank/quasar/"
      ],
      "metadata": {
        "id": "WhtpnyrYXM-Y"
      },
      "id": "WhtpnyrYXM-Y"
    }
  ],
  "metadata": {
    "kernelspec": {
      "display_name": "DESI 23.1",
      "language": "python",
      "name": "desi-23.1"
    },
    "language_info": {
      "codemirror_mode": {
        "name": "ipython",
        "version": 3
      },
      "file_extension": ".py",
      "mimetype": "text/x-python",
      "name": "python",
      "nbconvert_exporter": "python",
      "pygments_lexer": "ipython3",
      "version": "3.10.8"
    },
    "toc-showcode": false,
    "colab": {
      "provenance": [],
      "include_colab_link": true
    }
  },
  "nbformat": 4,
  "nbformat_minor": 5
}