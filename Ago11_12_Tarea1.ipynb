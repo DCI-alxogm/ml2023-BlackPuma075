{
  "nbformat": 4,
  "nbformat_minor": 0,
  "metadata": {
    "colab": {
      "provenance": [],
      "authorship_tag": "ABX9TyM+5/0TumKQeINOB7zECFgW",
      "include_colab_link": true
    },
    "kernelspec": {
      "name": "python3",
      "display_name": "Python 3"
    },
    "language_info": {
      "name": "python"
    }
  },
  "cells": [
    {
      "cell_type": "markdown",
      "metadata": {
        "id": "view-in-github",
        "colab_type": "text"
      },
      "source": [
        "<a href=\"https://colab.research.google.com/github/DCI-alxogm/ml2023-BlackPuma075/blob/main/Ago11_12_Tarea1.ipynb\" target=\"_parent\"><img src=\"https://colab.research.google.com/assets/colab-badge.svg\" alt=\"Open In Colab\"/></a>"
      ]
    },
    {
      "cell_type": "markdown",
      "source": [
        "**Python lists**"
      ],
      "metadata": {
        "id": "_k6zxO-9TvwK"
      }
    },
    {
      "cell_type": "code",
      "execution_count": 1,
      "metadata": {
        "colab": {
          "base_uri": "https://localhost:8080/",
          "height": 36
        },
        "id": "_Z_cv2KBLMPQ",
        "outputId": "b79844d9-de7e-4f28-e084-5301ac4e3a8c"
      },
      "outputs": [
        {
          "output_type": "execute_result",
          "data": {
            "text/plain": [
              "'1.23.5'"
            ],
            "application/vnd.google.colaboratory.intrinsic+json": {
              "type": "string"
            }
          },
          "metadata": {},
          "execution_count": 1
        }
      ],
      "source": [
        "import numpy as np\n",
        "np.__version__"
      ]
    },
    {
      "cell_type": "markdown",
      "source": [
        "Create a list of integers"
      ],
      "metadata": {
        "id": "bOncIzzlSVIQ"
      }
    },
    {
      "cell_type": "code",
      "source": [
        "L = list(range(10))\n",
        "L"
      ],
      "metadata": {
        "colab": {
          "base_uri": "https://localhost:8080/"
        },
        "id": "ahicfljoSXKO",
        "outputId": "5f2e92cf-5455-4096-d097-fcfb146a15a3"
      },
      "execution_count": 2,
      "outputs": [
        {
          "output_type": "execute_result",
          "data": {
            "text/plain": [
              "[0, 1, 2, 3, 4, 5, 6, 7, 8, 9]"
            ]
          },
          "metadata": {},
          "execution_count": 2
        }
      ]
    },
    {
      "cell_type": "code",
      "source": [
        "type(L[0])"
      ],
      "metadata": {
        "colab": {
          "base_uri": "https://localhost:8080/"
        },
        "id": "uYVMLNdjSalZ",
        "outputId": "a3979abb-5fa3-471e-8289-32235733485b"
      },
      "execution_count": 3,
      "outputs": [
        {
          "output_type": "execute_result",
          "data": {
            "text/plain": [
              "int"
            ]
          },
          "metadata": {},
          "execution_count": 3
        }
      ]
    },
    {
      "cell_type": "markdown",
      "source": [
        "List of strings"
      ],
      "metadata": {
        "id": "betiv8wzSjEq"
      }
    },
    {
      "cell_type": "code",
      "source": [
        "L2 = [str(c) for c in L]\n",
        "L2"
      ],
      "metadata": {
        "colab": {
          "base_uri": "https://localhost:8080/"
        },
        "id": "pupL1msYSl6Z",
        "outputId": "85017f7f-12b7-4e4e-b041-787d5d3267de"
      },
      "execution_count": 4,
      "outputs": [
        {
          "output_type": "execute_result",
          "data": {
            "text/plain": [
              "['0', '1', '2', '3', '4', '5', '6', '7', '8', '9']"
            ]
          },
          "metadata": {},
          "execution_count": 4
        }
      ]
    },
    {
      "cell_type": "code",
      "source": [
        "type(L2[0])"
      ],
      "metadata": {
        "colab": {
          "base_uri": "https://localhost:8080/"
        },
        "id": "J91MGNswSuZ-",
        "outputId": "3277cee3-0ce9-45e1-a62a-2bf72df12f59"
      },
      "execution_count": 5,
      "outputs": [
        {
          "output_type": "execute_result",
          "data": {
            "text/plain": [
              "str"
            ]
          },
          "metadata": {},
          "execution_count": 5
        }
      ]
    },
    {
      "cell_type": "markdown",
      "source": [
        "Homogeneous lists"
      ],
      "metadata": {
        "id": "4QnVa5A2S_CC"
      }
    },
    {
      "cell_type": "code",
      "source": [
        "L3 = [True, '2', 3.0, 4]\n",
        "[type(item) for item in L3]"
      ],
      "metadata": {
        "colab": {
          "base_uri": "https://localhost:8080/"
        },
        "id": "AeMGE8zYTBkW",
        "outputId": "d241dc75-ee19-47b0-fb39-c77609c20c33"
      },
      "execution_count": 6,
      "outputs": [
        {
          "output_type": "execute_result",
          "data": {
            "text/plain": [
              "[bool, str, float, int]"
            ]
          },
          "metadata": {},
          "execution_count": 6
        }
      ]
    },
    {
      "cell_type": "markdown",
      "source": [
        "**Fixed-type arrays**"
      ],
      "metadata": {
        "id": "LLuFBAaeT3gm"
      }
    },
    {
      "cell_type": "code",
      "source": [
        "import array as arr\n",
        "L = list(range(10))\n",
        "A = arr.array('i', L)\n",
        "A"
      ],
      "metadata": {
        "colab": {
          "base_uri": "https://localhost:8080/"
        },
        "id": "Tu5K1MOAT58x",
        "outputId": "d7ba8ab8-b745-4270-f9a0-7f1f126f68ef"
      },
      "execution_count": 7,
      "outputs": [
        {
          "output_type": "execute_result",
          "data": {
            "text/plain": [
              "array('i', [0, 1, 2, 3, 4, 5, 6, 7, 8, 9])"
            ]
          },
          "metadata": {},
          "execution_count": 7
        }
      ]
    },
    {
      "cell_type": "markdown",
      "source": [
        "**Creating arrays from python lists**"
      ],
      "metadata": {
        "id": "JhQ9SrdfUqhJ"
      }
    },
    {
      "cell_type": "code",
      "source": [
        "np.array([0,1,2,3,4])"
      ],
      "metadata": {
        "colab": {
          "base_uri": "https://localhost:8080/"
        },
        "id": "e6xjyeVrUPEn",
        "outputId": "2e187aa6-f50f-4d58-ed08-57bd2cfb297b"
      },
      "execution_count": 8,
      "outputs": [
        {
          "output_type": "execute_result",
          "data": {
            "text/plain": [
              "array([0, 1, 2, 3, 4])"
            ]
          },
          "metadata": {},
          "execution_count": 8
        }
      ]
    },
    {
      "cell_type": "markdown",
      "source": [
        "For explicitly fix the data type:"
      ],
      "metadata": {
        "id": "koOlV7zQU3U5"
      }
    },
    {
      "cell_type": "code",
      "source": [
        "np.array([1,2,3,4], dtype = 'float')"
      ],
      "metadata": {
        "colab": {
          "base_uri": "https://localhost:8080/"
        },
        "id": "py2hHD9cU6ZV",
        "outputId": "ef444d31-e6ac-453b-d2ec-25d577ad2ffc"
      },
      "execution_count": 9,
      "outputs": [
        {
          "output_type": "execute_result",
          "data": {
            "text/plain": [
              "array([1., 2., 3., 4.])"
            ]
          },
          "metadata": {},
          "execution_count": 9
        }
      ]
    },
    {
      "cell_type": "markdown",
      "source": [
        "Multidimensional arrays"
      ],
      "metadata": {
        "id": "J63oQfoCVR29"
      }
    },
    {
      "cell_type": "code",
      "source": [
        "np.array([range(i, i+3) for i in [2,4,6]])"
      ],
      "metadata": {
        "colab": {
          "base_uri": "https://localhost:8080/"
        },
        "id": "pOsjSyACU09r",
        "outputId": "70859c16-55c3-4c54-a36e-f2fa44b3d679"
      },
      "execution_count": 10,
      "outputs": [
        {
          "output_type": "execute_result",
          "data": {
            "text/plain": [
              "array([[2, 3, 4],\n",
              "       [4, 5, 6],\n",
              "       [6, 7, 8]])"
            ]
          },
          "metadata": {},
          "execution_count": 10
        }
      ]
    },
    {
      "cell_type": "markdown",
      "source": [
        "**Creating arrays from scratch**"
      ],
      "metadata": {
        "id": "flMptf0VVy_o"
      }
    },
    {
      "cell_type": "code",
      "source": [
        "#Create a lentgh-10 array filled with zeros\n",
        "np.zeros(10, dtype = 'int')"
      ],
      "metadata": {
        "colab": {
          "base_uri": "https://localhost:8080/"
        },
        "id": "7JgPlfd_V1m6",
        "outputId": "dc0b83d8-91b8-4638-9b99-c8ee2d92fe86"
      },
      "execution_count": 11,
      "outputs": [
        {
          "output_type": "execute_result",
          "data": {
            "text/plain": [
              "array([0, 0, 0, 0, 0, 0, 0, 0, 0, 0])"
            ]
          },
          "metadata": {},
          "execution_count": 11
        }
      ]
    },
    {
      "cell_type": "code",
      "source": [
        "# Create a 3x5 floating-point array filled with ones\n",
        "np.ones((3, 5), dtype = 'float')"
      ],
      "metadata": {
        "colab": {
          "base_uri": "https://localhost:8080/"
        },
        "id": "gzSJ0bQnWXWA",
        "outputId": "6053d14c-0fca-49d5-cf0a-a03729cb5a29"
      },
      "execution_count": 12,
      "outputs": [
        {
          "output_type": "execute_result",
          "data": {
            "text/plain": [
              "array([[1., 1., 1., 1., 1.],\n",
              "       [1., 1., 1., 1., 1.],\n",
              "       [1., 1., 1., 1., 1.]])"
            ]
          },
          "metadata": {},
          "execution_count": 12
        }
      ]
    },
    {
      "cell_type": "code",
      "source": [
        "#Create 3x5 array filled with 3.14\n",
        "np.full((3,5), 3.14)"
      ],
      "metadata": {
        "colab": {
          "base_uri": "https://localhost:8080/"
        },
        "id": "WpYvo1k4Wjm9",
        "outputId": "0d1a1683-5204-4ac6-f4e8-d0502047cf65"
      },
      "execution_count": 13,
      "outputs": [
        {
          "output_type": "execute_result",
          "data": {
            "text/plain": [
              "array([[3.14, 3.14, 3.14, 3.14, 3.14],\n",
              "       [3.14, 3.14, 3.14, 3.14, 3.14],\n",
              "       [3.14, 3.14, 3.14, 3.14, 3.14]])"
            ]
          },
          "metadata": {},
          "execution_count": 13
        }
      ]
    },
    {
      "cell_type": "code",
      "source": [
        "#Create an array filled with a sequence stepping by 2\n",
        "np.arange(0, 20, 2)\n",
        "#np.arange?"
      ],
      "metadata": {
        "colab": {
          "base_uri": "https://localhost:8080/"
        },
        "id": "aJt7qKv8WycI",
        "outputId": "cb33cacf-a107-456d-bbab-55cd818aa685"
      },
      "execution_count": 14,
      "outputs": [
        {
          "output_type": "execute_result",
          "data": {
            "text/plain": [
              "array([ 0,  2,  4,  6,  8, 10, 12, 14, 16, 18])"
            ]
          },
          "metadata": {},
          "execution_count": 14
        }
      ]
    },
    {
      "cell_type": "code",
      "source": [
        "# Create an array of five values evenly spaced between 0 and 1\n",
        "np.linspace(0, 1, 5)\n",
        "#np.linspace?"
      ],
      "metadata": {
        "colab": {
          "base_uri": "https://localhost:8080/"
        },
        "id": "afUbuxQCXeDM",
        "outputId": "ed9a7c2f-81fa-460b-94bb-26ebe20a548c"
      },
      "execution_count": 15,
      "outputs": [
        {
          "output_type": "execute_result",
          "data": {
            "text/plain": [
              "array([0.  , 0.25, 0.5 , 0.75, 1.  ])"
            ]
          },
          "metadata": {},
          "execution_count": 15
        }
      ]
    },
    {
      "cell_type": "code",
      "source": [
        "# Create a 3x3 array of uniformly distributed\n",
        "# random values between 0 and 1\n",
        "np.random.random((3, 3))\n",
        "#np.random.random?"
      ],
      "metadata": {
        "colab": {
          "base_uri": "https://localhost:8080/"
        },
        "id": "1aIINUDvXmBp",
        "outputId": "ff3a6e09-66ac-4992-8ca0-9a9a24a10145"
      },
      "execution_count": 16,
      "outputs": [
        {
          "output_type": "execute_result",
          "data": {
            "text/plain": [
              "array([[0.04028515, 0.27159954, 0.80296829],\n",
              "       [0.25917339, 0.55966757, 0.41355055],\n",
              "       [0.74423338, 0.08823876, 0.11983646]])"
            ]
          },
          "metadata": {},
          "execution_count": 16
        }
      ]
    },
    {
      "cell_type": "code",
      "source": [
        "# Create a 3x3 array of normally distributed random values\n",
        "# with mean 0 and standard deviation 1\n",
        "np.random.normal(0, 1, (3, 3))\n",
        "#np.random.normal?"
      ],
      "metadata": {
        "colab": {
          "base_uri": "https://localhost:8080/"
        },
        "id": "Vy2OV6eGYErk",
        "outputId": "21a83453-200f-4d06-a1bb-eba4dbcfdffb"
      },
      "execution_count": 17,
      "outputs": [
        {
          "output_type": "execute_result",
          "data": {
            "text/plain": [
              "array([[ 0.63940619,  0.18251522,  0.58610677],\n",
              "       [-0.01830179,  0.29388189,  1.31065597],\n",
              "       [ 0.51897577,  0.54754329, -1.09153967]])"
            ]
          },
          "metadata": {},
          "execution_count": 17
        }
      ]
    },
    {
      "cell_type": "code",
      "source": [
        "# Create a 3x3 array of random integers in the interval [0, 10)\n",
        "np.random.randint(0, 10, (3, 3))\n",
        "np.random.randint?"
      ],
      "metadata": {
        "id": "xfXn-KetYR0a"
      },
      "execution_count": 18,
      "outputs": []
    },
    {
      "cell_type": "code",
      "source": [
        "# Create a 3x3 identity matrix\n",
        "np.eye(3)"
      ],
      "metadata": {
        "colab": {
          "base_uri": "https://localhost:8080/"
        },
        "id": "XAzVBvxKYimA",
        "outputId": "660a71d7-6868-4b5d-d1b0-e949aad75181"
      },
      "execution_count": 19,
      "outputs": [
        {
          "output_type": "execute_result",
          "data": {
            "text/plain": [
              "array([[1., 0., 0.],\n",
              "       [0., 1., 0.],\n",
              "       [0., 0., 1.]])"
            ]
          },
          "metadata": {},
          "execution_count": 19
        }
      ]
    },
    {
      "cell_type": "code",
      "source": [
        "# Create an uninitialized array of three integers\n",
        "# The values will be whatever happens to already exist at that memory location\n",
        "#np.empty?\n",
        "np.empty((2,2), float)"
      ],
      "metadata": {
        "colab": {
          "base_uri": "https://localhost:8080/"
        },
        "id": "WG1hzxIwYlq-",
        "outputId": "64ff1127-79b7-4835-cd61-68bf34bc7536"
      },
      "execution_count": 20,
      "outputs": [
        {
          "output_type": "execute_result",
          "data": {
            "text/plain": [
              "array([[0.25, 0.5 ],\n",
              "       [0.75, 1.  ]])"
            ]
          },
          "metadata": {},
          "execution_count": 20
        }
      ]
    },
    {
      "cell_type": "markdown",
      "source": [
        "**Numpy arrays atributes**"
      ],
      "metadata": {
        "id": "UGlEfZQzd6P2"
      }
    },
    {
      "cell_type": "code",
      "source": [
        "np.random.seed(0) #seed for reproducibility\n",
        "\n",
        "x1 = np.random.randint(10, size = 6)\n",
        "x2 = np.random.randint(10, size = (3,4))\n",
        "x3 = np.random.randint(10, size = (3,4,5))"
      ],
      "metadata": {
        "id": "RMObb4C7d8rc"
      },
      "execution_count": 21,
      "outputs": []
    },
    {
      "cell_type": "code",
      "source": [
        "#Useful array attributes number of dimensions, size of each dimension, tot size\n",
        "print('x3 ndim:', x3.ndim)\n",
        "print('x3 shape:', x3.shape)\n",
        "print('x3 size:', x3.size)\n",
        "print('dtype:', x3.dtype)\n",
        "print('itemsize:', x3.itemsize, 'bytes') #size of each element\n",
        "print('nbytes:', x3.nbytes, 'bytes') #size of total elements"
      ],
      "metadata": {
        "colab": {
          "base_uri": "https://localhost:8080/"
        },
        "id": "RHYLUBCRec3I",
        "outputId": "d74d7f49-b0f2-44da-ac03-aee29cbe7ab0"
      },
      "execution_count": 22,
      "outputs": [
        {
          "output_type": "stream",
          "name": "stdout",
          "text": [
            "x3 ndim: 3\n",
            "x3 shape: (3, 4, 5)\n",
            "x3 size: 60\n",
            "dtype: int64\n",
            "itemsize: 8 bytes\n",
            "nbytes: 480 bytes\n"
          ]
        }
      ]
    },
    {
      "cell_type": "markdown",
      "source": [
        "**Array indexing**"
      ],
      "metadata": {
        "id": "FkSfv4mKfxxi"
      }
    },
    {
      "cell_type": "code",
      "source": [
        "x1"
      ],
      "metadata": {
        "colab": {
          "base_uri": "https://localhost:8080/"
        },
        "id": "cxyorq3VhSyc",
        "outputId": "e9b89754-3aa3-4541-a452-b21bae6b4c97"
      },
      "execution_count": 23,
      "outputs": [
        {
          "output_type": "execute_result",
          "data": {
            "text/plain": [
              "array([5, 0, 3, 3, 7, 9])"
            ]
          },
          "metadata": {},
          "execution_count": 23
        }
      ]
    },
    {
      "cell_type": "code",
      "source": [
        "x1[0]"
      ],
      "metadata": {
        "colab": {
          "base_uri": "https://localhost:8080/"
        },
        "id": "V8CKnONVf0Cn",
        "outputId": "02a52a00-68fb-431b-ddb6-d8316c728cbd"
      },
      "execution_count": 24,
      "outputs": [
        {
          "output_type": "execute_result",
          "data": {
            "text/plain": [
              "5"
            ]
          },
          "metadata": {},
          "execution_count": 24
        }
      ]
    },
    {
      "cell_type": "code",
      "source": [
        "x1[-1] #from the end of the array"
      ],
      "metadata": {
        "colab": {
          "base_uri": "https://localhost:8080/"
        },
        "id": "0JnoIDk8hQvl",
        "outputId": "eee247d6-62ef-435e-bc97-b3cc484bd881"
      },
      "execution_count": 25,
      "outputs": [
        {
          "output_type": "execute_result",
          "data": {
            "text/plain": [
              "9"
            ]
          },
          "metadata": {},
          "execution_count": 25
        }
      ]
    },
    {
      "cell_type": "code",
      "source": [
        "x2"
      ],
      "metadata": {
        "colab": {
          "base_uri": "https://localhost:8080/"
        },
        "id": "_g05kFJXhxJc",
        "outputId": "243f8562-818d-465b-be04-0addb1b357ff"
      },
      "execution_count": 26,
      "outputs": [
        {
          "output_type": "execute_result",
          "data": {
            "text/plain": [
              "array([[3, 5, 2, 4],\n",
              "       [7, 6, 8, 8],\n",
              "       [1, 6, 7, 7]])"
            ]
          },
          "metadata": {},
          "execution_count": 26
        }
      ]
    },
    {
      "cell_type": "code",
      "source": [
        "x2[0,0] = 10 #modify an element\n",
        "x2"
      ],
      "metadata": {
        "colab": {
          "base_uri": "https://localhost:8080/"
        },
        "id": "0tysGKuvhxqM",
        "outputId": "178c59cf-83f7-447e-c775-82dfa36d9faf"
      },
      "execution_count": 27,
      "outputs": [
        {
          "output_type": "execute_result",
          "data": {
            "text/plain": [
              "array([[10,  5,  2,  4],\n",
              "       [ 7,  6,  8,  8],\n",
              "       [ 1,  6,  7,  7]])"
            ]
          },
          "metadata": {},
          "execution_count": 27
        }
      ]
    },
    {
      "cell_type": "markdown",
      "source": [
        "**Array slicing**"
      ],
      "metadata": {
        "id": "t_BEhKssiCJV"
      }
    },
    {
      "cell_type": "code",
      "source": [
        "#x[start:stop:step]"
      ],
      "metadata": {
        "id": "M9srqQnWiD1M"
      },
      "execution_count": 28,
      "outputs": []
    },
    {
      "cell_type": "code",
      "source": [
        "x = np.arange(10)\n",
        "x"
      ],
      "metadata": {
        "colab": {
          "base_uri": "https://localhost:8080/"
        },
        "id": "tg8tg1xiil4m",
        "outputId": "74445a56-9765-4688-efd3-6495263876d7"
      },
      "execution_count": 29,
      "outputs": [
        {
          "output_type": "execute_result",
          "data": {
            "text/plain": [
              "array([0, 1, 2, 3, 4, 5, 6, 7, 8, 9])"
            ]
          },
          "metadata": {},
          "execution_count": 29
        }
      ]
    },
    {
      "cell_type": "code",
      "source": [
        "x[:5]"
      ],
      "metadata": {
        "colab": {
          "base_uri": "https://localhost:8080/"
        },
        "id": "jFxZw8uyiyf9",
        "outputId": "62beba51-6df1-4cf8-a230-ec6cf25b1a65"
      },
      "execution_count": 30,
      "outputs": [
        {
          "output_type": "execute_result",
          "data": {
            "text/plain": [
              "array([0, 1, 2, 3, 4])"
            ]
          },
          "metadata": {},
          "execution_count": 30
        }
      ]
    },
    {
      "cell_type": "code",
      "source": [
        "x[5:]"
      ],
      "metadata": {
        "colab": {
          "base_uri": "https://localhost:8080/"
        },
        "id": "za96Z7Shi1UY",
        "outputId": "243260ae-e2c0-4726-fc0b-f231aed33af5"
      },
      "execution_count": 31,
      "outputs": [
        {
          "output_type": "execute_result",
          "data": {
            "text/plain": [
              "array([5, 6, 7, 8, 9])"
            ]
          },
          "metadata": {},
          "execution_count": 31
        }
      ]
    },
    {
      "cell_type": "code",
      "source": [
        "x[3:6]"
      ],
      "metadata": {
        "colab": {
          "base_uri": "https://localhost:8080/"
        },
        "id": "E357uuO7i39t",
        "outputId": "f1e6aa54-eb2d-496a-b4bd-8af1667ac43f"
      },
      "execution_count": 32,
      "outputs": [
        {
          "output_type": "execute_result",
          "data": {
            "text/plain": [
              "array([3, 4, 5])"
            ]
          },
          "metadata": {},
          "execution_count": 32
        }
      ]
    },
    {
      "cell_type": "code",
      "source": [
        "x[::2]"
      ],
      "metadata": {
        "colab": {
          "base_uri": "https://localhost:8080/"
        },
        "id": "Iy1ltRfOi5yB",
        "outputId": "9f7aed25-9975-4747-87d0-a76e9603123d"
      },
      "execution_count": 33,
      "outputs": [
        {
          "output_type": "execute_result",
          "data": {
            "text/plain": [
              "array([0, 2, 4, 6, 8])"
            ]
          },
          "metadata": {},
          "execution_count": 33
        }
      ]
    },
    {
      "cell_type": "code",
      "source": [
        "x[1::2]"
      ],
      "metadata": {
        "colab": {
          "base_uri": "https://localhost:8080/"
        },
        "id": "5bVq64gpi9T6",
        "outputId": "f9e72360-6969-45eb-d1a0-606bf12b3540"
      },
      "execution_count": 34,
      "outputs": [
        {
          "output_type": "execute_result",
          "data": {
            "text/plain": [
              "array([1, 3, 5, 7, 9])"
            ]
          },
          "metadata": {},
          "execution_count": 34
        }
      ]
    },
    {
      "cell_type": "code",
      "source": [
        "x[::-1] #all elements reversed"
      ],
      "metadata": {
        "colab": {
          "base_uri": "https://localhost:8080/"
        },
        "id": "A3IBTHxgjFxc",
        "outputId": "f8e069b5-536a-4564-f23b-aa1c8ca77ccd"
      },
      "execution_count": 35,
      "outputs": [
        {
          "output_type": "execute_result",
          "data": {
            "text/plain": [
              "array([9, 8, 7, 6, 5, 4, 3, 2, 1, 0])"
            ]
          },
          "metadata": {},
          "execution_count": 35
        }
      ]
    },
    {
      "cell_type": "code",
      "source": [
        "x2"
      ],
      "metadata": {
        "colab": {
          "base_uri": "https://localhost:8080/"
        },
        "id": "p9H2z5AhjIyE",
        "outputId": "d3aa6afb-d9fe-4c32-fc21-353d4bc2d12a"
      },
      "execution_count": 36,
      "outputs": [
        {
          "output_type": "execute_result",
          "data": {
            "text/plain": [
              "array([[10,  5,  2,  4],\n",
              "       [ 7,  6,  8,  8],\n",
              "       [ 1,  6,  7,  7]])"
            ]
          },
          "metadata": {},
          "execution_count": 36
        }
      ]
    },
    {
      "cell_type": "code",
      "source": [
        "x2[:3,:2] #two rows, three columns"
      ],
      "metadata": {
        "colab": {
          "base_uri": "https://localhost:8080/"
        },
        "id": "gngJfOthjt9g",
        "outputId": "9ee6c272-294f-493c-a5ea-2b000d7abfaf"
      },
      "execution_count": 37,
      "outputs": [
        {
          "output_type": "execute_result",
          "data": {
            "text/plain": [
              "array([[10,  5],\n",
              "       [ 7,  6],\n",
              "       [ 1,  6]])"
            ]
          },
          "metadata": {},
          "execution_count": 37
        }
      ]
    },
    {
      "cell_type": "code",
      "source": [
        "x2[:3, ::2]"
      ],
      "metadata": {
        "colab": {
          "base_uri": "https://localhost:8080/"
        },
        "id": "3T45dJubj2J5",
        "outputId": "c829985b-d53a-46b6-8f2a-a9ff55ea8c40"
      },
      "execution_count": 38,
      "outputs": [
        {
          "output_type": "execute_result",
          "data": {
            "text/plain": [
              "array([[10,  2],\n",
              "       [ 7,  8],\n",
              "       [ 1,  7]])"
            ]
          },
          "metadata": {},
          "execution_count": 38
        }
      ]
    },
    {
      "cell_type": "code",
      "source": [
        "x2[::-1, ::-1]"
      ],
      "metadata": {
        "colab": {
          "base_uri": "https://localhost:8080/"
        },
        "id": "lyCDBTUxj_Lc",
        "outputId": "4dc94344-0f4b-41d9-a3a2-67b1aa399abb"
      },
      "execution_count": 39,
      "outputs": [
        {
          "output_type": "execute_result",
          "data": {
            "text/plain": [
              "array([[ 7,  7,  6,  1],\n",
              "       [ 8,  8,  6,  7],\n",
              "       [ 4,  2,  5, 10]])"
            ]
          },
          "metadata": {},
          "execution_count": 39
        }
      ]
    },
    {
      "cell_type": "code",
      "source": [
        "print(x2[:,0]) #first column\n",
        "print(x2[0,:]) #first row"
      ],
      "metadata": {
        "colab": {
          "base_uri": "https://localhost:8080/"
        },
        "id": "CArKV7qQkF1-",
        "outputId": "ce6162f8-074e-41b3-f617-346540b15189"
      },
      "execution_count": 40,
      "outputs": [
        {
          "output_type": "stream",
          "name": "stdout",
          "text": [
            "[10  7  1]\n",
            "[10  5  2  4]\n"
          ]
        }
      ]
    },
    {
      "cell_type": "code",
      "source": [
        "x2_subarray = x2[:2,:2] #its a view of the array, not a copy!\n",
        "print(x2_subarray)"
      ],
      "metadata": {
        "colab": {
          "base_uri": "https://localhost:8080/"
        },
        "id": "qXMa1yq0kdCb",
        "outputId": "2ccd2353-adb5-4a58-f98a-1bf463ad85be"
      },
      "execution_count": 41,
      "outputs": [
        {
          "output_type": "stream",
          "name": "stdout",
          "text": [
            "[[10  5]\n",
            " [ 7  6]]\n"
          ]
        }
      ]
    },
    {
      "cell_type": "code",
      "source": [
        "x2_subarray[0,0] = 99 #it also change the original array!!!!\n",
        "x2"
      ],
      "metadata": {
        "colab": {
          "base_uri": "https://localhost:8080/"
        },
        "id": "QiAIDeqQktN8",
        "outputId": "f392c30d-5f06-4c6e-9fc6-5bbb88cc0e9d"
      },
      "execution_count": 42,
      "outputs": [
        {
          "output_type": "execute_result",
          "data": {
            "text/plain": [
              "array([[99,  5,  2,  4],\n",
              "       [ 7,  6,  8,  8],\n",
              "       [ 1,  6,  7,  7]])"
            ]
          },
          "metadata": {},
          "execution_count": 42
        }
      ]
    },
    {
      "cell_type": "markdown",
      "source": [
        "**Creating a copy**"
      ],
      "metadata": {
        "id": "YXJjrJc5k62F"
      }
    },
    {
      "cell_type": "code",
      "source": [
        "x2_subcopy = x2[:2,:2].copy()\n",
        "x2_subcopy"
      ],
      "metadata": {
        "colab": {
          "base_uri": "https://localhost:8080/"
        },
        "id": "78iM4aZok8iw",
        "outputId": "1aa8c15b-c3c4-42ae-ee84-b4672aaad814"
      },
      "execution_count": 43,
      "outputs": [
        {
          "output_type": "execute_result",
          "data": {
            "text/plain": [
              "array([[99,  5],\n",
              "       [ 7,  6]])"
            ]
          },
          "metadata": {},
          "execution_count": 43
        }
      ]
    },
    {
      "cell_type": "markdown",
      "source": [
        "**Reshaping of arrays**"
      ],
      "metadata": {
        "id": "-fVBD1WrlMiF"
      }
    },
    {
      "cell_type": "code",
      "source": [
        "grid = np.arange(1,10).reshape(3,3)\n",
        "grid"
      ],
      "metadata": {
        "colab": {
          "base_uri": "https://localhost:8080/"
        },
        "id": "tqh9aeE1lPrg",
        "outputId": "301a8452-28ec-4600-bb91-be2482e904d7"
      },
      "execution_count": 44,
      "outputs": [
        {
          "output_type": "execute_result",
          "data": {
            "text/plain": [
              "array([[1, 2, 3],\n",
              "       [4, 5, 6],\n",
              "       [7, 8, 9]])"
            ]
          },
          "metadata": {},
          "execution_count": 44
        }
      ]
    },
    {
      "cell_type": "code",
      "source": [
        "x = np.array([1,2,3])\n",
        "x"
      ],
      "metadata": {
        "colab": {
          "base_uri": "https://localhost:8080/"
        },
        "id": "ja0W2VTLmCqH",
        "outputId": "a28e7953-3141-4354-b212-34a72aa0e3b4"
      },
      "execution_count": 45,
      "outputs": [
        {
          "output_type": "execute_result",
          "data": {
            "text/plain": [
              "array([1, 2, 3])"
            ]
          },
          "metadata": {},
          "execution_count": 45
        }
      ]
    },
    {
      "cell_type": "code",
      "source": [
        "x.reshape(3,1)"
      ],
      "metadata": {
        "colab": {
          "base_uri": "https://localhost:8080/"
        },
        "id": "htLHo8KjmE7c",
        "outputId": "f6ffadcb-875a-41e8-ba28-9ada85aa6d19"
      },
      "execution_count": 46,
      "outputs": [
        {
          "output_type": "execute_result",
          "data": {
            "text/plain": [
              "array([[1],\n",
              "       [2],\n",
              "       [3]])"
            ]
          },
          "metadata": {},
          "execution_count": 46
        }
      ]
    },
    {
      "cell_type": "code",
      "source": [
        "x[:, np.newaxis]"
      ],
      "metadata": {
        "colab": {
          "base_uri": "https://localhost:8080/"
        },
        "id": "RH8mZYkKmJ2E",
        "outputId": "ba311a54-ac2b-4a6f-f309-df2a1a6aa410"
      },
      "execution_count": 47,
      "outputs": [
        {
          "output_type": "execute_result",
          "data": {
            "text/plain": [
              "array([[1],\n",
              "       [2],\n",
              "       [3]])"
            ]
          },
          "metadata": {},
          "execution_count": 47
        }
      ]
    },
    {
      "cell_type": "markdown",
      "source": [
        "**Concatenation of arrays**"
      ],
      "metadata": {
        "id": "3FVQCJuwmSDI"
      }
    },
    {
      "cell_type": "code",
      "source": [
        "x = np.array([1,2,3])\n",
        "y = np.array([3,2,1])\n",
        "np.concatenate([x,y])"
      ],
      "metadata": {
        "colab": {
          "base_uri": "https://localhost:8080/"
        },
        "id": "JfMKCJrnmT8U",
        "outputId": "574fe119-efa4-4b78-950a-9fd43ae84bc1"
      },
      "execution_count": 48,
      "outputs": [
        {
          "output_type": "execute_result",
          "data": {
            "text/plain": [
              "array([1, 2, 3, 3, 2, 1])"
            ]
          },
          "metadata": {},
          "execution_count": 48
        }
      ]
    },
    {
      "cell_type": "code",
      "source": [
        "z = [9,9,9]\n",
        "np.concatenate([x,y,z])"
      ],
      "metadata": {
        "colab": {
          "base_uri": "https://localhost:8080/"
        },
        "id": "_hdD6PTrmnMd",
        "outputId": "b6cc94ed-da5e-44ff-82b2-3a378d3b03be"
      },
      "execution_count": 49,
      "outputs": [
        {
          "output_type": "execute_result",
          "data": {
            "text/plain": [
              "array([1, 2, 3, 3, 2, 1, 9, 9, 9])"
            ]
          },
          "metadata": {},
          "execution_count": 49
        }
      ]
    },
    {
      "cell_type": "code",
      "source": [
        "grid1 = ([1,2,3],\n",
        "         [3,2,1])\n",
        "np.concatenate([grid1,grid1]) #first axis"
      ],
      "metadata": {
        "colab": {
          "base_uri": "https://localhost:8080/"
        },
        "id": "KaDWFCVtm23B",
        "outputId": "6ceb0d5c-f5e4-44f8-8845-624e8dbc6ff4"
      },
      "execution_count": 50,
      "outputs": [
        {
          "output_type": "execute_result",
          "data": {
            "text/plain": [
              "array([[1, 2, 3],\n",
              "       [3, 2, 1],\n",
              "       [1, 2, 3],\n",
              "       [3, 2, 1]])"
            ]
          },
          "metadata": {},
          "execution_count": 50
        }
      ]
    },
    {
      "cell_type": "code",
      "source": [
        "np.concatenate([grid1,grid1], axis=1) #second axis"
      ],
      "metadata": {
        "colab": {
          "base_uri": "https://localhost:8080/"
        },
        "id": "cltgj1OEnCHj",
        "outputId": "b4d66a20-8087-41c0-d1da-941883c6bf67"
      },
      "execution_count": 51,
      "outputs": [
        {
          "output_type": "execute_result",
          "data": {
            "text/plain": [
              "array([[1, 2, 3, 1, 2, 3],\n",
              "       [3, 2, 1, 3, 2, 1]])"
            ]
          },
          "metadata": {},
          "execution_count": 51
        }
      ]
    },
    {
      "cell_type": "code",
      "source": [
        "x = np.array([1, 2, 3])\n",
        "grid = np.array([[9, 8, 7],\n",
        "                 [6, 5, 4]])\n",
        "\n",
        "# vertically stack the arrays\n",
        "np.vstack([x, grid])"
      ],
      "metadata": {
        "colab": {
          "base_uri": "https://localhost:8080/"
        },
        "id": "Nh3pQhaEnLff",
        "outputId": "51873814-cb43-4520-80b8-210e7fb47f84"
      },
      "execution_count": 52,
      "outputs": [
        {
          "output_type": "execute_result",
          "data": {
            "text/plain": [
              "array([[1, 2, 3],\n",
              "       [9, 8, 7],\n",
              "       [6, 5, 4]])"
            ]
          },
          "metadata": {},
          "execution_count": 52
        }
      ]
    },
    {
      "cell_type": "code",
      "source": [
        "# horizontally stack the arrays\n",
        "y = np.array([[99],\n",
        "              [99]])\n",
        "np.hstack([grid, y])"
      ],
      "metadata": {
        "colab": {
          "base_uri": "https://localhost:8080/"
        },
        "id": "8Ynp0cMOoKc0",
        "outputId": "913c9f7f-19f6-497a-bc86-13a2ff461564"
      },
      "execution_count": 53,
      "outputs": [
        {
          "output_type": "execute_result",
          "data": {
            "text/plain": [
              "array([[ 9,  8,  7, 99],\n",
              "       [ 6,  5,  4, 99]])"
            ]
          },
          "metadata": {},
          "execution_count": 53
        }
      ]
    },
    {
      "cell_type": "code",
      "source": [
        "x = [1, 2, 3, 99, 99, 3, 2, 1]\n",
        "x1, x2, x3 = np.split(x, [3, 5]) #given the split points (3,5)\n",
        "print(x1, x2, x3)"
      ],
      "metadata": {
        "colab": {
          "base_uri": "https://localhost:8080/"
        },
        "id": "_gXWL53RoRCr",
        "outputId": "f3005548-91c1-428f-a7de-4a5855a54d2a"
      },
      "execution_count": 54,
      "outputs": [
        {
          "output_type": "stream",
          "name": "stdout",
          "text": [
            "[1 2 3] [99 99] [3 2 1]\n"
          ]
        }
      ]
    },
    {
      "cell_type": "code",
      "source": [
        "grid = np.arange(16).reshape((4, 4))\n",
        "grid"
      ],
      "metadata": {
        "colab": {
          "base_uri": "https://localhost:8080/"
        },
        "id": "hUzbN5CsolDn",
        "outputId": "4f9dd915-70ce-4713-cd56-0ca969b32492"
      },
      "execution_count": 55,
      "outputs": [
        {
          "output_type": "execute_result",
          "data": {
            "text/plain": [
              "array([[ 0,  1,  2,  3],\n",
              "       [ 4,  5,  6,  7],\n",
              "       [ 8,  9, 10, 11],\n",
              "       [12, 13, 14, 15]])"
            ]
          },
          "metadata": {},
          "execution_count": 55
        }
      ]
    },
    {
      "cell_type": "code",
      "source": [
        "upper, lower = np.vsplit(grid, [2])\n",
        "print(upper)\n",
        "print(lower)"
      ],
      "metadata": {
        "colab": {
          "base_uri": "https://localhost:8080/"
        },
        "id": "tcX0zNVmosOw",
        "outputId": "b0f3d684-4dbc-4a6b-fe06-61f361f1e8d9"
      },
      "execution_count": 56,
      "outputs": [
        {
          "output_type": "stream",
          "name": "stdout",
          "text": [
            "[[0 1 2 3]\n",
            " [4 5 6 7]]\n",
            "[[ 8  9 10 11]\n",
            " [12 13 14 15]]\n"
          ]
        }
      ]
    },
    {
      "cell_type": "code",
      "source": [
        "left, right = np.hsplit(grid, [2])\n",
        "print(left)\n",
        "print(right)"
      ],
      "metadata": {
        "colab": {
          "base_uri": "https://localhost:8080/"
        },
        "id": "EyqZiP1Cou4-",
        "outputId": "e7dd572a-5b5b-4ca8-f8b3-7ff3c581bffc"
      },
      "execution_count": 57,
      "outputs": [
        {
          "output_type": "stream",
          "name": "stdout",
          "text": [
            "[[ 0  1]\n",
            " [ 4  5]\n",
            " [ 8  9]\n",
            " [12 13]]\n",
            "[[ 2  3]\n",
            " [ 6  7]\n",
            " [10 11]\n",
            " [14 15]]\n"
          ]
        }
      ]
    },
    {
      "cell_type": "markdown",
      "source": [
        "**Computation of NumPy arrays**"
      ],
      "metadata": {
        "id": "USsfAA8Wo2yL"
      }
    },
    {
      "cell_type": "markdown",
      "source": [
        "Array arithmetic"
      ],
      "metadata": {
        "id": "AXaLsE5rNk0v"
      }
    },
    {
      "cell_type": "code",
      "source": [
        "x = np.arange(4)\n",
        "print(\"x     =\", x)\n",
        "print(\"x + 5 =\", x + 5)\n",
        "print(\"x - 5 =\", x - 5)\n",
        "print(\"x * 2 =\", x * 2)\n",
        "print(\"x / 2 =\", x / 2)\n",
        "print(\"x // 2 =\", x // 2)  # floor division\n",
        "print(\"-x     = \", -x)\n",
        "print(\"x ** 2 = \", x ** 2)\n",
        "print(\"x % 2  = \", x % 2)"
      ],
      "metadata": {
        "id": "FZlIHTh4o6bd",
        "colab": {
          "base_uri": "https://localhost:8080/"
        },
        "outputId": "d69062be-1d96-4c88-d2f7-bf5ffbdb198f"
      },
      "execution_count": 58,
      "outputs": [
        {
          "output_type": "stream",
          "name": "stdout",
          "text": [
            "x     = [0 1 2 3]\n",
            "x + 5 = [5 6 7 8]\n",
            "x - 5 = [-5 -4 -3 -2]\n",
            "x * 2 = [0 2 4 6]\n",
            "x / 2 = [0.  0.5 1.  1.5]\n",
            "x // 2 = [0 0 1 1]\n",
            "-x     =  [ 0 -1 -2 -3]\n",
            "x ** 2 =  [0 1 4 9]\n",
            "x % 2  =  [0 1 0 1]\n"
          ]
        }
      ]
    },
    {
      "cell_type": "markdown",
      "source": [
        "Absolut value"
      ],
      "metadata": {
        "id": "LyiP11IAODwY"
      }
    },
    {
      "cell_type": "code",
      "source": [
        "x = np.array([-1,-2,-3,-4,-5])\n",
        "x"
      ],
      "metadata": {
        "colab": {
          "base_uri": "https://localhost:8080/"
        },
        "id": "MMktLMz3OEvy",
        "outputId": "7e100d14-ad23-4c35-fbf8-f3c939ef7465"
      },
      "execution_count": 59,
      "outputs": [
        {
          "output_type": "execute_result",
          "data": {
            "text/plain": [
              "array([-1, -2, -3, -4, -5])"
            ]
          },
          "metadata": {},
          "execution_count": 59
        }
      ]
    },
    {
      "cell_type": "code",
      "source": [
        "abs(x)"
      ],
      "metadata": {
        "colab": {
          "base_uri": "https://localhost:8080/"
        },
        "id": "U83bLMAUOINA",
        "outputId": "24e16185-1ae8-4bf3-f348-3646cffcc26b"
      },
      "execution_count": 60,
      "outputs": [
        {
          "output_type": "execute_result",
          "data": {
            "text/plain": [
              "array([1, 2, 3, 4, 5])"
            ]
          },
          "metadata": {},
          "execution_count": 60
        }
      ]
    },
    {
      "cell_type": "markdown",
      "source": [
        "Trigonometric functions"
      ],
      "metadata": {
        "id": "k1__9jErOnVp"
      }
    },
    {
      "cell_type": "code",
      "source": [
        "#Array of angles\n",
        "theta = np.linspace(0, np.pi, 3)\n",
        "#np.linspace?\n",
        "theta"
      ],
      "metadata": {
        "colab": {
          "base_uri": "https://localhost:8080/"
        },
        "id": "OXP2XVJKOqYS",
        "outputId": "6e57368a-a2ee-4cf6-84b5-21537910e935"
      },
      "execution_count": 61,
      "outputs": [
        {
          "output_type": "execute_result",
          "data": {
            "text/plain": [
              "array([0.        , 1.57079633, 3.14159265])"
            ]
          },
          "metadata": {},
          "execution_count": 61
        }
      ]
    },
    {
      "cell_type": "code",
      "source": [
        "#Some trigonometric functions\n",
        "print(\"theta      = \", theta)\n",
        "print(\"sin(theta) = \", np.sin(theta))\n",
        "print(\"cos(theta) = \", np.cos(theta))\n",
        "print(\"tan(theta) = \", np.tan(theta))"
      ],
      "metadata": {
        "colab": {
          "base_uri": "https://localhost:8080/"
        },
        "id": "bBEsxd4sPKrx",
        "outputId": "8460ebcb-e755-4cb6-be6a-89de090a0a76"
      },
      "execution_count": 62,
      "outputs": [
        {
          "output_type": "stream",
          "name": "stdout",
          "text": [
            "theta      =  [0.         1.57079633 3.14159265]\n",
            "sin(theta) =  [0.0000000e+00 1.0000000e+00 1.2246468e-16]\n",
            "cos(theta) =  [ 1.000000e+00  6.123234e-17 -1.000000e+00]\n",
            "tan(theta) =  [ 0.00000000e+00  1.63312394e+16 -1.22464680e-16]\n"
          ]
        }
      ]
    },
    {
      "cell_type": "markdown",
      "source": [
        "Exponents and logarithms"
      ],
      "metadata": {
        "id": "ok-WB4baPXRH"
      }
    },
    {
      "cell_type": "code",
      "source": [
        "x = [1, 2, 3]\n",
        "print(\"x     =\", x)\n",
        "print(\"e^x   =\", np.exp(x))\n",
        "print(\"2^x   =\", np.exp2(x))\n",
        "print(\"3^x   =\", np.power(3, x))"
      ],
      "metadata": {
        "colab": {
          "base_uri": "https://localhost:8080/"
        },
        "id": "WV9p6gHEPWlO",
        "outputId": "3c09467a-2c15-4f5c-dccf-6bed2e9a9a2a"
      },
      "execution_count": 63,
      "outputs": [
        {
          "output_type": "stream",
          "name": "stdout",
          "text": [
            "x     = [1, 2, 3]\n",
            "e^x   = [ 2.71828183  7.3890561  20.08553692]\n",
            "2^x   = [2. 4. 8.]\n",
            "3^x   = [ 3  9 27]\n"
          ]
        }
      ]
    },
    {
      "cell_type": "code",
      "source": [
        "x = [1, 2, 4, 10]\n",
        "print(\"x        =\", x)\n",
        "print(\"ln(x)    =\", np.log(x))\n",
        "print(\"log2(x)  =\", np.log2(x))\n",
        "print(\"log10(x) =\", np.log10(x))"
      ],
      "metadata": {
        "colab": {
          "base_uri": "https://localhost:8080/"
        },
        "id": "E_HcSVu5PqQX",
        "outputId": "144bba8c-e579-4350-84d5-5f5d2f3df500"
      },
      "execution_count": 64,
      "outputs": [
        {
          "output_type": "stream",
          "name": "stdout",
          "text": [
            "x        = [1, 2, 4, 10]\n",
            "ln(x)    = [0.         0.69314718 1.38629436 2.30258509]\n",
            "log2(x)  = [0.         1.         2.         3.32192809]\n",
            "log10(x) = [0.         0.30103    0.60205999 1.        ]\n"
          ]
        }
      ]
    },
    {
      "cell_type": "markdown",
      "source": [
        "Summing the values in an array"
      ],
      "metadata": {
        "id": "fWNCWqKzQIId"
      }
    },
    {
      "cell_type": "code",
      "source": [
        "L = np.random.random(100)\n",
        "sum(L)\n",
        "#np.random.random?\n",
        "#L"
      ],
      "metadata": {
        "colab": {
          "base_uri": "https://localhost:8080/"
        },
        "id": "FIGfKhUDQKDR",
        "outputId": "0c2f0cfc-8593-4d2e-8bc5-ded38656e7fa"
      },
      "execution_count": 65,
      "outputs": [
        {
          "output_type": "execute_result",
          "data": {
            "text/plain": [
              "52.12818058833704"
            ]
          },
          "metadata": {},
          "execution_count": 65
        }
      ]
    },
    {
      "cell_type": "code",
      "source": [
        "np.sum(L) #this version is faster"
      ],
      "metadata": {
        "colab": {
          "base_uri": "https://localhost:8080/"
        },
        "id": "1Qm4fmDLQYIN",
        "outputId": "c59ee2e4-3837-4822-b7d8-2555ff5e96e0"
      },
      "execution_count": 66,
      "outputs": [
        {
          "output_type": "execute_result",
          "data": {
            "text/plain": [
              "52.12818058833702"
            ]
          },
          "metadata": {},
          "execution_count": 66
        }
      ]
    },
    {
      "cell_type": "code",
      "source": [
        "big_array = np.random.rand(1000000)\n",
        "%timeit sum(big_array)\n",
        "%timeit np.sum(big_array)"
      ],
      "metadata": {
        "colab": {
          "base_uri": "https://localhost:8080/"
        },
        "id": "FOagAHd-Qm_s",
        "outputId": "f7efcbdf-0065-4125-a69a-4c96f5103e55"
      },
      "execution_count": 67,
      "outputs": [
        {
          "output_type": "stream",
          "name": "stdout",
          "text": [
            "132 ms ± 36.6 ms per loop (mean ± std. dev. of 7 runs, 1 loop each)\n",
            "1.07 ms ± 395 µs per loop (mean ± std. dev. of 7 runs, 1000 loops each)\n"
          ]
        }
      ]
    },
    {
      "cell_type": "markdown",
      "source": [
        "Minimum and maximum"
      ],
      "metadata": {
        "id": "Yo7IwmDtQxL5"
      }
    },
    {
      "cell_type": "code",
      "source": [
        "min(big_array), max(big_array)"
      ],
      "metadata": {
        "colab": {
          "base_uri": "https://localhost:8080/"
        },
        "id": "_rNbN7J3Qy74",
        "outputId": "60866855-da01-47e3-e24d-6741557751e2"
      },
      "execution_count": 68,
      "outputs": [
        {
          "output_type": "execute_result",
          "data": {
            "text/plain": [
              "(1.4057692298008462e-06, 0.9999994392723005)"
            ]
          },
          "metadata": {},
          "execution_count": 68
        }
      ]
    },
    {
      "cell_type": "code",
      "source": [
        "np.min(big_array), np.max(big_array) #numpy's functions are faster again"
      ],
      "metadata": {
        "colab": {
          "base_uri": "https://localhost:8080/"
        },
        "id": "qgn3YOuwQ4O4",
        "outputId": "fc212ddd-5ec0-4d3b-c31a-d78f3dd0cd28"
      },
      "execution_count": 69,
      "outputs": [
        {
          "output_type": "execute_result",
          "data": {
            "text/plain": [
              "(1.4057692298008462e-06, 0.9999994392723005)"
            ]
          },
          "metadata": {},
          "execution_count": 69
        }
      ]
    },
    {
      "cell_type": "markdown",
      "source": [
        "Multi dimensional aggregates"
      ],
      "metadata": {
        "id": "W2Iw5RpORE0A"
      }
    },
    {
      "cell_type": "code",
      "source": [
        "M = np.random.random((3, 4))\n",
        "print(M)"
      ],
      "metadata": {
        "colab": {
          "base_uri": "https://localhost:8080/"
        },
        "id": "sMj4JQ33Rh5S",
        "outputId": "accd1d69-1694-491b-f6af-873a648331d6"
      },
      "execution_count": 70,
      "outputs": [
        {
          "output_type": "stream",
          "name": "stdout",
          "text": [
            "[[0.50063048 0.07383653 0.49018646 0.72521956]\n",
            " [0.84926562 0.10226215 0.99559424 0.59250301]\n",
            " [0.53509    0.88518089 0.25518136 0.13130483]]\n"
          ]
        }
      ]
    },
    {
      "cell_type": "code",
      "source": [
        "M.sum() #over the entire array"
      ],
      "metadata": {
        "colab": {
          "base_uri": "https://localhost:8080/"
        },
        "id": "VZtniSZQRlt6",
        "outputId": "84728b03-774e-4d41-8ff8-cf5cbcf06b5c"
      },
      "execution_count": 71,
      "outputs": [
        {
          "output_type": "execute_result",
          "data": {
            "text/plain": [
              "6.1362551272647154"
            ]
          },
          "metadata": {},
          "execution_count": 71
        }
      ]
    },
    {
      "cell_type": "code",
      "source": [
        "M.min(axis=0) #minimum within each column"
      ],
      "metadata": {
        "colab": {
          "base_uri": "https://localhost:8080/"
        },
        "id": "4QyxAoZoRpNy",
        "outputId": "42609693-39bb-4b96-f95e-b4363c9d82c8"
      },
      "execution_count": 72,
      "outputs": [
        {
          "output_type": "execute_result",
          "data": {
            "text/plain": [
              "array([0.50063048, 0.07383653, 0.25518136, 0.13130483])"
            ]
          },
          "metadata": {},
          "execution_count": 72
        }
      ]
    },
    {
      "cell_type": "code",
      "source": [
        "M.min(axis=1) #minimum within each row (same for max)"
      ],
      "metadata": {
        "colab": {
          "base_uri": "https://localhost:8080/"
        },
        "id": "kyxNNr5ZR6fn",
        "outputId": "2cefee78-65b9-4dba-ee53-bd3d91648dcb"
      },
      "execution_count": 73,
      "outputs": [
        {
          "output_type": "execute_result",
          "data": {
            "text/plain": [
              "array([0.07383653, 0.10226215, 0.13130483])"
            ]
          },
          "metadata": {},
          "execution_count": 73
        }
      ]
    },
    {
      "cell_type": "markdown",
      "source": [
        "**Broadcasting**"
      ],
      "metadata": {
        "id": "-6zn09LdTxpK"
      }
    },
    {
      "cell_type": "code",
      "source": [
        "a = np.array([0, 1, 2])\n",
        "b = np.array([5, 5, 5])\n",
        "a + b"
      ],
      "metadata": {
        "colab": {
          "base_uri": "https://localhost:8080/"
        },
        "id": "l-HhGgsYT1nK",
        "outputId": "98892965-e2bf-4f1d-e7b2-1b85536dabda"
      },
      "execution_count": 74,
      "outputs": [
        {
          "output_type": "execute_result",
          "data": {
            "text/plain": [
              "array([5, 6, 7])"
            ]
          },
          "metadata": {},
          "execution_count": 74
        }
      ]
    },
    {
      "cell_type": "code",
      "source": [
        "a + 5"
      ],
      "metadata": {
        "colab": {
          "base_uri": "https://localhost:8080/"
        },
        "id": "-QjCCc-sUOcH",
        "outputId": "71e96fc2-72ec-4489-bbe3-854ec4a30588"
      },
      "execution_count": 75,
      "outputs": [
        {
          "output_type": "execute_result",
          "data": {
            "text/plain": [
              "array([5, 6, 7])"
            ]
          },
          "metadata": {},
          "execution_count": 75
        }
      ]
    },
    {
      "cell_type": "code",
      "source": [
        "M = np.ones((3,3))\n",
        "M"
      ],
      "metadata": {
        "colab": {
          "base_uri": "https://localhost:8080/"
        },
        "id": "H94jAhO2UaB-",
        "outputId": "bc464dd3-8e04-4a14-b969-bbd1feacc540"
      },
      "execution_count": 76,
      "outputs": [
        {
          "output_type": "execute_result",
          "data": {
            "text/plain": [
              "array([[1., 1., 1.],\n",
              "       [1., 1., 1.],\n",
              "       [1., 1., 1.]])"
            ]
          },
          "metadata": {},
          "execution_count": 76
        }
      ]
    },
    {
      "cell_type": "code",
      "source": [
        "M + a #a is stretched to match the size of M!!!!!!"
      ],
      "metadata": {
        "colab": {
          "base_uri": "https://localhost:8080/"
        },
        "id": "pej7fZvEUg3h",
        "outputId": "ea0d60ee-609b-4f8a-9e7c-028e34672b5a"
      },
      "execution_count": 77,
      "outputs": [
        {
          "output_type": "execute_result",
          "data": {
            "text/plain": [
              "array([[1., 2., 3.],\n",
              "       [1., 2., 3.],\n",
              "       [1., 2., 3.]])"
            ]
          },
          "metadata": {},
          "execution_count": 77
        }
      ]
    },
    {
      "cell_type": "code",
      "source": [
        "a = np.arange(3)\n",
        "b = np.arange(3)[:, np.newaxis]\n",
        "\n",
        "print(a)\n",
        "print(b)"
      ],
      "metadata": {
        "colab": {
          "base_uri": "https://localhost:8080/"
        },
        "id": "JV40k2s6VCuM",
        "outputId": "c1db8461-3025-4d86-fbc5-9d4fb3263bd7"
      },
      "execution_count": 78,
      "outputs": [
        {
          "output_type": "stream",
          "name": "stdout",
          "text": [
            "[0 1 2]\n",
            "[[0]\n",
            " [1]\n",
            " [2]]\n"
          ]
        }
      ]
    },
    {
      "cell_type": "code",
      "source": [
        "a + b"
      ],
      "metadata": {
        "colab": {
          "base_uri": "https://localhost:8080/"
        },
        "id": "Yach5z31VUAw",
        "outputId": "04d6f99b-f57f-4240-aef4-360a106a2523"
      },
      "execution_count": 79,
      "outputs": [
        {
          "output_type": "execute_result",
          "data": {
            "text/plain": [
              "array([[0, 1, 2],\n",
              "       [1, 2, 3],\n",
              "       [2, 3, 4]])"
            ]
          },
          "metadata": {},
          "execution_count": 79
        }
      ]
    },
    {
      "cell_type": "markdown",
      "source": [
        "**Note: rules of broadcasting**\n",
        "Rule 1: If the two arrays differ in their number of dimensions, the shape of the one with fewer dimensions is padded with ones on its leading (left) side.\n",
        "Rule 2: If the shape of the two arrays does not match in any dimension, the array with shape equal to 1 in that dimension is stretched to match the other shape.\n",
        "Rule 3: If in any dimension the sizes disagree and neither is equal to 1, an error is raised."
      ],
      "metadata": {
        "id": "CjOtCrmdVkFL"
      }
    },
    {
      "cell_type": "markdown",
      "source": [
        "Ploting a two dimensional function"
      ],
      "metadata": {
        "id": "JQmCcia5XHm7"
      }
    },
    {
      "cell_type": "code",
      "source": [
        "# x and y have 50 steps from 0 to 5\n",
        "x = np.linspace(0, 5, 50)\n",
        "y = np.linspace(0, 5, 50)[:, np.newaxis]\n",
        "\n",
        "z = np.sin(x) ** 10 + np.cos(10 + y * x) * np.cos(x)"
      ],
      "metadata": {
        "id": "zsa41hSYVoNv"
      },
      "execution_count": 80,
      "outputs": []
    },
    {
      "cell_type": "code",
      "source": [
        "import matplotlib.pyplot as plt"
      ],
      "metadata": {
        "id": "7BkPHZj3XPdY"
      },
      "execution_count": 81,
      "outputs": []
    },
    {
      "cell_type": "code",
      "source": [
        "plt.imshow(z, origin='lower', extent=[0, 5, 0, 5],\n",
        "           cmap='viridis')\n",
        "plt.colorbar();"
      ],
      "metadata": {
        "colab": {
          "base_uri": "https://localhost:8080/",
          "height": 435
        },
        "id": "J4wvTg-HXT1O",
        "outputId": "4e97abc2-69a7-446b-c800-51df2bc251b8"
      },
      "execution_count": 82,
      "outputs": [
        {
          "output_type": "display_data",
          "data": {
            "text/plain": [
              "<Figure size 640x480 with 2 Axes>"
            ],
            "image/png": "[encoded data removed]"
          },
          "metadata": {}
        }
      ]
    },
    {
      "cell_type": "markdown",
      "source": [
        "**Comparisons, masks, and Boolean logic**"
      ],
      "metadata": {
        "id": "GXG647wtXo8m"
      }
    },
    {
      "cell_type": "markdown",
      "source": [
        "Comparison operators as functions"
      ],
      "metadata": {
        "id": "GeNUi4PcesZ4"
      }
    },
    {
      "cell_type": "code",
      "source": [
        "x = np.array([1,2,3,4,5])"
      ],
      "metadata": {
        "id": "b9YO6tfSXuCx"
      },
      "execution_count": 83,
      "outputs": []
    },
    {
      "cell_type": "code",
      "source": [
        "x < 3"
      ],
      "metadata": {
        "colab": {
          "base_uri": "https://localhost:8080/"
        },
        "id": "QcickojEfK_3",
        "outputId": "852ac815-4cd7-47ae-95ee-083d85f90dc9"
      },
      "execution_count": 84,
      "outputs": [
        {
          "output_type": "execute_result",
          "data": {
            "text/plain": [
              "array([ True,  True, False, False, False])"
            ]
          },
          "metadata": {},
          "execution_count": 84
        }
      ]
    },
    {
      "cell_type": "code",
      "source": [
        "x > 3"
      ],
      "metadata": {
        "colab": {
          "base_uri": "https://localhost:8080/"
        },
        "id": "Mr4e_rs0fMWx",
        "outputId": "5c786aa4-5396-4445-d7f5-fc31ccdb6548"
      },
      "execution_count": 85,
      "outputs": [
        {
          "output_type": "execute_result",
          "data": {
            "text/plain": [
              "array([False, False, False,  True,  True])"
            ]
          },
          "metadata": {},
          "execution_count": 85
        }
      ]
    },
    {
      "cell_type": "code",
      "source": [
        "x <=3"
      ],
      "metadata": {
        "colab": {
          "base_uri": "https://localhost:8080/"
        },
        "id": "Ym-615kRfNVv",
        "outputId": "22c2d408-f1ad-4cc6-c818-e6f3991e58d7"
      },
      "execution_count": 86,
      "outputs": [
        {
          "output_type": "execute_result",
          "data": {
            "text/plain": [
              "array([ True,  True,  True, False, False])"
            ]
          },
          "metadata": {},
          "execution_count": 86
        }
      ]
    },
    {
      "cell_type": "code",
      "source": [
        "x != 3"
      ],
      "metadata": {
        "colab": {
          "base_uri": "https://localhost:8080/"
        },
        "id": "0CzhVMqJfO1K",
        "outputId": "a173200e-7826-4ad0-8e0b-e31a93c7df91"
      },
      "execution_count": 87,
      "outputs": [
        {
          "output_type": "execute_result",
          "data": {
            "text/plain": [
              "array([ True,  True, False,  True,  True])"
            ]
          },
          "metadata": {},
          "execution_count": 87
        }
      ]
    },
    {
      "cell_type": "code",
      "source": [
        "x == 3"
      ],
      "metadata": {
        "colab": {
          "base_uri": "https://localhost:8080/"
        },
        "id": "sCKwmXTnfRYU",
        "outputId": "daeb9cef-2346-4fe7-eeb9-7fd94fbe901d"
      },
      "execution_count": 88,
      "outputs": [
        {
          "output_type": "execute_result",
          "data": {
            "text/plain": [
              "array([False, False,  True, False, False])"
            ]
          },
          "metadata": {},
          "execution_count": 88
        }
      ]
    },
    {
      "cell_type": "code",
      "source": [
        "rng = np.random.RandomState(0)\n",
        "x = rng.randint(10, size = (3,5))\n",
        "x"
      ],
      "metadata": {
        "colab": {
          "base_uri": "https://localhost:8080/"
        },
        "id": "KOLg9ZpefZfA",
        "outputId": "1e9d530a-d95b-4a6d-9510-ff6bb3e40497"
      },
      "execution_count": 96,
      "outputs": [
        {
          "output_type": "execute_result",
          "data": {
            "text/plain": [
              "array([[5, 0, 3, 3, 7],\n",
              "       [9, 3, 5, 2, 4],\n",
              "       [7, 6, 8, 8, 1]])"
            ]
          },
          "metadata": {},
          "execution_count": 96
        }
      ]
    },
    {
      "cell_type": "code",
      "source": [
        "x < 5"
      ],
      "metadata": {
        "colab": {
          "base_uri": "https://localhost:8080/"
        },
        "id": "0ZuNEzpugC6B",
        "outputId": "9a6b1be3-852f-4d36-b994-66b338cf9385"
      },
      "execution_count": 97,
      "outputs": [
        {
          "output_type": "execute_result",
          "data": {
            "text/plain": [
              "array([[False,  True,  True,  True, False],\n",
              "       [False,  True, False,  True,  True],\n",
              "       [False, False, False, False,  True]])"
            ]
          },
          "metadata": {},
          "execution_count": 97
        }
      ]
    },
    {
      "cell_type": "markdown",
      "source": [
        "Counting entries"
      ],
      "metadata": {
        "id": "S-EnpvFigMtC"
      }
    },
    {
      "cell_type": "code",
      "source": [
        "np.count_nonzero(x<6)"
      ],
      "metadata": {
        "colab": {
          "base_uri": "https://localhost:8080/"
        },
        "id": "36StEoYIgNqe",
        "outputId": "394ed39a-c1f5-4e58-f35a-13b42fdc1ffe"
      },
      "execution_count": 99,
      "outputs": [
        {
          "output_type": "execute_result",
          "data": {
            "text/plain": [
              "9"
            ]
          },
          "metadata": {},
          "execution_count": 99
        }
      ]
    },
    {
      "cell_type": "code",
      "source": [
        "np.sum(x<6)"
      ],
      "metadata": {
        "colab": {
          "base_uri": "https://localhost:8080/"
        },
        "id": "A0UOof4Egdo0",
        "outputId": "514e0ce0-1963-4b0e-dc48-e5802d7d634b"
      },
      "execution_count": 100,
      "outputs": [
        {
          "output_type": "execute_result",
          "data": {
            "text/plain": [
              "9"
            ]
          },
          "metadata": {},
          "execution_count": 100
        }
      ]
    },
    {
      "cell_type": "code",
      "source": [
        "np.sum(x<6, axis = 1)"
      ],
      "metadata": {
        "colab": {
          "base_uri": "https://localhost:8080/"
        },
        "id": "PxdA3aDxgpLP",
        "outputId": "d2c3366e-57d4-4b64-9163-fff3fc928d5b"
      },
      "execution_count": 101,
      "outputs": [
        {
          "output_type": "execute_result",
          "data": {
            "text/plain": [
              "array([4, 4, 1])"
            ]
          },
          "metadata": {},
          "execution_count": 101
        }
      ]
    },
    {
      "cell_type": "code",
      "source": [
        "np.any(x>8)"
      ],
      "metadata": {
        "colab": {
          "base_uri": "https://localhost:8080/"
        },
        "id": "pXGYW6uPgt_5",
        "outputId": "0e16d368-4e85-40c7-ba8e-77470c86d1e0"
      },
      "execution_count": 103,
      "outputs": [
        {
          "output_type": "execute_result",
          "data": {
            "text/plain": [
              "True"
            ]
          },
          "metadata": {},
          "execution_count": 103
        }
      ]
    },
    {
      "cell_type": "markdown",
      "source": [
        "**Fancy indexing**"
      ],
      "metadata": {
        "id": "jNvzAjv4g8oV"
      }
    },
    {
      "cell_type": "code",
      "source": [
        "rand = np.random.RandomState(42)\n",
        "\n",
        "x = rand.randint(100, size=10)\n",
        "print(x)"
      ],
      "metadata": {
        "colab": {
          "base_uri": "https://localhost:8080/"
        },
        "id": "T6DyEoqHg-Bb",
        "outputId": "26d10952-f79a-4a63-c199-5ab470e64d0b"
      },
      "execution_count": 104,
      "outputs": [
        {
          "output_type": "stream",
          "name": "stdout",
          "text": [
            "[51 92 14 71 60 20 82 86 74 74]\n"
          ]
        }
      ]
    },
    {
      "cell_type": "code",
      "source": [
        "ind = [3,7,4]\n",
        "x[ind]"
      ],
      "metadata": {
        "colab": {
          "base_uri": "https://localhost:8080/"
        },
        "id": "P31NUA2mhNDY",
        "outputId": "e99e9ff2-95ea-447e-f22c-287e7416c513"
      },
      "execution_count": 105,
      "outputs": [
        {
          "output_type": "execute_result",
          "data": {
            "text/plain": [
              "array([71, 86, 60])"
            ]
          },
          "metadata": {},
          "execution_count": 105
        }
      ]
    },
    {
      "cell_type": "code",
      "source": [
        "x = np.arange(12).reshape(3,4)\n",
        "x"
      ],
      "metadata": {
        "colab": {
          "base_uri": "https://localhost:8080/"
        },
        "id": "_o4_agDshkam",
        "outputId": "8ab56d85-86c2-45d1-e35e-bf1d38f5b97c"
      },
      "execution_count": 106,
      "outputs": [
        {
          "output_type": "execute_result",
          "data": {
            "text/plain": [
              "array([[ 0,  1,  2,  3],\n",
              "       [ 4,  5,  6,  7],\n",
              "       [ 8,  9, 10, 11]])"
            ]
          },
          "metadata": {},
          "execution_count": 106
        }
      ]
    },
    {
      "cell_type": "code",
      "source": [
        "row = np.array([0,1,2])\n",
        "col = np.array([2,1,3])\n",
        "x[row,col] #([0,2], [1,1], [2,3])"
      ],
      "metadata": {
        "colab": {
          "base_uri": "https://localhost:8080/"
        },
        "id": "ryvm41Qihoy6",
        "outputId": "1962286d-f612-4548-9d21-d2dc9c7c6bad"
      },
      "execution_count": 108,
      "outputs": [
        {
          "output_type": "execute_result",
          "data": {
            "text/plain": [
              "array([ 2,  5, 11])"
            ]
          },
          "metadata": {},
          "execution_count": 108
        }
      ]
    },
    {
      "cell_type": "code",
      "source": [
        "x"
      ],
      "metadata": {
        "colab": {
          "base_uri": "https://localhost:8080/"
        },
        "id": "qhGw0TzdiVKC",
        "outputId": "a4219e13-d305-4470-fa0f-90f2af16beb3"
      },
      "execution_count": 110,
      "outputs": [
        {
          "output_type": "execute_result",
          "data": {
            "text/plain": [
              "array([[ 0,  1,  2,  3],\n",
              "       [ 4,  5,  6,  7],\n",
              "       [ 8,  9, 10, 11]])"
            ]
          },
          "metadata": {},
          "execution_count": 110
        }
      ]
    },
    {
      "cell_type": "code",
      "source": [
        "x[2,([2,1,3])]"
      ],
      "metadata": {
        "colab": {
          "base_uri": "https://localhost:8080/"
        },
        "id": "oHNBucSxijrt",
        "outputId": "7bb61c14-aa79-496b-9836-fd7d4c1688fb"
      },
      "execution_count": 111,
      "outputs": [
        {
          "output_type": "execute_result",
          "data": {
            "text/plain": [
              "array([10,  9, 11])"
            ]
          },
          "metadata": {},
          "execution_count": 111
        }
      ]
    },
    {
      "cell_type": "code",
      "source": [
        "x[1:,([2,0,1])]"
      ],
      "metadata": {
        "colab": {
          "base_uri": "https://localhost:8080/"
        },
        "id": "WKGKMBOnitkP",
        "outputId": "7decbf05-515d-4da6-ae9d-335cb5b0ea12"
      },
      "execution_count": 112,
      "outputs": [
        {
          "output_type": "execute_result",
          "data": {
            "text/plain": [
              "array([[ 6,  4,  5],\n",
              "       [10,  8,  9]])"
            ]
          },
          "metadata": {},
          "execution_count": 112
        }
      ]
    },
    {
      "cell_type": "markdown",
      "source": [
        "**Sorting arrays**"
      ],
      "metadata": {
        "id": "3Y2uL1fBi-iv"
      }
    },
    {
      "cell_type": "code",
      "source": [
        "def selection_sort(x):\n",
        "  for i in range(len(x)):\n",
        "    swap = i + np.argmin(x[i:])\n",
        "    (x[i], x[swap]) = (x[swap], x[i])\n",
        "  return x"
      ],
      "metadata": {
        "id": "qECDn_UKjAWt"
      },
      "execution_count": 113,
      "outputs": []
    },
    {
      "cell_type": "code",
      "source": [
        "x = np.array([12,12,14,15,4,6,7,8,9,0,12,13,25])\n",
        "selection_sort(x)"
      ],
      "metadata": {
        "colab": {
          "base_uri": "https://localhost:8080/"
        },
        "id": "kokSBE8uoe0L",
        "outputId": "492ec82f-65a0-4ef8-8423-33666585609e"
      },
      "execution_count": 123,
      "outputs": [
        {
          "output_type": "execute_result",
          "data": {
            "text/plain": [
              "array([ 0,  4,  6,  7,  8,  9, 12, 12, 12, 13, 14, 15, 25])"
            ]
          },
          "metadata": {},
          "execution_count": 123
        }
      ]
    },
    {
      "cell_type": "code",
      "source": [
        "x = np.array([3,7,5,2,9,10])\n",
        "np.sort(x) #doesnt modify the original array"
      ],
      "metadata": {
        "colab": {
          "base_uri": "https://localhost:8080/"
        },
        "id": "WWv2ObSapeEG",
        "outputId": "a83e7677-0b8c-428e-a45d-b8a1cef6eeca"
      },
      "execution_count": 124,
      "outputs": [
        {
          "output_type": "execute_result",
          "data": {
            "text/plain": [
              "array([ 2,  3,  5,  7,  9, 10])"
            ]
          },
          "metadata": {},
          "execution_count": 124
        }
      ]
    },
    {
      "cell_type": "code",
      "source": [
        "x"
      ],
      "metadata": {
        "colab": {
          "base_uri": "https://localhost:8080/"
        },
        "id": "_EEp0h71qPkP",
        "outputId": "9b65e145-cf8b-4f9f-e91c-ee88b39d4f01"
      },
      "execution_count": 125,
      "outputs": [
        {
          "output_type": "execute_result",
          "data": {
            "text/plain": [
              "array([ 3,  7,  5,  2,  9, 10])"
            ]
          },
          "metadata": {},
          "execution_count": 125
        }
      ]
    },
    {
      "cell_type": "code",
      "source": [
        "#x.sort() #modifies the array\n",
        "#x"
      ],
      "metadata": {
        "colab": {
          "base_uri": "https://localhost:8080/"
        },
        "id": "YtBQjM94qQqi",
        "outputId": "497287cd-f1da-42b4-d649-3ff1c92dd297"
      },
      "execution_count": 121,
      "outputs": [
        {
          "output_type": "execute_result",
          "data": {
            "text/plain": [
              "array([ 2,  3,  5,  7,  9, 10])"
            ]
          },
          "metadata": {},
          "execution_count": 121
        }
      ]
    },
    {
      "cell_type": "code",
      "source": [
        "i = np.argsort(x) #return the indices\n",
        "i"
      ],
      "metadata": {
        "colab": {
          "base_uri": "https://localhost:8080/"
        },
        "id": "t-ok6HMSqire",
        "outputId": "6fd1115d-1c8a-431f-bf76-ac88b4a4e300"
      },
      "execution_count": 126,
      "outputs": [
        {
          "output_type": "execute_result",
          "data": {
            "text/plain": [
              "array([3, 0, 2, 1, 4, 5])"
            ]
          },
          "metadata": {},
          "execution_count": 126
        }
      ]
    },
    {
      "cell_type": "markdown",
      "source": [
        "Sorting rows or columns"
      ],
      "metadata": {
        "id": "RyqdXznmrVTL"
      }
    },
    {
      "cell_type": "code",
      "source": [
        "rand = np.random.RandomState(42)\n",
        "X = rand.randint(0, 10, (4, 6))\n",
        "print(X)"
      ],
      "metadata": {
        "colab": {
          "base_uri": "https://localhost:8080/"
        },
        "id": "B-xiLZWnq_ML",
        "outputId": "11aa0666-d68a-4a18-f7b4-59bb97243ad1"
      },
      "execution_count": 127,
      "outputs": [
        {
          "output_type": "stream",
          "name": "stdout",
          "text": [
            "[[6 3 7 4 6 9]\n",
            " [2 6 7 4 3 7]\n",
            " [7 2 5 4 1 7]\n",
            " [5 1 4 0 9 5]]\n"
          ]
        }
      ]
    },
    {
      "cell_type": "code",
      "source": [
        "np.sort(X, axis = 0)"
      ],
      "metadata": {
        "colab": {
          "base_uri": "https://localhost:8080/"
        },
        "id": "fYYssOg9rgQE",
        "outputId": "9ad68d79-aa65-408e-875c-90c9d625b289"
      },
      "execution_count": 130,
      "outputs": [
        {
          "output_type": "execute_result",
          "data": {
            "text/plain": [
              "array([[2, 1, 4, 0, 1, 5],\n",
              "       [5, 2, 5, 4, 3, 7],\n",
              "       [6, 3, 7, 4, 6, 7],\n",
              "       [7, 6, 7, 4, 9, 9]])"
            ]
          },
          "metadata": {},
          "execution_count": 130
        }
      ]
    },
    {
      "cell_type": "code",
      "source": [
        "np.sort(X, axis = 1)"
      ],
      "metadata": {
        "colab": {
          "base_uri": "https://localhost:8080/"
        },
        "id": "Kg9j5LC-rrBS",
        "outputId": "7f76f22c-0d2a-45b2-dc17-3d30ccc4325c"
      },
      "execution_count": 131,
      "outputs": [
        {
          "output_type": "execute_result",
          "data": {
            "text/plain": [
              "array([[3, 4, 6, 6, 7, 9],\n",
              "       [2, 3, 4, 6, 7, 7],\n",
              "       [1, 2, 4, 5, 7, 7],\n",
              "       [0, 1, 4, 5, 5, 9]])"
            ]
          },
          "metadata": {},
          "execution_count": 131
        }
      ]
    },
    {
      "cell_type": "code",
      "source": [
        "x = np.array([7, 2, 3, 1, 6, 5, 4])\n",
        "np.partition(x, 3) #takes de 3 smallest values and put them into the first 3 p\n",
        "#arbitrary order"
      ],
      "metadata": {
        "colab": {
          "base_uri": "https://localhost:8080/"
        },
        "id": "u_GtTo7nsJy7",
        "outputId": "3b0c5854-d57b-4fbc-aaf4-0c74d4dab2a0"
      },
      "execution_count": 133,
      "outputs": [
        {
          "output_type": "execute_result",
          "data": {
            "text/plain": [
              "array([2, 1, 3, 4, 6, 5, 7])"
            ]
          },
          "metadata": {},
          "execution_count": 133
        }
      ]
    },
    {
      "cell_type": "code",
      "source": [
        "np.partition(X, 2, axis=1)"
      ],
      "metadata": {
        "colab": {
          "base_uri": "https://localhost:8080/"
        },
        "id": "0Jan7_6ts0SA",
        "outputId": "62a78681-1495-4710-e9f8-0a9778cae5b1"
      },
      "execution_count": 139,
      "outputs": [
        {
          "output_type": "execute_result",
          "data": {
            "text/plain": [
              "array([[3, 4, 6, 7, 6, 9],\n",
              "       [2, 3, 4, 7, 6, 7],\n",
              "       [1, 2, 4, 5, 7, 7],\n",
              "       [0, 1, 4, 5, 9, 5]])"
            ]
          },
          "metadata": {},
          "execution_count": 139
        }
      ]
    },
    {
      "cell_type": "code",
      "source": [
        "X = rand.rand(10,2)"
      ],
      "metadata": {
        "id": "RRjYh9VPtORU"
      },
      "execution_count": 145,
      "outputs": []
    },
    {
      "cell_type": "code",
      "source": [
        "import seaborn; seaborn.set()\n",
        "plt.scatter(X[:, 0], X[:, 1], s = 100, c = 'g')\n",
        "#plt.scatter?"
      ],
      "metadata": {
        "colab": {
          "base_uri": "https://localhost:8080/",
          "height": 451
        },
        "id": "UmINxrKitWNe",
        "outputId": "3fce18be-7fc2-4eaf-8205-3d6f43ed7a77"
      },
      "execution_count": 149,
      "outputs": [
        {
          "output_type": "execute_result",
          "data": {
            "text/plain": [
              "<matplotlib.collections.PathCollection at 0x7f06b31b6170>"
            ]
          },
          "metadata": {},
          "execution_count": 149
        },
        {
          "output_type": "display_data",
          "data": {
            "text/plain": [
              "<Figure size 640x480 with 1 Axes>"
            ],
            "image/png": "[encoded data removed]"
          },
          "metadata": {}
        }
      ]
    },
    {
      "cell_type": "code",
      "source": [
        "dist_sq = np.sum((X[:, np.newaxis, :] - X[np.newaxis, :, :]) ** 2, axis=-1)"
      ],
      "metadata": {
        "id": "dAtLlCQNvExj"
      },
      "execution_count": 150,
      "outputs": []
    },
    {
      "cell_type": "code",
      "source": [
        "plt.scatter(X[:, 0], X[:, 1], s=100, c = 'g')\n",
        "\n",
        "# draw lines from each point to its two nearest neighbors\n",
        "K = 2\n",
        "nearest_partition = np.argpartition(dist_sq, K + 1, axis=1)\n",
        "for i in range(X.shape[0]):\n",
        "    for j in nearest_partition[i, :K+1]:\n",
        "        # plot a line from X[i] to X[j]\n",
        "        # use some zip magic to make it happen:\n",
        "        plt.plot(*zip(X[j], X[i]), c='black')"
      ],
      "metadata": {
        "colab": {
          "base_uri": "https://localhost:8080/",
          "height": 434
        },
        "id": "o-ko4dc6vHvz",
        "outputId": "98e1b469-24cf-4071-e4e6-28c0c10958ea"
      },
      "execution_count": 155,
      "outputs": [
        {
          "output_type": "display_data",
          "data": {
            "text/plain": [
              "<Figure size 640x480 with 1 Axes>"
            ],
            "image/png": "[encoded data removed]"
          },
          "metadata": {}
        }
      ]
    },
    {
      "cell_type": "markdown",
      "source": [
        "**Structured data**"
      ],
      "metadata": {
        "id": "yjYApmMtvln8"
      }
    },
    {
      "cell_type": "code",
      "source": [],
      "metadata": {
        "id": "EO1UCAQmvn7r"
      },
      "execution_count": null,
      "outputs": []
    }
  ]
}