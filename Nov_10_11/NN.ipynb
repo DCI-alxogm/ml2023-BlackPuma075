{
  "nbformat": 4,
  "nbformat_minor": 0,
  "metadata": {
    "colab": {
      "provenance": [],
      "mount_file_id": "1ZjyutOpjQ5yiy2KmCuFOR1OWCh_gPmvd",
      "authorship_tag": "ABX9TyMPbUfFc2UIcafID/onSR/3",
      "include_colab_link": true
    },
    "kernelspec": {
      "name": "python3",
      "display_name": "Python 3"
    },
    "language_info": {
      "name": "python"
    }
  },
  "cells": [
    {
      "cell_type": "markdown",
      "metadata": {
        "id": "view-in-github",
        "colab_type": "text"
      },
      "source": [
        "<a href=\"https://colab.research.google.com/github/DCI-alxogm/ml2023-BlackPuma075/blob/main/Nov_10_11/NN.ipynb\" target=\"_parent\"><img src=\"https://colab.research.google.com/assets/colab-badge.svg\" alt=\"Open In Colab\"/></a>"
      ]
    },
    {
      "cell_type": "code",
      "execution_count": 7,
      "metadata": {
        "id": "cDVgLcX1OSfy"
      },
      "outputs": [],
      "source": [
        "import glob\n",
        "import numpy as np\n",
        "import copy\n",
        "import matplotlib.pyplot as plt\n",
        "import h5py\n",
        "import scipy\n",
        "from PIL import Image\n",
        "from scipy import ndimage\n",
        "\n",
        "%matplotlib inline"
      ]
    },
    {
      "cell_type": "code",
      "source": [
        "#Los datos corresponden a un subset del dataset cats vs dogs de https://www.kaggle.com/c/dogs-vs-cats\n",
        "files=glob.glob('/content/drive/MyDrive/Machine_Learning/CATS_DOGS/*')"
      ],
      "metadata": {
        "id": "UPhVw6dzOnbh"
      },
      "execution_count": 8,
      "outputs": []
    },
    {
      "cell_type": "code",
      "source": [
        "#numero de pixeles para nuestras imágenes.\n",
        "num_px=64"
      ],
      "metadata": {
        "id": "paqRYza1Ons0"
      },
      "execution_count": 9,
      "outputs": []
    },
    {
      "cell_type": "code",
      "source": [
        "train_x=[]\n",
        "train_y=[]\n",
        "for file in files[:100]:\n",
        "    img=Image.open(file)\n",
        "    img=img.resize((num_px,num_px))\n",
        "    data=np.asarray(img)\n",
        "    train_x.append(data)\n",
        "    img.close()\n",
        "    if 'dog' in file:\n",
        "        train_y.append(1)\n",
        "    if 'cat' in file:\n",
        "        train_y.append(0)\n",
        "train_y=np.asarray(train_y)\n",
        "train_x=np.asarray(train_x)"
      ],
      "metadata": {
        "id": "ZwNVYY4bOq4b"
      },
      "execution_count": 10,
      "outputs": []
    },
    {
      "cell_type": "code",
      "source": [
        "test_x=[]\n",
        "test_y=[]\n",
        "for file in files[1700:]:\n",
        "    #print(file)\n",
        "    img=Image.open(file)\n",
        "    img=img.resize((num_px,num_px))\n",
        "    data=np.asarray(img)\n",
        "    test_x.append(data)\n",
        "    img.close()\n",
        "    if 'dog' in file:\n",
        "        test_y.append(1)\n",
        "    if 'cat' in file:\n",
        "        test_y.append(0)\n",
        "test_y=np.asarray(test_y)\n",
        "test_x=np.asarray(test_x)"
      ],
      "metadata": {
        "id": "4cDJOg_TOurY"
      },
      "execution_count": 11,
      "outputs": []
    },
    {
      "cell_type": "code",
      "source": [
        "train_x_flatten = train_x.reshape(train_x.shape[0], -1).T\n",
        "\n",
        "test_x_flatten = test_x.reshape(test_x.shape[0], -1).T\n",
        "\n",
        "train_set_y=train_y.reshape((1,train_y.shape[0]))\n",
        "test_set_y=test_y.reshape((1,test_y.shape[0]))"
      ],
      "metadata": {
        "id": "X_UvtWJ0Oyj2"
      },
      "execution_count": 12,
      "outputs": []
    },
    {
      "cell_type": "code",
      "source": [
        "train_set_x= train_x_flatten/255\n",
        "test_set_x= test_x_flatten/255"
      ],
      "metadata": {
        "id": "iy3I52oIO1xp"
      },
      "execution_count": 13,
      "outputs": []
    },
    {
      "cell_type": "markdown",
      "source": [
        "$a = \\sigma(z)=\\frac{1}{1+e^{-z}}$ ; Función de activación"
      ],
      "metadata": {
        "id": "zy6xhwZlO8HB"
      }
    },
    {
      "cell_type": "markdown",
      "source": [
        "$z = w^{T}x+b$ ; Modelo para la función de activación"
      ],
      "metadata": {
        "id": "066P6i_jPLjv"
      }
    },
    {
      "cell_type": "markdown",
      "source": [
        "$J(w,b,)= -\\frac{1}{m}\\sum{[y^{(i)}\\log{\\hat{y}^{(i)}}+(1-y^{(i)})\\log{(1-\\hat{y}^{(i)}})]}$ ; Función costo"
      ],
      "metadata": {
        "id": "ysTf9YaRPQSA"
      }
    },
    {
      "cell_type": "code",
      "source": [
        "#Función de activación\n",
        "def sigmoide(z): #Defino la función de activación (sigmoide)\n",
        "  a = 1/(1+np.exp(-z))\n",
        "  return a"
      ],
      "metadata": {
        "id": "p5hhzE-hO-x7"
      },
      "execution_count": 14,
      "outputs": []
    },
    {
      "cell_type": "code",
      "source": [
        "def aleatorio(dim): #inicializo los pesos en cero, defino la función para que la dimensión\n",
        "  w = np.random.rand(dim,1) #de los pesos iniciales sea la misma que la del conjunto x y poder realizar los cálculos\n",
        "  b = np.random.rand()\n",
        "  return w,b"
      ],
      "metadata": {
        "id": "3otiXdIlPB8G"
      },
      "execution_count": 132,
      "outputs": []
    },
    {
      "cell_type": "code",
      "source": [
        "def prop11(x,y): #Defino la neurona 1 de la capa 1\n",
        "  w , b= aleatorio(x.shape[0])\n",
        "  a = sigmoide(np.matmul(w.T,x)+b) #Calcula la función de activación con w,b aleatorios entre cero y 1\n",
        "  return a"
      ],
      "metadata": {
        "id": "RtpiUh3sPFh5"
      },
      "execution_count": 143,
      "outputs": []
    },
    {
      "cell_type": "code",
      "source": [
        "def prop12(x,y): #Defino la neurona 2 de la capa 1\n",
        "  w , b= aleatorio(x.shape[0])\n",
        "  a = sigmoide(np.matmul(w.T,x)+b) #Calcula la función de activación con w,b aleatorios entre cero y 1\n",
        "  return a"
      ],
      "metadata": {
        "id": "9dQZFzBhQ7UY"
      },
      "execution_count": 144,
      "outputs": []
    },
    {
      "cell_type": "code",
      "source": [
        "def prop21(x,y): #Defino la neurona 1 de la capa 2\n",
        "  a11 = prop11(x,y) #Evalúo en la neurona 1 de la capa 1 que me devuelve el vector a11\n",
        "  a12 = prop12(x,y) #Evalúo en la neurona 2 de la capa 1 que me devuelve el vector a12\n",
        "  #Genero mi nuevo vector (a) de la capa 1, el cual está formado por las componentes (a11) y (a12) de la capa uno\n",
        "  a1 = np.hstack((a11, a12)) #Nuevo vector (a1) de la capa 1, el cual es el vector de entrada de mi neurona 2\n",
        "  w2 , b2= aleatorio(a1.shape[1]) #Genero un w y un b nuevos con la forma del vector de entrada (a1)\n",
        "  a2 = sigmoide(np.matmul(w2,a1)+b2) #Calculo (y) gorrito (la salida de la NN)\n",
        "  print(a2)\n",
        "  return"
      ],
      "metadata": {
        "id": "zkASHdBMRIj-"
      },
      "execution_count": 145,
      "outputs": []
    },
    {
      "cell_type": "code",
      "source": [
        "y = prop21(train_set_x, train_set_y)"
      ],
      "metadata": {
        "colab": {
          "base_uri": "https://localhost:8080/"
        },
        "id": "s3H9BnjGbYLV",
        "outputId": "7f9613f0-a05e-4891-9b69-00a595bcf279"
      },
      "execution_count": 146,
      "outputs": [
        {
          "output_type": "stream",
          "name": "stdout",
          "text": [
            "[[0.79827669 0.79827669 0.79827669 ... 0.79827669 0.79827669 0.79827669]\n",
            " [0.70952312 0.70952312 0.70952312 ... 0.70952312 0.70952312 0.70952312]\n",
            " [0.7868349  0.7868349  0.7868349  ... 0.7868349  0.7868349  0.7868349 ]\n",
            " ...\n",
            " [0.76322161 0.76322161 0.76322161 ... 0.76322161 0.76322161 0.76322161]\n",
            " [0.83178202 0.83178202 0.83178202 ... 0.83178202 0.83178202 0.83178202]\n",
            " [0.6715002  0.6715002  0.6715002  ... 0.6715002  0.6715002  0.6715002 ]]\n"
          ]
        }
      ]
    }
  ]
}