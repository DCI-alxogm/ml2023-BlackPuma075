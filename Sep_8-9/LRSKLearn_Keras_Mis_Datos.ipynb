{
  "nbformat": 4,
  "nbformat_minor": 0,
  "metadata": {
    "colab": {
      "provenance": [],
      "mount_file_id": "1HpQs1ScrbKAPEIN8CNcMDe6RjwV92KXK",
      "authorship_tag": "ABX9TyMcGng1Nx6ALv9ZlWXZaFQ8",
      "include_colab_link": true
    },
    "kernelspec": {
      "name": "python3",
      "display_name": "Python 3"
    },
    "language_info": {
      "name": "python"
    }
  },
  "cells": [
    {
      "cell_type": "markdown",
      "metadata": {
        "id": "view-in-github",
        "colab_type": "text"
      },
      "source": [
        "<a href=\"https://colab.research.google.com/github/DCI-alxogm/ml2023-BlackPuma075/blob/main/Sep_8-9/LRSKLearn_Keras_Mis_Datos.ipynb\" target=\"_parent\"><img src=\"https://colab.research.google.com/assets/colab-badge.svg\" alt=\"Open In Colab\"/></a>"
      ]
    },
    {
      "cell_type": "code",
      "execution_count": 1,
      "metadata": {
        "id": "q3HORKrbiVNH"
      },
      "outputs": [],
      "source": [
        "import numpy as np\n",
        "import matplotlib.pyplot as plt\n",
        "from sklearn.linear_model import SGDRegressor\n",
        "from sklearn.preprocessing import StandardScaler\n",
        "from sklearn.model_selection import train_test_split\n",
        "import pandas as pd"
      ]
    },
    {
      "cell_type": "code",
      "source": [
        "NASA = np.loadtxt('/content/drive/MyDrive/Machine_Learning/temperatura global.txt')\n",
        "X = NASA[:,1:] #selecciono las dos columnas de temperaturas (columna 2 y 3) y defino como x\n",
        "Y = NASA[:,1] #selecciona la primera columna de los años y defino como y\n",
        "Y.shape"
      ],
      "metadata": {
        "colab": {
          "base_uri": "https://localhost:8080/"
        },
        "id": "cHPHWIORi3sF",
        "outputId": "6c2d200a-8adb-4ad0-b6ca-5cfaffe4faf7"
      },
      "execution_count": 23,
      "outputs": [
        {
          "output_type": "execute_result",
          "data": {
            "text/plain": [
              "(143,)"
            ]
          },
          "metadata": {},
          "execution_count": 23
        }
      ]
    },
    {
      "cell_type": "code",
      "source": [
        "fig, ax = plt.subplots(1,2)\n",
        "for i in range(len(ax)):\n",
        "  ax[i].hist(X[:,i], color = 'purple')\n",
        "fig.suptitle('Distribución de los datos')  #los datos están centrados en cero por su naturaleza de variación de temperatura"
      ],
      "metadata": {
        "colab": {
          "base_uri": "https://localhost:8080/",
          "height": 495
        },
        "id": "O1Uyuh--nPIS",
        "outputId": "49a2dd4b-63a7-449d-a1b4-4186c7da84ad"
      },
      "execution_count": 21,
      "outputs": [
        {
          "output_type": "execute_result",
          "data": {
            "text/plain": [
              "Text(0.5, 0.98, 'Distribución de los datos')"
            ]
          },
          "metadata": {},
          "execution_count": 21
        },
        {
          "output_type": "display_data",
          "data": {
            "text/plain": [
              "<Figure size 640x480 with 2 Axes>"
            ],
            "image/png": "[encoded data removed]"
          },
          "metadata": {}
        }
      ]
    },
    {
      "cell_type": "code",
      "source": [
        "sgdr = SGDRegressor(max_iter=1000, learning_rate='constant', eta0=0.01)\n",
        "sgdr.fit(X, Y)\n",
        "print(sgdr)\n",
        "print(f\"number of iterations completed: {sgdr.n_iter_}, number of weight updates: {sgdr.t_}\")"
      ],
      "metadata": {
        "colab": {
          "base_uri": "https://localhost:8080/"
        },
        "id": "tfDkQWyApHEx",
        "outputId": "923e73e1-ddf9-4ce3-9c91-9cacb14bfc92"
      },
      "execution_count": 24,
      "outputs": [
        {
          "output_type": "stream",
          "name": "stdout",
          "text": [
            "SGDRegressor(learning_rate='constant')\n",
            "number of iterations completed: 11, number of weight updates: 1574.0\n"
          ]
        }
      ]
    },
    {
      "cell_type": "code",
      "source": [
        "w0 = sgdr.intercept_\n",
        "w = sgdr.coef_\n",
        "print(f\"model parameters:                   w: {w0}, b:{w}\")"
      ],
      "metadata": {
        "colab": {
          "base_uri": "https://localhost:8080/"
        },
        "id": "utudPv4kqyuH",
        "outputId": "a3dc7939-a2b3-4d78-d600-d0fef6b63bb2"
      },
      "execution_count": 26,
      "outputs": [
        {
          "output_type": "stream",
          "name": "stdout",
          "text": [
            "model parameters:                   w: [0.00162632], b:[0.52973432 0.4687199 ]\n"
          ]
        }
      ]
    },
    {
      "cell_type": "code",
      "source": [
        "#predict target using normalized features\n",
        "yp = w0[0]\n",
        "for i in range(len(w)):\n",
        "  yp+=w[i]*X[:,i]\n",
        "\n",
        "    # plot predictions and targets versus original features\n",
        "fig,ax=plt.subplots(1,2,sharey=True)\n",
        "for i in range(len(ax)):\n",
        "    ax[i].scatter(X[:,i],Y, label = 'target', color = 'black')\n",
        "    ax[i].scatter(X[:,i],yp,color=\"green\", label = 'predict')\n",
        "ax[0].set_ylabel(\"Price\"); ax[0].legend();\n",
        "fig.suptitle(\"Target versus prediction\")\n",
        "plt.show()"
      ],
      "metadata": {
        "colab": {
          "base_uri": "https://localhost:8080/",
          "height": 478
        },
        "id": "S907aoUFq5tz",
        "outputId": "f7975bd2-3098-4fca-9663-00a725e4f7ff"
      },
      "execution_count": 29,
      "outputs": [
        {
          "output_type": "display_data",
          "data": {
            "text/plain": [
              "<Figure size 640x480 with 2 Axes>"
            ],
            "image/png": "[encoded data removed]"
          },
          "metadata": {}
        }
      ]
    },
    {
      "cell_type": "code",
      "source": [
        "#USING LIBRARIES\n",
        "#Split in Train and Test samples."
      ],
      "metadata": {
        "id": "7ukz2X_wsfZe"
      },
      "execution_count": 32,
      "outputs": []
    },
    {
      "cell_type": "code",
      "source": [
        "X_train, X_test, y_train, y_test = train_test_split(X, Y, test_size=0.30, random_state=42)"
      ],
      "metadata": {
        "id": "zFpanSv3sIn6"
      },
      "execution_count": 31,
      "outputs": []
    },
    {
      "cell_type": "code",
      "source": [
        "#Solve using Scikit learn\n",
        "\n",
        "sgdr = SGDRegressor(max_iter=100, loss=\"squared_error\",learning_rate='constant', eta0=0.01,penalty=None)\n",
        "sgdr.fit(X_train, y_train)\n",
        "print(sgdr)\n",
        "print(f\"number of iterations completed: {sgdr.n_iter_}, number of weight updates: {sgdr.t_}\")"
      ],
      "metadata": {
        "colab": {
          "base_uri": "https://localhost:8080/"
        },
        "id": "a3cdtdU8sbhD",
        "outputId": "2066d41e-db4b-4082-b97b-064e8918a252"
      },
      "execution_count": 33,
      "outputs": [
        {
          "output_type": "stream",
          "name": "stdout",
          "text": [
            "SGDRegressor(learning_rate='constant', max_iter=100, penalty=None)\n",
            "number of iterations completed: 12, number of weight updates: 1201.0\n"
          ]
        }
      ]
    },
    {
      "cell_type": "code",
      "source": [
        "w0 = sgdr.intercept_\n",
        "w = sgdr.coef_\n",
        "print(f\"model parameters:                   w: {w0}, b:{w}\")"
      ],
      "metadata": {
        "colab": {
          "base_uri": "https://localhost:8080/"
        },
        "id": "tjxQiqR4smtK",
        "outputId": "9ab6b4df-b67a-4b67-9c04-fd855b4aa0db"
      },
      "execution_count": 34,
      "outputs": [
        {
          "output_type": "stream",
          "name": "stdout",
          "text": [
            "model parameters:                   w: [-0.00025615], b:[0.51586933 0.46776477]\n"
          ]
        }
      ]
    },
    {
      "cell_type": "code",
      "source": [
        "#Test score\n",
        "sgdr.score(X_test,y_test)"
      ],
      "metadata": {
        "colab": {
          "base_uri": "https://localhost:8080/"
        },
        "id": "frEwAQWxsrpD",
        "outputId": "1d21a6a2-4566-4947-8322-7666e2ca496f"
      },
      "execution_count": 35,
      "outputs": [
        {
          "output_type": "execute_result",
          "data": {
            "text/plain": [
              "0.9833282822253144"
            ]
          },
          "metadata": {},
          "execution_count": 35
        }
      ]
    },
    {
      "cell_type": "code",
      "source": [
        "#Usando KERAS\n",
        "from keras.models import Sequential\n",
        "from keras.layers import Dense\n",
        "from keras.optimizers import SGD\n",
        "\n",
        "np.random.seed(2)\n",
        "model = Sequential()"
      ],
      "metadata": {
        "id": "o3vbJqiHtPD8"
      },
      "execution_count": 41,
      "outputs": []
    },
    {
      "cell_type": "code",
      "source": [
        "input_dim = 1\n",
        "output_dim = 1\n",
        "model.add(Dense(output_dim, input_dim=input_dim, activation='linear'))\n",
        "sgd = SGD(learning_rate=0.01)\n",
        "model.compile(loss='mse', optimizer=sgd)\n",
        "model.summary()"
      ],
      "metadata": {
        "colab": {
          "base_uri": "https://localhost:8080/"
        },
        "id": "PtPx5RtntX82",
        "outputId": "c7f16c18-bff7-41ef-b1bb-b129d3042d86"
      },
      "execution_count": 43,
      "outputs": [
        {
          "output_type": "stream",
          "name": "stdout",
          "text": [
            "Model: \"sequential_1\"\n",
            "_________________________________________________________________\n",
            " Layer (type)                Output Shape              Param #   \n",
            "=================================================================\n",
            " dense_2 (Dense)             (None, 1)                 3         \n",
            "                                                                 \n",
            " dense_3 (Dense)             (None, 1)                 2         \n",
            "                                                                 \n",
            "=================================================================\n",
            "Total params: 5 (20.00 Byte)\n",
            "Trainable params: 5 (20.00 Byte)\n",
            "Non-trainable params: 0 (0.00 Byte)\n",
            "_________________________________________________________________\n"
          ]
        }
      ]
    },
    {
      "cell_type": "code",
      "source": [
        "num_epochs = 100\n",
        "batch_size =X_train.shape[0] #30\n",
        "history = model.fit(X_train, y_train, epochs=num_epochs, batch_size=batch_size)"
      ],
      "metadata": {
        "colab": {
          "base_uri": "https://localhost:8080/"
        },
        "id": "_i-kucKQtca8",
        "outputId": "e5dab38e-7574-4fb8-c0f0-3d2295d99cfd"
      },
      "execution_count": 44,
      "outputs": [
        {
          "output_type": "stream",
          "name": "stdout",
          "text": [
            "Epoch 1/100\n",
            "1/1 [==============================] - 1s 503ms/step - loss: 0.0731\n",
            "Epoch 2/100\n",
            "1/1 [==============================] - 0s 12ms/step - loss: 0.0709\n",
            "Epoch 3/100\n",
            "1/1 [==============================] - 0s 9ms/step - loss: 0.0688\n",
            "Epoch 4/100\n",
            "1/1 [==============================] - 0s 16ms/step - loss: 0.0669\n",
            "Epoch 5/100\n",
            "1/1 [==============================] - 0s 10ms/step - loss: 0.0650\n",
            "Epoch 6/100\n",
            "1/1 [==============================] - 0s 10ms/step - loss: 0.0631\n",
            "Epoch 7/100\n",
            "1/1 [==============================] - 0s 9ms/step - loss: 0.0614\n",
            "Epoch 8/100\n",
            "1/1 [==============================] - 0s 8ms/step - loss: 0.0597\n",
            "Epoch 9/100\n",
            "1/1 [==============================] - 0s 9ms/step - loss: 0.0580\n",
            "Epoch 10/100\n",
            "1/1 [==============================] - 0s 11ms/step - loss: 0.0564\n",
            "Epoch 11/100\n",
            "1/1 [==============================] - 0s 9ms/step - loss: 0.0549\n",
            "Epoch 12/100\n",
            "1/1 [==============================] - 0s 9ms/step - loss: 0.0534\n",
            "Epoch 13/100\n",
            "1/1 [==============================] - 0s 10ms/step - loss: 0.0520\n",
            "Epoch 14/100\n",
            "1/1 [==============================] - 0s 11ms/step - loss: 0.0506\n",
            "Epoch 15/100\n",
            "1/1 [==============================] - 0s 10ms/step - loss: 0.0492\n",
            "Epoch 16/100\n",
            "1/1 [==============================] - 0s 11ms/step - loss: 0.0479\n",
            "Epoch 17/100\n",
            "1/1 [==============================] - 0s 9ms/step - loss: 0.0467\n",
            "Epoch 18/100\n",
            "1/1 [==============================] - 0s 11ms/step - loss: 0.0454\n",
            "Epoch 19/100\n",
            "1/1 [==============================] - 0s 9ms/step - loss: 0.0442\n",
            "Epoch 20/100\n",
            "1/1 [==============================] - 0s 8ms/step - loss: 0.0431\n",
            "Epoch 21/100\n",
            "1/1 [==============================] - 0s 9ms/step - loss: 0.0419\n",
            "Epoch 22/100\n",
            "1/1 [==============================] - 0s 8ms/step - loss: 0.0408\n",
            "Epoch 23/100\n",
            "1/1 [==============================] - 0s 11ms/step - loss: 0.0397\n",
            "Epoch 24/100\n",
            "1/1 [==============================] - 0s 10ms/step - loss: 0.0387\n",
            "Epoch 25/100\n",
            "1/1 [==============================] - 0s 9ms/step - loss: 0.0377\n",
            "Epoch 26/100\n",
            "1/1 [==============================] - 0s 16ms/step - loss: 0.0367\n",
            "Epoch 27/100\n",
            "1/1 [==============================] - 0s 8ms/step - loss: 0.0357\n",
            "Epoch 28/100\n",
            "1/1 [==============================] - 0s 9ms/step - loss: 0.0348\n",
            "Epoch 29/100\n",
            "1/1 [==============================] - 0s 9ms/step - loss: 0.0339\n",
            "Epoch 30/100\n",
            "1/1 [==============================] - 0s 8ms/step - loss: 0.0330\n",
            "Epoch 31/100\n",
            "1/1 [==============================] - 0s 8ms/step - loss: 0.0321\n",
            "Epoch 32/100\n",
            "1/1 [==============================] - 0s 11ms/step - loss: 0.0313\n",
            "Epoch 33/100\n",
            "1/1 [==============================] - 0s 10ms/step - loss: 0.0305\n",
            "Epoch 34/100\n",
            "1/1 [==============================] - 0s 10ms/step - loss: 0.0297\n",
            "Epoch 35/100\n",
            "1/1 [==============================] - 0s 9ms/step - loss: 0.0289\n",
            "Epoch 36/100\n",
            "1/1 [==============================] - 0s 9ms/step - loss: 0.0281\n",
            "Epoch 37/100\n",
            "1/1 [==============================] - 0s 12ms/step - loss: 0.0274\n",
            "Epoch 38/100\n",
            "1/1 [==============================] - 0s 7ms/step - loss: 0.0267\n",
            "Epoch 39/100\n",
            "1/1 [==============================] - 0s 8ms/step - loss: 0.0260\n",
            "Epoch 40/100\n",
            "1/1 [==============================] - 0s 10ms/step - loss: 0.0253\n",
            "Epoch 41/100\n",
            "1/1 [==============================] - 0s 12ms/step - loss: 0.0246\n",
            "Epoch 42/100\n",
            "1/1 [==============================] - 0s 9ms/step - loss: 0.0240\n",
            "Epoch 43/100\n",
            "1/1 [==============================] - 0s 9ms/step - loss: 0.0233\n",
            "Epoch 44/100\n",
            "1/1 [==============================] - 0s 10ms/step - loss: 0.0227\n",
            "Epoch 45/100\n",
            "1/1 [==============================] - 0s 9ms/step - loss: 0.0221\n",
            "Epoch 46/100\n",
            "1/1 [==============================] - 0s 9ms/step - loss: 0.0216\n",
            "Epoch 47/100\n",
            "1/1 [==============================] - 0s 9ms/step - loss: 0.0210\n",
            "Epoch 48/100\n",
            "1/1 [==============================] - 0s 8ms/step - loss: 0.0204\n",
            "Epoch 49/100\n",
            "1/1 [==============================] - 0s 9ms/step - loss: 0.0199\n",
            "Epoch 50/100\n",
            "1/1 [==============================] - 0s 9ms/step - loss: 0.0194\n",
            "Epoch 51/100\n",
            "1/1 [==============================] - 0s 9ms/step - loss: 0.0189\n",
            "Epoch 52/100\n",
            "1/1 [==============================] - 0s 9ms/step - loss: 0.0184\n",
            "Epoch 53/100\n",
            "1/1 [==============================] - 0s 9ms/step - loss: 0.0179\n",
            "Epoch 54/100\n",
            "1/1 [==============================] - 0s 9ms/step - loss: 0.0174\n",
            "Epoch 55/100\n",
            "1/1 [==============================] - 0s 7ms/step - loss: 0.0169\n",
            "Epoch 56/100\n",
            "1/1 [==============================] - 0s 9ms/step - loss: 0.0165\n",
            "Epoch 57/100\n",
            "1/1 [==============================] - 0s 8ms/step - loss: 0.0161\n",
            "Epoch 58/100\n",
            "1/1 [==============================] - 0s 8ms/step - loss: 0.0156\n",
            "Epoch 59/100\n",
            "1/1 [==============================] - 0s 8ms/step - loss: 0.0152\n",
            "Epoch 60/100\n",
            "1/1 [==============================] - 0s 9ms/step - loss: 0.0148\n",
            "Epoch 61/100\n",
            "1/1 [==============================] - 0s 8ms/step - loss: 0.0144\n",
            "Epoch 62/100\n",
            "1/1 [==============================] - 0s 8ms/step - loss: 0.0140\n",
            "Epoch 63/100\n",
            "1/1 [==============================] - 0s 8ms/step - loss: 0.0137\n",
            "Epoch 64/100\n",
            "1/1 [==============================] - 0s 8ms/step - loss: 0.0133\n",
            "Epoch 65/100\n",
            "1/1 [==============================] - 0s 12ms/step - loss: 0.0130\n",
            "Epoch 66/100\n",
            "1/1 [==============================] - 0s 8ms/step - loss: 0.0126\n",
            "Epoch 67/100\n",
            "1/1 [==============================] - 0s 8ms/step - loss: 0.0123\n",
            "Epoch 68/100\n",
            "1/1 [==============================] - 0s 8ms/step - loss: 0.0120\n",
            "Epoch 69/100\n",
            "1/1 [==============================] - 0s 8ms/step - loss: 0.0116\n",
            "Epoch 70/100\n",
            "1/1 [==============================] - 0s 8ms/step - loss: 0.0113\n",
            "Epoch 71/100\n",
            "1/1 [==============================] - 0s 7ms/step - loss: 0.0110\n",
            "Epoch 72/100\n",
            "1/1 [==============================] - 0s 7ms/step - loss: 0.0107\n",
            "Epoch 73/100\n",
            "1/1 [==============================] - 0s 10ms/step - loss: 0.0105\n",
            "Epoch 74/100\n",
            "1/1 [==============================] - 0s 9ms/step - loss: 0.0102\n",
            "Epoch 75/100\n",
            "1/1 [==============================] - 0s 7ms/step - loss: 0.0099\n",
            "Epoch 76/100\n",
            "1/1 [==============================] - 0s 7ms/step - loss: 0.0097\n",
            "Epoch 77/100\n",
            "1/1 [==============================] - 0s 10ms/step - loss: 0.0094\n",
            "Epoch 78/100\n",
            "1/1 [==============================] - 0s 7ms/step - loss: 0.0092\n",
            "Epoch 79/100\n",
            "1/1 [==============================] - 0s 7ms/step - loss: 0.0089\n",
            "Epoch 80/100\n",
            "1/1 [==============================] - 0s 10ms/step - loss: 0.0087\n",
            "Epoch 81/100\n",
            "1/1 [==============================] - 0s 9ms/step - loss: 0.0085\n",
            "Epoch 82/100\n",
            "1/1 [==============================] - 0s 9ms/step - loss: 0.0082\n",
            "Epoch 83/100\n",
            "1/1 [==============================] - 0s 7ms/step - loss: 0.0080\n",
            "Epoch 84/100\n",
            "1/1 [==============================] - 0s 10ms/step - loss: 0.0078\n",
            "Epoch 85/100\n",
            "1/1 [==============================] - 0s 7ms/step - loss: 0.0076\n",
            "Epoch 86/100\n",
            "1/1 [==============================] - 0s 7ms/step - loss: 0.0074\n",
            "Epoch 87/100\n",
            "1/1 [==============================] - 0s 9ms/step - loss: 0.0072\n",
            "Epoch 88/100\n",
            "1/1 [==============================] - 0s 7ms/step - loss: 0.0070\n",
            "Epoch 89/100\n",
            "1/1 [==============================] - 0s 9ms/step - loss: 0.0068\n",
            "Epoch 90/100\n",
            "1/1 [==============================] - 0s 11ms/step - loss: 0.0067\n",
            "Epoch 91/100\n",
            "1/1 [==============================] - 0s 9ms/step - loss: 0.0065\n",
            "Epoch 92/100\n",
            "1/1 [==============================] - 0s 8ms/step - loss: 0.0063\n",
            "Epoch 93/100\n",
            "1/1 [==============================] - 0s 8ms/step - loss: 0.0062\n",
            "Epoch 94/100\n",
            "1/1 [==============================] - 0s 7ms/step - loss: 0.0060\n",
            "Epoch 95/100\n",
            "1/1 [==============================] - 0s 7ms/step - loss: 0.0058\n",
            "Epoch 96/100\n",
            "1/1 [==============================] - 0s 9ms/step - loss: 0.0057\n",
            "Epoch 97/100\n",
            "1/1 [==============================] - 0s 9ms/step - loss: 0.0055\n",
            "Epoch 98/100\n",
            "1/1 [==============================] - 0s 9ms/step - loss: 0.0054\n",
            "Epoch 99/100\n",
            "1/1 [==============================] - 0s 8ms/step - loss: 0.0053\n",
            "Epoch 100/100\n",
            "1/1 [==============================] - 0s 10ms/step - loss: 0.0051\n"
          ]
        }
      ]
    },
    {
      "cell_type": "code",
      "source": [
        "capas = model.layers[0]\n",
        "w, b = capas.get_weights()\n",
        "print(w,b)"
      ],
      "metadata": {
        "colab": {
          "base_uri": "https://localhost:8080/"
        },
        "id": "Wl-OHMEyvL6H",
        "outputId": "8d938bef-1a40-4f16-f41d-27bcb6de3610"
      },
      "execution_count": 45,
      "outputs": [
        {
          "output_type": "stream",
          "name": "stdout",
          "text": [
            "[[0.39356846]\n",
            " [0.14980437]] [0.00568724]\n"
          ]
        }
      ]
    },
    {
      "cell_type": "code",
      "source": [
        "# convert the training history to a dataframe\n",
        "history_df = pd.DataFrame(history.history)\n",
        "# use Pandas native plot method\n",
        "history_df['loss'].plot(color = 'cyan', linewidth= '3');"
      ],
      "metadata": {
        "colab": {
          "base_uri": "https://localhost:8080/",
          "height": 430
        },
        "id": "RjBByj9CuwJa",
        "outputId": "eea2648d-0cff-4d10-e5db-007ce065dcef"
      },
      "execution_count": 47,
      "outputs": [
        {
          "output_type": "display_data",
          "data": {
            "text/plain": [
              "<Figure size 640x480 with 1 Axes>"
            ],
            "image/png": "[encoded data removed]"
          },
          "metadata": {}
        }
      ]
    },
    {
      "cell_type": "code",
      "source": [
        "history2= model.fit(X_train, y_train, epochs=num_epochs, batch_size=batch_size)"
      ],
      "metadata": {
        "colab": {
          "base_uri": "https://localhost:8080/"
        },
        "id": "owgIVq12vZ-q",
        "outputId": "5fc1ae7e-b468-450c-a86b-f670d9e52ec8"
      },
      "execution_count": 48,
      "outputs": [
        {
          "output_type": "stream",
          "name": "stdout",
          "text": [
            "Epoch 1/100\n",
            "1/1 [==============================] - 0s 13ms/step - loss: 0.0050\n",
            "Epoch 2/100\n",
            "1/1 [==============================] - 0s 15ms/step - loss: 0.0049\n",
            "Epoch 3/100\n",
            "1/1 [==============================] - 0s 13ms/step - loss: 0.0047\n",
            "Epoch 4/100\n",
            "1/1 [==============================] - 0s 10ms/step - loss: 0.0046\n",
            "Epoch 5/100\n",
            "1/1 [==============================] - 0s 9ms/step - loss: 0.0045\n",
            "Epoch 6/100\n",
            "1/1 [==============================] - 0s 11ms/step - loss: 0.0044\n",
            "Epoch 7/100\n",
            "1/1 [==============================] - 0s 9ms/step - loss: 0.0043\n",
            "Epoch 8/100\n",
            "1/1 [==============================] - 0s 11ms/step - loss: 0.0042\n",
            "Epoch 9/100\n",
            "1/1 [==============================] - 0s 13ms/step - loss: 0.0041\n",
            "Epoch 10/100\n",
            "1/1 [==============================] - 0s 9ms/step - loss: 0.0040\n",
            "Epoch 11/100\n",
            "1/1 [==============================] - 0s 9ms/step - loss: 0.0039\n",
            "Epoch 12/100\n",
            "1/1 [==============================] - 0s 7ms/step - loss: 0.0038\n",
            "Epoch 13/100\n",
            "1/1 [==============================] - 0s 8ms/step - loss: 0.0037\n",
            "Epoch 14/100\n",
            "1/1 [==============================] - 0s 8ms/step - loss: 0.0036\n",
            "Epoch 15/100\n",
            "1/1 [==============================] - 0s 8ms/step - loss: 0.0035\n",
            "Epoch 16/100\n",
            "1/1 [==============================] - 0s 9ms/step - loss: 0.0034\n",
            "Epoch 17/100\n",
            "1/1 [==============================] - 0s 9ms/step - loss: 0.0033\n",
            "Epoch 18/100\n",
            "1/1 [==============================] - 0s 8ms/step - loss: 0.0033\n",
            "Epoch 19/100\n",
            "1/1 [==============================] - 0s 8ms/step - loss: 0.0032\n",
            "Epoch 20/100\n",
            "1/1 [==============================] - 0s 9ms/step - loss: 0.0031\n",
            "Epoch 21/100\n",
            "1/1 [==============================] - 0s 9ms/step - loss: 0.0030\n",
            "Epoch 22/100\n",
            "1/1 [==============================] - 0s 8ms/step - loss: 0.0029\n",
            "Epoch 23/100\n",
            "1/1 [==============================] - 0s 8ms/step - loss: 0.0029\n",
            "Epoch 24/100\n",
            "1/1 [==============================] - 0s 9ms/step - loss: 0.0028\n",
            "Epoch 25/100\n",
            "1/1 [==============================] - 0s 8ms/step - loss: 0.0027\n",
            "Epoch 26/100\n",
            "1/1 [==============================] - 0s 9ms/step - loss: 0.0027\n",
            "Epoch 27/100\n",
            "1/1 [==============================] - 0s 9ms/step - loss: 0.0026\n",
            "Epoch 28/100\n",
            "1/1 [==============================] - 0s 9ms/step - loss: 0.0026\n",
            "Epoch 29/100\n",
            "1/1 [==============================] - 0s 9ms/step - loss: 0.0025\n",
            "Epoch 30/100\n",
            "1/1 [==============================] - 0s 9ms/step - loss: 0.0024\n",
            "Epoch 31/100\n",
            "1/1 [==============================] - 0s 8ms/step - loss: 0.0024\n",
            "Epoch 32/100\n",
            "1/1 [==============================] - 0s 9ms/step - loss: 0.0023\n",
            "Epoch 33/100\n",
            "1/1 [==============================] - 0s 11ms/step - loss: 0.0023\n",
            "Epoch 34/100\n",
            "1/1 [==============================] - 0s 14ms/step - loss: 0.0022\n",
            "Epoch 35/100\n",
            "1/1 [==============================] - 0s 9ms/step - loss: 0.0022\n",
            "Epoch 36/100\n",
            "1/1 [==============================] - 0s 10ms/step - loss: 0.0021\n",
            "Epoch 37/100\n",
            "1/1 [==============================] - 0s 15ms/step - loss: 0.0021\n",
            "Epoch 38/100\n",
            "1/1 [==============================] - 0s 10ms/step - loss: 0.0020\n",
            "Epoch 39/100\n",
            "1/1 [==============================] - 0s 10ms/step - loss: 0.0020\n",
            "Epoch 40/100\n",
            "1/1 [==============================] - 0s 13ms/step - loss: 0.0019\n",
            "Epoch 41/100\n",
            "1/1 [==============================] - 0s 10ms/step - loss: 0.0019\n",
            "Epoch 42/100\n",
            "1/1 [==============================] - 0s 10ms/step - loss: 0.0019\n",
            "Epoch 43/100\n",
            "1/1 [==============================] - 0s 9ms/step - loss: 0.0018\n",
            "Epoch 44/100\n",
            "1/1 [==============================] - 0s 10ms/step - loss: 0.0018\n",
            "Epoch 45/100\n",
            "1/1 [==============================] - 0s 12ms/step - loss: 0.0017\n",
            "Epoch 46/100\n",
            "1/1 [==============================] - 0s 12ms/step - loss: 0.0017\n",
            "Epoch 47/100\n",
            "1/1 [==============================] - 0s 13ms/step - loss: 0.0017\n",
            "Epoch 48/100\n",
            "1/1 [==============================] - 0s 10ms/step - loss: 0.0016\n",
            "Epoch 49/100\n",
            "1/1 [==============================] - 0s 9ms/step - loss: 0.0016\n",
            "Epoch 50/100\n",
            "1/1 [==============================] - 0s 11ms/step - loss: 0.0016\n",
            "Epoch 51/100\n",
            "1/1 [==============================] - 0s 8ms/step - loss: 0.0015\n",
            "Epoch 52/100\n",
            "1/1 [==============================] - 0s 9ms/step - loss: 0.0015\n",
            "Epoch 53/100\n",
            "1/1 [==============================] - 0s 12ms/step - loss: 0.0015\n",
            "Epoch 54/100\n",
            "1/1 [==============================] - 0s 8ms/step - loss: 0.0015\n",
            "Epoch 55/100\n",
            "1/1 [==============================] - 0s 11ms/step - loss: 0.0014\n",
            "Epoch 56/100\n",
            "1/1 [==============================] - 0s 10ms/step - loss: 0.0014\n",
            "Epoch 57/100\n",
            "1/1 [==============================] - 0s 11ms/step - loss: 0.0014\n",
            "Epoch 58/100\n",
            "1/1 [==============================] - 0s 10ms/step - loss: 0.0014\n",
            "Epoch 59/100\n",
            "1/1 [==============================] - 0s 10ms/step - loss: 0.0013\n",
            "Epoch 60/100\n",
            "1/1 [==============================] - 0s 9ms/step - loss: 0.0013\n",
            "Epoch 61/100\n",
            "1/1 [==============================] - 0s 10ms/step - loss: 0.0013\n",
            "Epoch 62/100\n",
            "1/1 [==============================] - 0s 9ms/step - loss: 0.0013\n",
            "Epoch 63/100\n",
            "1/1 [==============================] - 0s 9ms/step - loss: 0.0012\n",
            "Epoch 64/100\n",
            "1/1 [==============================] - 0s 10ms/step - loss: 0.0012\n",
            "Epoch 65/100\n",
            "1/1 [==============================] - 0s 9ms/step - loss: 0.0012\n",
            "Epoch 66/100\n",
            "1/1 [==============================] - 0s 9ms/step - loss: 0.0012\n",
            "Epoch 67/100\n",
            "1/1 [==============================] - 0s 9ms/step - loss: 0.0012\n",
            "Epoch 68/100\n",
            "1/1 [==============================] - 0s 7ms/step - loss: 0.0011\n",
            "Epoch 69/100\n",
            "1/1 [==============================] - 0s 10ms/step - loss: 0.0011\n",
            "Epoch 70/100\n",
            "1/1 [==============================] - 0s 9ms/step - loss: 0.0011\n",
            "Epoch 71/100\n",
            "1/1 [==============================] - 0s 8ms/step - loss: 0.0011\n",
            "Epoch 72/100\n",
            "1/1 [==============================] - 0s 8ms/step - loss: 0.0011\n",
            "Epoch 73/100\n",
            "1/1 [==============================] - 0s 8ms/step - loss: 0.0010\n",
            "Epoch 74/100\n",
            "1/1 [==============================] - 0s 9ms/step - loss: 0.0010\n",
            "Epoch 75/100\n",
            "1/1 [==============================] - 0s 9ms/step - loss: 0.0010\n",
            "Epoch 76/100\n",
            "1/1 [==============================] - 0s 9ms/step - loss: 9.9678e-04\n",
            "Epoch 77/100\n",
            "1/1 [==============================] - 0s 10ms/step - loss: 9.8206e-04\n",
            "Epoch 78/100\n",
            "1/1 [==============================] - 0s 9ms/step - loss: 9.6776e-04\n",
            "Epoch 79/100\n",
            "1/1 [==============================] - 0s 10ms/step - loss: 9.5387e-04\n",
            "Epoch 80/100\n",
            "1/1 [==============================] - 0s 7ms/step - loss: 9.4038e-04\n",
            "Epoch 81/100\n",
            "1/1 [==============================] - 0s 11ms/step - loss: 9.2728e-04\n",
            "Epoch 82/100\n",
            "1/1 [==============================] - 0s 12ms/step - loss: 9.1456e-04\n",
            "Epoch 83/100\n",
            "1/1 [==============================] - 0s 10ms/step - loss: 9.0221e-04\n",
            "Epoch 84/100\n",
            "1/1 [==============================] - 0s 7ms/step - loss: 8.9021e-04\n",
            "Epoch 85/100\n",
            "1/1 [==============================] - 0s 10ms/step - loss: 8.7855e-04\n",
            "Epoch 86/100\n",
            "1/1 [==============================] - 0s 8ms/step - loss: 8.6724e-04\n",
            "Epoch 87/100\n",
            "1/1 [==============================] - 0s 11ms/step - loss: 8.5624e-04\n",
            "Epoch 88/100\n",
            "1/1 [==============================] - 0s 10ms/step - loss: 8.4557e-04\n",
            "Epoch 89/100\n",
            "1/1 [==============================] - 0s 8ms/step - loss: 8.3520e-04\n",
            "Epoch 90/100\n",
            "1/1 [==============================] - 0s 11ms/step - loss: 8.2513e-04\n",
            "Epoch 91/100\n",
            "1/1 [==============================] - 0s 11ms/step - loss: 8.1535e-04\n",
            "Epoch 92/100\n",
            "1/1 [==============================] - 0s 10ms/step - loss: 8.0585e-04\n",
            "Epoch 93/100\n",
            "1/1 [==============================] - 0s 10ms/step - loss: 7.9662e-04\n",
            "Epoch 94/100\n",
            "1/1 [==============================] - 0s 9ms/step - loss: 7.8767e-04\n",
            "Epoch 95/100\n",
            "1/1 [==============================] - 0s 10ms/step - loss: 7.7896e-04\n",
            "Epoch 96/100\n",
            "1/1 [==============================] - 0s 10ms/step - loss: 7.7051e-04\n",
            "Epoch 97/100\n",
            "1/1 [==============================] - 0s 10ms/step - loss: 7.6230e-04\n",
            "Epoch 98/100\n",
            "1/1 [==============================] - 0s 9ms/step - loss: 7.5433e-04\n",
            "Epoch 99/100\n",
            "1/1 [==============================] - 0s 9ms/step - loss: 7.4659e-04\n",
            "Epoch 100/100\n",
            "1/1 [==============================] - 0s 9ms/step - loss: 7.3907e-04\n"
          ]
        }
      ]
    },
    {
      "cell_type": "code",
      "source": [
        "# convert the training history to a dataframe\n",
        "history_df = pd.DataFrame(history2.history)\n",
        "# use Pandas native plot method\n",
        "history_df['loss'].plot(color = 'red', linewidth = '3');"
      ],
      "metadata": {
        "colab": {
          "base_uri": "https://localhost:8080/",
          "height": 430
        },
        "id": "Jn1_dquevd3J",
        "outputId": "1bec1ed8-384d-411c-c42c-7f399a4dcb45"
      },
      "execution_count": 50,
      "outputs": [
        {
          "output_type": "display_data",
          "data": {
            "text/plain": [
              "<Figure size 640x480 with 1 Axes>"
            ],
            "image/png": "[encoded data removed]"
          },
          "metadata": {}
        }
      ]
    },
    {
      "cell_type": "code",
      "source": [
        "score = model.evaluate(X_test, y_test, verbose=0)\n",
        "score"
      ],
      "metadata": {
        "colab": {
          "base_uri": "https://localhost:8080/"
        },
        "id": "SGlAsqADvpHo",
        "outputId": "e77b27b7-9457-46ab-df54-f4c89e1ec06d"
      },
      "execution_count": 51,
      "outputs": [
        {
          "output_type": "execute_result",
          "data": {
            "text/plain": [
              "0.0008324063383042812"
            ]
          },
          "metadata": {},
          "execution_count": 51
        }
      ]
    }
  ]
}