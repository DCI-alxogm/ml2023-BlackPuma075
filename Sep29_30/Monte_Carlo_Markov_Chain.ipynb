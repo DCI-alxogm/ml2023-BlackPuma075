{
  "nbformat": 4,
  "nbformat_minor": 0,
  "metadata": {
    "colab": {
      "provenance": [],
      "mount_file_id": "1P-hWlU8Imqjjhu6-T2mQnk3bWnYcAkQv",
      "authorship_tag": "ABX9TyNlBYaylRON2/yss7ueAG+7",
      "include_colab_link": true
    },
    "kernelspec": {
      "name": "python3",
      "display_name": "Python 3"
    },
    "language_info": {
      "name": "python"
    }
  },
  "cells": [
    {
      "cell_type": "markdown",
      "metadata": {
        "id": "view-in-github",
        "colab_type": "text"
      },
      "source": [
        "<a href=\"https://colab.research.google.com/github/DCI-alxogm/ml2023-BlackPuma075/blob/main/Sep29_30/Monte_Carlo_Markov_Chain.ipynb\" target=\"_parent\"><img src=\"https://colab.research.google.com/assets/colab-badge.svg\" alt=\"Open In Colab\"/></a>"
      ]
    },
    {
      "cell_type": "code",
      "execution_count": null,
      "metadata": {
        "id": "OtPTFmfO1V4y"
      },
      "outputs": [],
      "source": [
        "import numpy as np\n",
        "import matplotlib.pyplot as plt\n",
        "import sympy as sp"
      ]
    },
    {
      "cell_type": "code",
      "source": [
        "file = '/content/drive/MyDrive/Machine_Learning/olympic100m_men.txt'\n",
        "data = np.loadtxt(file, delimiter = ',').T"
      ],
      "metadata": {
        "id": "wsVJ0zfz5LOF"
      },
      "execution_count": null,
      "outputs": []
    },
    {
      "cell_type": "code",
      "source": [
        "x_n = data[0]\n",
        "y = data[1]\n",
        "x = (x_n-1840)/4"
      ],
      "metadata": {
        "id": "-MMs080d665t"
      },
      "execution_count": null,
      "outputs": []
    },
    {
      "cell_type": "code",
      "source": [
        "plt.scatter(x,y, color = 'gray')"
      ],
      "metadata": {
        "colab": {
          "base_uri": "https://localhost:8080/",
          "height": 447
        },
        "id": "7NUxw8ySH7FT",
        "outputId": "53ae5b7e-31dd-491f-8300-428def06472c"
      },
      "execution_count": null,
      "outputs": [
        {
          "output_type": "execute_result",
          "data": {
            "text/plain": [
              "<matplotlib.collections.PathCollection at 0x79d7a4ccb670>"
            ]
          },
          "metadata": {},
          "execution_count": 82
        },
        {
          "output_type": "display_data",
          "data": {
            "text/plain": [
              "<Figure size 640x480 with 1 Axes>"
            ],
            "image/png": "[encoded data removed]"
          },
          "metadata": {}
        }
      ]
    },
    {
      "cell_type": "code",
      "source": [
        "def w_mat(x,y):\n",
        "  t = y\n",
        "  X = np.vstack([np.ones_like(x),x]).T\n",
        "  X_tX = np.matmul(X.T,X)\n",
        "  invX_tX = np.linalg.inv(X_tX)\n",
        "  X_t = np.matmul(X.T, t)\n",
        "  w = np.matmul(invX_tX, X_t)\n",
        "  return w"
      ],
      "metadata": {
        "id": "SUxsFm9x-UjU"
      },
      "execution_count": null,
      "outputs": []
    },
    {
      "cell_type": "code",
      "source": [
        "x_test = np.linspace(min(x), max(x), 27)\n",
        "w_test = w_mat(x,y)\n",
        "print(w_test)\n",
        "w_test.shape"
      ],
      "metadata": {
        "colab": {
          "base_uri": "https://localhost:8080/"
        },
        "id": "1wQ_3zoH-Whd",
        "outputId": "d5ff069e-2883-4666-939d-2680ede2ff37"
      },
      "execution_count": 106,
      "outputs": [
        {
          "output_type": "stream",
          "name": "stdout",
          "text": [
            "[11.88762619 -0.05332354]\n"
          ]
        },
        {
          "output_type": "execute_result",
          "data": {
            "text/plain": [
              "(2,)"
            ]
          },
          "metadata": {},
          "execution_count": 106
        }
      ]
    },
    {
      "cell_type": "code",
      "source": [
        "x_test = np.linspace(min(x), max(x), 27)\n",
        "y_p = w_test[1]+w_test[0]*x_test"
      ],
      "metadata": {
        "id": "SI1w2TfAMg5g"
      },
      "execution_count": 108,
      "outputs": []
    },
    {
      "cell_type": "code",
      "source": [
        "def lnLikelihood(theta):\n",
        "  L = 0\n",
        "  for i in range(2):\n",
        "    L += (y[i]-theta[0]-theta[1]*x[i])**2\n",
        "  return L"
      ],
      "metadata": {
        "id": "eTtxR83b6Kaf"
      },
      "execution_count": null,
      "outputs": []
    },
    {
      "cell_type": "code",
      "source": [
        "lnPr = np.zeros(2)\n",
        "lnPr[0] = np.log(1)\n",
        "lnPr[1] = np.log(0)\n",
        "lnPr"
      ],
      "metadata": {
        "colab": {
          "base_uri": "https://localhost:8080/"
        },
        "id": "3NcMEyFeFixG",
        "outputId": "436b922c-454f-4f70-a3db-821d21666218"
      },
      "execution_count": null,
      "outputs": [
        {
          "output_type": "stream",
          "name": "stderr",
          "text": [
            "<ipython-input-86-2a8f716878b5>:3: RuntimeWarning: divide by zero encountered in log\n",
            "  lnPr[1] = np.log(0)\n"
          ]
        },
        {
          "output_type": "execute_result",
          "data": {
            "text/plain": [
              "array([  0., -inf])"
            ]
          },
          "metadata": {},
          "execution_count": 86
        }
      ]
    },
    {
      "cell_type": "code",
      "source": [
        "def theta_prop(theta_ini, sigma):\n",
        "  t_prop = np.zeros(2)\n",
        "  t_prop[0] = np.exp(theta_ini[0]/sigma**2)\n",
        "  t_prop[1] = np.exp(theta_ini[1]/sigma**2)\n",
        "  return t_prop"
      ],
      "metadata": {
        "id": "n4DhG6PH8IVO"
      },
      "execution_count": 112,
      "outputs": []
    },
    {
      "cell_type": "code",
      "source": [
        "theta_ini = w_test\n",
        "theta_ini"
      ],
      "metadata": {
        "colab": {
          "base_uri": "https://localhost:8080/"
        },
        "id": "Ew1W3dP29MB6",
        "outputId": "bf0203fd-a119-4132-847e-482c1e978a1a"
      },
      "execution_count": null,
      "outputs": [
        {
          "output_type": "execute_result",
          "data": {
            "text/plain": [
              "array([11.88762619, -0.05332354])"
            ]
          },
          "metadata": {},
          "execution_count": 88
        }
      ]
    },
    {
      "cell_type": "code",
      "source": [
        "logL = lnLikelihood(theta_ini)\n",
        "logL"
      ],
      "metadata": {
        "colab": {
          "base_uri": "https://localhost:8080/"
        },
        "id": "VHjZO9pR-cVv",
        "outputId": "b3f04b12-81f5-4a27-a1a9-f7624076c812"
      },
      "execution_count": null,
      "outputs": [
        {
          "output_type": "execute_result",
          "data": {
            "text/plain": [
              "0.7454191685433915"
            ]
          },
          "metadata": {},
          "execution_count": 89
        }
      ]
    },
    {
      "cell_type": "code",
      "source": [
        "t_prop = theta_prop(theta_ini, 1)\n",
        "t_prop"
      ],
      "metadata": {
        "colab": {
          "base_uri": "https://localhost:8080/"
        },
        "id": "RNT6LJZTIRpP",
        "outputId": "ba9c7ee4-154b-47b6-bbc5-75e5d2114b4e"
      },
      "execution_count": 113,
      "outputs": [
        {
          "output_type": "execute_result",
          "data": {
            "text/plain": [
              "array([1.45455604e+05, 9.48073221e-01])"
            ]
          },
          "metadata": {},
          "execution_count": 113
        }
      ]
    },
    {
      "cell_type": "code",
      "source": [
        "logL = lnLikelihood(t_prop)\n",
        "logL"
      ],
      "metadata": {
        "colab": {
          "base_uri": "https://localhost:8080/"
        },
        "id": "Tuw8c7jEJWp7",
        "outputId": "b8ef2a40-67b8-4aa1-a5f4-8d88ddfca54d"
      },
      "execution_count": 114,
      "outputs": [
        {
          "output_type": "execute_result",
          "data": {
            "text/plain": [
              "42315973080.222664"
            ]
          },
          "metadata": {},
          "execution_count": 114
        }
      ]
    }
  ]
}