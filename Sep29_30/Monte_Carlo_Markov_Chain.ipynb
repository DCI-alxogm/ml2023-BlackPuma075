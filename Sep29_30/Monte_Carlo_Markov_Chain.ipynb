{
  "nbformat": 4,
  "nbformat_minor": 0,
  "metadata": {
    "colab": {
      "provenance": [],
      "mount_file_id": "1P-hWlU8Imqjjhu6-T2mQnk3bWnYcAkQv",
      "authorship_tag": "ABX9TyNd1VpIlWUZo6t9PJYh8XFF",
      "include_colab_link": true
    },
    "kernelspec": {
      "name": "python3",
      "display_name": "Python 3"
    },
    "language_info": {
      "name": "python"
    }
  },
  "cells": [
    {
      "cell_type": "markdown",
      "metadata": {
        "id": "view-in-github",
        "colab_type": "text"
      },
      "source": [
        "<a href=\"https://colab.research.google.com/github/DCI-alxogm/ml2023-BlackPuma075/blob/main/Sep29_30/Monte_Carlo_Markov_Chain.ipynb\" target=\"_parent\"><img src=\"https://colab.research.google.com/assets/colab-badge.svg\" alt=\"Open In Colab\"/></a>"
      ]
    },
    {
      "cell_type": "code",
      "execution_count": 1,
      "metadata": {
        "id": "OtPTFmfO1V4y"
      },
      "outputs": [],
      "source": [
        "import numpy as np\n",
        "import matplotlib.pyplot as plt\n",
        "import sympy as sp"
      ]
    },
    {
      "cell_type": "code",
      "source": [
        "file = '/content/drive/MyDrive/Machine_Learning/olympic100m_men.txt'\n",
        "data = np.loadtxt(file, delimiter = ',').T"
      ],
      "metadata": {
        "id": "wsVJ0zfz5LOF"
      },
      "execution_count": 2,
      "outputs": []
    },
    {
      "cell_type": "code",
      "source": [
        "x_n = data[0]\n",
        "y = data[1]\n",
        "x = (x_n-1840)/4"
      ],
      "metadata": {
        "id": "-MMs080d665t"
      },
      "execution_count": 3,
      "outputs": []
    },
    {
      "cell_type": "code",
      "source": [
        "plt.scatter(x,y, color = 'gray')"
      ],
      "metadata": {
        "colab": {
          "base_uri": "https://localhost:8080/",
          "height": 447
        },
        "id": "7NUxw8ySH7FT",
        "outputId": "402c85c0-9b66-436c-e09c-2a7c6d862512"
      },
      "execution_count": 4,
      "outputs": [
        {
          "output_type": "execute_result",
          "data": {
            "text/plain": [
              "<matplotlib.collections.PathCollection at 0x7fb2b8afe5c0>"
            ]
          },
          "metadata": {},
          "execution_count": 4
        },
        {
          "output_type": "display_data",
          "data": {
            "text/plain": [
              "<Figure size 640x480 with 1 Axes>"
            ],
            "image/png": "[encoded data removed]"
          },
          "metadata": {}
        }
      ]
    },
    {
      "cell_type": "code",
      "source": [
        "def w_mat(x,y):\n",
        "  t = y\n",
        "  X = np.vstack([np.ones_like(x),x]).T\n",
        "  X_tX = np.matmul(X.T,X)\n",
        "  invX_tX = np.linalg.inv(X_tX)\n",
        "  X_t = np.matmul(X.T, t)\n",
        "  w = np.matmul(invX_tX, X_t)\n",
        "  return w"
      ],
      "metadata": {
        "id": "SUxsFm9x-UjU"
      },
      "execution_count": 5,
      "outputs": []
    },
    {
      "cell_type": "code",
      "source": [
        "x_test = np.linspace(min(x), max(x), 27)\n",
        "w_test = w_mat(x,y)\n",
        "print(w_test)\n",
        "w_test.shape"
      ],
      "metadata": {
        "colab": {
          "base_uri": "https://localhost:8080/"
        },
        "id": "1wQ_3zoH-Whd",
        "outputId": "38f73fec-2fe7-4089-bbac-26cea761686c"
      },
      "execution_count": 6,
      "outputs": [
        {
          "output_type": "stream",
          "name": "stdout",
          "text": [
            "[11.88762619 -0.05332354]\n"
          ]
        },
        {
          "output_type": "execute_result",
          "data": {
            "text/plain": [
              "(2,)"
            ]
          },
          "metadata": {},
          "execution_count": 6
        }
      ]
    },
    {
      "cell_type": "code",
      "source": [
        "x_test = np.linspace(min(x), max(x), 27)\n",
        "y_p = w_test[1]+w_test[0]*x_test"
      ],
      "metadata": {
        "id": "SI1w2TfAMg5g"
      },
      "execution_count": 7,
      "outputs": []
    },
    {
      "cell_type": "code",
      "source": [
        "def lnLikelihood(theta, x, y):\n",
        "  L = 0\n",
        "  for i in range(len(x)):\n",
        "    L += (y[i]-theta[0]-theta[1]*x[i])**2\n",
        "  return np.log(L)"
      ],
      "metadata": {
        "id": "eTtxR83b6Kaf"
      },
      "execution_count": 8,
      "outputs": []
    },
    {
      "cell_type": "code",
      "source": [
        "lnPr = np.zeros(2)\n",
        "lnPr[0] = np.log(1)\n",
        "lnPr[1] = np.log(0)\n",
        "lnPr"
      ],
      "metadata": {
        "colab": {
          "base_uri": "https://localhost:8080/"
        },
        "id": "3NcMEyFeFixG",
        "outputId": "c691cc87-53f2-419d-ac4f-10e148d43a5c"
      },
      "execution_count": 9,
      "outputs": [
        {
          "output_type": "stream",
          "name": "stderr",
          "text": [
            "<ipython-input-9-2a8f716878b5>:3: RuntimeWarning: divide by zero encountered in log\n",
            "  lnPr[1] = np.log(0)\n"
          ]
        },
        {
          "output_type": "execute_result",
          "data": {
            "text/plain": [
              "array([  0., -inf])"
            ]
          },
          "metadata": {},
          "execution_count": 9
        }
      ]
    },
    {
      "cell_type": "code",
      "source": [
        "def lnPrior(theta, lim):\n",
        "  a, b = theta\n",
        "  if (lim[0] < a < lim[1]) and (lim[2] < b < lim[3]):\n",
        "    return 0.0\n",
        "  return -np.inf"
      ],
      "metadata": {
        "id": "F-jg_ncEI0nG"
      },
      "execution_count": 10,
      "outputs": []
    },
    {
      "cell_type": "code",
      "source": [
        "theta_ini = w_test\n",
        "theta_ini"
      ],
      "metadata": {
        "colab": {
          "base_uri": "https://localhost:8080/"
        },
        "id": "Ew1W3dP29MB6",
        "outputId": "5f09d2d5-74b3-4d6d-af2c-c027e4558d6d"
      },
      "execution_count": 11,
      "outputs": [
        {
          "output_type": "execute_result",
          "data": {
            "text/plain": [
              "array([11.88762619, -0.05332354])"
            ]
          },
          "metadata": {},
          "execution_count": 11
        }
      ]
    },
    {
      "cell_type": "code",
      "source": [
        "logL = lnLikelihood(theta_ini, x, y)\n",
        "logL"
      ],
      "metadata": {
        "colab": {
          "base_uri": "https://localhost:8080/"
        },
        "id": "VHjZO9pR-cVv",
        "outputId": "63d4b4ba-fa34-4a9e-dc18-fb1aaab2641c"
      },
      "execution_count": 12,
      "outputs": [
        {
          "output_type": "execute_result",
          "data": {
            "text/plain": [
              "0.30622801548239975"
            ]
          },
          "metadata": {},
          "execution_count": 12
        }
      ]
    },
    {
      "cell_type": "code",
      "source": [
        "lnppp = lnPrior(w_test, lim)\n",
        "lnppp"
      ],
      "metadata": {
        "colab": {
          "base_uri": "https://localhost:8080/"
        },
        "id": "wkiphC4gPQx0",
        "outputId": "f506467a-f09b-4357-ba76-f311230155ed"
      },
      "execution_count": 16,
      "outputs": [
        {
          "output_type": "execute_result",
          "data": {
            "text/plain": [
              "-inf"
            ]
          },
          "metadata": {},
          "execution_count": 16
        }
      ]
    },
    {
      "cell_type": "code",
      "source": [
        "def montecarlo(x, y, s1, s2, lim, repeticiones, w):\n",
        "  chain = [w_test]\n",
        "  theta_ini = w_test\n",
        "\n",
        "  for i in range(repeticiones):\n",
        "    w0 = np.random.normal(theta_ini[0], s1)\n",
        "    w1 = np.random.normal(theta_ini[1], s2)\n",
        "    theta_prop = [w0, w1]\n",
        "\n",
        "    post_nuevo = lnLikelihood(theta_prop, x, y)\n",
        "    post_viejo = lnLikelihood(theta_ini, x, y)\n",
        "    prior_nuevo = lnPrior(theta_prop, lim)\n",
        "    prior_viejo = lnPrior(theta_ini, lim)\n",
        "\n",
        "    post_nuevo = post_nuevo + prior_nuevo\n",
        "    post_viejo = post_viejo + prior_viejo\n",
        "\n",
        "    if (post_nuevo > post_viejo):\n",
        "      chain.append(theta_prop)\n",
        "      theta_ini = theta_prop\n",
        "    else:\n",
        "      ptest = np.random.uniform(0, 1)\n",
        "      pnuevo = post_nuevo/post_viejo\n",
        "      if (pnuevo > ptest):\n",
        "        chain.append(theta_prop)\n",
        "        theta_ini = theta_prop\n",
        "      else:\n",
        "        chain.append(theta_ini)\n",
        "  chain = np.array(chain)\n",
        "  return chain"
      ],
      "metadata": {
        "id": "OvWFZJamHJx2"
      },
      "execution_count": 30,
      "outputs": []
    },
    {
      "cell_type": "code",
      "source": [
        "lim = [-1, 1, 25, 60]\n",
        "s1 = 0.01\n",
        "s2 = 0.1\n",
        "w_test = [-1, 35]\n",
        "N = 1000"
      ],
      "metadata": {
        "id": "LwKHZASAMWfL"
      },
      "execution_count": 42,
      "outputs": []
    },
    {
      "cell_type": "code",
      "source": [
        "valores = montecarlo(x, y, s1, s2, lim, N, w_test)"
      ],
      "metadata": {
        "colab": {
          "base_uri": "https://localhost:8080/"
        },
        "id": "HVMuZp-eM_j0",
        "outputId": "5af01cd9-6043-413e-8884-cc8488f3d1f1"
      },
      "execution_count": 43,
      "outputs": [
        {
          "output_type": "stream",
          "name": "stderr",
          "text": [
            "<ipython-input-30-becf2ad52d27>:23: RuntimeWarning: invalid value encountered in double_scalars\n",
            "  pnuevo = post_nuevo/post_viejo\n"
          ]
        }
      ]
    },
    {
      "cell_type": "code",
      "source": [
        "valores.shape"
      ],
      "metadata": {
        "colab": {
          "base_uri": "https://localhost:8080/"
        },
        "id": "mtnWm9HhQatO",
        "outputId": "0a32f8fa-59b4-4189-bc28-8cc2281e57f0"
      },
      "execution_count": 33,
      "outputs": [
        {
          "output_type": "execute_result",
          "data": {
            "text/plain": [
              "(1001, 2)"
            ]
          },
          "metadata": {},
          "execution_count": 33
        }
      ]
    },
    {
      "cell_type": "code",
      "source": [
        "plt.scatter(valores[:,0], valores[:,1], s = None, marker='.', color = 'green')"
      ],
      "metadata": {
        "colab": {
          "base_uri": "https://localhost:8080/",
          "height": 447
        },
        "id": "05b2_mFmP8TD",
        "outputId": "4e012d35-9663-4454-95d4-7e1683cf7543"
      },
      "execution_count": 44,
      "outputs": [
        {
          "output_type": "execute_result",
          "data": {
            "text/plain": [
              "<matplotlib.collections.PathCollection at 0x7fb29d9aea70>"
            ]
          },
          "metadata": {},
          "execution_count": 44
        },
        {
          "output_type": "display_data",
          "data": {
            "text/plain": [
              "<Figure size 640x480 with 1 Axes>"
            ],
            "image/png": "[encoded data removed]"
          },
          "metadata": {}
        }
      ]
    }
  ]
}